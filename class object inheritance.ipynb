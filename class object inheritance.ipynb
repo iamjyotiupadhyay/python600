{
 "cells": [
  {
   "cell_type": "code",
   "execution_count": null,
   "id": "f24e6372",
   "metadata": {},
   "outputs": [],
   "source": [
    "#OOP in python:"
   ]
  },
  {
   "cell_type": "code",
   "execution_count": null,
   "id": "9f7c8b9e",
   "metadata": {},
   "outputs": [],
   "source": [
    "#creating empty class in python"
   ]
  },
  {
   "cell_type": "code",
   "execution_count": null,
   "id": "403d23ef",
   "metadata": {},
   "outputs": [],
   "source": [
    "class PersonName:  #class name always satrt with capital letter\n",
    "    pass"
   ]
  },
  {
   "cell_type": "code",
   "execution_count": null,
   "id": "9cb23313",
   "metadata": {},
   "outputs": [],
   "source": [
    "class Person:\n",
    "    pass\n",
    "p1 = Person()  #p1 is object of class person"
   ]
  },
  {
   "cell_type": "code",
   "execution_count": null,
   "id": "2cf5ca93",
   "metadata": {},
   "outputs": [],
   "source": [
    "print(type(p1))"
   ]
  },
  {
   "cell_type": "code",
   "execution_count": null,
   "id": "bf58a9b6",
   "metadata": {},
   "outputs": [],
   "source": [
    "a= 5 \n",
    "print(type(a))"
   ]
  },
  {
   "cell_type": "code",
   "execution_count": null,
   "id": "3f476f98",
   "metadata": {},
   "outputs": [],
   "source": [
    "#class i s blueprint\n",
    "#object is instance of class\n"
   ]
  },
  {
   "cell_type": "code",
   "execution_count": null,
   "id": "9b436aee",
   "metadata": {},
   "outputs": [],
   "source": [
    "#Class attribute and object attribute\n",
    "\n",
    "class Mammal:\n",
    "    has_hair = True   #it's a class attribute has_hair\n"
   ]
  },
  {
   "cell_type": "code",
   "execution_count": null,
   "id": "f94223e1",
   "metadata": {},
   "outputs": [],
   "source": [
    "human = Mammal()\n",
    "human.has_hair    #the way we call attributes"
   ]
  },
  {
   "cell_type": "code",
   "execution_count": null,
   "id": "1678cb3f",
   "metadata": {},
   "outputs": [],
   "source": [
    "##Object Attribute"
   ]
  },
  {
   "cell_type": "code",
   "execution_count": 1,
   "id": "08026527",
   "metadata": {},
   "outputs": [],
   "source": [
    "class Mammal:\n",
    "    has_hair = True\n",
    "    \n",
    "    def __init__(self,no_of_legs):   #function argument\n",
    "        self.no_of_legs = no_of_legs\n",
    "        "
   ]
  },
  {
   "cell_type": "code",
   "execution_count": 2,
   "id": "5e128af8",
   "metadata": {},
   "outputs": [
    {
     "name": "stdout",
     "output_type": "stream",
     "text": [
      "True\n",
      "2\n"
     ]
    }
   ],
   "source": [
    "human = Mammal(2)\n",
    "print(human.has_hair)\n",
    "print(human.no_of_legs)"
   ]
  },
  {
   "cell_type": "code",
   "execution_count": 4,
   "id": "ed2e82f0",
   "metadata": {},
   "outputs": [
    {
     "name": "stdout",
     "output_type": "stream",
     "text": [
      "True\n",
      "4\n"
     ]
    }
   ],
   "source": [
    "cow = Mammal(4)\n",
    "print(cow.has_hair)\n",
    "print(cow.no_of_legs)"
   ]
  },
  {
   "cell_type": "code",
   "execution_count": 6,
   "id": "0389c03c",
   "metadata": {},
   "outputs": [],
   "source": [
    "#__init__() is a constructer"
   ]
  },
  {
   "cell_type": "code",
   "execution_count": 7,
   "id": "8d12cb2e",
   "metadata": {},
   "outputs": [],
   "source": [
    "## what is self?"
   ]
  },
  {
   "cell_type": "code",
   "execution_count": 10,
   "id": "b73d7dcb",
   "metadata": {},
   "outputs": [],
   "source": [
    "class Mammal :\n",
    "    def __init__(self,leg):\n",
    "        print(type(self))\n",
    "        self.leg = leg"
   ]
  },
  {
   "cell_type": "code",
   "execution_count": 17,
   "id": "8533d0f4",
   "metadata": {},
   "outputs": [],
   "source": [
    "human = Mammal(2)"
   ]
  },
  {
   "cell_type": "code",
   "execution_count": 18,
   "id": "40c27c99",
   "metadata": {},
   "outputs": [],
   "source": [
    "#User defined method in class\n",
    "\n",
    "class Mammal:\n",
    "    def __init__(self,leg):\n",
    "        self.leg = leg\n",
    "        \n",
    "    def display_leg(self):\n",
    "        print(f\"You have {self.leg} legs\")"
   ]
  },
  {
   "cell_type": "code",
   "execution_count": 19,
   "id": "5c69fb16",
   "metadata": {},
   "outputs": [],
   "source": [
    "cow = Mammal(4)"
   ]
  },
  {
   "cell_type": "code",
   "execution_count": 20,
   "id": "ca902d0d",
   "metadata": {},
   "outputs": [
    {
     "name": "stdout",
     "output_type": "stream",
     "text": [
      "You have 4 legs\n"
     ]
    }
   ],
   "source": [
    "cow.display_leg()"
   ]
  },
  {
   "cell_type": "code",
   "execution_count": 21,
   "id": "5f70f0b9",
   "metadata": {},
   "outputs": [
    {
     "name": "stdout",
     "output_type": "stream",
     "text": [
      "You have 2 legs\n"
     ]
    }
   ],
   "source": [
    "human = Mammal(2)\n",
    "human.display_leg()    #display is a user defined method"
   ]
  },
  {
   "cell_type": "markdown",
   "id": "c5a42f80",
   "metadata": {},
   "source": [
    "# Inheritance in Python"
   ]
  },
  {
   "cell_type": "code",
   "execution_count": 22,
   "id": "eea05be7",
   "metadata": {},
   "outputs": [],
   "source": [
    "# Base class, parent class and super class are same\n",
    "#derived class , child class and sub class are same"
   ]
  },
  {
   "cell_type": "code",
   "execution_count": 23,
   "id": "2ebf95fb",
   "metadata": {},
   "outputs": [],
   "source": [
    "class Computer:\n",
    "    def __init__(self,model_name):\n",
    "        self.model_name = model_name\n",
    "\n",
    "        \n",
    "class Mobile:\n",
    "    def __init__(self,has_flash):\n",
    "        self.has_flash = has_flash \n",
    "        \n",
    "        "
   ]
  },
  {
   "cell_type": "code",
   "execution_count": 24,
   "id": "1735a467",
   "metadata": {},
   "outputs": [],
   "source": [
    "mo = Mobile(has_flash = True)"
   ]
  },
  {
   "cell_type": "code",
   "execution_count": 25,
   "id": "832ae5bb",
   "metadata": {},
   "outputs": [
    {
     "data": {
      "text/plain": [
       "True"
      ]
     },
     "execution_count": 25,
     "metadata": {},
     "output_type": "execute_result"
    }
   ],
   "source": [
    "mo.has_flash"
   ]
  },
  {
   "cell_type": "code",
   "execution_count": 28,
   "id": "ffc653e5",
   "metadata": {},
   "outputs": [],
   "source": [
    "class Computer:\n",
    "    def __init__(self,model_name):\n",
    "        self.model_name = model_name\n",
    "        \n",
    "        \n",
    "class Mobile(Computer):      #pass as a argument of class\n",
    "    def __init__(self,has_flash,model_name):\n",
    "        super().__init__(model_name)                #call super()\n",
    "        self.has_flash = has_flash "
   ]
  },
  {
   "cell_type": "code",
   "execution_count": 30,
   "id": "6bb173dc",
   "metadata": {},
   "outputs": [],
   "source": [
    "mo = Mobile(True,'iphone')"
   ]
  },
  {
   "cell_type": "code",
   "execution_count": 31,
   "id": "e63a3f3d",
   "metadata": {},
   "outputs": [
    {
     "data": {
      "text/plain": [
       "'iphone'"
      ]
     },
     "execution_count": 31,
     "metadata": {},
     "output_type": "execute_result"
    }
   ],
   "source": [
    "mo.model_name"
   ]
  },
  {
   "cell_type": "code",
   "execution_count": null,
   "id": "9dbd6d87",
   "metadata": {},
   "outputs": [],
   "source": []
  }
 ],
 "metadata": {
  "kernelspec": {
   "display_name": "Python 3 (ipykernel)",
   "language": "python",
   "name": "python3"
  },
  "language_info": {
   "codemirror_mode": {
    "name": "ipython",
    "version": 3
   },
   "file_extension": ".py",
   "mimetype": "text/x-python",
   "name": "python",
   "nbconvert_exporter": "python",
   "pygments_lexer": "ipython3",
   "version": "3.10.6"
  }
 },
 "nbformat": 4,
 "nbformat_minor": 5
}
