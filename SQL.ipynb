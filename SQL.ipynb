{
 "cells": [
  {
   "cell_type": "markdown",
   "id": "1cbd11ae",
   "metadata": {},
   "source": [
    "# SQL : Structured Query Language\n",
    "\n",
    "Structured Query Language (SQL) is a standardized programming language that is used to manage relational databases and perform various operations on the data in them."
   ]
  },
  {
   "cell_type": "code",
   "execution_count": 1,
   "id": "c1f63626",
   "metadata": {},
   "outputs": [],
   "source": [
    "import sqlite3"
   ]
  },
  {
   "cell_type": "markdown",
   "id": "26216107",
   "metadata": {},
   "source": [
    "#creating and connecting to database\n",
    "\n",
    "*DATABASE NAME: student\n"
   ]
  },
  {
   "cell_type": "code",
   "execution_count": 4,
   "id": "165be777",
   "metadata": {},
   "outputs": [],
   "source": [
    "con = sqlite3.connect('student.db')"
   ]
  },
  {
   "cell_type": "code",
   "execution_count": 5,
   "id": "fb72ee8b",
   "metadata": {},
   "outputs": [
    {
     "data": {
      "text/plain": [
       "<sqlite3.Connection at 0x110718e40>"
      ]
     },
     "execution_count": 5,
     "metadata": {},
     "output_type": "execute_result"
    }
   ],
   "source": [
    "con"
   ]
  },
  {
   "cell_type": "markdown",
   "id": "d879e282",
   "metadata": {},
   "source": [
    "# create a cursor to exectute sql query"
   ]
  },
  {
   "cell_type": "code",
   "execution_count": 6,
   "id": "f07567bc",
   "metadata": {},
   "outputs": [],
   "source": [
    "cur = con.cursor()"
   ]
  },
  {
   "cell_type": "markdown",
   "id": "31560a6c",
   "metadata": {},
   "source": [
    "# creating table in Database CREATE statement\n",
    "\n",
    "```\n",
    "   sql\n",
    " CREATE TABLE table_name(column_name1 datatype , column_name2 datatype,...column_name_n datatype)\n",
    " ```"
   ]
  },
  {
   "cell_type": "code",
   "execution_count": 8,
   "id": "74b11127",
   "metadata": {},
   "outputs": [],
   "source": [
    "query = \"\"\"\n",
    " create table student_details\n",
    " (roll_no int,name varchar(50), gender varchar(5))\n",
    " \"\"\""
   ]
  },
  {
   "cell_type": "code",
   "execution_count": 9,
   "id": "068de30d",
   "metadata": {},
   "outputs": [
    {
     "data": {
      "text/plain": [
       "<sqlite3.Cursor at 0x11146ae40>"
      ]
     },
     "execution_count": 9,
     "metadata": {},
     "output_type": "execute_result"
    }
   ],
   "source": [
    "cur.execute(query)"
   ]
  },
  {
   "cell_type": "markdown",
   "id": "13ff5919",
   "metadata": {},
   "source": [
    "# Insert Statement in sql\n",
    "\n",
    "```\n",
    "   sql\n",
    " INSERT INTO table_name(column_name_1,column_name2...,column_name_n)\n",
    " values\n",
    " (value1,value2,...valuen)\n",
    " ```\n",
    " \n"
   ]
  },
  {
   "cell_type": "code",
   "execution_count": 18,
   "id": "5e701b04",
   "metadata": {},
   "outputs": [],
   "source": [
    "insert_query = \"\"\"\n",
    "INSERT into student_details(roll_no,name,gender)\n",
    "values\n",
    "(1,'Kshitiz','M'),\n",
    "(2,'Sharadha','F'),\n",
    "(3,'Manzil','M'),\n",
    "(4,'Jyoti','F'),\n",
    "(5,'Darshan','M')\n",
    "\"\"\""
   ]
  },
  {
   "cell_type": "code",
   "execution_count": 19,
   "id": "74527261",
   "metadata": {},
   "outputs": [
    {
     "data": {
      "text/plain": [
       "<sqlite3.Cursor at 0x11146ae40>"
      ]
     },
     "execution_count": 19,
     "metadata": {},
     "output_type": "execute_result"
    }
   ],
   "source": [
    "cur.execute(insert_query)"
   ]
  },
  {
   "cell_type": "markdown",
   "id": "f71280ec",
   "metadata": {},
   "source": [
    "# select statement in SQL\n",
    "```\n",
    "sql\n",
    "\n",
    "Select * from table_name\n",
    "\n",
    "```"
   ]
  },
  {
   "cell_type": "code",
   "execution_count": 20,
   "id": "a0200246",
   "metadata": {},
   "outputs": [
    {
     "data": {
      "text/plain": [
       "<sqlite3.Cursor at 0x11146ae40>"
      ]
     },
     "execution_count": 20,
     "metadata": {},
     "output_type": "execute_result"
    }
   ],
   "source": [
    "cur.execute(\"select * from student_details\")"
   ]
  },
  {
   "cell_type": "code",
   "execution_count": 21,
   "id": "395a7a79",
   "metadata": {},
   "outputs": [
    {
     "data": {
      "text/plain": [
       "[(1, 'Kshitiz', 'M'),\n",
       " (2, 'Sharadha', 'F'),\n",
       " (3, 'Manzil', 'M'),\n",
       " (4, 'Jyoti', 'F'),\n",
       " (5, 'Darshan', 'M')]"
      ]
     },
     "execution_count": 21,
     "metadata": {},
     "output_type": "execute_result"
    }
   ],
   "source": [
    "cur.execute(\"select * from student_details\").fetchall()"
   ]
  },
  {
   "cell_type": "code",
   "execution_count": 22,
   "id": "b61de22c",
   "metadata": {},
   "outputs": [],
   "source": [
    "#find all data with gender"
   ]
  },
  {
   "cell_type": "code",
   "execution_count": 23,
   "id": "a71f119a",
   "metadata": {},
   "outputs": [],
   "source": [
    "#where clause and having clause\n",
    "\n",
    "query =\"\"\" select * from student_details \n",
    "where gender = 'F' \n",
    "\"\"\""
   ]
  },
  {
   "cell_type": "code",
   "execution_count": 26,
   "id": "3ad1ec42",
   "metadata": {},
   "outputs": [
    {
     "data": {
      "text/plain": [
       "[(1, 'Kshitiz', 'M'), (3, 'Manzil', 'M'), (5, 'Darshan', 'M')]"
      ]
     },
     "execution_count": 26,
     "metadata": {},
     "output_type": "execute_result"
    }
   ],
   "source": [
    "cur.execute(query).fetchall()"
   ]
  },
  {
   "cell_type": "code",
   "execution_count": 25,
   "id": "553207f7",
   "metadata": {},
   "outputs": [],
   "source": [
    "query =\"\"\" select * from student_details \n",
    "where gender = 'M' \n",
    "\"\"\""
   ]
  },
  {
   "cell_type": "code",
   "execution_count": 27,
   "id": "ebf71dd1",
   "metadata": {},
   "outputs": [
    {
     "data": {
      "text/plain": [
       "[(1, 'Kshitiz', 'M'), (3, 'Manzil', 'M'), (5, 'Darshan', 'M')]"
      ]
     },
     "execution_count": 27,
     "metadata": {},
     "output_type": "execute_result"
    }
   ],
   "source": [
    "cur.execute(query).fetchall()"
   ]
  },
  {
   "cell_type": "markdown",
   "id": "3cd34c12",
   "metadata": {},
   "source": [
    "# Update statement\n",
    "\n",
    "```sql\n",
    "UPDATE into table_name\n",
    "set col_name = value\n",
    "where column_name = <id value>\n",
    "```"
   ]
  },
  {
   "cell_type": "code",
   "execution_count": 31,
   "id": "e328436e",
   "metadata": {},
   "outputs": [],
   "source": [
    "update_query=\"\"\"\n",
    "update student_details\n",
    "set name = 'kshitiz regmi'\n",
    "where roll_no = 1\n",
    "\"\"\" "
   ]
  },
  {
   "cell_type": "code",
   "execution_count": 32,
   "id": "53d6a560",
   "metadata": {},
   "outputs": [
    {
     "data": {
      "text/plain": [
       "<sqlite3.Cursor at 0x11146ae40>"
      ]
     },
     "execution_count": 32,
     "metadata": {},
     "output_type": "execute_result"
    }
   ],
   "source": [
    "cur.execute(update_query)"
   ]
  },
  {
   "cell_type": "code",
   "execution_count": 33,
   "id": "8d9c3219",
   "metadata": {},
   "outputs": [
    {
     "data": {
      "text/plain": [
       "[(1, 'kshitiz regmi', 'M'),\n",
       " (2, 'Sharadha', 'F'),\n",
       " (3, 'Manzil', 'M'),\n",
       " (4, 'Jyoti', 'F'),\n",
       " (5, 'Darshan', 'M')]"
      ]
     },
     "execution_count": 33,
     "metadata": {},
     "output_type": "execute_result"
    }
   ],
   "source": [
    "cur.execute(\"select * from student_details\").fetchall()"
   ]
  },
  {
   "cell_type": "markdown",
   "id": "b0054a74",
   "metadata": {},
   "source": [
    "# Delete statement"
   ]
  },
  {
   "cell_type": "code",
   "execution_count": 36,
   "id": "90c09494",
   "metadata": {},
   "outputs": [
    {
     "data": {
      "text/plain": [
       "<sqlite3.Cursor at 0x11146ae40>"
      ]
     },
     "execution_count": 36,
     "metadata": {},
     "output_type": "execute_result"
    }
   ],
   "source": [
    "cur.execute(\"delete from student_details where roll_no = 1\")"
   ]
  },
  {
   "cell_type": "code",
   "execution_count": 37,
   "id": "8a6f00be",
   "metadata": {},
   "outputs": [
    {
     "data": {
      "text/plain": [
       "[(2, 'Sharadha', 'F'),\n",
       " (3, 'Manzil', 'M'),\n",
       " (4, 'Jyoti', 'F'),\n",
       " (5, 'Darshan', 'M')]"
      ]
     },
     "execution_count": 37,
     "metadata": {},
     "output_type": "execute_result"
    }
   ],
   "source": [
    "cur.execute(\"select* from student_details\").fetchall()"
   ]
  },
  {
   "cell_type": "markdown",
   "id": "593608b6",
   "metadata": {},
   "source": [
    "# Check multiple condition using where clause"
   ]
  },
  {
   "cell_type": "code",
   "execution_count": 38,
   "id": "0fb8dfb3",
   "metadata": {},
   "outputs": [],
   "source": [
    "query = \"\"\"\n",
    "select * from student_details\n",
    "where\n",
    "gender ='M'\n",
    "and name like 'D%'   #here 'name' is column name\n",
    "\"\"\""
   ]
  },
  {
   "cell_type": "code",
   "execution_count": 39,
   "id": "843c9efa",
   "metadata": {},
   "outputs": [
    {
     "data": {
      "text/plain": [
       "[(5, 'Darshan', 'M')]"
      ]
     },
     "execution_count": 39,
     "metadata": {},
     "output_type": "execute_result"
    }
   ],
   "source": [
    "cur.execute(query).fetchall()"
   ]
  },
  {
   "cell_type": "markdown",
   "id": "704cda86",
   "metadata": {},
   "source": [
    "# like operator :\n",
    "\n",
    "The LIKE operator is used in a WHERE clause to search for a specified pattern in a column.\n",
    "\n",
    "There are two wildcards often used in conjunction with the LIKE operator:\n",
    "\n",
    " The percent sign (%) represents zero, one, or multiple characters\n",
    " The underscore sign (_) represents one, single character\n"
   ]
  },
  {
   "cell_type": "code",
   "execution_count": null,
   "id": "215c0acf",
   "metadata": {},
   "outputs": [],
   "source": []
  }
 ],
 "metadata": {
  "kernelspec": {
   "display_name": "Python 3 (ipykernel)",
   "language": "python",
   "name": "python3"
  },
  "language_info": {
   "codemirror_mode": {
    "name": "ipython",
    "version": 3
   },
   "file_extension": ".py",
   "mimetype": "text/x-python",
   "name": "python",
   "nbconvert_exporter": "python",
   "pygments_lexer": "ipython3",
   "version": "3.10.6"
  }
 },
 "nbformat": 4,
 "nbformat_minor": 5
}
