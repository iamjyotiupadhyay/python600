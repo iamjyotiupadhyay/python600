{
 "cells": [
  {
   "cell_type": "markdown",
   "id": "2900c706",
   "metadata": {},
   "source": [
    "# sphere"
   ]
  },
  {
   "cell_type": "markdown",
   "id": "f36514ff",
   "metadata": {},
   "source": [
    "$$V = \\frac{4}{3} \\ pi \\cdot r^3$$"
   ]
  },
  {
   "cell_type": "code",
   "execution_count": 2,
   "id": "4471616e",
   "metadata": {},
   "outputs": [
    {
     "name": "stdout",
     "output_type": "stream",
     "text": [
      "523.3333333333334\n"
     ]
    }
   ],
   "source": [
    "radius = 5\n",
    "PI = 3.14\n",
    "volume =4/3 * PI * radius ** 3\n",
    "print(volume)"
   ]
  },
  {
   "cell_type": "markdown",
   "id": "d8a2bbb8",
   "metadata": {},
   "source": [
    "# Check positive and negative number"
   ]
  },
  {
   "cell_type": "code",
   "execution_count": 6,
   "id": "3154e2ec",
   "metadata": {},
   "outputs": [
    {
     "name": "stdout",
     "output_type": "stream",
     "text": [
      "enter a number:8\n",
      "number 8.0 is positive:\n"
     ]
    }
   ],
   "source": [
    "num = float(input(\"enter a number:\"))\n",
    "if num < 0:\n",
    "    print(f\"number {num} is negative:\")\n",
    "else:\n",
    "    print(f\"number {num} is positive:\")"
   ]
  },
  {
   "cell_type": "markdown",
   "id": "fcd806bd",
   "metadata": {},
   "source": []
  },
  {
   "cell_type": "code",
   "execution_count": 7,
   "id": "70b9284b",
   "metadata": {},
   "outputs": [
    {
     "name": "stdout",
     "output_type": "stream",
     "text": [
      "enter a number :ggg\n"
     ]
    },
    {
     "ename": "ValueError",
     "evalue": "invalid literal for int() with base 10: 'ggg'",
     "output_type": "error",
     "traceback": [
      "\u001b[0;31m---------------------------------------------------------------------------\u001b[0m",
      "\u001b[0;31mValueError\u001b[0m                                Traceback (most recent call last)",
      "Cell \u001b[0;32mIn[7], line 1\u001b[0m\n\u001b[0;32m----> 1\u001b[0m num \u001b[38;5;241m=\u001b[39m \u001b[38;5;28;43mint\u001b[39;49m\u001b[43m(\u001b[49m\u001b[38;5;28;43minput\u001b[39;49m\u001b[43m(\u001b[49m\u001b[38;5;124;43m\"\u001b[39;49m\u001b[38;5;124;43menter a number :\u001b[39;49m\u001b[38;5;124;43m\"\u001b[39;49m\u001b[43m)\u001b[49m\u001b[43m)\u001b[49m\n",
      "\u001b[0;31mValueError\u001b[0m: invalid literal for int() with base 10: 'ggg'"
     ]
    }
   ],
   "source": [
    "\n"
   ]
  },
  {
   "cell_type": "markdown",
   "id": "8f404374",
   "metadata": {},
   "source": [
    "# voting "
   ]
  },
  {
   "cell_type": "code",
   "execution_count": 8,
   "id": "45141072",
   "metadata": {},
   "outputs": [
    {
     "name": "stdout",
     "output_type": "stream",
     "text": [
      "enter your age :7\n",
      "not eligible\n"
     ]
    }
   ],
   "source": [
    "age = int(input(\"enter your age :\"))\n",
    "\n",
    "if age >= 18:                              \n",
    "      print(\"eligible\")\n",
    "        \n",
    "else:\n",
    "     print(\"not eligible\")"
   ]
  },
  {
   "cell_type": "markdown",
   "id": "f139db6a",
   "metadata": {},
   "source": [
    "# last digit divide by 3"
   ]
  },
  {
   "cell_type": "code",
   "execution_count": null,
   "id": "74c38cea",
   "metadata": {},
   "outputs": [],
   "source": []
  }
 ],
 "metadata": {
  "kernelspec": {
   "display_name": "Python 3 (ipykernel)",
   "language": "python",
   "name": "python3"
  },
  "language_info": {
   "codemirror_mode": {
    "name": "ipython",
    "version": 3
   },
   "file_extension": ".py",
   "mimetype": "text/x-python",
   "name": "python",
   "nbconvert_exporter": "python",
   "pygments_lexer": "ipython3",
   "version": "3.10.6"
  }
 },
 "nbformat": 4,
 "nbformat_minor": 5
}
