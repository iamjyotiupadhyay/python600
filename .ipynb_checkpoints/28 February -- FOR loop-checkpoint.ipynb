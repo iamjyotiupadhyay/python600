{
 "cells": [
  {
   "cell_type": "code",
   "execution_count": 1,
   "id": "368a594e",
   "metadata": {},
   "outputs": [],
   "source": [
    "msg =\"Good Morning\""
   ]
  },
  {
   "cell_type": "code",
   "execution_count": 6,
   "id": "f25b5992",
   "metadata": {},
   "outputs": [
    {
     "data": {
      "text/plain": [
       "[0, 1, 2, 3, 4, 5, 6, 7, 8, 9, 10, 11]"
      ]
     },
     "execution_count": 6,
     "metadata": {},
     "output_type": "execute_result"
    }
   ],
   "source": [
    "list(range(len(msg)))   #typecaste in list"
   ]
  },
  {
   "cell_type": "code",
   "execution_count": 5,
   "id": "666640c0",
   "metadata": {},
   "outputs": [
    {
     "name": "stdout",
     "output_type": "stream",
     "text": [
      "0\n",
      "The index is 0 and the letter is G\n",
      "1\n",
      "The index is 1 and the letter is o\n",
      "2\n",
      "The index is 2 and the letter is o\n",
      "3\n",
      "The index is 3 and the letter is d\n",
      "4\n",
      "The index is 4 and the letter is  \n",
      "5\n",
      "The index is 5 and the letter is M\n",
      "6\n",
      "The index is 6 and the letter is o\n",
      "7\n",
      "The index is 7 and the letter is r\n",
      "8\n",
      "The index is 8 and the letter is n\n",
      "9\n",
      "The index is 9 and the letter is i\n",
      "10\n",
      "The index is 10 and the letter is n\n",
      "11\n",
      "The index is 11 and the letter is g\n"
     ]
    }
   ],
   "source": [
    "for index in range(len(msg)):\n",
    "    print(index)\n",
    "    letter = msg[index]\n",
    "    print(f\"The index is {index} and the letter is {letter}\")"
   ]
  },
  {
   "cell_type": "code",
   "execution_count": 9,
   "id": "bdc6789e",
   "metadata": {},
   "outputs": [
    {
     "data": {
      "text/plain": [
       "[0, 1, 2, 3, 4, 5, 6, 7, 8, 9, 10, 11, 12, 13, 14, 15, 16, 17, 18, 19, 20, 21]"
      ]
     },
     "execution_count": 9,
     "metadata": {},
     "output_type": "execute_result"
    }
   ],
   "source": [
    "list(range(len(msg)))   # typecaste"
   ]
  },
  {
   "cell_type": "code",
   "execution_count": 8,
   "id": "72ef9c33",
   "metadata": {},
   "outputs": [
    {
     "name": "stdout",
     "output_type": "stream",
     "text": [
      "0\n",
      "The index is 0 and the letter is G\n",
      "1\n",
      "The index is 1 and the letter is o\n",
      "2\n",
      "The index is 2 and the letter is o\n",
      "3\n",
      "The index is 3 and the letter is d\n",
      "4\n",
      "The index is 4 and the letter is  \n",
      "5\n",
      "The index is 5 and the letter is M\n",
      "6\n",
      "The index is 6 and the letter is o\n",
      "7\n",
      "The index is 7 and the letter is r\n",
      "8\n",
      "The index is 8 and the letter is n\n",
      "9\n",
      "The index is 9 and the letter is i\n",
      "10\n",
      "The index is 10 and the letter is n\n",
      "11\n",
      "The index is 11 and the letter is g\n",
      "12\n",
      "The index is 12 and the letter is  \n",
      "13\n",
      "The index is 13 and the letter is e\n",
      "14\n",
      "The index is 14 and the letter is v\n",
      "15\n",
      "The index is 15 and the letter is e\n",
      "16\n",
      "The index is 16 and the letter is r\n",
      "17\n",
      "The index is 17 and the letter is y\n",
      "18\n",
      "The index is 18 and the letter is o\n",
      "19\n",
      "The index is 19 and the letter is n\n",
      "20\n",
      "The index is 20 and the letter is e\n",
      "21\n",
      "The index is 21 and the letter is !\n"
     ]
    }
   ],
   "source": [
    "msg = \"Good Morning everyone!\"\n",
    "for index in range(len(msg)):\n",
    "    print(index)\n",
    "    \n",
    "    letter = msg[index]\n",
    "    print(f\"The index is {index} and the letter is {letter}\")\n"
   ]
  },
  {
   "cell_type": "code",
   "execution_count": 10,
   "id": "74b211c7",
   "metadata": {},
   "outputs": [
    {
     "data": {
      "text/plain": [
       "'!'"
      ]
     },
     "execution_count": 10,
     "metadata": {},
     "output_type": "execute_result"
    }
   ],
   "source": [
    "msg[21]"
   ]
  },
  {
   "cell_type": "code",
   "execution_count": 27,
   "id": "2fcb5745",
   "metadata": {},
   "outputs": [
    {
     "name": "stdout",
     "output_type": "stream",
     "text": [
      " index = 10 and  letter = d\n",
      " index = 9 and  letter = l\n",
      " index = 8 and  letter = r\n",
      " index = 7 and  letter = o\n",
      " index = 6 and  letter = w\n",
      " index = 5 and  letter =  \n",
      " index = 4 and  letter = o\n",
      " index = 3 and  letter = l\n",
      " index = 2 and  letter = l\n",
      " index = 1 and  letter = e\n",
      " index = 0 and  letter = H\n"
     ]
    }
   ],
   "source": [
    "s = \"Hello world\"\n",
    "for index in range(len(s)-1, -1, -1):   #String length for index in range(start,end,step)\n",
    "    letter = s[index]\n",
    "    print(f\" index = {index} and  letter = {letter}\")"
   ]
  },
  {
   "cell_type": "markdown",
   "id": "ddb06b10",
   "metadata": {},
   "source": [
    "# WAP to print vowels and constant "
   ]
  },
  {
   "cell_type": "code",
   "execution_count": 39,
   "id": "3ca11583",
   "metadata": {},
   "outputs": [
    {
     "name": "stdout",
     "output_type": "stream",
     "text": [
      " index = 6 and  letter = e\n"
     ]
    }
   ],
   "source": [
    "#Self Practice \n",
    "\n",
    "s = \"computer\"\n",
    "for index in range(len(s)):\n",
    "    letter = s[index]\n",
    "    if letter == 'e':\n",
    "        print(f\" index = {index} and  letter = {letter}\")\n",
    "        "
   ]
  },
  {
   "cell_type": "code",
   "execution_count": 32,
   "id": "eecfbe49",
   "metadata": {},
   "outputs": [
    {
     "name": "stdout",
     "output_type": "stream",
     "text": [
      "the letter a is vowel\n",
      "the letter e is vowel\n",
      "the letter y is constant\n",
      "the letter i is vowel\n"
     ]
    }
   ],
   "source": [
    " # Class work : to print vowel and consonANT\n",
    "s = \"aeyi\"\n",
    "for index in range(len(s)):\n",
    "    letter = s[index]\n",
    "    if letter == 'a'or letter=='e'or letter=='i'or letter=='o'or letter=='u':\n",
    "        print(f\"the letter {letter} is vowel\")\n",
    "        \n",
    "    else:    \n",
    "        print(f\"the letter {letter} is constant\")\n"
   ]
  },
  {
   "cell_type": "code",
   "execution_count": 34,
   "id": "55507136",
   "metadata": {},
   "outputs": [],
   "source": [
    "# BREAK vs CONTINUE statement"
   ]
  },
  {
   "cell_type": "code",
   "execution_count": 41,
   "id": "9113f2d9",
   "metadata": {},
   "outputs": [
    {
     "name": "stdout",
     "output_type": "stream",
     "text": [
      "the letter a is vowel\n",
      "the letter b is consonant\n",
      "the letter c is consonant\n",
      "the letter d is consonant\n",
      "the letter e is vowel\n",
      "the letter f is consonant\n",
      "the letter g is consonant\n",
      "the letter h is consonant\n",
      "the letter i is vowel\n"
     ]
    }
   ],
   "source": [
    "text ='abc def ghi'\n",
    "for index in range(len(text)):\n",
    "    letter = text[index]\n",
    "    if letter =='a'or letter=='e'or letter =='i' or letter =='o'or letter=='u':\n",
    "        print(f\"the letter {letter} is vowel\")\n",
    "    elif letter == \" \":\n",
    "        continue\n",
    "    \n",
    "    else:\n",
    "              print(f\"the letter {letter} is consonant\")"
   ]
  },
  {
   "cell_type": "code",
   "execution_count": 48,
   "id": "2ef85428",
   "metadata": {},
   "outputs": [
    {
     "name": "stdout",
     "output_type": "stream",
     "text": [
      "1\n",
      "2\n",
      "4\n"
     ]
    }
   ],
   "source": [
    "# break \n",
    "\n",
    "for num in range(1,5):\n",
    "    if num == 3:\n",
    "        continue   # skip one time loop if condition is true 'C'\n",
    "        \n",
    "    print(num)    "
   ]
  },
  {
   "cell_type": "code",
   "execution_count": 49,
   "id": "8e85d74a",
   "metadata": {},
   "outputs": [
    {
     "name": "stdout",
     "output_type": "stream",
     "text": [
      "1\n",
      "2\n"
     ]
    }
   ],
   "source": [
    "for num in range(1,5):\n",
    "    if num == 3:\n",
    "        break   # terminates the loop if condition is true\n",
    "        \n",
    "    print(num)    "
   ]
  },
  {
   "cell_type": "code",
   "execution_count": null,
   "id": "56e01e63",
   "metadata": {},
   "outputs": [],
   "source": []
  }
 ],
 "metadata": {
  "kernelspec": {
   "display_name": "Python 3 (ipykernel)",
   "language": "python",
   "name": "python3"
  },
  "language_info": {
   "codemirror_mode": {
    "name": "ipython",
    "version": 3
   },
   "file_extension": ".py",
   "mimetype": "text/x-python",
   "name": "python",
   "nbconvert_exporter": "python",
   "pygments_lexer": "ipython3",
   "version": "3.10.6"
  }
 },
 "nbformat": 4,
 "nbformat_minor": 5
}
