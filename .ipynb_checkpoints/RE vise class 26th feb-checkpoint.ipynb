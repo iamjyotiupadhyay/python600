{
 "cells": [
  {
   "cell_type": "markdown",
   "id": "33fe792e",
   "metadata": {},
   "source": [
    " Logical operator:\n",
    " * and : all expression must be true to get True\n",
    " * or  : one must be True to get True\n",
    " * not : negation , not True means False or not False means True\n",
    " \n",
    "| A |  Not A|\n",
    "|--:  |--:  |\n",
    "| True| False|\n",
    "|False  |True |\n",
    "\n",
    "\n",
    "\n",
    "<table>\n",
    "    <th>A</th>\n",
    "    <th>Not A</th>\n",
    "</table>\n",
    "\n",
    " "
   ]
  },
  {
   "cell_type": "code",
   "execution_count": 1,
   "id": "11c55e7f",
   "metadata": {},
   "outputs": [
    {
     "name": "stdout",
     "output_type": "stream",
     "text": [
      "Both condition true\n"
     ]
    }
   ],
   "source": [
    "num = 4\n",
    "if num > 0 and num < 10:\n",
    "    print(\"Both condition true\")"
   ]
  },
  {
   "cell_type": "code",
   "execution_count": 2,
   "id": "f04b8324",
   "metadata": {},
   "outputs": [
    {
     "name": "stdout",
     "output_type": "stream",
     "text": [
      "Both are not true\n"
     ]
    }
   ],
   "source": [
    "num = 5 \n",
    "if num > 0 and num < 5:\n",
    "    print(\"both condition True\")\n",
    "else:\n",
    "    print(\"Both are not true\")"
   ]
  },
  {
   "cell_type": "code",
   "execution_count": 4,
   "id": "738241a9",
   "metadata": {},
   "outputs": [
    {
     "name": "stdout",
     "output_type": "stream",
     "text": [
      "one condition True\n"
     ]
    }
   ],
   "source": [
    "num = 5 \n",
    "if num > 0 or num < 5:\n",
    "    print(\"one condition True\")\n",
    "else:\n",
    "    print(\"Both are false\")"
   ]
  },
  {
   "cell_type": "code",
   "execution_count": 6,
   "id": "d3c7fa9e",
   "metadata": {},
   "outputs": [
    {
     "data": {
      "text/plain": [
       "False"
      ]
     },
     "execution_count": 6,
     "metadata": {},
     "output_type": "execute_result"
    }
   ],
   "source": [
    "not True"
   ]
  },
  {
   "cell_type": "code",
   "execution_count": 7,
   "id": "aa7498ac",
   "metadata": {},
   "outputs": [
    {
     "data": {
      "text/plain": [
       "True"
      ]
     },
     "execution_count": 7,
     "metadata": {},
     "output_type": "execute_result"
    }
   ],
   "source": [
    "not False"
   ]
  },
  {
   "cell_type": "markdown",
   "id": "e5376153",
   "metadata": {},
   "source": [
    "# String \n",
    "\n",
    "|H| e| l | l | o|   |w |o |r |l |d |\n",
    "\n",
    "|0 |1 |2 |3  |4 | 5 |6 |7 |8 |9 |10 |\n"
   ]
  },
  {
   "cell_type": "code",
   "execution_count": 8,
   "id": "40bef893",
   "metadata": {},
   "outputs": [],
   "source": [
    "s = \"hello world\""
   ]
  },
  {
   "cell_type": "code",
   "execution_count": 9,
   "id": "33b4f37d",
   "metadata": {},
   "outputs": [
    {
     "data": {
      "text/plain": [
       "str"
      ]
     },
     "execution_count": 9,
     "metadata": {},
     "output_type": "execute_result"
    }
   ],
   "source": [
    "type(s)"
   ]
  },
  {
   "cell_type": "code",
   "execution_count": 10,
   "id": "c57a23bd",
   "metadata": {},
   "outputs": [
    {
     "data": {
      "text/plain": [
       "11"
      ]
     },
     "execution_count": 10,
     "metadata": {},
     "output_type": "execute_result"
    }
   ],
   "source": [
    "len(s)"
   ]
  },
  {
   "cell_type": "code",
   "execution_count": 11,
   "id": "e9835c2f",
   "metadata": {},
   "outputs": [
    {
     "data": {
      "text/plain": [
       "'w'"
      ]
     },
     "execution_count": 11,
     "metadata": {},
     "output_type": "execute_result"
    }
   ],
   "source": [
    "s[6]"
   ]
  },
  {
   "cell_type": "code",
   "execution_count": 13,
   "id": "886b4b0f",
   "metadata": {},
   "outputs": [
    {
     "data": {
      "text/plain": [
       "'world'"
      ]
     },
     "execution_count": 13,
     "metadata": {},
     "output_type": "execute_result"
    }
   ],
   "source": [
    "s[6:11]"
   ]
  },
  {
   "cell_type": "code",
   "execution_count": null,
   "id": "cfa61d64",
   "metadata": {},
   "outputs": [],
   "source": []
  }
 ],
 "metadata": {
  "kernelspec": {
   "display_name": "Python 3 (ipykernel)",
   "language": "python",
   "name": "python3"
  },
  "language_info": {
   "codemirror_mode": {
    "name": "ipython",
    "version": 3
   },
   "file_extension": ".py",
   "mimetype": "text/x-python",
   "name": "python",
   "nbconvert_exporter": "python",
   "pygments_lexer": "ipython3",
   "version": "3.10.6"
  }
 },
 "nbformat": 4,
 "nbformat_minor": 5
}
