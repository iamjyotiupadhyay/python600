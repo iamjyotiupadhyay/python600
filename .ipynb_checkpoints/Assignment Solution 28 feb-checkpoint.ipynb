{
 "cells": [
  {
   "cell_type": "markdown",
   "id": "5262ecfa",
   "metadata": {},
   "source": [
    "# solution with string slicing "
   ]
  },
  {
   "cell_type": "code",
   "execution_count": 2,
   "id": "c55ce13a",
   "metadata": {},
   "outputs": [
    {
     "name": "stdout",
     "output_type": "stream",
     "text": [
      "36\n"
     ]
    }
   ],
   "source": [
    "text = \"i like orange apple banana and kiwi.\"\n",
    "print(len(text))"
   ]
  },
  {
   "cell_type": "code",
   "execution_count": 4,
   "id": "e5e109ab",
   "metadata": {},
   "outputs": [
    {
     "data": {
      "text/plain": [
       "' orange apple banana and kiwi.'"
      ]
     },
     "execution_count": 4,
     "metadata": {},
     "output_type": "execute_result"
    }
   ],
   "source": [
    "text[6:]"
   ]
  },
  {
   "cell_type": "code",
   "execution_count": 7,
   "id": "2d726c92",
   "metadata": {},
   "outputs": [
    {
     "data": {
      "text/plain": [
       "' kiwi'"
      ]
     },
     "execution_count": 7,
     "metadata": {},
     "output_type": "execute_result"
    }
   ],
   "source": [
    "text[30:35]"
   ]
  },
  {
   "cell_type": "code",
   "execution_count": 13,
   "id": "5062cde8",
   "metadata": {},
   "outputs": [
    {
     "name": "stdout",
     "output_type": "stream",
     "text": [
      "36\n",
      " orange apple banana kiwi\n"
     ]
    }
   ],
   "source": [
    "# program1 : (i)string slicing\n",
    "\n",
    "txt = 'i like orange apple banana and kiwi.'\n",
    "print(len(txt))\n",
    "print(txt[6:26] + txt[30:35])\n"
   ]
  },
  {
   "cell_type": "code",
   "execution_count": 31,
   "id": "b08ecefd",
   "metadata": {},
   "outputs": [
    {
     "name": "stdout",
     "output_type": "stream",
     "text": [
      "  o r a n g e   a p p l e   b a n a n a   k i w i "
     ]
    }
   ],
   "source": [
    "# program1 : (ii) FOR loop\n",
    "\n",
    "txt1 = \"i like orange apple banana and kiwi\"\n",
    "\n",
    "for i in txt1[6:27]:         #in slicing in place of txt1[6:26] use txt1[6:27] for clear space in output\n",
    "    print(i , end =' ')\n",
    "    \n",
    "if \"kiwi\" in txt1:\n",
    "    print(\"k i w i\" , end = ' ') # end is here use for output display in one line \n",
    "    \n",
    "        \n"
   ]
  },
  {
   "cell_type": "markdown",
   "id": "a1bc70e0",
   "metadata": {},
   "source": []
  },
  {
   "cell_type": "code",
   "execution_count": 18,
   "id": "529b3844",
   "metadata": {},
   "outputs": [
    {
     "name": "stdout",
     "output_type": "stream",
     "text": [
      "orange apple banana kiwi\n"
     ]
    }
   ],
   "source": [
    "# program1 :(iii) if... else , and operator\n",
    "\n",
    "txt ='i like orange apple banana and kiwi'\n",
    "\n",
    "if \"orange\" in txt and \"apple\" in txt and \"banana\"in txt and \"kiwi\" in txt:\n",
    "    \n",
    "    print('orange','apple','banana','kiwi')\n",
    "\n"
   ]
  },
  {
   "cell_type": "markdown",
   "id": "fd19796a",
   "metadata": {},
   "source": [
    "# String Rotation 'NEPALINDIACHINA'  to 'IndiaChinaNepal'"
   ]
  },
  {
   "cell_type": "code",
   "execution_count": 41,
   "id": "9c4acb2c",
   "metadata": {},
   "outputs": [
    {
     "name": "stdout",
     "output_type": "stream",
     "text": [
      "String length : 15\n",
      "String'NEPALINDIACHINA'is the rotation of: indiachinanepal\n"
     ]
    }
   ],
   "source": [
    "s = 'NEPALINDIACHINA'\n",
    "print(f\"String length : {len(s)}\")\n",
    "\n",
    "                    #SYNTAX -- for r in range(start ,end ,step ):\n",
    "\n",
    "for r in range(5,len(s),10):   \n",
    "                                   # here FOR loop run 2 times only for (r=-5) then for (r=5) so use (r=5)\n",
    "    \n",
    "    print(f\"String'NEPALINDIACHINA'is the rotation of: {s[r:].lower() + s[:r].lower()}\")          #loop run 2 times that's why we have 2 output\n"
   ]
  },
  {
   "cell_type": "code",
   "execution_count": null,
   "id": "8a614d6a",
   "metadata": {},
   "outputs": [],
   "source": []
  }
 ],
 "metadata": {
  "kernelspec": {
   "display_name": "Python 3 (ipykernel)",
   "language": "python",
   "name": "python3"
  },
  "language_info": {
   "codemirror_mode": {
    "name": "ipython",
    "version": 3
   },
   "file_extension": ".py",
   "mimetype": "text/x-python",
   "name": "python",
   "nbconvert_exporter": "python",
   "pygments_lexer": "ipython3",
   "version": "3.10.6"
  }
 },
 "nbformat": 4,
 "nbformat_minor": 5
}
