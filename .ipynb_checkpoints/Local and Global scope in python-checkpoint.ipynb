{
 "cells": [
  {
   "cell_type": "code",
   "execution_count": 3,
   "id": "271cf267",
   "metadata": {},
   "outputs": [],
   "source": [
    "x = 'awesome'    #x is  global variable \n",
    "def my_function():\n",
    "    x = 'fantastic'\n",
    "    lang = 'python'  #lang is local variable\n",
    "    print(f\"{x} {lang}\")"
   ]
  },
  {
   "cell_type": "code",
   "execution_count": 2,
   "id": "8999f806",
   "metadata": {},
   "outputs": [
    {
     "data": {
      "text/plain": [
       "'awesome'"
      ]
     },
     "execution_count": 2,
     "metadata": {},
     "output_type": "execute_result"
    }
   ],
   "source": [
    "x"
   ]
  },
  {
   "cell_type": "code",
   "execution_count": 4,
   "id": "f3152c22",
   "metadata": {},
   "outputs": [
    {
     "name": "stdout",
     "output_type": "stream",
     "text": [
      "fantastic python\n"
     ]
    }
   ],
   "source": [
    "my_function()"
   ]
  },
  {
   "cell_type": "code",
   "execution_count": 5,
   "id": "148748ac",
   "metadata": {},
   "outputs": [],
   "source": [
    "x = 'awesome'    #x is  global variable \n",
    "def my_function():\n",
    "    global x \n",
    "    global lang\n",
    "    x = 'fantastic'\n",
    "    lang = 'python'  #lang is local variable\n",
    "    print(f\"{x} {lang}\")"
   ]
  },
  {
   "cell_type": "code",
   "execution_count": 6,
   "id": "6880d43b",
   "metadata": {},
   "outputs": [
    {
     "data": {
      "text/plain": [
       "'awesome'"
      ]
     },
     "execution_count": 6,
     "metadata": {},
     "output_type": "execute_result"
    }
   ],
   "source": [
    "x"
   ]
  },
  {
   "cell_type": "markdown",
   "id": "6af1ade6",
   "metadata": {},
   "source": [
    "# lang\n",
    "\n",
    "---------------------------------------------------------------------------\n",
    "NameError                                 Traceback (most recent call last)\n",
    "Cell In[7], line 1\n",
    "----> 1 lang\n",
    "\n",
    "NameError: name 'lang' is not defined\n"
   ]
  },
  {
   "cell_type": "code",
   "execution_count": 9,
   "id": "a723cf14",
   "metadata": {},
   "outputs": [
    {
     "name": "stdout",
     "output_type": "stream",
     "text": [
      "fantastic python\n"
     ]
    }
   ],
   "source": [
    "my_function()"
   ]
  },
  {
   "cell_type": "code",
   "execution_count": 10,
   "id": "0c43a684",
   "metadata": {},
   "outputs": [
    {
     "data": {
      "text/plain": [
       "'fantastic'"
      ]
     },
     "execution_count": 10,
     "metadata": {},
     "output_type": "execute_result"
    }
   ],
   "source": [
    "x"
   ]
  },
  {
   "cell_type": "code",
   "execution_count": 11,
   "id": "9c432284",
   "metadata": {},
   "outputs": [
    {
     "data": {
      "text/plain": [
       "'python'"
      ]
     },
     "execution_count": 11,
     "metadata": {},
     "output_type": "execute_result"
    }
   ],
   "source": [
    "lang"
   ]
  },
  {
   "cell_type": "code",
   "execution_count": null,
   "id": "955048ca",
   "metadata": {},
   "outputs": [],
   "source": []
  }
 ],
 "metadata": {
  "kernelspec": {
   "display_name": "Python 3 (ipykernel)",
   "language": "python",
   "name": "python3"
  },
  "language_info": {
   "codemirror_mode": {
    "name": "ipython",
    "version": 3
   },
   "file_extension": ".py",
   "mimetype": "text/x-python",
   "name": "python",
   "nbconvert_exporter": "python",
   "pygments_lexer": "ipython3",
   "version": "3.10.6"
  }
 },
 "nbformat": 4,
 "nbformat_minor": 5
}
