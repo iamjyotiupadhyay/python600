{
 "cells": [
  {
   "cell_type": "code",
   "execution_count": 2,
   "id": "27463078",
   "metadata": {},
   "outputs": [],
   "source": [
    "def count_upper_lower(string):\n",
    "    upper = 0 \n",
    "    lower = 0\n",
    "    for letter in string :\n",
    "        if letter .isupper():\n",
    "            upper = upper + 1\n",
    "        elif letter == \" \":\n",
    "            continue\n",
    "        elif letter.islower():\n",
    "            lower = lower + 1\n",
    "            \n",
    "    return upper , lower         "
   ]
  },
  {
   "cell_type": "code",
   "execution_count": 8,
   "id": "cd8544b2",
   "metadata": {},
   "outputs": [
    {
     "data": {
      "text/plain": [
       "(2, 8)"
      ]
     },
     "execution_count": 8,
     "metadata": {},
     "output_type": "execute_result"
    }
   ],
   "source": [
    "count_upper_lower(\"Hello World\")"
   ]
  },
  {
   "cell_type": "code",
   "execution_count": 9,
   "id": "c8569472",
   "metadata": {},
   "outputs": [],
   "source": [
    "# Sample items  : green red yellow black white"
   ]
  },
  {
   "cell_type": "code",
   "execution_count": 10,
   "id": "77d04c23",
   "metadata": {},
   "outputs": [],
   "source": [
    "text = 'green-red-yellow-black-white'"
   ]
  },
  {
   "cell_type": "code",
   "execution_count": 11,
   "id": "25253eed",
   "metadata": {},
   "outputs": [],
   "source": [
    "words = text.split(\"-\")"
   ]
  },
  {
   "cell_type": "code",
   "execution_count": 12,
   "id": "a26e03f7",
   "metadata": {},
   "outputs": [
    {
     "data": {
      "text/plain": [
       "['green', 'red', 'yellow', 'black', 'white']"
      ]
     },
     "execution_count": 12,
     "metadata": {},
     "output_type": "execute_result"
    }
   ],
   "source": [
    "words"
   ]
  },
  {
   "cell_type": "code",
   "execution_count": 13,
   "id": "159cf5a1",
   "metadata": {},
   "outputs": [],
   "source": [
    "words.sort()"
   ]
  },
  {
   "cell_type": "raw",
   "id": "f8bb9372",
   "metadata": {},
   "source": []
  }
 ],
 "metadata": {
  "kernelspec": {
   "display_name": "Python 3 (ipykernel)",
   "language": "python",
   "name": "python3"
  },
  "language_info": {
   "codemirror_mode": {
    "name": "ipython",
    "version": 3
   },
   "file_extension": ".py",
   "mimetype": "text/x-python",
   "name": "python",
   "nbconvert_exporter": "python",
   "pygments_lexer": "ipython3",
   "version": "3.10.6"
  }
 },
 "nbformat": 4,
 "nbformat_minor": 5
}
