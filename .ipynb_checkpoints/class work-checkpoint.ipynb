{
 "cells": [
  {
   "cell_type": "code",
   "execution_count": 5,
   "id": "7e2ade99",
   "metadata": {},
   "outputs": [
    {
     "data": {
      "text/plain": [
       "'you'"
      ]
     },
     "execution_count": 5,
     "metadata": {},
     "output_type": "execute_result"
    }
   ],
   "source": [
    "text = \"you are my sunshine\"\n",
    "text[0:3]"
   ]
  },
  {
   "cell_type": "code",
   "execution_count": 10,
   "id": "316cba4e",
   "metadata": {},
   "outputs": [
    {
     "data": {
      "text/plain": [
       "'you are'"
      ]
     },
     "execution_count": 10,
     "metadata": {},
     "output_type": "execute_result"
    }
   ],
   "source": [
    "text[0:7]"
   ]
  },
  {
   "cell_type": "code",
   "execution_count": 11,
   "id": "b9bbb5e0",
   "metadata": {},
   "outputs": [
    {
     "data": {
      "text/plain": [
       "'you are'"
      ]
     },
     "execution_count": 11,
     "metadata": {},
     "output_type": "execute_result"
    }
   ],
   "source": [
    "text[:7]"
   ]
  },
  {
   "cell_type": "code",
   "execution_count": 12,
   "id": "2daa5715",
   "metadata": {},
   "outputs": [
    {
     "data": {
      "text/plain": [
       "'you are my'"
      ]
     },
     "execution_count": 12,
     "metadata": {},
     "output_type": "execute_result"
    }
   ],
   "source": [
    "text[0:10]"
   ]
  },
  {
   "cell_type": "code",
   "execution_count": 16,
   "id": "7383ab5d",
   "metadata": {},
   "outputs": [
    {
     "data": {
      "text/plain": [
       "'my'"
      ]
     },
     "execution_count": 16,
     "metadata": {},
     "output_type": "execute_result"
    }
   ],
   "source": [
    "text[8:10]"
   ]
  },
  {
   "cell_type": "code",
   "execution_count": 17,
   "id": "91a048a5",
   "metadata": {},
   "outputs": [
    {
     "data": {
      "text/plain": [
       "'you are my suns'"
      ]
     },
     "execution_count": 17,
     "metadata": {},
     "output_type": "execute_result"
    }
   ],
   "source": [
    "text[0:15]"
   ]
  },
  {
   "cell_type": "code",
   "execution_count": 21,
   "id": "e68e75f1",
   "metadata": {},
   "outputs": [
    {
     "data": {
      "text/plain": [
       "'shine'"
      ]
     },
     "execution_count": 21,
     "metadata": {},
     "output_type": "execute_result"
    }
   ],
   "source": [
    "text[14:19]"
   ]
  },
  {
   "cell_type": "code",
   "execution_count": 25,
   "id": "225c1a5a",
   "metadata": {},
   "outputs": [
    {
     "data": {
      "text/plain": [
       "'sun'"
      ]
     },
     "execution_count": 25,
     "metadata": {},
     "output_type": "execute_result"
    }
   ],
   "source": [
    "text[11:14]"
   ]
  },
  {
   "cell_type": "code",
   "execution_count": null,
   "id": "e5212f77",
   "metadata": {},
   "outputs": [],
   "source": []
  }
 ],
 "metadata": {
  "kernelspec": {
   "display_name": "Python 3 (ipykernel)",
   "language": "python",
   "name": "python3"
  },
  "language_info": {
   "codemirror_mode": {
    "name": "ipython",
    "version": 3
   },
   "file_extension": ".py",
   "mimetype": "text/x-python",
   "name": "python",
   "nbconvert_exporter": "python",
   "pygments_lexer": "ipython3",
   "version": "3.10.6"
  }
 },
 "nbformat": 4,
 "nbformat_minor": 5
}
