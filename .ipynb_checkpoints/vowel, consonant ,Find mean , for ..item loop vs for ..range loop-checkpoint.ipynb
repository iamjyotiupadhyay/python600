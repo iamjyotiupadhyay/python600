{
 "cells": [
  {
   "cell_type": "code",
   "execution_count": 1,
   "id": "0f7d227d",
   "metadata": {},
   "outputs": [],
   "source": [
    "txt = \"I Like Orange Apple Banana and Kiwi.\""
   ]
  },
  {
   "cell_type": "code",
   "execution_count": 2,
   "id": "009101f4",
   "metadata": {},
   "outputs": [],
   "source": [
    "txt = txt.lower()"
   ]
  },
  {
   "cell_type": "code",
   "execution_count": 3,
   "id": "103d2e2e",
   "metadata": {},
   "outputs": [],
   "source": [
    "txt = txt.replace('i like ', ' ')"
   ]
  },
  {
   "cell_type": "code",
   "execution_count": 4,
   "id": "d758a166",
   "metadata": {},
   "outputs": [],
   "source": [
    "txt = txt.replace('and ', ' ')"
   ]
  },
  {
   "cell_type": "code",
   "execution_count": 6,
   "id": "aea1afc3",
   "metadata": {},
   "outputs": [],
   "source": [
    "txt = txt.replace(\".\" ,\" \")"
   ]
  },
  {
   "cell_type": "code",
   "execution_count": 7,
   "id": "40f7dc41",
   "metadata": {},
   "outputs": [
    {
     "name": "stdout",
     "output_type": "stream",
     "text": [
      " orange apple banana  kiwi \n"
     ]
    }
   ],
   "source": [
    "print(txt)"
   ]
  },
  {
   "cell_type": "markdown",
   "id": "1054cf68",
   "metadata": {},
   "source": [
    "# Listing in python is collection of item under one variable name \n",
    "\n",
    "*allows dublicate\n",
    "*sequenced and ordered\n",
    "*indexed\n",
    "*multiple datatypes support\n",
    "*in python , a list is created by placing inside square bracket [],eparated by commas\n"
   ]
  },
  {
   "cell_type": "code",
   "execution_count": 8,
   "id": "ec4c81da",
   "metadata": {},
   "outputs": [
    {
     "data": {
      "text/plain": [
       "set"
      ]
     },
     "execution_count": 8,
     "metadata": {},
     "output_type": "execute_result"
    }
   ],
   "source": [
    "f1 = {'orange','apple','banana','kiwi'}\n",
    "type(f1)"
   ]
  },
  {
   "cell_type": "code",
   "execution_count": 9,
   "id": "d4191a05",
   "metadata": {},
   "outputs": [
    {
     "data": {
      "text/plain": [
       "list"
      ]
     },
     "execution_count": 9,
     "metadata": {},
     "output_type": "execute_result"
    }
   ],
   "source": [
    "f = ['orange','apple','banana','kiwi']\n",
    "type(f)"
   ]
  },
  {
   "cell_type": "code",
   "execution_count": 2,
   "id": "f0b419df",
   "metadata": {},
   "outputs": [],
   "source": [
    "list1 = [ True ,0.3 , 55, 'hello']"
   ]
  },
  {
   "cell_type": "code",
   "execution_count": 3,
   "id": "9eab3e70",
   "metadata": {},
   "outputs": [
    {
     "name": "stdout",
     "output_type": "stream",
     "text": [
      "[True, 0.3, 55, 'hello']\n"
     ]
    }
   ],
   "source": [
    "print(list1)"
   ]
  },
  {
   "cell_type": "markdown",
   "id": "c2134db0",
   "metadata": {},
   "source": [
    "# indexing (+ and -) and slicing in python list"
   ]
  },
  {
   "cell_type": "code",
   "execution_count": 5,
   "id": "59be9c5c",
   "metadata": {},
   "outputs": [],
   "source": [
    "cars = ['audi','bentely','mercedes','rolls royace','bugati','ferrari']"
   ]
  },
  {
   "cell_type": "code",
   "execution_count": 6,
   "id": "b8fd80e2",
   "metadata": {},
   "outputs": [
    {
     "data": {
      "text/plain": [
       "'audi'"
      ]
     },
     "execution_count": 6,
     "metadata": {},
     "output_type": "execute_result"
    }
   ],
   "source": [
    "cars[0]"
   ]
  },
  {
   "cell_type": "code",
   "execution_count": 7,
   "id": "a3d3a770",
   "metadata": {},
   "outputs": [
    {
     "data": {
      "text/plain": [
       "'bugati'"
      ]
     },
     "execution_count": 7,
     "metadata": {},
     "output_type": "execute_result"
    }
   ],
   "source": [
    "cars[4] "
   ]
  },
  {
   "cell_type": "code",
   "execution_count": 8,
   "id": "1301c307",
   "metadata": {},
   "outputs": [
    {
     "data": {
      "text/plain": [
       "'ferrari'"
      ]
     },
     "execution_count": 8,
     "metadata": {},
     "output_type": "execute_result"
    }
   ],
   "source": [
    "cars[5]"
   ]
  },
  {
   "cell_type": "code",
   "execution_count": 10,
   "id": "e1787a2f",
   "metadata": {},
   "outputs": [
    {
     "data": {
      "text/plain": [
       "'ferrari'"
      ]
     },
     "execution_count": 10,
     "metadata": {},
     "output_type": "execute_result"
    }
   ],
   "source": [
    "cars[-1]  #negative indexing we have in listing"
   ]
  },
  {
   "cell_type": "code",
   "execution_count": 11,
   "id": "bdc3ec3a",
   "metadata": {},
   "outputs": [
    {
     "data": {
      "text/plain": [
       "'bugati'"
      ]
     },
     "execution_count": 11,
     "metadata": {},
     "output_type": "execute_result"
    }
   ],
   "source": [
    "cars[-2]"
   ]
  },
  {
   "cell_type": "code",
   "execution_count": 12,
   "id": "e28674e0",
   "metadata": {},
   "outputs": [],
   "source": [
    "#len()"
   ]
  },
  {
   "cell_type": "code",
   "execution_count": 13,
   "id": "fddf6e91",
   "metadata": {},
   "outputs": [
    {
     "data": {
      "text/plain": [
       "['audi', 'bentely', 'mercedes', 'rolls royace', 'bugati', 'ferrari']"
      ]
     },
     "execution_count": 13,
     "metadata": {},
     "output_type": "execute_result"
    }
   ],
   "source": [
    "cars"
   ]
  },
  {
   "cell_type": "code",
   "execution_count": 14,
   "id": "4bd41bb9",
   "metadata": {},
   "outputs": [
    {
     "data": {
      "text/plain": [
       "6"
      ]
     },
     "execution_count": 14,
     "metadata": {},
     "output_type": "execute_result"
    }
   ],
   "source": [
    "len(cars)"
   ]
  },
  {
   "cell_type": "markdown",
   "id": "b8517f26",
   "metadata": {},
   "source": [
    "# slicing in list "
   ]
  },
  {
   "cell_type": "code",
   "execution_count": 15,
   "id": "7957ce92",
   "metadata": {},
   "outputs": [
    {
     "data": {
      "text/plain": [
       "['audi', 'bentely', 'mercedes', 'rolls royace', 'bugati', 'ferrari']"
      ]
     },
     "execution_count": 15,
     "metadata": {},
     "output_type": "execute_result"
    }
   ],
   "source": [
    "cars"
   ]
  },
  {
   "cell_type": "code",
   "execution_count": 17,
   "id": "41be847b",
   "metadata": {},
   "outputs": [
    {
     "data": {
      "text/plain": [
       "['mercedes', 'rolls royace', 'bugati']"
      ]
     },
     "execution_count": 17,
     "metadata": {},
     "output_type": "execute_result"
    }
   ],
   "source": [
    "cars[2:5]"
   ]
  },
  {
   "cell_type": "code",
   "execution_count": 18,
   "id": "601a4921",
   "metadata": {},
   "outputs": [
    {
     "data": {
      "text/plain": [
       "['bugati', 'ferrari']"
      ]
     },
     "execution_count": 18,
     "metadata": {},
     "output_type": "execute_result"
    }
   ],
   "source": [
    "cars[4:6]   #cars[-2]"
   ]
  },
  {
   "cell_type": "code",
   "execution_count": 20,
   "id": "8400fa4b",
   "metadata": {},
   "outputs": [
    {
     "data": {
      "text/plain": [
       "['bugati', 'ferrari']"
      ]
     },
     "execution_count": 20,
     "metadata": {},
     "output_type": "execute_result"
    }
   ],
   "source": [
    "cars[-2:]"
   ]
  },
  {
   "cell_type": "code",
   "execution_count": 21,
   "id": "bf7f1f94",
   "metadata": {},
   "outputs": [
    {
     "data": {
      "text/plain": [
       "['audi', 'bentely', 'mercedes']"
      ]
     },
     "execution_count": 21,
     "metadata": {},
     "output_type": "execute_result"
    }
   ],
   "source": [
    "cars[0:3]    #cars[:3]"
   ]
  },
  {
   "cell_type": "code",
   "execution_count": 22,
   "id": "b8d2259d",
   "metadata": {},
   "outputs": [
    {
     "data": {
      "text/plain": [
       "['audi', 'bentely', 'mercedes']"
      ]
     },
     "execution_count": 22,
     "metadata": {},
     "output_type": "execute_result"
    }
   ],
   "source": [
    "cars[:3]"
   ]
  },
  {
   "cell_type": "markdown",
   "id": "9da5f262",
   "metadata": {},
   "source": [
    "# loops in python listing "
   ]
  },
  {
   "cell_type": "code",
   "execution_count": 23,
   "id": "48bd8c98",
   "metadata": {},
   "outputs": [
    {
     "data": {
      "text/plain": [
       "['audi', 'bentely', 'mercedes', 'rolls royace', 'bugati', 'ferrari']"
      ]
     },
     "execution_count": 23,
     "metadata": {},
     "output_type": "execute_result"
    }
   ],
   "source": [
    "cars"
   ]
  },
  {
   "cell_type": "code",
   "execution_count": 29,
   "id": "7b6c766f",
   "metadata": {},
   "outputs": [
    {
     "name": "stdout",
     "output_type": "stream",
     "text": [
      "0 and audi\n",
      "1 and bentely\n",
      "2 and mercedes\n",
      "3 and rolls royace\n",
      "4 and bugati\n",
      "5 and ferrari\n"
     ]
    }
   ],
   "source": [
    "cars = ['audi', 'bentely', 'mercedes', 'rolls royace', 'bugati', 'ferrari']\n",
    "for index in range(len(cars)):\n",
    "    car = cars[index]\n",
    "    print (f\"{index} and {car}\")"
   ]
  },
  {
   "cell_type": "code",
   "execution_count": 30,
   "id": "02174339",
   "metadata": {},
   "outputs": [
    {
     "name": "stdout",
     "output_type": "stream",
     "text": [
      "audi\n",
      "bentely\n",
      "mercedes\n",
      "rolls royace\n",
      "bugati\n",
      "ferrari\n"
     ]
    }
   ],
   "source": [
    "for item in cars:     # easy FOR loop to print value only\n",
    "    print(item)"
   ]
  },
  {
   "cell_type": "code",
   "execution_count": 31,
   "id": "6d7d7640",
   "metadata": {},
   "outputs": [
    {
     "name": "stdout",
     "output_type": "stream",
     "text": [
      "[55, 66, 70, 23]\n"
     ]
    }
   ],
   "source": [
    " #print mean of given number\n",
    "nums = [55 , 66 ,70 , 23]\n",
    "print(nums)\n"
   ]
  },
  {
   "cell_type": "code",
   "execution_count": 32,
   "id": "33d541dc",
   "metadata": {},
   "outputs": [
    {
     "name": "stdout",
     "output_type": "stream",
     "text": [
      "214\n"
     ]
    }
   ],
   "source": [
    "T = (nums[0]+nums[1]+nums[2]+nums[3])\n",
    "print(T)"
   ]
  },
  {
   "cell_type": "code",
   "execution_count": 33,
   "id": "afbd3c7d",
   "metadata": {},
   "outputs": [],
   "source": [
    "mean = 214/4"
   ]
  },
  {
   "cell_type": "code",
   "execution_count": 34,
   "id": "c57880e4",
   "metadata": {},
   "outputs": [
    {
     "name": "stdout",
     "output_type": "stream",
     "text": [
      "53.5\n"
     ]
    }
   ],
   "source": [
    "print(mean)"
   ]
  },
  {
   "cell_type": "code",
   "execution_count": 39,
   "id": "7d66cd0c",
   "metadata": {},
   "outputs": [
    {
     "name": "stdout",
     "output_type": "stream",
     "text": [
      "56.0\n"
     ]
    }
   ],
   "source": [
    " # to find mean of given number\n",
    "num = [55,67,77,25]\n",
    "t = 0\n",
    "for num1 in num:\n",
    "    t = t + num1\n",
    "mean = t /len(num)\n",
    "print(mean)"
   ]
  },
  {
   "cell_type": "code",
   "execution_count": 41,
   "id": "40bd6e2e",
   "metadata": {},
   "outputs": [
    {
     "name": "stdout",
     "output_type": "stream",
     "text": [
      "56.0\n"
     ]
    }
   ],
   "source": [
    "#same question with For...range\n",
    "\n",
    "num2 = [55,67,77,25]   \n",
    "t1 = 0\n",
    "for index in range (len(num2)):\n",
    "        num = num2[index]\n",
    "        t1 = t1 + num\n",
    "mean = t1 /len(num2)\n",
    "print(mean)\n"
   ]
  },
  {
   "cell_type": "code",
   "execution_count": null,
   "id": "ff9d7951",
   "metadata": {},
   "outputs": [],
   "source": [
    "numbers = [23, 40,50, 20]\n",
    "total = 0 \n",
    "for index in range (len(num2)):\n",
    "    "
   ]
  }
 ],
 "metadata": {
  "kernelspec": {
   "display_name": "Python 3 (ipykernel)",
   "language": "python",
   "name": "python3"
  },
  "language_info": {
   "codemirror_mode": {
    "name": "ipython",
    "version": 3
   },
   "file_extension": ".py",
   "mimetype": "text/x-python",
   "name": "python",
   "nbconvert_exporter": "python",
   "pygments_lexer": "ipython3",
   "version": "3.10.6"
  }
 },
 "nbformat": 4,
 "nbformat_minor": 5
}
