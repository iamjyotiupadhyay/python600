{
 "cells": [
  {
   "cell_type": "code",
   "execution_count": 1,
   "id": "90e3bf36",
   "metadata": {},
   "outputs": [],
   "source": [
    "name ='jy$oti'"
   ]
  },
  {
   "cell_type": "code",
   "execution_count": 2,
   "id": "1af6d949",
   "metadata": {},
   "outputs": [
    {
     "data": {
      "text/plain": [
       "'jy$oti'"
      ]
     },
     "execution_count": 2,
     "metadata": {},
     "output_type": "execute_result"
    }
   ],
   "source": [
    "name"
   ]
  },
  {
   "cell_type": "code",
   "execution_count": 4,
   "id": "eb9e4f18",
   "metadata": {},
   "outputs": [
    {
     "data": {
      "text/plain": [
       "'$'"
      ]
     },
     "execution_count": 4,
     "metadata": {},
     "output_type": "execute_result"
    }
   ],
   "source": [
    "name[2]"
   ]
  },
  {
   "cell_type": "code",
   "execution_count": 6,
   "id": "2dbe6417",
   "metadata": {},
   "outputs": [
    {
     "data": {
      "text/plain": [
       "'jysoti'"
      ]
     },
     "execution_count": 6,
     "metadata": {},
     "output_type": "execute_result"
    }
   ],
   "source": [
    "#REPLACE method\n",
    "\n",
    "name = name.replace('$','s')"
   ]
  },
  {
   "cell_type": "code",
   "execution_count": 7,
   "id": "fe5a3e24",
   "metadata": {},
   "outputs": [
    {
     "data": {
      "text/plain": [
       "4555434480"
      ]
     },
     "execution_count": 7,
     "metadata": {},
     "output_type": "execute_result"
    }
   ],
   "source": [
    "id(name)"
   ]
  },
  {
   "cell_type": "code",
   "execution_count": 13,
   "id": "5f91ccdb",
   "metadata": {},
   "outputs": [],
   "source": [
    "name = 'jy$oti $$'"
   ]
  },
  {
   "cell_type": "code",
   "execution_count": 14,
   "id": "4406c186",
   "metadata": {},
   "outputs": [
    {
     "name": "stdout",
     "output_type": "stream",
     "text": [
      "jysoti ss\n"
     ]
    }
   ],
   "source": [
    "name = name.replace(\"$\",\"s\")\n",
    "print(name)"
   ]
  },
  {
   "cell_type": "code",
   "execution_count": 1,
   "id": "00cb3658",
   "metadata": {},
   "outputs": [
    {
     "name": "stdout",
     "output_type": "stream",
     "text": [
      "happy holi\n"
     ]
    }
   ],
   "source": [
    "#UPPER() AND LOWER() \n",
    "\n",
    "\n",
    "msg = 'HAPPY HOLI'\n",
    "print(msg.lower())\n",
    "\n",
    "\n",
    "\n"
   ]
  },
  {
   "cell_type": "code",
   "execution_count": 9,
   "id": "3b8a1fca",
   "metadata": {},
   "outputs": [
    {
     "data": {
      "text/plain": [
       "'HAPPY HOLI'"
      ]
     },
     "execution_count": 9,
     "metadata": {},
     "output_type": "execute_result"
    }
   ],
   "source": [
    "msg.upper()"
   ]
  },
  {
   "cell_type": "code",
   "execution_count": 15,
   "id": "19e46352",
   "metadata": {},
   "outputs": [
    {
     "data": {
      "text/plain": [
       "'Fantastic'"
      ]
     },
     "execution_count": 15,
     "metadata": {},
     "output_type": "execute_result"
    }
   ],
   "source": [
    "greet = \"happy\"\n",
    "greet.replace(\"happy\",\"Fantastic\")"
   ]
  },
  {
   "cell_type": "code",
   "execution_count": 20,
   "id": "5cda26b9",
   "metadata": {},
   "outputs": [
    {
     "data": {
      "text/plain": [
       "'Happy holiii'"
      ]
     },
     "execution_count": 20,
     "metadata": {},
     "output_type": "execute_result"
    }
   ],
   "source": [
    "\"Happy holi\".replace(\"holi\", \"holiii\")"
   ]
  },
  {
   "cell_type": "code",
   "execution_count": 21,
   "id": "38031142",
   "metadata": {},
   "outputs": [],
   "source": [
    "# split()"
   ]
  },
  {
   "cell_type": "code",
   "execution_count": 22,
   "id": "e16572f9",
   "metadata": {},
   "outputs": [],
   "source": [
    "review = \"i love to eat food\""
   ]
  },
  {
   "cell_type": "code",
   "execution_count": 29,
   "id": "4e3402aa",
   "metadata": {},
   "outputs": [],
   "source": [
    "words = review.split(\"  \")"
   ]
  },
  {
   "cell_type": "code",
   "execution_count": 27,
   "id": "a836200c",
   "metadata": {},
   "outputs": [
    {
     "data": {
      "text/plain": [
       "['i love to eat food']"
      ]
     },
     "execution_count": 27,
     "metadata": {},
     "output_type": "execute_result"
    }
   ],
   "source": [
    "words"
   ]
  },
  {
   "cell_type": "code",
   "execution_count": 30,
   "id": "5737f79f",
   "metadata": {},
   "outputs": [
    {
     "name": "stdout",
     "output_type": "stream",
     "text": [
      "['i love to eat food']\n"
     ]
    }
   ],
   "source": [
    "words = review.split(\" , \")\n",
    "print(words)"
   ]
  },
  {
   "cell_type": "code",
   "execution_count": 25,
   "id": "2a0cc654",
   "metadata": {},
   "outputs": [
    {
     "data": {
      "text/plain": [
       "list"
      ]
     },
     "execution_count": 25,
     "metadata": {},
     "output_type": "execute_result"
    }
   ],
   "source": [
    "type(words)   #type cast "
   ]
  },
  {
   "cell_type": "code",
   "execution_count": 31,
   "id": "15527924",
   "metadata": {},
   "outputs": [],
   "source": [
    "#Strip() , lstrip() ,rstrip()"
   ]
  },
  {
   "cell_type": "code",
   "execution_count": 32,
   "id": "79f62792",
   "metadata": {},
   "outputs": [
    {
     "data": {
      "text/plain": [
       "'junk food    '"
      ]
     },
     "execution_count": 32,
     "metadata": {},
     "output_type": "execute_result"
    }
   ],
   "source": [
    "review =\"   junk food    \"\n",
    "review.lstrip()        #for left spacing"
   ]
  },
  {
   "cell_type": "code",
   "execution_count": 33,
   "id": "a6520693",
   "metadata": {},
   "outputs": [
    {
     "data": {
      "text/plain": [
       "'   junk food'"
      ]
     },
     "execution_count": 33,
     "metadata": {},
     "output_type": "execute_result"
    }
   ],
   "source": [
    "review.rstrip()    #for right spacing"
   ]
  },
  {
   "cell_type": "code",
   "execution_count": 34,
   "id": "ac23bd3c",
   "metadata": {},
   "outputs": [
    {
     "data": {
      "text/plain": [
       "'junk food'"
      ]
     },
     "execution_count": 34,
     "metadata": {},
     "output_type": "execute_result"
    }
   ],
   "source": [
    "review.strip()   #both left and right spacins"
   ]
  },
  {
   "cell_type": "markdown",
   "id": "4499ef06",
   "metadata": {},
   "source": [
    "# Uses of backslash character "
   ]
  },
  {
   "cell_type": "code",
   "execution_count": 4,
   "id": "e42c3353",
   "metadata": {},
   "outputs": [],
   "source": [
    "txt = 'what\\'s up?'        #What's up? "
   ]
  },
  {
   "cell_type": "code",
   "execution_count": 5,
   "id": "6fa4b8e2",
   "metadata": {},
   "outputs": [
    {
     "name": "stdout",
     "output_type": "stream",
     "text": [
      "what's up?\n"
     ]
    }
   ],
   "source": [
    "print(txt)"
   ]
  },
  {
   "cell_type": "code",
   "execution_count": 6,
   "id": "62091d01",
   "metadata": {},
   "outputs": [
    {
     "data": {
      "text/plain": [
       "\"what's up?\""
      ]
     },
     "execution_count": 6,
     "metadata": {},
     "output_type": "execute_result"
    }
   ],
   "source": [
    "txt"
   ]
  },
  {
   "cell_type": "code",
   "execution_count": 20,
   "id": "fa7025a1",
   "metadata": {},
   "outputs": [],
   "source": [
    "txt1 = \"Look, a mountain:/\\\\\""
   ]
  },
  {
   "cell_type": "code",
   "execution_count": 21,
   "id": "dbcc5c24",
   "metadata": {},
   "outputs": [
    {
     "data": {
      "text/plain": [
       "'Look, a mountain:/\\\\'"
      ]
     },
     "execution_count": 21,
     "metadata": {},
     "output_type": "execute_result"
    }
   ],
   "source": [
    "txt1"
   ]
  },
  {
   "cell_type": "code",
   "execution_count": 28,
   "id": "e593a562",
   "metadata": {},
   "outputs": [
    {
     "name": "stdout",
     "output_type": "stream",
     "text": [
      "hello\n",
      "world!\n"
     ]
    }
   ],
   "source": [
    "msg = \"hello\\nworld!\"\n",
    "print(msg)"
   ]
  },
  {
   "cell_type": "code",
   "execution_count": 31,
   "id": "3170f189",
   "metadata": {},
   "outputs": [
    {
     "name": "stdout",
     "output_type": "stream",
     "text": [
      "1\n",
      "2 3\n"
     ]
    }
   ],
   "source": [
    "txt2 =\"1\\n2 3\"\n",
    "print(txt2)"
   ]
  },
  {
   "cell_type": "code",
   "execution_count": 32,
   "id": "c53d37b6",
   "metadata": {},
   "outputs": [
    {
     "name": "stdout",
     "output_type": "stream",
     "text": [
      "Hello World!\n"
     ]
    }
   ],
   "source": [
    "msg1 = \"\"\"Hello World!\"\"\"\n",
    "print(msg1)"
   ]
  },
  {
   "cell_type": "code",
   "execution_count": 33,
   "id": "e33ea8a4",
   "metadata": {},
   "outputs": [
    {
     "data": {
      "text/plain": [
       "['P', 'l', 'u', 't', 'o']"
      ]
     },
     "execution_count": 33,
     "metadata": {},
     "output_type": "execute_result"
    }
   ],
   "source": [
    "#program :: LOOPING in string\n",
    "\n",
    "planet = 'Pluto'\n",
    "[char for char in planet]"
   ]
  },
  {
   "cell_type": "code",
   "execution_count": 36,
   "id": "4dfe912e",
   "metadata": {},
   "outputs": [
    {
     "name": "stdout",
     "output_type": "stream",
     "text": [
      "Pluto,YOU'LL ALWAYS BE THE 9TH PLANET TO ME.\n"
     ]
    }
   ],
   "source": [
    "position = 9\n",
    "\n",
    "#str() use \n",
    "\n",
    "print(planet + \",YOU'LL ALWAYS BE THE \" + str(position) + \"TH PLANET TO ME.\")"
   ]
  },
  {
   "cell_type": "code",
   "execution_count": 37,
   "id": "0d1bcbdf",
   "metadata": {},
   "outputs": [
    {
     "name": "stdout",
     "output_type": "stream",
     "text": [
      "Pluto,YOU'LL ALWAYS BE THE 9 TH PLANET TO ME \n"
     ]
    }
   ],
   "source": [
    "#.format string and placeholder '{}' use  \n",
    "\n",
    "print(\"{},YOU'LL ALWAYS BE THE {} TH PLANET TO ME \".format(planet,position))"
   ]
  },
  {
   "cell_type": "code",
   "execution_count": null,
   "id": "f2e17cc3",
   "metadata": {},
   "outputs": [],
   "source": []
  }
 ],
 "metadata": {
  "kernelspec": {
   "display_name": "Python 3 (ipykernel)",
   "language": "python",
   "name": "python3"
  },
  "language_info": {
   "codemirror_mode": {
    "name": "ipython",
    "version": 3
   },
   "file_extension": ".py",
   "mimetype": "text/x-python",
   "name": "python",
   "nbconvert_exporter": "python",
   "pygments_lexer": "ipython3",
   "version": "3.10.6"
  }
 },
 "nbformat": 4,
 "nbformat_minor": 5
}
