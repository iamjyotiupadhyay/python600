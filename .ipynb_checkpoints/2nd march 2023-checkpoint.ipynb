{
 "cells": [
  {
   "cell_type": "code",
   "execution_count": 1,
   "id": "9073d552",
   "metadata": {},
   "outputs": [],
   "source": [
    "fruits = ['apple','banana','kiwi','mango']"
   ]
  },
  {
   "cell_type": "code",
   "execution_count": 2,
   "id": "b22b88bc",
   "metadata": {},
   "outputs": [
    {
     "data": {
      "text/plain": [
       "'mango'"
      ]
     },
     "execution_count": 2,
     "metadata": {},
     "output_type": "execute_result"
    }
   ],
   "source": [
    "fruits[3]"
   ]
  },
  {
   "cell_type": "code",
   "execution_count": 3,
   "id": "7df72fb9",
   "metadata": {},
   "outputs": [
    {
     "data": {
      "text/plain": [
       "4"
      ]
     },
     "execution_count": 3,
     "metadata": {},
     "output_type": "execute_result"
    }
   ],
   "source": [
    "len(fruits)"
   ]
  },
  {
   "cell_type": "code",
   "execution_count": 4,
   "id": "abeb0142",
   "metadata": {},
   "outputs": [
    {
     "data": {
      "text/plain": [
       "'banana'"
      ]
     },
     "execution_count": 4,
     "metadata": {},
     "output_type": "execute_result"
    }
   ],
   "source": [
    "index = 1\n",
    "fruits[index]"
   ]
  },
  {
   "cell_type": "code",
   "execution_count": 7,
   "id": "a3fed51b",
   "metadata": {},
   "outputs": [
    {
     "name": "stdout",
     "output_type": "stream",
     "text": [
      "0\n",
      "apple\n",
      "1\n",
      "banana\n",
      "2\n",
      "kiwi\n",
      "3\n",
      "mango\n"
     ]
    }
   ],
   "source": [
    "for index in range(len(fruits)): \n",
    "    print(index)\n",
    "    fruit = fruits[index]\n",
    "    print(fruit)"
   ]
  },
  {
   "cell_type": "code",
   "execution_count": 8,
   "id": "9704e526",
   "metadata": {},
   "outputs": [
    {
     "name": "stdout",
     "output_type": "stream",
     "text": [
      "apple\n",
      "banana\n",
      "kiwi\n",
      "mango\n"
     ]
    }
   ],
   "source": [
    "for item in fruits:\n",
    "    print(item)"
   ]
  },
  {
   "cell_type": "markdown",
   "id": "2e77fa58",
   "metadata": {},
   "source": [
    "# how to check if something is in the list or not ?- membership operator"
   ]
  },
  {
   "cell_type": "code",
   "execution_count": 10,
   "id": "dd64bb27",
   "metadata": {},
   "outputs": [],
   "source": [
    "student = ['Shraddha','manzil','jyoti','darshan','rekha']\n",
    "\n",
    "\n",
    "\n",
    "\n"
   ]
  },
  {
   "cell_type": "code",
   "execution_count": 11,
   "id": "a7284fb5",
   "metadata": {},
   "outputs": [
    {
     "data": {
      "text/plain": [
       "False"
      ]
     },
     "execution_count": 11,
     "metadata": {},
     "output_type": "execute_result"
    }
   ],
   "source": [
    "'kshitiz' in student"
   ]
  },
  {
   "cell_type": "code",
   "execution_count": 12,
   "id": "e95c53b9",
   "metadata": {},
   "outputs": [
    {
     "data": {
      "text/plain": [
       "False"
      ]
     },
     "execution_count": 12,
     "metadata": {},
     "output_type": "execute_result"
    }
   ],
   "source": [
    "'ram' in student"
   ]
  },
  {
   "cell_type": "code",
   "execution_count": 13,
   "id": "4f5fd3bb",
   "metadata": {},
   "outputs": [
    {
     "data": {
      "text/plain": [
       "True"
      ]
     },
     "execution_count": 13,
     "metadata": {},
     "output_type": "execute_result"
    }
   ],
   "source": [
    "'ram' not in student"
   ]
  },
  {
   "cell_type": "code",
   "execution_count": 14,
   "id": "a1a9a79b",
   "metadata": {},
   "outputs": [
    {
     "data": {
      "text/plain": [
       "False"
      ]
     },
     "execution_count": 14,
     "metadata": {},
     "output_type": "execute_result"
    }
   ],
   "source": [
    "'manzil' not in student"
   ]
  },
  {
   "cell_type": "markdown",
   "id": "c497c4d1",
   "metadata": {},
   "source": [
    "# Python list are mutable"
   ]
  },
  {
   "cell_type": "code",
   "execution_count": 15,
   "id": "01988d12",
   "metadata": {},
   "outputs": [],
   "source": [
    "fruits = ['apple','banana','mango','orange','pear']"
   ]
  },
  {
   "cell_type": "code",
   "execution_count": 16,
   "id": "2d47b40a",
   "metadata": {},
   "outputs": [
    {
     "data": {
      "text/plain": [
       "'banana'"
      ]
     },
     "execution_count": 16,
     "metadata": {},
     "output_type": "execute_result"
    }
   ],
   "source": [
    "fruits[1]"
   ]
  },
  {
   "cell_type": "code",
   "execution_count": 17,
   "id": "632697f3",
   "metadata": {},
   "outputs": [],
   "source": [
    "fruits[1]='papaya'"
   ]
  },
  {
   "cell_type": "code",
   "execution_count": 18,
   "id": "ba3a2f55",
   "metadata": {},
   "outputs": [
    {
     "data": {
      "text/plain": [
       "['apple', 'papaya', 'mango', 'orange', 'pear']"
      ]
     },
     "execution_count": 18,
     "metadata": {},
     "output_type": "execute_result"
    }
   ],
   "source": [
    "fruits"
   ]
  },
  {
   "cell_type": "code",
   "execution_count": 19,
   "id": "5a575d84",
   "metadata": {},
   "outputs": [
    {
     "data": {
      "text/plain": [
       "4470842048"
      ]
     },
     "execution_count": 19,
     "metadata": {},
     "output_type": "execute_result"
    }
   ],
   "source": [
    "id(fruits)"
   ]
  },
  {
   "cell_type": "code",
   "execution_count": 20,
   "id": "b873ff98",
   "metadata": {},
   "outputs": [],
   "source": [
    "fruits[1:3]= ['black current','guava']"
   ]
  },
  {
   "cell_type": "code",
   "execution_count": 21,
   "id": "62468c86",
   "metadata": {},
   "outputs": [
    {
     "data": {
      "text/plain": [
       "['apple', 'black current', 'guava', 'orange', 'pear']"
      ]
     },
     "execution_count": 21,
     "metadata": {},
     "output_type": "execute_result"
    }
   ],
   "source": [
    "fruits"
   ]
  },
  {
   "cell_type": "code",
   "execution_count": 27,
   "id": "3eb29394",
   "metadata": {},
   "outputs": [
    {
     "data": {
      "text/plain": [
       "['hello', 'orange']"
      ]
     },
     "execution_count": 27,
     "metadata": {},
     "output_type": "execute_result"
    }
   ],
   "source": [
    "fruits[0:5:3]"
   ]
  },
  {
   "cell_type": "code",
   "execution_count": 23,
   "id": "61cab865",
   "metadata": {},
   "outputs": [],
   "source": [
    "fruits[0:4:2] = ['hello','world']"
   ]
  },
  {
   "cell_type": "code",
   "execution_count": 24,
   "id": "1e20f017",
   "metadata": {},
   "outputs": [
    {
     "data": {
      "text/plain": [
       "['hello', 'black current', 'world', 'orange', 'pear']"
      ]
     },
     "execution_count": 24,
     "metadata": {},
     "output_type": "execute_result"
    }
   ],
   "source": [
    "fruits"
   ]
  },
  {
   "cell_type": "code",
   "execution_count": 28,
   "id": "d520ac19",
   "metadata": {},
   "outputs": [
    {
     "data": {
      "text/plain": [
       "['hello', 'black current', 'world', 'orange', 'pear']"
      ]
     },
     "execution_count": 28,
     "metadata": {},
     "output_type": "execute_result"
    }
   ],
   "source": [
    "fruits"
   ]
  },
  {
   "cell_type": "code",
   "execution_count": null,
   "id": "3d53e486",
   "metadata": {},
   "outputs": [],
   "source": [
    "  #list methods .insert()"
   ]
  },
  {
   "cell_type": "code",
   "execution_count": 2,
   "id": "d58c2009",
   "metadata": {},
   "outputs": [],
   "source": [
    "fruits1 = ['apple','black current','guava','orange','kiwi','mango']"
   ]
  },
  {
   "cell_type": "code",
   "execution_count": 3,
   "id": "8b1d64bf",
   "metadata": {},
   "outputs": [],
   "source": [
    "fruits1.insert(1,'dragon fruit')"
   ]
  },
  {
   "cell_type": "code",
   "execution_count": 4,
   "id": "54ad66eb",
   "metadata": {},
   "outputs": [
    {
     "data": {
      "text/plain": [
       "['apple', 'dragon fruit', 'black current', 'guava', 'orange', 'kiwi', 'mango']"
      ]
     },
     "execution_count": 4,
     "metadata": {},
     "output_type": "execute_result"
    }
   ],
   "source": [
    "fruits1"
   ]
  },
  {
   "cell_type": "code",
   "execution_count": 5,
   "id": "0c8fb6ce",
   "metadata": {},
   "outputs": [],
   "source": [
    "#list methods : (ii) .append()"
   ]
  },
  {
   "cell_type": "code",
   "execution_count": 7,
   "id": "e40f758f",
   "metadata": {},
   "outputs": [],
   "source": [
    "#empty list\n",
    "cars = []"
   ]
  },
  {
   "cell_type": "code",
   "execution_count": 8,
   "id": "16c706eb",
   "metadata": {},
   "outputs": [
    {
     "data": {
      "text/plain": [
       "list"
      ]
     },
     "execution_count": 8,
     "metadata": {},
     "output_type": "execute_result"
    }
   ],
   "source": [
    "type(cars)"
   ]
  },
  {
   "cell_type": "code",
   "execution_count": 9,
   "id": "63f4366a",
   "metadata": {},
   "outputs": [],
   "source": [
    "#other way to create empty list\n",
    "\n",
    "cars = list()    #using list constructor"
   ]
  },
  {
   "cell_type": "code",
   "execution_count": 10,
   "id": "4eb53d01",
   "metadata": {},
   "outputs": [
    {
     "data": {
      "text/plain": [
       "list"
      ]
     },
     "execution_count": 10,
     "metadata": {},
     "output_type": "execute_result"
    }
   ],
   "source": [
    "type(cars)"
   ]
  },
  {
   "cell_type": "code",
   "execution_count": 11,
   "id": "92ec2cc4",
   "metadata": {},
   "outputs": [
    {
     "data": {
      "text/plain": [
       "[]"
      ]
     },
     "execution_count": 11,
     "metadata": {},
     "output_type": "execute_result"
    }
   ],
   "source": [
    "cars"
   ]
  },
  {
   "cell_type": "code",
   "execution_count": 12,
   "id": "63b28bd1",
   "metadata": {},
   "outputs": [],
   "source": [
    "cars.append(\"audi\")"
   ]
  },
  {
   "cell_type": "code",
   "execution_count": 13,
   "id": "bca2a2ae",
   "metadata": {},
   "outputs": [
    {
     "data": {
      "text/plain": [
       "['audi']"
      ]
     },
     "execution_count": 13,
     "metadata": {},
     "output_type": "execute_result"
    }
   ],
   "source": [
    "cars"
   ]
  },
  {
   "cell_type": "code",
   "execution_count": 14,
   "id": "3080d7aa",
   "metadata": {},
   "outputs": [],
   "source": [
    "cars.append(\"bently\")"
   ]
  },
  {
   "cell_type": "code",
   "execution_count": 15,
   "id": "6e430b3d",
   "metadata": {},
   "outputs": [
    {
     "data": {
      "text/plain": [
       "['audi', 'bently']"
      ]
     },
     "execution_count": 15,
     "metadata": {},
     "output_type": "execute_result"
    }
   ],
   "source": [
    "cars"
   ]
  },
  {
   "cell_type": "code",
   "execution_count": 16,
   "id": "46f68863",
   "metadata": {},
   "outputs": [],
   "source": [
    "cars.append(\"mercedes\")"
   ]
  },
  {
   "cell_type": "code",
   "execution_count": 17,
   "id": "7d6afa59",
   "metadata": {},
   "outputs": [
    {
     "data": {
      "text/plain": [
       "['audi', 'bently', 'mercedes']"
      ]
     },
     "execution_count": 17,
     "metadata": {},
     "output_type": "execute_result"
    }
   ],
   "source": [
    "cars"
   ]
  },
  {
   "cell_type": "code",
   "execution_count": 32,
   "id": "c3af37fd",
   "metadata": {},
   "outputs": [],
   "source": [
    "# wap to print even numbers from 1 to 10\n",
    "even=[]\n",
    "odd=[]\n",
    "\n",
    "for i in range(1,10):\n",
    "    if i % 2 == 0:\n",
    "        even.append(i)\n",
    "    else:\n",
    "        odd.append(i)\n"
   ]
  },
  {
   "cell_type": "code",
   "execution_count": 31,
   "id": "e8a0fe65",
   "metadata": {},
   "outputs": [
    {
     "data": {
      "text/plain": [
       "[2, 4, 6, 8]"
      ]
     },
     "execution_count": 31,
     "metadata": {},
     "output_type": "execute_result"
    }
   ],
   "source": [
    "even\n",
    "    "
   ]
  },
  {
   "cell_type": "code",
   "execution_count": 33,
   "id": "399fd131",
   "metadata": {},
   "outputs": [
    {
     "data": {
      "text/plain": [
       "[1, 3, 5, 7, 9]"
      ]
     },
     "execution_count": 33,
     "metadata": {},
     "output_type": "execute_result"
    }
   ],
   "source": [
    "odd"
   ]
  },
  {
   "cell_type": "code",
   "execution_count": 34,
   "id": "c03999d7",
   "metadata": {},
   "outputs": [],
   "source": [
    "# (iii)     .extend( )\n",
    "# you can append elements frm "
   ]
  },
  {
   "cell_type": "code",
   "execution_count": 36,
   "id": "b106b090",
   "metadata": {},
   "outputs": [],
   "source": [
    "a = [55,66,3]\n",
    "b = [5,2,1]\n",
    "a + b\n",
    "a.extend(b)"
   ]
  },
  {
   "cell_type": "code",
   "execution_count": 37,
   "id": "f635ede8",
   "metadata": {},
   "outputs": [
    {
     "data": {
      "text/plain": [
       "[55, 66, 3, 5, 2, 1]"
      ]
     },
     "execution_count": 37,
     "metadata": {},
     "output_type": "execute_result"
    }
   ],
   "source": [
    "a"
   ]
  },
  {
   "cell_type": "code",
   "execution_count": 38,
   "id": "d090a167",
   "metadata": {},
   "outputs": [],
   "source": [
    "b.extend(a)"
   ]
  },
  {
   "cell_type": "code",
   "execution_count": 39,
   "id": "9b1ce5c2",
   "metadata": {},
   "outputs": [
    {
     "data": {
      "text/plain": [
       "[5, 2, 1, 55, 66, 3, 5, 2, 1]"
      ]
     },
     "execution_count": 39,
     "metadata": {},
     "output_type": "execute_result"
    }
   ],
   "source": [
    "b"
   ]
  },
  {
   "cell_type": "code",
   "execution_count": 40,
   "id": "5eefccf6",
   "metadata": {},
   "outputs": [],
   "source": [
    "a = [55,66,3]\n",
    "b = [5,2,1]\n",
    "b.extend(a)"
   ]
  },
  {
   "cell_type": "code",
   "execution_count": 41,
   "id": "b71c10cb",
   "metadata": {},
   "outputs": [
    {
     "data": {
      "text/plain": [
       "[5, 2, 1, 55, 66, 3]"
      ]
     },
     "execution_count": 41,
     "metadata": {},
     "output_type": "execute_result"
    }
   ],
   "source": [
    "b"
   ]
  },
  {
   "cell_type": "code",
   "execution_count": 42,
   "id": "a5f34293",
   "metadata": {},
   "outputs": [],
   "source": [
    " # (iv)  .remove()"
   ]
  },
  {
   "cell_type": "code",
   "execution_count": 43,
   "id": "2feca9aa",
   "metadata": {},
   "outputs": [
    {
     "name": "stdout",
     "output_type": "stream",
     "text": [
      "['audi', 'mercedes', 'nano', 'audi']\n"
     ]
    }
   ],
   "source": [
    "cars = ['audi','nano','mercedes','nano','audi']\n",
    "cars.remove('nano')           #removes only first occurences\n",
    "print(cars)"
   ]
  },
  {
   "cell_type": "code",
   "execution_count": 44,
   "id": "56543535",
   "metadata": {},
   "outputs": [],
   "source": [
    "# (v)   .pop()"
   ]
  },
  {
   "cell_type": "code",
   "execution_count": 45,
   "id": "7b8d7771",
   "metadata": {},
   "outputs": [
    {
     "data": {
      "text/plain": [
       "'audi'"
      ]
     },
     "execution_count": 45,
     "metadata": {},
     "output_type": "execute_result"
    }
   ],
   "source": [
    "cars = ['audi','nano','mercedes','nano','audi']\n",
    "cars.pop()"
   ]
  },
  {
   "cell_type": "code",
   "execution_count": 46,
   "id": "668de350",
   "metadata": {},
   "outputs": [
    {
     "data": {
      "text/plain": [
       "['audi', 'nano', 'mercedes', 'nano']"
      ]
     },
     "execution_count": 46,
     "metadata": {},
     "output_type": "execute_result"
    }
   ],
   "source": [
    "cars"
   ]
  },
  {
   "cell_type": "code",
   "execution_count": 47,
   "id": "b7335dd0",
   "metadata": {},
   "outputs": [],
   "source": [
    "# append() and pop() together are used to PUSH and POP data from list\n",
    "#therefore list can be used as STACK DATA STRUCTURE"
   ]
  },
  {
   "cell_type": "code",
   "execution_count": 48,
   "id": "22973006",
   "metadata": {},
   "outputs": [
    {
     "data": {
      "text/plain": [
       "'mercedes'"
      ]
     },
     "execution_count": 48,
     "metadata": {},
     "output_type": "execute_result"
    }
   ],
   "source": [
    "cars.pop(2)"
   ]
  },
  {
   "cell_type": "code",
   "execution_count": 49,
   "id": "bf5f1ef5",
   "metadata": {},
   "outputs": [
    {
     "data": {
      "text/plain": [
       "['audi', 'nano', 'nano']"
      ]
     },
     "execution_count": 49,
     "metadata": {},
     "output_type": "execute_result"
    }
   ],
   "source": [
    "cars"
   ]
  },
  {
   "cell_type": "code",
   "execution_count": 50,
   "id": "c5b70d96",
   "metadata": {},
   "outputs": [],
   "source": [
    " #SORTING of LIST "
   ]
  },
  {
   "cell_type": "code",
   "execution_count": 51,
   "id": "237e0c72",
   "metadata": {},
   "outputs": [],
   "source": [
    "nums = [-2 ,-11,44,5,7,99,-8]\n",
    "nums.sort()"
   ]
  },
  {
   "cell_type": "code",
   "execution_count": 52,
   "id": "b21cec73",
   "metadata": {},
   "outputs": [
    {
     "data": {
      "text/plain": [
       "[-11, -8, -2, 5, 7, 44, 99]"
      ]
     },
     "execution_count": 52,
     "metadata": {},
     "output_type": "execute_result"
    }
   ],
   "source": [
    "nums           #by default in Asending order number come "
   ]
  },
  {
   "cell_type": "code",
   "execution_count": 53,
   "id": "1248bde0",
   "metadata": {},
   "outputs": [],
   "source": [
    "nums.sort(reverse=True)      # for Desending order numbers "
   ]
  },
  {
   "cell_type": "code",
   "execution_count": 54,
   "id": "363857c7",
   "metadata": {},
   "outputs": [
    {
     "data": {
      "text/plain": [
       "[99, 44, 7, 5, -2, -8, -11]"
      ]
     },
     "execution_count": 54,
     "metadata": {},
     "output_type": "execute_result"
    }
   ],
   "source": [
    "nums"
   ]
  },
  {
   "cell_type": "code",
   "execution_count": 55,
   "id": "295e5593",
   "metadata": {},
   "outputs": [],
   "source": [
    "# BUILT in functions in python "
   ]
  },
  {
   "cell_type": "code",
   "execution_count": 56,
   "id": "da4c2d7a",
   "metadata": {},
   "outputs": [
    {
     "data": {
      "text/plain": [
       "[-11, -8, -2, 5, 7, 44, 99]"
      ]
     },
     "execution_count": 56,
     "metadata": {},
     "output_type": "execute_result"
    }
   ],
   "source": [
    "nums = [-2 ,-11,44,5,7,99,-8]   #for ascending order \n",
    "sorted(nums)"
   ]
  },
  {
   "cell_type": "code",
   "execution_count": 57,
   "id": "d5e782c4",
   "metadata": {},
   "outputs": [
    {
     "data": {
      "text/plain": [
       "[99, 44, 7, 5, -2, -8, -11]"
      ]
     },
     "execution_count": 57,
     "metadata": {},
     "output_type": "execute_result"
    }
   ],
   "source": [
    "nums = [-2 ,-11,44,5,7,99,-8]    # for desending order \n",
    "sorted(nums,reverse = True)"
   ]
  },
  {
   "cell_type": "code",
   "execution_count": null,
   "id": "78cc601d",
   "metadata": {},
   "outputs": [],
   "source": []
  }
 ],
 "metadata": {
  "kernelspec": {
   "display_name": "Python 3 (ipykernel)",
   "language": "python",
   "name": "python3"
  },
  "language_info": {
   "codemirror_mode": {
    "name": "ipython",
    "version": 3
   },
   "file_extension": ".py",
   "mimetype": "text/x-python",
   "name": "python",
   "nbconvert_exporter": "python",
   "pygments_lexer": "ipython3",
   "version": "3.10.6"
  }
 },
 "nbformat": 4,
 "nbformat_minor": 5
}
