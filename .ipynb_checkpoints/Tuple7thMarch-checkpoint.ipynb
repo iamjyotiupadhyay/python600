{
 "cells": [
  {
   "cell_type": "code",
   "execution_count": null,
   "id": "c53a826a",
   "metadata": {},
   "outputs": [],
   "source": [
    "#you cannot use list methods in Tuple\n",
    "\n",
    "cars = (\"audi\",\"mercedes\",\"bmw\")"
   ]
  },
  {
   "cell_type": "code",
   "execution_count": null,
   "id": "6b5fc1fe",
   "metadata": {},
   "outputs": [],
   "source": [
    "#cars.append(\"tesla\")....gives error bcz tuple objects are immutable no method to append items"
   ]
  },
  {
   "cell_type": "code",
   "execution_count": null,
   "id": "fbedb396",
   "metadata": {},
   "outputs": [],
   "source": [
    "#typecasting in Tuple()\n",
    "\n",
    "cars = (\"audi\",\"mercedes\",\"bmw\")\n"
   ]
  },
  {
   "cell_type": "code",
   "execution_count": null,
   "id": "9cf7be2d",
   "metadata": {},
   "outputs": [],
   "source": [
    "id(cars)"
   ]
  },
  {
   "cell_type": "code",
   "execution_count": null,
   "id": "c58d5b16",
   "metadata": {},
   "outputs": [],
   "source": [
    "cars = list(cars)  #typecaste tuple to list...tuple to list"
   ]
  },
  {
   "cell_type": "code",
   "execution_count": null,
   "id": "3c5ffadb",
   "metadata": {},
   "outputs": [],
   "source": [
    "cars"
   ]
  },
  {
   "cell_type": "code",
   "execution_count": null,
   "id": "58916365",
   "metadata": {},
   "outputs": [],
   "source": [
    "id(cars) "
   ]
  },
  {
   "cell_type": "code",
   "execution_count": null,
   "id": "bf1593bc",
   "metadata": {},
   "outputs": [],
   "source": [
    "cars.append(\"bentely\")"
   ]
  },
  {
   "cell_type": "code",
   "execution_count": null,
   "id": "dc03e877",
   "metadata": {},
   "outputs": [],
   "source": [
    "cars"
   ]
  },
  {
   "cell_type": "code",
   "execution_count": null,
   "id": "b554a042",
   "metadata": {},
   "outputs": [],
   "source": [
    "cars = tuple(cars)    #convert into tuple"
   ]
  },
  {
   "cell_type": "code",
   "execution_count": null,
   "id": "2b71a412",
   "metadata": {},
   "outputs": [],
   "source": [
    "cars"
   ]
  },
  {
   "cell_type": "code",
   "execution_count": null,
   "id": "a4e139ab",
   "metadata": {},
   "outputs": [],
   "source": [
    "#Loops in Tuple : find the mean"
   ]
  },
  {
   "cell_type": "code",
   "execution_count": 7,
   "id": "aa4ae6c2",
   "metadata": {},
   "outputs": [],
   "source": [
    "data = (22,33,1,4,77,50,10)\n"
   ]
  },
  {
   "cell_type": "code",
   "execution_count": 8,
   "id": "20ea8bde",
   "metadata": {},
   "outputs": [
    {
     "data": {
      "text/plain": [
       "(22, 33, 1, 4, 77, 50, 10)"
      ]
     },
     "execution_count": 8,
     "metadata": {},
     "output_type": "execute_result"
    }
   ],
   "source": [
    "data"
   ]
  },
  {
   "cell_type": "code",
   "execution_count": 9,
   "id": "b2438c0e",
   "metadata": {},
   "outputs": [
    {
     "name": "stdout",
     "output_type": "stream",
     "text": [
      "28.142857142857142\n"
     ]
    }
   ],
   "source": [
    "total = 0\n",
    "for i in range(len(data)):\n",
    "    total = total + data[i]\n",
    "mean = total /len(data)\n",
    "print(mean)"
   ]
  },
  {
   "cell_type": "code",
   "execution_count": null,
   "id": "437eadc3",
   "metadata": {},
   "outputs": [],
   "source": []
  }
 ],
 "metadata": {
  "kernelspec": {
   "display_name": "Python 3 (ipykernel)",
   "language": "python",
   "name": "python3"
  },
  "language_info": {
   "codemirror_mode": {
    "name": "ipython",
    "version": 3
   },
   "file_extension": ".py",
   "mimetype": "text/x-python",
   "name": "python",
   "nbconvert_exporter": "python",
   "pygments_lexer": "ipython3",
   "version": "3.10.6"
  }
 },
 "nbformat": 4,
 "nbformat_minor": 5
}
