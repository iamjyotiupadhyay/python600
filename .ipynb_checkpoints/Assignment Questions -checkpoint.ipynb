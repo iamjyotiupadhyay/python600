{
 "cells": [
  {
   "cell_type": "markdown",
   "id": "bdfa9ff0",
   "metadata": {},
   "source": [
    "# program1 ::  last digit is divisible by 3 or not"
   ]
  },
  {
   "cell_type": "code",
   "execution_count": 3,
   "id": "992a2535",
   "metadata": {},
   "outputs": [
    {
     "name": "stdout",
     "output_type": "stream",
     "text": [
      "enter number:133\n",
      "3\n",
      "number is divisble by 3\n"
     ]
    }
   ],
   "source": [
    "num = int(input (\"enter number:\"))\n",
    "last_digit = num%10\n",
    "print(last_digit)\n",
    "if(last_digit%3 == 0):\n",
    "    print(\"number is divisble by 3\")\n",
    "    \n",
    "else:\n",
    "    print(\"number is not divisble by 3\")\n",
    "\n",
    "\n"
   ]
  },
  {
   "cell_type": "markdown",
   "id": "2a62205f",
   "metadata": {},
   "source": [
    "# program 2 :: find the volume of sphere"
   ]
  },
  {
   "cell_type": "code",
   "execution_count": 6,
   "id": "0745ced9",
   "metadata": {},
   "outputs": [
    {
     "name": "stdout",
     "output_type": "stream",
     "text": [
      "find the volume of given radius :\n",
      "523.3333333333334\n"
     ]
    }
   ],
   "source": [
    " print(\"find the volume of given radius :\")\n",
    "R = 5\n",
    "pi = 3.14\n",
    "volume =(4/3)*pi*R**3\n",
    "print(volume)"
   ]
  },
  {
   "cell_type": "markdown",
   "id": "8479de99",
   "metadata": {},
   "source": [
    "# program 3 :: a person is eligible for voting or not"
   ]
  },
  {
   "cell_type": "code",
   "execution_count": 11,
   "id": "fede4a42",
   "metadata": {},
   "outputs": [
    {
     "name": "stdout",
     "output_type": "stream",
     "text": [
      "enter your age:24\n",
      "you are eligible for voting\n"
     ]
    }
   ],
   "source": [
    "user_age = int(input(\"enter your age:\"))\n",
    "\n",
    "if(user_age > 18):\n",
    "    print(\"you are eligible for voting\")\n",
    "   \n",
    "else:\n",
    "    print(\"you are not eligible for voting\")\n"
   ]
  },
  {
   "cell_type": "markdown",
   "id": "2fced0c2",
   "metadata": {},
   "source": [
    "# program 4 :: WAP to display \"hello\"if a number is multiple of 5"
   ]
  },
  {
   "cell_type": "code",
   "execution_count": 13,
   "id": "fab7a17e",
   "metadata": {},
   "outputs": [
    {
     "name": "stdout",
     "output_type": "stream",
     "text": [
      "Enter any number:13\n",
      "bye!\n"
     ]
    }
   ],
   "source": [
    "num = int(input(\"Enter any number:\"))\n",
    "rem = num % 5\n",
    "if(rem == 0):\n",
    "    print(\"Hello\")\n",
    "    \n",
    "else :\n",
    "    print(\"bye!\")"
   ]
  },
  {
   "cell_type": "code",
   "execution_count": null,
   "id": "80179661",
   "metadata": {},
   "outputs": [],
   "source": []
  },
  {
   "cell_type": "code",
   "execution_count": null,
   "id": "0a8e1655",
   "metadata": {},
   "outputs": [],
   "source": []
  }
 ],
 "metadata": {
  "kernelspec": {
   "display_name": "Python 3 (ipykernel)",
   "language": "python",
   "name": "python3"
  },
  "language_info": {
   "codemirror_mode": {
    "name": "ipython",
    "version": 3
   },
   "file_extension": ".py",
   "mimetype": "text/x-python",
   "name": "python",
   "nbconvert_exporter": "python",
   "pygments_lexer": "ipython3",
   "version": "3.10.6"
  }
 },
 "nbformat": 4,
 "nbformat_minor": 5
}
