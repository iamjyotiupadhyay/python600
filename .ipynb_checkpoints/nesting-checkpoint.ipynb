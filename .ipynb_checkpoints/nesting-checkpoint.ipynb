{
 "cells": [
  {
   "cell_type": "markdown",
   "id": "03663c2b",
   "metadata": {},
   "source": [
    "# Expression ,Nesting , Chaining"
   ]
  },
  {
   "cell_type": "code",
   "execution_count": 1,
   "id": "d398a1c2",
   "metadata": {},
   "outputs": [],
   "source": [
    "#wap to check postive ,negative number & neutral"
   ]
  },
  {
   "cell_type": "code",
   "execution_count": 4,
   "id": "4cd64858",
   "metadata": {},
   "outputs": [
    {
     "name": "stdout",
     "output_type": "stream",
     "text": [
      "enter a number :0\n",
      "number is neutral\n",
      "number is negative\n"
     ]
    }
   ],
   "source": [
    "num = int(input(\"enter a number :\"))\n",
    "if num == 0:\n",
    "    print(\"number is neutral\")\n",
    "if num >= 1:\n",
    "    print(\"number is positive\")\n",
    "else:\n",
    "    print(\"number is negative\")\n",
    "    "
   ]
  },
  {
   "cell_type": "code",
   "execution_count": null,
   "id": "dc8487d6",
   "metadata": {},
   "outputs": [],
   "source": []
  },
  {
   "cell_type": "code",
   "execution_count": null,
   "id": "0d266b57",
   "metadata": {},
   "outputs": [],
   "source": []
  }
 ],
 "metadata": {
  "kernelspec": {
   "display_name": "Python 3 (ipykernel)",
   "language": "python",
   "name": "python3"
  },
  "language_info": {
   "codemirror_mode": {
    "name": "ipython",
    "version": 3
   },
   "file_extension": ".py",
   "mimetype": "text/x-python",
   "name": "python",
   "nbconvert_exporter": "python",
   "pygments_lexer": "ipython3",
   "version": "3.10.6"
  }
 },
 "nbformat": 4,
 "nbformat_minor": 5
}
