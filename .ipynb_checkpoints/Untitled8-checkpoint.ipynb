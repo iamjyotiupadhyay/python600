{
 "cells": [
  {
   "cell_type": "code",
   "execution_count": 4,
   "id": "1db65c46",
   "metadata": {},
   "outputs": [],
   "source": [
    "msg1 = 'hi'\n",
    "msg2 = \"hi\"\n",
    "\n",
    "assert msg1 == msg2"
   ]
  },
  {
   "cell_type": "markdown",
   "id": "b1e3d412",
   "metadata": {},
   "source": [
    "# single line and multi line string in python"
   ]
  },
  {
   "cell_type": "code",
   "execution_count": 5,
   "id": "c5d3094c",
   "metadata": {},
   "outputs": [],
   "source": [
    "msg ='hi , you free today?'   #single line string"
   ]
  },
  {
   "cell_type": "code",
   "execution_count": 10,
   "id": "f379cdc1",
   "metadata": {},
   "outputs": [
    {
     "name": "stdout",
     "output_type": "stream",
     "text": [
      "computer is an \n",
      "electronic machine.There are\n",
      "3 types of \n",
      "languages in computer :\n",
      "LLL,\n",
      "HLL,\n",
      "MLL\n"
     ]
    }
   ],
   "source": [
    "paragraph =\"\"\"computer is an \n",
    "electronic machine.There are\n",
    "3 types of \n",
    "languages in computer :\n",
    "LLL,\n",
    "HLL,\n",
    "MLL\"\"\"\n",
    "\n",
    "print(paragraph)"
   ]
  },
  {
   "cell_type": "code",
   "execution_count": 11,
   "id": "4dae228a",
   "metadata": {},
   "outputs": [
    {
     "data": {
      "text/plain": [
       "'computer is an \\nelectronic machine.There are\\n3 types of \\nlanguages in computer :\\nLLL,\\nHLL,\\nMLL'"
      ]
     },
     "execution_count": 11,
     "metadata": {},
     "output_type": "execute_result"
    }
   ],
   "source": [
    "paragraph"
   ]
  },
  {
   "cell_type": "markdown",
   "id": "3e4e5355",
   "metadata": {},
   "source": [
    "# indexing and slicing"
   ]
  },
  {
   "cell_type": "code",
   "execution_count": 12,
   "id": "5510a373",
   "metadata": {},
   "outputs": [
    {
     "data": {
      "text/plain": [
       "'e'"
      ]
     },
     "execution_count": 12,
     "metadata": {},
     "output_type": "execute_result"
    }
   ],
   "source": [
    "msg =\"hello world\"\n",
    "msg[1]"
   ]
  },
  {
   "cell_type": "code",
   "execution_count": 13,
   "id": "1866b903",
   "metadata": {},
   "outputs": [
    {
     "data": {
      "text/plain": [
       "'h'"
      ]
     },
     "execution_count": 13,
     "metadata": {},
     "output_type": "execute_result"
    }
   ],
   "source": [
    "msg[0]   #indexing always start from 'zero'"
   ]
  },
  {
   "cell_type": "code",
   "execution_count": 14,
   "id": "6cb48940",
   "metadata": {},
   "outputs": [
    {
     "data": {
      "text/plain": [
       "11"
      ]
     },
     "execution_count": 14,
     "metadata": {},
     "output_type": "execute_result"
    }
   ],
   "source": [
    "len(msg)"
   ]
  },
  {
   "cell_type": "code",
   "execution_count": 15,
   "id": "8d4ffa41",
   "metadata": {},
   "outputs": [
    {
     "data": {
      "text/plain": [
       "'o'"
      ]
     },
     "execution_count": 15,
     "metadata": {},
     "output_type": "execute_result"
    }
   ],
   "source": [
    "msg[7]"
   ]
  },
  {
   "cell_type": "code",
   "execution_count": 16,
   "id": "c74cad52",
   "metadata": {},
   "outputs": [
    {
     "data": {
      "text/plain": [
       "'r'"
      ]
     },
     "execution_count": 16,
     "metadata": {},
     "output_type": "execute_result"
    }
   ],
   "source": [
    "msg[8]"
   ]
  },
  {
   "cell_type": "markdown",
   "id": "bcf20735",
   "metadata": {},
   "source": [
    "# slicing"
   ]
  },
  {
   "cell_type": "code",
   "execution_count": 18,
   "id": "7f39eb16",
   "metadata": {},
   "outputs": [],
   "source": [
    "msg = \"hello world\""
   ]
  },
  {
   "cell_type": "code",
   "execution_count": 19,
   "id": "addc062c",
   "metadata": {},
   "outputs": [
    {
     "data": {
      "text/plain": [
       "'hello'"
      ]
     },
     "execution_count": 19,
     "metadata": {},
     "output_type": "execute_result"
    }
   ],
   "source": [
    "msg[0:5]"
   ]
  },
  {
   "cell_type": "code",
   "execution_count": 25,
   "id": "ad2eadc5",
   "metadata": {},
   "outputs": [
    {
     "data": {
      "text/plain": [
       "' world'"
      ]
     },
     "execution_count": 25,
     "metadata": {},
     "output_type": "execute_result"
    }
   ],
   "source": [
    "msg[5:11]"
   ]
  },
  {
   "cell_type": "code",
   "execution_count": 26,
   "id": "4a69bde0",
   "metadata": {},
   "outputs": [
    {
     "data": {
      "text/plain": [
       "'lo wo'"
      ]
     },
     "execution_count": 26,
     "metadata": {},
     "output_type": "execute_result"
    }
   ],
   "source": [
    "msg[3:8]"
   ]
  },
  {
   "cell_type": "code",
   "execution_count": 27,
   "id": "84c498d7",
   "metadata": {},
   "outputs": [
    {
     "data": {
      "text/plain": [
       "'hello'"
      ]
     },
     "execution_count": 27,
     "metadata": {},
     "output_type": "execute_result"
    }
   ],
   "source": [
    "msg[:5]"
   ]
  },
  {
   "cell_type": "code",
   "execution_count": 28,
   "id": "99aa9cbd",
   "metadata": {},
   "outputs": [
    {
     "data": {
      "text/plain": [
       "'world'"
      ]
     },
     "execution_count": 28,
     "metadata": {},
     "output_type": "execute_result"
    }
   ],
   "source": [
    "msg[6:]"
   ]
  },
  {
   "cell_type": "code",
   "execution_count": 29,
   "id": "9bf2a204",
   "metadata": {},
   "outputs": [
    {
     "data": {
      "text/plain": [
       "'hello'"
      ]
     },
     "execution_count": 29,
     "metadata": {},
     "output_type": "execute_result"
    }
   ],
   "source": [
    "msg[0:5]"
   ]
  },
  {
   "cell_type": "code",
   "execution_count": 31,
   "id": "06731bb0",
   "metadata": {},
   "outputs": [
    {
     "data": {
      "text/plain": [
       "'hlow'"
      ]
     },
     "execution_count": 31,
     "metadata": {},
     "output_type": "execute_result"
    }
   ],
   "source": [
    "msg [0:8:2]"
   ]
  },
  {
   "cell_type": "markdown",
   "id": "56b7608c",
   "metadata": {},
   "source": []
  }
 ],
 "metadata": {
  "kernelspec": {
   "display_name": "Python 3 (ipykernel)",
   "language": "python",
   "name": "python3"
  },
  "language_info": {
   "codemirror_mode": {
    "name": "ipython",
    "version": 3
   },
   "file_extension": ".py",
   "mimetype": "text/x-python",
   "name": "python",
   "nbconvert_exporter": "python",
   "pygments_lexer": "ipython3",
   "version": "3.10.6"
  }
 },
 "nbformat": 4,
 "nbformat_minor": 5
}
