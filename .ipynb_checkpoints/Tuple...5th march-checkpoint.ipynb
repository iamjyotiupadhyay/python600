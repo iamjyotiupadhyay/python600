{
 "cells": [
  {
   "cell_type": "code",
   "execution_count": 3,
   "id": "8d0a9b8c",
   "metadata": {},
   "outputs": [],
   "source": [
    "#Tuple :  \n",
    "#*collection of item under one variable\n",
    "#*Immutable(read only)\n",
    "#*allows duplicate\n",
    "#*indexed ,ordered\n",
    "#*round bracket , item separted by comma"
   ]
  },
  {
   "cell_type": "code",
   "execution_count": 12,
   "id": "6411f61c",
   "metadata": {},
   "outputs": [
    {
     "ename": "IndentationError",
     "evalue": "unexpected indent (3697423264.py, line 2)",
     "output_type": "error",
     "traceback": [
      "\u001b[0;36m  Cell \u001b[0;32mIn[12], line 2\u001b[0;36m\u001b[0m\n\u001b[0;31m    for index in range(len(cars)):\u001b[0m\n\u001b[0m    ^\u001b[0m\n\u001b[0;31mIndentationError\u001b[0m\u001b[0;31m:\u001b[0m unexpected indent\n"
     ]
    }
   ],
   "source": [
    " cars = ('tesla','audi','bmw','mercedes')\n",
    "    "
   ]
  },
  {
   "cell_type": "code",
   "execution_count": 5,
   "id": "4c436fa3",
   "metadata": {},
   "outputs": [
    {
     "data": {
      "text/plain": [
       "('tesla', 'audi', 'bmw', 'mercedes')"
      ]
     },
     "execution_count": 5,
     "metadata": {},
     "output_type": "execute_result"
    }
   ],
   "source": [
    "cars"
   ]
  },
  {
   "cell_type": "code",
   "execution_count": 6,
   "id": "fd409fed",
   "metadata": {},
   "outputs": [
    {
     "data": {
      "text/plain": [
       "tuple"
      ]
     },
     "execution_count": 6,
     "metadata": {},
     "output_type": "execute_result"
    }
   ],
   "source": [
    "type(cars) "
   ]
  },
  {
   "cell_type": "code",
   "execution_count": 7,
   "id": "61304e61",
   "metadata": {},
   "outputs": [
    {
     "data": {
      "text/plain": [
       "('audi', 'bmw', 'mercedes')"
      ]
     },
     "execution_count": 7,
     "metadata": {},
     "output_type": "execute_result"
    }
   ],
   "source": [
    "#indexing and slicing\n",
    "\n",
    "cars[1:]"
   ]
  },
  {
   "cell_type": "code",
   "execution_count": 8,
   "id": "02b5ff2a",
   "metadata": {},
   "outputs": [
    {
     "data": {
      "text/plain": [
       "'mercedes'"
      ]
     },
     "execution_count": 8,
     "metadata": {},
     "output_type": "execute_result"
    }
   ],
   "source": [
    "cars[-1]"
   ]
  },
  {
   "cell_type": "code",
   "execution_count": 9,
   "id": "9b506ea2",
   "metadata": {},
   "outputs": [
    {
     "data": {
      "text/plain": [
       "('tesla', 'audi')"
      ]
     },
     "execution_count": 9,
     "metadata": {},
     "output_type": "execute_result"
    }
   ],
   "source": [
    "cars[:2]"
   ]
  },
  {
   "cell_type": "code",
   "execution_count": 15,
   "id": "b0c2354a",
   "metadata": {},
   "outputs": [
    {
     "name": "stdout",
     "output_type": "stream",
     "text": [
      "tesla\n",
      "audi\n",
      "bmw\n",
      "mercedes\n"
     ]
    }
   ],
   "source": [
    "cars = ('tesla','audi','bmw','mercedes')\n",
    "for index in range(len(cars)):\n",
    "        car = cars[index]\n",
    "        print(car)"
   ]
  },
  {
   "cell_type": "code",
   "execution_count": null,
   "id": "3b61edf8",
   "metadata": {},
   "outputs": [],
   "source": []
  }
 ],
 "metadata": {
  "kernelspec": {
   "display_name": "Python 3 (ipykernel)",
   "language": "python",
   "name": "python3"
  },
  "language_info": {
   "codemirror_mode": {
    "name": "ipython",
    "version": 3
   },
   "file_extension": ".py",
   "mimetype": "text/x-python",
   "name": "python",
   "nbconvert_exporter": "python",
   "pygments_lexer": "ipython3",
   "version": "3.10.6"
  }
 },
 "nbformat": 4,
 "nbformat_minor": 5
}
