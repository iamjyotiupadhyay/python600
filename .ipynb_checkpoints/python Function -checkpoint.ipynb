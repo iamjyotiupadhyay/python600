{
 "cells": [
  {
   "cell_type": "code",
   "execution_count": 1,
   "id": "769c2457",
   "metadata": {},
   "outputs": [
    {
     "name": "stdout",
     "output_type": "stream",
     "text": [
      "7\n"
     ]
    }
   ],
   "source": [
    "a = 5 \n",
    "b = 2\n",
    "c = a+b\n",
    "print(c)"
   ]
  },
  {
   "cell_type": "code",
   "execution_count": 2,
   "id": "dd4b7dcf",
   "metadata": {},
   "outputs": [],
   "source": [
    "input?"
   ]
  },
  {
   "cell_type": "code",
   "execution_count": 3,
   "id": "227ec0ef",
   "metadata": {},
   "outputs": [],
   "source": [
    "#function syntax\n",
    "\n",
    "def add_two_numbers():    #use def keyword\n",
    "    a = 5\n",
    "    b = 2\n",
    "    c = a+b\n",
    "    print(c)"
   ]
  },
  {
   "cell_type": "code",
   "execution_count": 4,
   "id": "f6748b53",
   "metadata": {},
   "outputs": [
    {
     "name": "stdout",
     "output_type": "stream",
     "text": [
      "7\n"
     ]
    }
   ],
   "source": [
    "add_two_numbers()      #call the function"
   ]
  },
  {
   "cell_type": "code",
   "execution_count": 5,
   "id": "3cce427f",
   "metadata": {},
   "outputs": [
    {
     "name": "stdout",
     "output_type": "stream",
     "text": [
      "7\n"
     ]
    }
   ],
   "source": [
    "add_two_numbers()"
   ]
  },
  {
   "cell_type": "code",
   "execution_count": 6,
   "id": "0b954855",
   "metadata": {},
   "outputs": [],
   "source": [
    "def add_two_numbers(a,b):\n",
    "    c=a+b\n",
    "    print(c)"
   ]
  },
  {
   "cell_type": "code",
   "execution_count": 7,
   "id": "d72c5dc8",
   "metadata": {},
   "outputs": [
    {
     "name": "stdout",
     "output_type": "stream",
     "text": [
      "94\n"
     ]
    }
   ],
   "source": [
    "add_two_numbers(a=88, b=6)"
   ]
  },
  {
   "cell_type": "code",
   "execution_count": 8,
   "id": "23887e60",
   "metadata": {},
   "outputs": [
    {
     "name": "stdout",
     "output_type": "stream",
     "text": [
      "-50\n"
     ]
    }
   ],
   "source": [
    "add_two_numbers(a=5,b=-55)   #positional argument is compulsary"
   ]
  },
  {
   "cell_type": "code",
   "execution_count": 9,
   "id": "e2f88455",
   "metadata": {},
   "outputs": [
    {
     "name": "stdout",
     "output_type": "stream",
     "text": [
      "5\n"
     ]
    }
   ],
   "source": [
    "add_two_numbers(2,3)"
   ]
  },
  {
   "cell_type": "code",
   "execution_count": 10,
   "id": "056b78cf",
   "metadata": {},
   "outputs": [],
   "source": [
    "def add_two_numbers(a,b):\n",
    "    c=a+b\n",
    "    print(c)"
   ]
  },
  {
   "cell_type": "code",
   "execution_count": 11,
   "id": "f7298899",
   "metadata": {},
   "outputs": [
    {
     "name": "stdout",
     "output_type": "stream",
     "text": [
      "-50\n"
     ]
    }
   ],
   "source": [
    "total = add_two_numbers(a=5 , b= -55)"
   ]
  },
  {
   "cell_type": "code",
   "execution_count": 12,
   "id": "71e8ca73",
   "metadata": {},
   "outputs": [],
   "source": [
    "total"
   ]
  },
  {
   "cell_type": "code",
   "execution_count": 13,
   "id": "339eb6d4",
   "metadata": {},
   "outputs": [
    {
     "data": {
      "text/plain": [
       "NoneType"
      ]
     },
     "execution_count": 13,
     "metadata": {},
     "output_type": "execute_result"
    }
   ],
   "source": [
    "type(total)"
   ]
  },
  {
   "cell_type": "code",
   "execution_count": 14,
   "id": "c0395dbc",
   "metadata": {},
   "outputs": [],
   "source": [
    "def add_two_numbers(a,b):\n",
    "    c = a + b\n",
    "    return c"
   ]
  },
  {
   "cell_type": "code",
   "execution_count": 15,
   "id": "bcc438f8",
   "metadata": {},
   "outputs": [],
   "source": [
    "total = add_two_numbers(a=5,b=-55)"
   ]
  },
  {
   "cell_type": "code",
   "execution_count": 16,
   "id": "0b45cfbb",
   "metadata": {},
   "outputs": [
    {
     "data": {
      "text/plain": [
       "-50"
      ]
     },
     "execution_count": 16,
     "metadata": {},
     "output_type": "execute_result"
    }
   ],
   "source": [
    "total      #when we type return c then we get the value of total "
   ]
  },
  {
   "cell_type": "code",
   "execution_count": 17,
   "id": "adac38eb",
   "metadata": {},
   "outputs": [
    {
     "data": {
      "text/plain": [
       "2500"
      ]
     },
     "execution_count": 17,
     "metadata": {},
     "output_type": "execute_result"
    }
   ],
   "source": [
    "total**2    #square of total"
   ]
  },
  {
   "cell_type": "code",
   "execution_count": 18,
   "id": "b66ad2eb",
   "metadata": {},
   "outputs": [
    {
     "data": {
      "text/plain": [
       "int"
      ]
     },
     "execution_count": 18,
     "metadata": {},
     "output_type": "execute_result"
    }
   ],
   "source": [
    "type(total) #now we get the type of total is int"
   ]
  },
  {
   "cell_type": "code",
   "execution_count": 19,
   "id": "992e77b8",
   "metadata": {},
   "outputs": [],
   "source": [
    "#WAP to find volume of sphere\n",
    "\n",
    "def volume():\n",
    "    pi = 3.14\n",
    "    r = 8\n",
    "    v = (4/3)*pi*r**2\n",
    "    print(v)"
   ]
  },
  {
   "cell_type": "code",
   "execution_count": 20,
   "id": "43202a0f",
   "metadata": {},
   "outputs": [
    {
     "name": "stdout",
     "output_type": "stream",
     "text": [
      "267.94666666666666\n"
     ]
    }
   ],
   "source": [
    "volume()"
   ]
  },
  {
   "cell_type": "code",
   "execution_count": 27,
   "id": "fa1f79c8",
   "metadata": {},
   "outputs": [],
   "source": [
    "def volume(r=8,pi=3.14):\n",
    "    v = (4/3)*pi*r**2\n",
    "    return v"
   ]
  },
  {
   "cell_type": "code",
   "execution_count": 28,
   "id": "a41c0ce7",
   "metadata": {},
   "outputs": [
    {
     "data": {
      "text/plain": [
       "267.94666666666666"
      ]
     },
     "execution_count": 28,
     "metadata": {},
     "output_type": "execute_result"
    }
   ],
   "source": [
    "volume()"
   ]
  },
  {
   "cell_type": "code",
   "execution_count": 29,
   "id": "10858508",
   "metadata": {},
   "outputs": [],
   "source": [
    "#program solution in class :  find thr volume of sphere\n",
    "\n",
    "def cal_volume(radius):   #radius is argument or parameter\n",
    "    pi=3.14\n",
    "    return 4/3*pi*radius**3   #in return we can directly write expression"
   ]
  },
  {
   "cell_type": "code",
   "execution_count": 31,
   "id": "0cbeb5df",
   "metadata": {},
   "outputs": [
    {
     "name": "stdout",
     "output_type": "stream",
     "text": [
      "enter the radius of sphere:5\n",
      "volume of a sphere is 523.33\n"
     ]
    }
   ],
   "source": [
    "radius = int(input(\"enter the radius of sphere:\"))\n",
    "volume = cal_volume(radius=radius)                  #cal_volume(radius) both are correct\n",
    "print(f\"volume of a sphere is {round(volume,2)}\")"
   ]
  },
  {
   "cell_type": "markdown",
   "id": "0cceb61e",
   "metadata": {},
   "source": [
    "# default vs Non default argument in python"
   ]
  },
  {
   "cell_type": "code",
   "execution_count": 32,
   "id": "21525971",
   "metadata": {},
   "outputs": [],
   "source": [
    "def greet(name,msg):\n",
    "    print(f\"hi,{name}{msg}\")"
   ]
  },
  {
   "cell_type": "code",
   "execution_count": 35,
   "id": "eeae717b",
   "metadata": {},
   "outputs": [
    {
     "name": "stdout",
     "output_type": "stream",
     "text": [
      "hi,jyoti good morning\n"
     ]
    }
   ],
   "source": [
    "greet(name = \"jyoti\", msg = \" good morning\")"
   ]
  },
  {
   "cell_type": "code",
   "execution_count": 42,
   "id": "2852e0fd",
   "metadata": {},
   "outputs": [],
   "source": [
    "def greet(name,msg=\"good morning\"):   #msg is a default argument\n",
    "    print(f\"hi {name} {msg} \")"
   ]
  },
  {
   "cell_type": "code",
   "execution_count": 43,
   "id": "344ee4ad",
   "metadata": {},
   "outputs": [
    {
     "name": "stdout",
     "output_type": "stream",
     "text": [
      "hi jyoti good morning \n"
     ]
    }
   ],
   "source": [
    "greet(name = \"jyoti\")"
   ]
  },
  {
   "cell_type": "code",
   "execution_count": 44,
   "id": "367d2d8b",
   "metadata": {},
   "outputs": [
    {
     "name": "stdout",
     "output_type": "stream",
     "text": [
      "hi shraddha good afternoon  \n"
     ]
    }
   ],
   "source": [
    "greet( name ='shraddha', msg = \"good afternoon \")  #default argument gets overwritten"
   ]
  },
  {
   "cell_type": "markdown",
   "id": "887bd587",
   "metadata": {},
   "source": [
    "# non default argument nvr follow default argument its alwyas give syntax error\n",
    "\n",
    "def greet(msg=\"good morning\", name):         #msg is a default argument\n",
    "    print(f\"hi {name} {msg} \")\n",
    "    \n",
    "    \n",
    "# ERROR ::\n",
    "Cell In[46], line 1\n",
    "    def greet(msg=\"good morning\", name):         #msg is a default argument\n",
    "                                  ^\n",
    "SyntaxError: non-default argument follows default argument\n"
   ]
  },
  {
   "cell_type": "markdown",
   "id": "b3598636",
   "metadata": {},
   "source": [
    "# Multiple return values in function"
   ]
  },
  {
   "cell_type": "code",
   "execution_count": 53,
   "id": "8be4d2cb",
   "metadata": {},
   "outputs": [],
   "source": [
    "def arithmetic_op(x,y):\n",
    "    total = x+y\n",
    "    diff = x-y\n",
    "    mul = x*y\n",
    "    return total,diff,mul"
   ]
  },
  {
   "cell_type": "code",
   "execution_count": 54,
   "id": "9b841527",
   "metadata": {},
   "outputs": [
    {
     "data": {
      "text/plain": [
       "(5, -1, 6)"
      ]
     },
     "execution_count": 54,
     "metadata": {},
     "output_type": "execute_result"
    }
   ],
   "source": [
    "arithmetic_op(2,3)   #ans come in tuple  ....it's tuple unpacking"
   ]
  },
  {
   "cell_type": "code",
   "execution_count": 55,
   "id": "8a8bf0d8",
   "metadata": {},
   "outputs": [],
   "source": [
    "total,diff,mul = arithmetic_op(2,3)"
   ]
  },
  {
   "cell_type": "code",
   "execution_count": 56,
   "id": "356c8bd0",
   "metadata": {},
   "outputs": [
    {
     "data": {
      "text/plain": [
       "5"
      ]
     },
     "execution_count": 56,
     "metadata": {},
     "output_type": "execute_result"
    }
   ],
   "source": [
    "total"
   ]
  },
  {
   "cell_type": "code",
   "execution_count": 57,
   "id": "7febf539",
   "metadata": {},
   "outputs": [
    {
     "data": {
      "text/plain": [
       "-1"
      ]
     },
     "execution_count": 57,
     "metadata": {},
     "output_type": "execute_result"
    }
   ],
   "source": [
    "diff"
   ]
  },
  {
   "cell_type": "code",
   "execution_count": 52,
   "id": "c56a63e4",
   "metadata": {},
   "outputs": [
    {
     "data": {
      "text/plain": [
       "6"
      ]
     },
     "execution_count": 52,
     "metadata": {},
     "output_type": "execute_result"
    }
   ],
   "source": [
    "mul"
   ]
  },
  {
   "cell_type": "code",
   "execution_count": null,
   "id": "03969179",
   "metadata": {},
   "outputs": [],
   "source": []
  }
 ],
 "metadata": {
  "kernelspec": {
   "display_name": "Python 3 (ipykernel)",
   "language": "python",
   "name": "python3"
  },
  "language_info": {
   "codemirror_mode": {
    "name": "ipython",
    "version": 3
   },
   "file_extension": ".py",
   "mimetype": "text/x-python",
   "name": "python",
   "nbconvert_exporter": "python",
   "pygments_lexer": "ipython3",
   "version": "3.10.6"
  }
 },
 "nbformat": 4,
 "nbformat_minor": 5
}
