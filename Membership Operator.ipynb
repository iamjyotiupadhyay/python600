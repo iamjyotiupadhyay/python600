{
 "cells": [
  {
   "cell_type": "code",
   "execution_count": 1,
   "id": "6a29714a",
   "metadata": {},
   "outputs": [],
   "source": [
    "fruits = ['apple','banana','kiwi','mango']"
   ]
  },
  {
   "cell_type": "code",
   "execution_count": 2,
   "id": "3817720d",
   "metadata": {},
   "outputs": [
    {
     "data": {
      "text/plain": [
       "'mango'"
      ]
     },
     "execution_count": 2,
     "metadata": {},
     "output_type": "execute_result"
    }
   ],
   "source": [
    "fruits[3]"
   ]
  },
  {
   "cell_type": "code",
   "execution_count": 3,
   "id": "23782df1",
   "metadata": {},
   "outputs": [
    {
     "data": {
      "text/plain": [
       "4"
      ]
     },
     "execution_count": 3,
     "metadata": {},
     "output_type": "execute_result"
    }
   ],
   "source": [
    "len(fruits)"
   ]
  },
  {
   "cell_type": "code",
   "execution_count": 4,
   "id": "fc380836",
   "metadata": {},
   "outputs": [
    {
     "data": {
      "text/plain": [
       "'banana'"
      ]
     },
     "execution_count": 4,
     "metadata": {},
     "output_type": "execute_result"
    }
   ],
   "source": [
    "index = 1\n",
    "fruits[index]"
   ]
  },
  {
   "cell_type": "code",
   "execution_count": 7,
   "id": "00b11716",
   "metadata": {},
   "outputs": [
    {
     "name": "stdout",
     "output_type": "stream",
     "text": [
      "0\n",
      "apple\n",
      "1\n",
      "banana\n",
      "2\n",
      "kiwi\n",
      "3\n",
      "mango\n"
     ]
    }
   ],
   "source": [
    "for index in range(len(fruits)): \n",
    "    print(index)\n",
    "    fruit = fruits[index]\n",
    "    print(fruit)"
   ]
  },
  {
   "cell_type": "code",
   "execution_count": 8,
   "id": "71ee75b3",
   "metadata": {},
   "outputs": [
    {
     "name": "stdout",
     "output_type": "stream",
     "text": [
      "apple\n",
      "banana\n",
      "kiwi\n",
      "mango\n"
     ]
    }
   ],
   "source": [
    "for item in fruits:\n",
    "    print(item)"
   ]
  },
  {
   "cell_type": "markdown",
   "id": "138315cc",
   "metadata": {},
   "source": [
    "# how to check if something is in the list or not ?- membership operator"
   ]
  },
  {
   "cell_type": "code",
   "execution_count": 10,
   "id": "3b91d053",
   "metadata": {},
   "outputs": [],
   "source": [
    "student = ['Shraddha','manzil','jyoti','darshan','rekha']\n",
    "\n",
    "\n",
    "\n",
    "\n"
   ]
  },
  {
   "cell_type": "code",
   "execution_count": 11,
   "id": "f654b9fd",
   "metadata": {},
   "outputs": [
    {
     "data": {
      "text/plain": [
       "False"
      ]
     },
     "execution_count": 11,
     "metadata": {},
     "output_type": "execute_result"
    }
   ],
   "source": [
    "'kshitiz' in student"
   ]
  },
  {
   "cell_type": "code",
   "execution_count": 12,
   "id": "284f7e27",
   "metadata": {},
   "outputs": [
    {
     "data": {
      "text/plain": [
       "False"
      ]
     },
     "execution_count": 12,
     "metadata": {},
     "output_type": "execute_result"
    }
   ],
   "source": [
    "'ram' in student"
   ]
  },
  {
   "cell_type": "code",
   "execution_count": 13,
   "id": "d6690359",
   "metadata": {},
   "outputs": [
    {
     "data": {
      "text/plain": [
       "True"
      ]
     },
     "execution_count": 13,
     "metadata": {},
     "output_type": "execute_result"
    }
   ],
   "source": [
    "'ram' not in student"
   ]
  },
  {
   "cell_type": "code",
   "execution_count": 14,
   "id": "036e2d0a",
   "metadata": {},
   "outputs": [
    {
     "data": {
      "text/plain": [
       "False"
      ]
     },
     "execution_count": 14,
     "metadata": {},
     "output_type": "execute_result"
    }
   ],
   "source": [
    "'manzil' not in student"
   ]
  },
  {
   "cell_type": "markdown",
   "id": "a7bf16d1",
   "metadata": {},
   "source": [
    "# Python list are mutable"
   ]
  },
  {
   "cell_type": "code",
   "execution_count": 15,
   "id": "c0990a0f",
   "metadata": {},
   "outputs": [],
   "source": [
    "fruits = ['apple','banana','mango','orange','pear']"
   ]
  },
  {
   "cell_type": "code",
   "execution_count": 16,
   "id": "aa269ef9",
   "metadata": {},
   "outputs": [
    {
     "data": {
      "text/plain": [
       "'banana'"
      ]
     },
     "execution_count": 16,
     "metadata": {},
     "output_type": "execute_result"
    }
   ],
   "source": [
    "fruits[1]"
   ]
  },
  {
   "cell_type": "code",
   "execution_count": 17,
   "id": "d5149e07",
   "metadata": {},
   "outputs": [],
   "source": [
    "fruits[1]='papaya'"
   ]
  },
  {
   "cell_type": "code",
   "execution_count": 18,
   "id": "cd99e738",
   "metadata": {},
   "outputs": [
    {
     "data": {
      "text/plain": [
       "['apple', 'papaya', 'mango', 'orange', 'pear']"
      ]
     },
     "execution_count": 18,
     "metadata": {},
     "output_type": "execute_result"
    }
   ],
   "source": [
    "fruits"
   ]
  },
  {
   "cell_type": "code",
   "execution_count": 19,
   "id": "cf621098",
   "metadata": {},
   "outputs": [
    {
     "data": {
      "text/plain": [
       "4470842048"
      ]
     },
     "execution_count": 19,
     "metadata": {},
     "output_type": "execute_result"
    }
   ],
   "source": [
    "id(fruits)"
   ]
  },
  {
   "cell_type": "code",
   "execution_count": 20,
   "id": "f7d467de",
   "metadata": {},
   "outputs": [],
   "source": [
    "fruits[1:3]= ['black current','guava']"
   ]
  },
  {
   "cell_type": "code",
   "execution_count": 21,
   "id": "b3024380",
   "metadata": {},
   "outputs": [
    {
     "data": {
      "text/plain": [
       "['apple', 'black current', 'guava', 'orange', 'pear']"
      ]
     },
     "execution_count": 21,
     "metadata": {},
     "output_type": "execute_result"
    }
   ],
   "source": [
    "fruits"
   ]
  },
  {
   "cell_type": "code",
   "execution_count": 27,
   "id": "8889de32",
   "metadata": {},
   "outputs": [
    {
     "data": {
      "text/plain": [
       "['hello', 'orange']"
      ]
     },
     "execution_count": 27,
     "metadata": {},
     "output_type": "execute_result"
    }
   ],
   "source": [
    "fruits[0:5:3]"
   ]
  },
  {
   "cell_type": "code",
   "execution_count": 23,
   "id": "28f5c398",
   "metadata": {},
   "outputs": [],
   "source": [
    "fruits[0:4:2] = ['hello','world']"
   ]
  },
  {
   "cell_type": "code",
   "execution_count": 24,
   "id": "06c9f264",
   "metadata": {},
   "outputs": [
    {
     "data": {
      "text/plain": [
       "['hello', 'black current', 'world', 'orange', 'pear']"
      ]
     },
     "execution_count": 24,
     "metadata": {},
     "output_type": "execute_result"
    }
   ],
   "source": [
    "fruits"
   ]
  },
  {
   "cell_type": "code",
   "execution_count": 28,
   "id": "47a09f24",
   "metadata": {},
   "outputs": [
    {
     "data": {
      "text/plain": [
       "['hello', 'black current', 'world', 'orange', 'pear']"
      ]
     },
     "execution_count": 28,
     "metadata": {},
     "output_type": "execute_result"
    }
   ],
   "source": [
    "fruits"
   ]
  },
  {
   "cell_type": "code",
   "execution_count": null,
   "id": "a75ae3dd",
   "metadata": {},
   "outputs": [],
   "source": [
    "  #list methods .insert()"
   ]
  },
  {
   "cell_type": "code",
   "execution_count": 2,
   "id": "2cee626e",
   "metadata": {},
   "outputs": [],
   "source": [
    "fruits1 = ['apple','black current','guava','orange','kiwi','mango']"
   ]
  },
  {
   "cell_type": "code",
   "execution_count": 3,
   "id": "859b39de",
   "metadata": {},
   "outputs": [],
   "source": [
    "fruits1.insert(1,'dragon fruit')"
   ]
  },
  {
   "cell_type": "code",
   "execution_count": 4,
   "id": "4cb910e6",
   "metadata": {},
   "outputs": [
    {
     "data": {
      "text/plain": [
       "['apple', 'dragon fruit', 'black current', 'guava', 'orange', 'kiwi', 'mango']"
      ]
     },
     "execution_count": 4,
     "metadata": {},
     "output_type": "execute_result"
    }
   ],
   "source": [
    "fruits1"
   ]
  },
  {
   "cell_type": "code",
   "execution_count": 5,
   "id": "e456b849",
   "metadata": {},
   "outputs": [],
   "source": [
    "#list methods : (ii) .append()"
   ]
  },
  {
   "cell_type": "code",
   "execution_count": 7,
   "id": "1b22b05b",
   "metadata": {},
   "outputs": [],
   "source": [
    "#empty list\n",
    "cars = []"
   ]
  },
  {
   "cell_type": "code",
   "execution_count": 8,
   "id": "3daee347",
   "metadata": {},
   "outputs": [
    {
     "data": {
      "text/plain": [
       "list"
      ]
     },
     "execution_count": 8,
     "metadata": {},
     "output_type": "execute_result"
    }
   ],
   "source": [
    "type(cars)"
   ]
  },
  {
   "cell_type": "code",
   "execution_count": 9,
   "id": "d9d997ce",
   "metadata": {},
   "outputs": [],
   "source": [
    "#other way to create empty list\n",
    "\n",
    "cars = list()    #using list constructor"
   ]
  },
  {
   "cell_type": "code",
   "execution_count": 10,
   "id": "da9a2750",
   "metadata": {},
   "outputs": [
    {
     "data": {
      "text/plain": [
       "list"
      ]
     },
     "execution_count": 10,
     "metadata": {},
     "output_type": "execute_result"
    }
   ],
   "source": [
    "type(cars)"
   ]
  },
  {
   "cell_type": "code",
   "execution_count": 11,
   "id": "f9d9a509",
   "metadata": {},
   "outputs": [
    {
     "data": {
      "text/plain": [
       "[]"
      ]
     },
     "execution_count": 11,
     "metadata": {},
     "output_type": "execute_result"
    }
   ],
   "source": [
    "cars"
   ]
  },
  {
   "cell_type": "code",
   "execution_count": 12,
   "id": "c88a31fc",
   "metadata": {},
   "outputs": [],
   "source": [
    "cars.append(\"audi\")"
   ]
  },
  {
   "cell_type": "code",
   "execution_count": 13,
   "id": "6fa8c65b",
   "metadata": {},
   "outputs": [
    {
     "data": {
      "text/plain": [
       "['audi']"
      ]
     },
     "execution_count": 13,
     "metadata": {},
     "output_type": "execute_result"
    }
   ],
   "source": [
    "cars"
   ]
  },
  {
   "cell_type": "code",
   "execution_count": 14,
   "id": "cb2c7ef4",
   "metadata": {},
   "outputs": [],
   "source": [
    "cars.append(\"bently\")"
   ]
  },
  {
   "cell_type": "code",
   "execution_count": 15,
   "id": "b8c64023",
   "metadata": {},
   "outputs": [
    {
     "data": {
      "text/plain": [
       "['audi', 'bently']"
      ]
     },
     "execution_count": 15,
     "metadata": {},
     "output_type": "execute_result"
    }
   ],
   "source": [
    "cars"
   ]
  },
  {
   "cell_type": "code",
   "execution_count": 16,
   "id": "c4cc4479",
   "metadata": {},
   "outputs": [],
   "source": [
    "cars.append(\"mercedes\")"
   ]
  },
  {
   "cell_type": "code",
   "execution_count": 17,
   "id": "84f205f6",
   "metadata": {},
   "outputs": [
    {
     "data": {
      "text/plain": [
       "['audi', 'bently', 'mercedes']"
      ]
     },
     "execution_count": 17,
     "metadata": {},
     "output_type": "execute_result"
    }
   ],
   "source": [
    "cars"
   ]
  },
  {
   "cell_type": "code",
   "execution_count": 32,
   "id": "1381bd0a",
   "metadata": {},
   "outputs": [],
   "source": [
    "# wap to print even numbers from 1 to 10\n",
    "even=[]\n",
    "odd=[]\n",
    "\n",
    "for i in range(1,10):\n",
    "    if i % 2 == 0:\n",
    "        even.append(i)\n",
    "    else:\n",
    "        odd.append(i)\n"
   ]
  },
  {
   "cell_type": "code",
   "execution_count": 31,
   "id": "de3d5356",
   "metadata": {},
   "outputs": [
    {
     "data": {
      "text/plain": [
       "[2, 4, 6, 8]"
      ]
     },
     "execution_count": 31,
     "metadata": {},
     "output_type": "execute_result"
    }
   ],
   "source": [
    "even\n",
    "    "
   ]
  },
  {
   "cell_type": "code",
   "execution_count": 33,
   "id": "81b363fc",
   "metadata": {},
   "outputs": [
    {
     "data": {
      "text/plain": [
       "[1, 3, 5, 7, 9]"
      ]
     },
     "execution_count": 33,
     "metadata": {},
     "output_type": "execute_result"
    }
   ],
   "source": [
    "odd"
   ]
  },
  {
   "cell_type": "code",
   "execution_count": 34,
   "id": "3f26b2aa",
   "metadata": {},
   "outputs": [],
   "source": [
    "# (iii)     .extend( )\n",
    "# you can append elements frm "
   ]
  },
  {
   "cell_type": "code",
   "execution_count": 36,
   "id": "bdd5b9d4",
   "metadata": {},
   "outputs": [],
   "source": [
    "a = [55,66,3]\n",
    "b = [5,2,1]\n",
    "a + b\n",
    "a.extend(b)"
   ]
  },
  {
   "cell_type": "code",
   "execution_count": 37,
   "id": "7a958bb7",
   "metadata": {},
   "outputs": [
    {
     "data": {
      "text/plain": [
       "[55, 66, 3, 5, 2, 1]"
      ]
     },
     "execution_count": 37,
     "metadata": {},
     "output_type": "execute_result"
    }
   ],
   "source": [
    "a"
   ]
  },
  {
   "cell_type": "code",
   "execution_count": 38,
   "id": "49c64941",
   "metadata": {},
   "outputs": [],
   "source": [
    "b.extend(a)"
   ]
  },
  {
   "cell_type": "code",
   "execution_count": 39,
   "id": "87dc9e2a",
   "metadata": {},
   "outputs": [
    {
     "data": {
      "text/plain": [
       "[5, 2, 1, 55, 66, 3, 5, 2, 1]"
      ]
     },
     "execution_count": 39,
     "metadata": {},
     "output_type": "execute_result"
    }
   ],
   "source": [
    "b"
   ]
  },
  {
   "cell_type": "code",
   "execution_count": 40,
   "id": "5898162f",
   "metadata": {},
   "outputs": [],
   "source": [
    "a = [55,66,3]\n",
    "b = [5,2,1]\n",
    "b.extend(a)"
   ]
  },
  {
   "cell_type": "code",
   "execution_count": 41,
   "id": "9ec94c0b",
   "metadata": {},
   "outputs": [
    {
     "data": {
      "text/plain": [
       "[5, 2, 1, 55, 66, 3]"
      ]
     },
     "execution_count": 41,
     "metadata": {},
     "output_type": "execute_result"
    }
   ],
   "source": [
    "b"
   ]
  },
  {
   "cell_type": "code",
   "execution_count": 42,
   "id": "92ea7d3a",
   "metadata": {},
   "outputs": [],
   "source": [
    " # (iv)  .remove()"
   ]
  },
  {
   "cell_type": "code",
   "execution_count": 43,
   "id": "e6a0ad8f",
   "metadata": {},
   "outputs": [
    {
     "name": "stdout",
     "output_type": "stream",
     "text": [
      "['audi', 'mercedes', 'nano', 'audi']\n"
     ]
    }
   ],
   "source": [
    "cars = ['audi','nano','mercedes','nano','audi']\n",
    "cars.remove('nano')           #removes only first occurences\n",
    "print(cars)"
   ]
  },
  {
   "cell_type": "code",
   "execution_count": 44,
   "id": "e6ad79d4",
   "metadata": {},
   "outputs": [],
   "source": [
    "# (v)   .pop()"
   ]
  },
  {
   "cell_type": "code",
   "execution_count": 45,
   "id": "597313fc",
   "metadata": {},
   "outputs": [
    {
     "data": {
      "text/plain": [
       "'audi'"
      ]
     },
     "execution_count": 45,
     "metadata": {},
     "output_type": "execute_result"
    }
   ],
   "source": [
    "cars = ['audi','nano','mercedes','nano','audi']\n",
    "cars.pop()"
   ]
  },
  {
   "cell_type": "code",
   "execution_count": 46,
   "id": "055c26db",
   "metadata": {},
   "outputs": [
    {
     "data": {
      "text/plain": [
       "['audi', 'nano', 'mercedes', 'nano']"
      ]
     },
     "execution_count": 46,
     "metadata": {},
     "output_type": "execute_result"
    }
   ],
   "source": [
    "cars"
   ]
  },
  {
   "cell_type": "code",
   "execution_count": 47,
   "id": "5e0ce4b8",
   "metadata": {},
   "outputs": [],
   "source": [
    "# append() and pop() together are used to PUSH and POP data from list\n",
    "#therefore list can be used as STACK DATA STRUCTURE"
   ]
  },
  {
   "cell_type": "code",
   "execution_count": 48,
   "id": "97a813dd",
   "metadata": {},
   "outputs": [
    {
     "data": {
      "text/plain": [
       "'mercedes'"
      ]
     },
     "execution_count": 48,
     "metadata": {},
     "output_type": "execute_result"
    }
   ],
   "source": [
    "cars.pop(2)"
   ]
  },
  {
   "cell_type": "code",
   "execution_count": 49,
   "id": "44c3498a",
   "metadata": {},
   "outputs": [
    {
     "data": {
      "text/plain": [
       "['audi', 'nano', 'nano']"
      ]
     },
     "execution_count": 49,
     "metadata": {},
     "output_type": "execute_result"
    }
   ],
   "source": [
    "cars"
   ]
  },
  {
   "cell_type": "code",
   "execution_count": 50,
   "id": "70ba4805",
   "metadata": {},
   "outputs": [],
   "source": [
    " #SORTING of LIST "
   ]
  },
  {
   "cell_type": "code",
   "execution_count": 51,
   "id": "415473be",
   "metadata": {},
   "outputs": [],
   "source": [
    "nums = [-2 ,-11,44,5,7,99,-8]\n",
    "nums.sort()"
   ]
  },
  {
   "cell_type": "code",
   "execution_count": 52,
   "id": "0f15f145",
   "metadata": {},
   "outputs": [
    {
     "data": {
      "text/plain": [
       "[-11, -8, -2, 5, 7, 44, 99]"
      ]
     },
     "execution_count": 52,
     "metadata": {},
     "output_type": "execute_result"
    }
   ],
   "source": [
    "nums           #by default in Asending order number come "
   ]
  },
  {
   "cell_type": "code",
   "execution_count": 53,
   "id": "441d3595",
   "metadata": {},
   "outputs": [],
   "source": [
    "nums.sort(reverse=True)      # for Desending order numbers "
   ]
  },
  {
   "cell_type": "code",
   "execution_count": 54,
   "id": "c6f3a617",
   "metadata": {},
   "outputs": [
    {
     "data": {
      "text/plain": [
       "[99, 44, 7, 5, -2, -8, -11]"
      ]
     },
     "execution_count": 54,
     "metadata": {},
     "output_type": "execute_result"
    }
   ],
   "source": [
    "nums"
   ]
  },
  {
   "cell_type": "code",
   "execution_count": 55,
   "id": "844d5fdf",
   "metadata": {},
   "outputs": [],
   "source": [
    "# BUILT in functions in python "
   ]
  },
  {
   "cell_type": "code",
   "execution_count": 56,
   "id": "9908b8a5",
   "metadata": {},
   "outputs": [
    {
     "data": {
      "text/plain": [
       "[-11, -8, -2, 5, 7, 44, 99]"
      ]
     },
     "execution_count": 56,
     "metadata": {},
     "output_type": "execute_result"
    }
   ],
   "source": [
    "nums = [-2 ,-11,44,5,7,99,-8]   #for as\n",
    "sorted(nums)"
   ]
  },
  {
   "cell_type": "code",
   "execution_count": 57,
   "id": "2c2b751b",
   "metadata": {},
   "outputs": [
    {
     "data": {
      "text/plain": [
       "[99, 44, 7, 5, -2, -8, -11]"
      ]
     },
     "execution_count": 57,
     "metadata": {},
     "output_type": "execute_result"
    }
   ],
   "source": [
    "nums = [-2 ,-11,44,5,7,99,-8]    # for desending order \n",
    "sorted(nums,reverse = True)"
   ]
  },
  {
   "cell_type": "code",
   "execution_count": null,
   "id": "dfa727ae",
   "metadata": {},
   "outputs": [],
   "source": []
  }
 ],
 "metadata": {
  "kernelspec": {
   "display_name": "Python 3 (ipykernel)",
   "language": "python",
   "name": "python3"
  },
  "language_info": {
   "codemirror_mode": {
    "name": "ipython",
    "version": 3
   },
   "file_extension": ".py",
   "mimetype": "text/x-python",
   "name": "python",
   "nbconvert_exporter": "python",
   "pygments_lexer": "ipython3",
   "version": "3.10.6"
  }
 },
 "nbformat": 4,
 "nbformat_minor": 5
}
