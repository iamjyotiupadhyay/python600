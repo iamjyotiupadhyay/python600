{
 "cells": [
  {
   "cell_type": "code",
   "execution_count": 1,
   "id": "d5e22c01",
   "metadata": {},
   "outputs": [],
   "source": [
    "#odd and even number"
   ]
  },
  {
   "cell_type": "code",
   "execution_count": 2,
   "id": "b51d4af1",
   "metadata": {},
   "outputs": [
    {
     "name": "stdout",
     "output_type": "stream",
     "text": [
      "enter a number3\n",
      "the number is odd\n"
     ]
    }
   ],
   "source": [
    "number = int(input(\"enter a number\"))\n",
    "rem = number % 2\n",
    "if rem == 0:\n",
    "    print(\"the number is even\")\n",
    "    \n",
    "else:\n",
    "    print(\"the number is odd\")"
   ]
  },
  {
   "cell_type": "code",
   "execution_count": 3,
   "id": "fe042628",
   "metadata": {},
   "outputs": [
    {
     "ename": "SyntaxError",
     "evalue": "expected ':' (1270736297.py, line 1)",
     "output_type": "error",
     "traceback": [
      "\u001b[0;36m  Cell \u001b[0;32mIn[3], line 1\u001b[0;36m\u001b[0m\n\u001b[0;31m    if 10==10\u001b[0m\n\u001b[0m             ^\u001b[0m\n\u001b[0;31mSyntaxError\u001b[0m\u001b[0;31m:\u001b[0m expected ':'\n"
     ]
    }
   ],
   "source": [
    "if 10==10    #indentation error\n",
    "print(\"equal\")\n"
   ]
  },
  {
   "cell_type": "code",
   "execution_count": 4,
   "id": "2d97ec21",
   "metadata": {},
   "outputs": [
    {
     "name": "stdout",
     "output_type": "stream",
     "text": [
      "equal\n"
     ]
    }
   ],
   "source": [
    "if 10 == 10:\n",
    "    print(\"equal\")\n"
   ]
  },
  {
   "cell_type": "code",
   "execution_count": 5,
   "id": "d39c3f99",
   "metadata": {},
   "outputs": [
    {
     "name": "stdout",
     "output_type": "stream",
     "text": [
      "enter a number4\n",
      "even\n"
     ]
    }
   ],
   "source": [
    "num = int(input(\"enter a number\"))\n",
    "if num%2 == 0:\n",
    "    print(\"even\")\n",
    "    \n",
    "else:\n",
    "    print(\"odd\")"
   ]
  },
  {
   "cell_type": "code",
   "execution_count": 6,
   "id": "9d9b8961",
   "metadata": {},
   "outputs": [],
   "source": [
    "#wap to to check if the given input is 10 or not .if it is 10 print the number"
   ]
  },
  {
   "cell_type": "code",
   "execution_count": 9,
   "id": "e07a0f01",
   "metadata": {},
   "outputs": [
    {
     "name": "stdout",
     "output_type": "stream",
     "text": [
      "enter a number7\n",
      "given number is not 10\n"
     ]
    }
   ],
   "source": [
    "user_input = int(input(\"enter a number\"))\n",
    "if user_input == 10:\n",
    "    print(user_input)\n",
    "    \n",
    "else:\n",
    "    print(\"given number is not 10\")"
   ]
  },
  {
   "cell_type": "code",
   "execution_count": null,
   "id": "54edf239",
   "metadata": {},
   "outputs": [],
   "source": []
  }
 ],
 "metadata": {
  "kernelspec": {
   "display_name": "Python 3 (ipykernel)",
   "language": "python",
   "name": "python3"
  },
  "language_info": {
   "codemirror_mode": {
    "name": "ipython",
    "version": 3
   },
   "file_extension": ".py",
   "mimetype": "text/x-python",
   "name": "python",
   "nbconvert_exporter": "python",
   "pygments_lexer": "ipython3",
   "version": "3.10.6"
  }
 },
 "nbformat": 4,
 "nbformat_minor": 5
}
