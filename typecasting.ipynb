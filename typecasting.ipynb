{
 "cells": [
  {
   "cell_type": "markdown",
   "id": "072ba29d",
   "metadata": {},
   "source": [
    "#  taking input  from users in python - input( ) method"
   ]
  },
  {
   "cell_type": "code",
   "execution_count": 1,
   "id": "034d583b",
   "metadata": {},
   "outputs": [
    {
     "name": "stdout",
     "output_type": "stream",
     "text": [
      "hello world!\n"
     ]
    },
    {
     "data": {
      "text/plain": [
       "'hello world!'"
      ]
     },
     "execution_count": 1,
     "metadata": {},
     "output_type": "execute_result"
    }
   ],
   "source": [
    "input()"
   ]
  },
  {
   "cell_type": "code",
   "execution_count": 2,
   "id": "496268da",
   "metadata": {},
   "outputs": [
    {
     "name": "stdout",
     "output_type": "stream",
     "text": [
      "enter a number56\n"
     ]
    }
   ],
   "source": [
    "user_input = input(\"enter a number\")"
   ]
  },
  {
   "cell_type": "code",
   "execution_count": 3,
   "id": "327defcc",
   "metadata": {},
   "outputs": [
    {
     "name": "stdout",
     "output_type": "stream",
     "text": [
      "56\n"
     ]
    }
   ],
   "source": [
    "print(user_input)"
   ]
  },
  {
   "cell_type": "code",
   "execution_count": 9,
   "id": "bf0b0a0e",
   "metadata": {},
   "outputs": [
    {
     "name": "stdout",
     "output_type": "stream",
     "text": [
      "enter a first number10\n",
      "enter a second number20\n",
      "1020\n"
     ]
    }
   ],
   "source": [
    " num1 = input(\"enter a first number\")\n",
    " num2 = input(\"enter a second number\")\n",
    " t = num1 + num2\n",
    " print(t)"
   ]
  },
  {
   "cell_type": "code",
   "execution_count": 5,
   "id": "9529013e",
   "metadata": {},
   "outputs": [
    {
     "data": {
      "text/plain": [
       "10"
      ]
     },
     "execution_count": 5,
     "metadata": {},
     "output_type": "execute_result"
    }
   ],
   "source": [
    "int(num1)"
   ]
  },
  {
   "cell_type": "code",
   "execution_count": 6,
   "id": "9758a584",
   "metadata": {},
   "outputs": [
    {
     "data": {
      "text/plain": [
       "str"
      ]
     },
     "execution_count": 6,
     "metadata": {},
     "output_type": "execute_result"
    }
   ],
   "source": [
    "type(num1)"
   ]
  },
  {
   "cell_type": "code",
   "execution_count": 7,
   "id": "32e1c848",
   "metadata": {},
   "outputs": [
    {
     "data": {
      "text/plain": [
       "str"
      ]
     },
     "execution_count": 7,
     "metadata": {},
     "output_type": "execute_result"
    }
   ],
   "source": [
    "type(num2)"
   ]
  },
  {
   "cell_type": "markdown",
   "id": "f44cafd7",
   "metadata": {},
   "source": [
    "# Typecasting in python\n",
    "    #explicit typecasting we have in python\n"
   ]
  },
  {
   "cell_type": "code",
   "execution_count": 12,
   "id": "1c2abdae",
   "metadata": {},
   "outputs": [
    {
     "data": {
      "text/plain": [
       "66"
      ]
     },
     "execution_count": 12,
     "metadata": {},
     "output_type": "execute_result"
    }
   ],
   "source": [
    "66"
   ]
  },
  {
   "cell_type": "code",
   "execution_count": 13,
   "id": "4f52d4d3",
   "metadata": {},
   "outputs": [
    {
     "data": {
      "text/plain": [
       "int"
      ]
     },
     "execution_count": 13,
     "metadata": {},
     "output_type": "execute_result"
    }
   ],
   "source": [
    "type(66)"
   ]
  },
  {
   "cell_type": "code",
   "execution_count": 14,
   "id": "91890e43",
   "metadata": {},
   "outputs": [
    {
     "data": {
      "text/plain": [
       "int"
      ]
     },
     "execution_count": 14,
     "metadata": {},
     "output_type": "execute_result"
    }
   ],
   "source": [
    "type(int(\"66\"))"
   ]
  },
  {
   "cell_type": "code",
   "execution_count": 15,
   "id": "8233bbde",
   "metadata": {},
   "outputs": [
    {
     "name": "stdout",
     "output_type": "stream",
     "text": [
      "first number20\n",
      "second number10\n",
      "30\n"
     ]
    }
   ],
   "source": [
    "num1 = int(input(\"first number\"))   #write datatype before input() method\n",
    "num2 = int(input(\"second number\"))\n",
    "t = num1 + num2\n",
    "print(t)"
   ]
  },
  {
   "cell_type": "code",
   "execution_count": 16,
   "id": "da5676b3",
   "metadata": {},
   "outputs": [
    {
     "name": "stdout",
     "output_type": "stream",
     "text": [
      "first number1\n",
      "second number2\n",
      "3.0\n"
     ]
    }
   ],
   "source": [
    "num1 = int(input(\"first number\"))\n",
    "num2 = float(input(\"second number\"))\n",
    "t = num1 + num2\n",
    "print(t)"
   ]
  },
  {
   "cell_type": "code",
   "execution_count": null,
   "id": "fb7720c2",
   "metadata": {},
   "outputs": [],
   "source": []
  }
 ],
 "metadata": {
  "kernelspec": {
   "display_name": "Python 3 (ipykernel)",
   "language": "python",
   "name": "python3"
  },
  "language_info": {
   "codemirror_mode": {
    "name": "ipython",
    "version": 3
   },
   "file_extension": ".py",
   "mimetype": "text/x-python",
   "name": "python",
   "nbconvert_exporter": "python",
   "pygments_lexer": "ipython3",
   "version": "3.10.6"
  }
 },
 "nbformat": 4,
 "nbformat_minor": 5
}
