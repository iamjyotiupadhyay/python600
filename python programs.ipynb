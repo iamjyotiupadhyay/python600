{
 "cells": [
  {
   "cell_type": "markdown",
   "id": "a7ce1c04",
   "metadata": {},
   "source": [
    "# wap to swap values between 2 variable"
   ]
  },
  {
   "cell_type": "code",
   "execution_count": 12,
   "id": "1792ad3f",
   "metadata": {},
   "outputs": [],
   "source": [
    "num1 = 2.5\n",
    "num2 = 0.36"
   ]
  },
  {
   "cell_type": "code",
   "execution_count": 13,
   "id": "1b6b7a7f",
   "metadata": {},
   "outputs": [
    {
     "name": "stdout",
     "output_type": "stream",
     "text": [
      "0.36\n",
      "2.5\n"
     ]
    }
   ],
   "source": [
    "swap = num1\n",
    "num1 = num2\n",
    "num2 = swap\n",
    "\n",
    "print(num1)\n",
    "print(num2)\n"
   ]
  },
  {
   "cell_type": "code",
   "execution_count": 7,
   "id": "f22bff84",
   "metadata": {},
   "outputs": [
    {
     "data": {
      "text/plain": [
       "0.36"
      ]
     },
     "execution_count": 7,
     "metadata": {},
     "output_type": "execute_result"
    }
   ],
   "source": [
    "num1"
   ]
  },
  {
   "cell_type": "code",
   "execution_count": 14,
   "id": "fd0f0c81",
   "metadata": {},
   "outputs": [
    {
     "data": {
      "text/plain": [
       "2.5"
      ]
     },
     "execution_count": 14,
     "metadata": {},
     "output_type": "execute_result"
    }
   ],
   "source": [
    "num2"
   ]
  },
  {
   "cell_type": "code",
   "execution_count": 15,
   "id": "76afbeb8",
   "metadata": {},
   "outputs": [],
   "source": [
    "# alternative way to swap"
   ]
  },
  {
   "cell_type": "code",
   "execution_count": 16,
   "id": "a0a0de4a",
   "metadata": {},
   "outputs": [],
   "source": [
    "num1 = 2.5\n",
    "num2 = 0.36"
   ]
  },
  {
   "cell_type": "code",
   "execution_count": 17,
   "id": "224f1fc9",
   "metadata": {},
   "outputs": [],
   "source": [
    "num1,num2 = num2 ,num1  #python method"
   ]
  },
  {
   "cell_type": "code",
   "execution_count": 18,
   "id": "37a21f26",
   "metadata": {},
   "outputs": [
    {
     "name": "stdout",
     "output_type": "stream",
     "text": [
      "0.36\n",
      "2.5\n"
     ]
    }
   ],
   "source": [
    "print(num1)\n",
    "print(num2)"
   ]
  },
  {
   "cell_type": "markdown",
   "id": "2596c010",
   "metadata": {},
   "source": [
    "# swapping"
   ]
  },
  {
   "cell_type": "code",
   "execution_count": 19,
   "id": "f9001c11",
   "metadata": {},
   "outputs": [
    {
     "name": "stdout",
     "output_type": "stream",
     "text": [
      "before swap num1 = 78,num =60\n",
      "after swap num1 =60,num2=78\n"
     ]
    }
   ],
   "source": [
    "num1 = 78\n",
    "num2 = 60\n",
    "print(\"before swap num1 = {},num ={}\".format(num1, num2))\n",
    "num1 = num1 + num2  #addition of num1 and num2 138(78+60)\n",
    "num2 = num1 - num2   #subtract 78 (138-60)\n",
    "num1 = num1 -num2 #subtract 60 (138-78)\n",
    "print(\"after swap num1 ={},num2={}\".format(num1 , num2))"
   ]
  },
  {
   "cell_type": "code",
   "execution_count": null,
   "id": "37bf8023",
   "metadata": {},
   "outputs": [],
   "source": []
  }
 ],
 "metadata": {
  "kernelspec": {
   "display_name": "Python 3 (ipykernel)",
   "language": "python",
   "name": "python3"
  },
  "language_info": {
   "codemirror_mode": {
    "name": "ipython",
    "version": 3
   },
   "file_extension": ".py",
   "mimetype": "text/x-python",
   "name": "python",
   "nbconvert_exporter": "python",
   "pygments_lexer": "ipython3",
   "version": "3.10.6"
  }
 },
 "nbformat": 4,
 "nbformat_minor": 5
}
