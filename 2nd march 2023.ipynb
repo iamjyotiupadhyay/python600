{
 "cells": [
  {
   "cell_type": "code",
   "execution_count": 1,
   "id": "0c9dd789",
   "metadata": {},
   "outputs": [],
   "source": [
    "fruits = ['apple','banana','kiwi','mango']"
   ]
  },
  {
   "cell_type": "code",
   "execution_count": 2,
   "id": "6831981b",
   "metadata": {},
   "outputs": [
    {
     "data": {
      "text/plain": [
       "'mango'"
      ]
     },
     "execution_count": 2,
     "metadata": {},
     "output_type": "execute_result"
    }
   ],
   "source": [
    "fruits[3]"
   ]
  },
  {
   "cell_type": "code",
   "execution_count": 3,
   "id": "0e03f44d",
   "metadata": {},
   "outputs": [
    {
     "data": {
      "text/plain": [
       "4"
      ]
     },
     "execution_count": 3,
     "metadata": {},
     "output_type": "execute_result"
    }
   ],
   "source": [
    "len(fruits)"
   ]
  },
  {
   "cell_type": "code",
   "execution_count": 4,
   "id": "3094ff43",
   "metadata": {},
   "outputs": [
    {
     "data": {
      "text/plain": [
       "'banana'"
      ]
     },
     "execution_count": 4,
     "metadata": {},
     "output_type": "execute_result"
    }
   ],
   "source": [
    "index = 1\n",
    "fruits[index]"
   ]
  },
  {
   "cell_type": "code",
   "execution_count": 7,
   "id": "f714b48d",
   "metadata": {},
   "outputs": [
    {
     "name": "stdout",
     "output_type": "stream",
     "text": [
      "0\n",
      "apple\n",
      "1\n",
      "banana\n",
      "2\n",
      "kiwi\n",
      "3\n",
      "mango\n"
     ]
    }
   ],
   "source": [
    "for index in range(len(fruits)): \n",
    "    print(index)\n",
    "    fruit = fruits[index]\n",
    "    print(fruit)"
   ]
  },
  {
   "cell_type": "code",
   "execution_count": 8,
   "id": "0f637446",
   "metadata": {},
   "outputs": [
    {
     "name": "stdout",
     "output_type": "stream",
     "text": [
      "apple\n",
      "banana\n",
      "kiwi\n",
      "mango\n"
     ]
    }
   ],
   "source": [
    "for item in fruits:\n",
    "    print(item)"
   ]
  },
  {
   "cell_type": "markdown",
   "id": "aa244b7f",
   "metadata": {},
   "source": [
    "# how to check if something is in the list or not ?- membership operator"
   ]
  },
  {
   "cell_type": "code",
   "execution_count": 10,
   "id": "60a9de34",
   "metadata": {},
   "outputs": [],
   "source": [
    "student = ['Shraddha','manzil','jyoti','darshan','rekha']\n",
    "\n",
    "\n",
    "\n",
    "\n"
   ]
  },
  {
   "cell_type": "code",
   "execution_count": 11,
   "id": "840f8316",
   "metadata": {},
   "outputs": [
    {
     "data": {
      "text/plain": [
       "False"
      ]
     },
     "execution_count": 11,
     "metadata": {},
     "output_type": "execute_result"
    }
   ],
   "source": [
    "'kshitiz' in student"
   ]
  },
  {
   "cell_type": "code",
   "execution_count": 12,
   "id": "d5939f36",
   "metadata": {},
   "outputs": [
    {
     "data": {
      "text/plain": [
       "False"
      ]
     },
     "execution_count": 12,
     "metadata": {},
     "output_type": "execute_result"
    }
   ],
   "source": [
    "'ram' in student"
   ]
  },
  {
   "cell_type": "code",
   "execution_count": 13,
   "id": "64719f81",
   "metadata": {},
   "outputs": [
    {
     "data": {
      "text/plain": [
       "True"
      ]
     },
     "execution_count": 13,
     "metadata": {},
     "output_type": "execute_result"
    }
   ],
   "source": [
    "'ram' not in student"
   ]
  },
  {
   "cell_type": "code",
   "execution_count": 14,
   "id": "59914e11",
   "metadata": {},
   "outputs": [
    {
     "data": {
      "text/plain": [
       "False"
      ]
     },
     "execution_count": 14,
     "metadata": {},
     "output_type": "execute_result"
    }
   ],
   "source": [
    "'manzil' not in student"
   ]
  },
  {
   "cell_type": "markdown",
   "id": "49fa8d01",
   "metadata": {},
   "source": [
    "# Python list are mutable"
   ]
  },
  {
   "cell_type": "code",
   "execution_count": 15,
   "id": "9716e6f9",
   "metadata": {},
   "outputs": [],
   "source": [
    "fruits = ['apple','banana','mango','orange','pear']"
   ]
  },
  {
   "cell_type": "code",
   "execution_count": 16,
   "id": "7b991602",
   "metadata": {},
   "outputs": [
    {
     "data": {
      "text/plain": [
       "'banana'"
      ]
     },
     "execution_count": 16,
     "metadata": {},
     "output_type": "execute_result"
    }
   ],
   "source": [
    "fruits[1]"
   ]
  },
  {
   "cell_type": "code",
   "execution_count": 17,
   "id": "596373f5",
   "metadata": {},
   "outputs": [],
   "source": [
    "fruits[1]='papaya'"
   ]
  },
  {
   "cell_type": "code",
   "execution_count": 18,
   "id": "a15d09b7",
   "metadata": {},
   "outputs": [
    {
     "data": {
      "text/plain": [
       "['apple', 'papaya', 'mango', 'orange', 'pear']"
      ]
     },
     "execution_count": 18,
     "metadata": {},
     "output_type": "execute_result"
    }
   ],
   "source": [
    "fruits"
   ]
  },
  {
   "cell_type": "code",
   "execution_count": 19,
   "id": "6944d48a",
   "metadata": {},
   "outputs": [
    {
     "data": {
      "text/plain": [
       "4470842048"
      ]
     },
     "execution_count": 19,
     "metadata": {},
     "output_type": "execute_result"
    }
   ],
   "source": [
    "id(fruits)"
   ]
  },
  {
   "cell_type": "code",
   "execution_count": 20,
   "id": "3d32f519",
   "metadata": {},
   "outputs": [],
   "source": [
    "fruits[1:3]= ['black current','guava']"
   ]
  },
  {
   "cell_type": "code",
   "execution_count": 21,
   "id": "6ee2c154",
   "metadata": {},
   "outputs": [
    {
     "data": {
      "text/plain": [
       "['apple', 'black current', 'guava', 'orange', 'pear']"
      ]
     },
     "execution_count": 21,
     "metadata": {},
     "output_type": "execute_result"
    }
   ],
   "source": [
    "fruits"
   ]
  },
  {
   "cell_type": "code",
   "execution_count": 27,
   "id": "df00bcda",
   "metadata": {},
   "outputs": [
    {
     "data": {
      "text/plain": [
       "['hello', 'orange']"
      ]
     },
     "execution_count": 27,
     "metadata": {},
     "output_type": "execute_result"
    }
   ],
   "source": [
    "fruits[0:5:3]"
   ]
  },
  {
   "cell_type": "code",
   "execution_count": 23,
   "id": "97ed210f",
   "metadata": {},
   "outputs": [],
   "source": [
    "fruits[0:4:2] = ['hello','world']"
   ]
  },
  {
   "cell_type": "code",
   "execution_count": 24,
   "id": "69c7fb4f",
   "metadata": {},
   "outputs": [
    {
     "data": {
      "text/plain": [
       "['hello', 'black current', 'world', 'orange', 'pear']"
      ]
     },
     "execution_count": 24,
     "metadata": {},
     "output_type": "execute_result"
    }
   ],
   "source": [
    "fruits"
   ]
  },
  {
   "cell_type": "code",
   "execution_count": 28,
   "id": "caf227e0",
   "metadata": {},
   "outputs": [
    {
     "data": {
      "text/plain": [
       "['hello', 'black current', 'world', 'orange', 'pear']"
      ]
     },
     "execution_count": 28,
     "metadata": {},
     "output_type": "execute_result"
    }
   ],
   "source": [
    "fruits"
   ]
  },
  {
   "cell_type": "code",
   "execution_count": null,
   "id": "e1f47a2b",
   "metadata": {},
   "outputs": [],
   "source": [
    "  #list methods .insert()"
   ]
  },
  {
   "cell_type": "code",
   "execution_count": 2,
   "id": "b7d691a6",
   "metadata": {},
   "outputs": [],
   "source": [
    "fruits1 = ['apple','black current','guava','orange','kiwi','mango']"
   ]
  },
  {
   "cell_type": "code",
   "execution_count": 3,
   "id": "73f1d260",
   "metadata": {},
   "outputs": [],
   "source": [
    "fruits1.insert(1,'dragon fruit')"
   ]
  },
  {
   "cell_type": "code",
   "execution_count": 4,
   "id": "03d57b8a",
   "metadata": {},
   "outputs": [
    {
     "data": {
      "text/plain": [
       "['apple', 'dragon fruit', 'black current', 'guava', 'orange', 'kiwi', 'mango']"
      ]
     },
     "execution_count": 4,
     "metadata": {},
     "output_type": "execute_result"
    }
   ],
   "source": [
    "fruits1"
   ]
  },
  {
   "cell_type": "code",
   "execution_count": 5,
   "id": "6f8ce9ff",
   "metadata": {},
   "outputs": [],
   "source": [
    "#list methods : (ii) .append()"
   ]
  },
  {
   "cell_type": "code",
   "execution_count": 7,
   "id": "7a6c33ff",
   "metadata": {},
   "outputs": [],
   "source": [
    "#empty list\n",
    "cars = []"
   ]
  },
  {
   "cell_type": "code",
   "execution_count": 8,
   "id": "5338dc6f",
   "metadata": {},
   "outputs": [
    {
     "data": {
      "text/plain": [
       "list"
      ]
     },
     "execution_count": 8,
     "metadata": {},
     "output_type": "execute_result"
    }
   ],
   "source": [
    "type(cars)"
   ]
  },
  {
   "cell_type": "code",
   "execution_count": 9,
   "id": "477cec19",
   "metadata": {},
   "outputs": [],
   "source": [
    "#other way to create empty list\n",
    "\n",
    "cars = list()    #using list constructor"
   ]
  },
  {
   "cell_type": "code",
   "execution_count": 10,
   "id": "2d4c17f9",
   "metadata": {},
   "outputs": [
    {
     "data": {
      "text/plain": [
       "list"
      ]
     },
     "execution_count": 10,
     "metadata": {},
     "output_type": "execute_result"
    }
   ],
   "source": [
    "type(cars)"
   ]
  },
  {
   "cell_type": "code",
   "execution_count": 11,
   "id": "8ae460da",
   "metadata": {},
   "outputs": [
    {
     "data": {
      "text/plain": [
       "[]"
      ]
     },
     "execution_count": 11,
     "metadata": {},
     "output_type": "execute_result"
    }
   ],
   "source": [
    "cars"
   ]
  },
  {
   "cell_type": "code",
   "execution_count": 12,
   "id": "9ffb0852",
   "metadata": {},
   "outputs": [],
   "source": [
    "cars.append(\"audi\")"
   ]
  },
  {
   "cell_type": "code",
   "execution_count": 13,
   "id": "f6cfaf6b",
   "metadata": {},
   "outputs": [
    {
     "data": {
      "text/plain": [
       "['audi']"
      ]
     },
     "execution_count": 13,
     "metadata": {},
     "output_type": "execute_result"
    }
   ],
   "source": [
    "cars"
   ]
  },
  {
   "cell_type": "code",
   "execution_count": 14,
   "id": "c0e91820",
   "metadata": {},
   "outputs": [],
   "source": [
    "cars.append(\"bently\")"
   ]
  },
  {
   "cell_type": "code",
   "execution_count": 15,
   "id": "e71755cb",
   "metadata": {},
   "outputs": [
    {
     "data": {
      "text/plain": [
       "['audi', 'bently']"
      ]
     },
     "execution_count": 15,
     "metadata": {},
     "output_type": "execute_result"
    }
   ],
   "source": [
    "cars"
   ]
  },
  {
   "cell_type": "code",
   "execution_count": 16,
   "id": "4cb3b4b8",
   "metadata": {},
   "outputs": [],
   "source": [
    "cars.append(\"mercedes\")"
   ]
  },
  {
   "cell_type": "code",
   "execution_count": 17,
   "id": "cf5f52cc",
   "metadata": {},
   "outputs": [
    {
     "data": {
      "text/plain": [
       "['audi', 'bently', 'mercedes']"
      ]
     },
     "execution_count": 17,
     "metadata": {},
     "output_type": "execute_result"
    }
   ],
   "source": [
    "cars"
   ]
  },
  {
   "cell_type": "code",
   "execution_count": 32,
   "id": "07c839cf",
   "metadata": {},
   "outputs": [],
   "source": [
    "# wap to print even numbers from 1 to 10\n",
    "even=[]\n",
    "odd=[]\n",
    "\n",
    "for i in range(1,10):\n",
    "    if i % 2 == 0:\n",
    "        even.append(i)\n",
    "    else:\n",
    "        odd.append(i)\n"
   ]
  },
  {
   "cell_type": "code",
   "execution_count": 31,
   "id": "87cd62fd",
   "metadata": {},
   "outputs": [
    {
     "data": {
      "text/plain": [
       "[2, 4, 6, 8]"
      ]
     },
     "execution_count": 31,
     "metadata": {},
     "output_type": "execute_result"
    }
   ],
   "source": [
    "even\n",
    "    "
   ]
  },
  {
   "cell_type": "code",
   "execution_count": 33,
   "id": "2c6d1c15",
   "metadata": {},
   "outputs": [
    {
     "data": {
      "text/plain": [
       "[1, 3, 5, 7, 9]"
      ]
     },
     "execution_count": 33,
     "metadata": {},
     "output_type": "execute_result"
    }
   ],
   "source": [
    "odd"
   ]
  },
  {
   "cell_type": "code",
   "execution_count": 34,
   "id": "c15a975f",
   "metadata": {},
   "outputs": [],
   "source": [
    "# (iii)     .extend( )\n",
    "# you can append elements frm "
   ]
  },
  {
   "cell_type": "code",
   "execution_count": 36,
   "id": "10a486f0",
   "metadata": {},
   "outputs": [],
   "source": [
    "a = [55,66,3]\n",
    "b = [5,2,1]\n",
    "a + b\n",
    "a.extend(b)"
   ]
  },
  {
   "cell_type": "code",
   "execution_count": 37,
   "id": "98c6f543",
   "metadata": {},
   "outputs": [
    {
     "data": {
      "text/plain": [
       "[55, 66, 3, 5, 2, 1]"
      ]
     },
     "execution_count": 37,
     "metadata": {},
     "output_type": "execute_result"
    }
   ],
   "source": [
    "a"
   ]
  },
  {
   "cell_type": "code",
   "execution_count": 38,
   "id": "867d2b95",
   "metadata": {},
   "outputs": [],
   "source": [
    "b.extend(a)"
   ]
  },
  {
   "cell_type": "code",
   "execution_count": 39,
   "id": "2cf0a1c2",
   "metadata": {},
   "outputs": [
    {
     "data": {
      "text/plain": [
       "[5, 2, 1, 55, 66, 3, 5, 2, 1]"
      ]
     },
     "execution_count": 39,
     "metadata": {},
     "output_type": "execute_result"
    }
   ],
   "source": [
    "b"
   ]
  },
  {
   "cell_type": "code",
   "execution_count": 40,
   "id": "ecbd2073",
   "metadata": {},
   "outputs": [],
   "source": [
    "a = [55,66,3]\n",
    "b = [5,2,1]\n",
    "b.extend(a)"
   ]
  },
  {
   "cell_type": "code",
   "execution_count": 41,
   "id": "30481eed",
   "metadata": {},
   "outputs": [
    {
     "data": {
      "text/plain": [
       "[5, 2, 1, 55, 66, 3]"
      ]
     },
     "execution_count": 41,
     "metadata": {},
     "output_type": "execute_result"
    }
   ],
   "source": [
    "b"
   ]
  },
  {
   "cell_type": "code",
   "execution_count": 42,
   "id": "03010ec5",
   "metadata": {},
   "outputs": [],
   "source": [
    " # (iv)  .remove()"
   ]
  },
  {
   "cell_type": "code",
   "execution_count": 43,
   "id": "522b04d8",
   "metadata": {},
   "outputs": [
    {
     "name": "stdout",
     "output_type": "stream",
     "text": [
      "['audi', 'mercedes', 'nano', 'audi']\n"
     ]
    }
   ],
   "source": [
    "cars = ['audi','nano','mercedes','nano','audi']\n",
    "cars.remove('nano')           #removes only first occurences\n",
    "print(cars)"
   ]
  },
  {
   "cell_type": "code",
   "execution_count": 44,
   "id": "193afce4",
   "metadata": {},
   "outputs": [],
   "source": [
    "# (v)   .pop()"
   ]
  },
  {
   "cell_type": "code",
   "execution_count": 45,
   "id": "88780bd2",
   "metadata": {},
   "outputs": [
    {
     "data": {
      "text/plain": [
       "'audi'"
      ]
     },
     "execution_count": 45,
     "metadata": {},
     "output_type": "execute_result"
    }
   ],
   "source": [
    "cars = ['audi','nano','mercedes','nano','audi']\n",
    "cars.pop()"
   ]
  },
  {
   "cell_type": "code",
   "execution_count": 46,
   "id": "dbf79161",
   "metadata": {},
   "outputs": [
    {
     "data": {
      "text/plain": [
       "['audi', 'nano', 'mercedes', 'nano']"
      ]
     },
     "execution_count": 46,
     "metadata": {},
     "output_type": "execute_result"
    }
   ],
   "source": [
    "cars"
   ]
  },
  {
   "cell_type": "code",
   "execution_count": 47,
   "id": "681f3994",
   "metadata": {},
   "outputs": [],
   "source": [
    "# append() and pop() together are used to PUSH and POP data from list\n",
    "#therefore list can be used as STACK DATA STRUCTURE"
   ]
  },
  {
   "cell_type": "code",
   "execution_count": 48,
   "id": "b368e699",
   "metadata": {},
   "outputs": [
    {
     "data": {
      "text/plain": [
       "'mercedes'"
      ]
     },
     "execution_count": 48,
     "metadata": {},
     "output_type": "execute_result"
    }
   ],
   "source": [
    "cars.pop(2)"
   ]
  },
  {
   "cell_type": "code",
   "execution_count": 49,
   "id": "d3452435",
   "metadata": {},
   "outputs": [
    {
     "data": {
      "text/plain": [
       "['audi', 'nano', 'nano']"
      ]
     },
     "execution_count": 49,
     "metadata": {},
     "output_type": "execute_result"
    }
   ],
   "source": [
    "cars"
   ]
  },
  {
   "cell_type": "code",
   "execution_count": 50,
   "id": "45615b20",
   "metadata": {},
   "outputs": [],
   "source": [
    " #SORTING of LIST "
   ]
  },
  {
   "cell_type": "code",
   "execution_count": 51,
   "id": "78b40376",
   "metadata": {},
   "outputs": [],
   "source": [
    "nums = [-2 ,-11,44,5,7,99,-8]\n",
    "nums.sort()"
   ]
  },
  {
   "cell_type": "code",
   "execution_count": 52,
   "id": "77587e5b",
   "metadata": {},
   "outputs": [
    {
     "data": {
      "text/plain": [
       "[-11, -8, -2, 5, 7, 44, 99]"
      ]
     },
     "execution_count": 52,
     "metadata": {},
     "output_type": "execute_result"
    }
   ],
   "source": [
    "nums           #by default in Asending order number come "
   ]
  },
  {
   "cell_type": "code",
   "execution_count": 53,
   "id": "4aea0c5f",
   "metadata": {},
   "outputs": [],
   "source": [
    "nums.sort(reverse=True)      # for Desending order numbers "
   ]
  },
  {
   "cell_type": "code",
   "execution_count": 54,
   "id": "6ff612b3",
   "metadata": {},
   "outputs": [
    {
     "data": {
      "text/plain": [
       "[99, 44, 7, 5, -2, -8, -11]"
      ]
     },
     "execution_count": 54,
     "metadata": {},
     "output_type": "execute_result"
    }
   ],
   "source": [
    "nums"
   ]
  },
  {
   "cell_type": "code",
   "execution_count": 55,
   "id": "fa54bee5",
   "metadata": {},
   "outputs": [],
   "source": [
    "# BUILT in functions in python "
   ]
  },
  {
   "cell_type": "code",
   "execution_count": 56,
   "id": "d10932a4",
   "metadata": {},
   "outputs": [
    {
     "data": {
      "text/plain": [
       "[-11, -8, -2, 5, 7, 44, 99]"
      ]
     },
     "execution_count": 56,
     "metadata": {},
     "output_type": "execute_result"
    }
   ],
   "source": [
    "nums = [-2 ,-11,44,5,7,99,-8]   #for ascending order \n",
    "sorted(nums)"
   ]
  },
  {
   "cell_type": "code",
   "execution_count": 57,
   "id": "68e288ac",
   "metadata": {},
   "outputs": [
    {
     "data": {
      "text/plain": [
       "[99, 44, 7, 5, -2, -8, -11]"
      ]
     },
     "execution_count": 57,
     "metadata": {},
     "output_type": "execute_result"
    }
   ],
   "source": [
    "nums = [-2 ,-11,44,5,7,99,-8]    # for desending order \n",
    "sorted(nums,reverse = True)"
   ]
  },
  {
   "cell_type": "code",
   "execution_count": null,
   "id": "e9288017",
   "metadata": {},
   "outputs": [],
   "source": []
  }
 ],
 "metadata": {
  "kernelspec": {
   "display_name": "Python 3 (ipykernel)",
   "language": "python",
   "name": "python3"
  },
  "language_info": {
   "codemirror_mode": {
    "name": "ipython",
    "version": 3
   },
   "file_extension": ".py",
   "mimetype": "text/x-python",
   "name": "python",
   "nbconvert_exporter": "python",
   "pygments_lexer": "ipython3",
   "version": "3.10.6"
  }
 },
 "nbformat": 4,
 "nbformat_minor": 5
}
