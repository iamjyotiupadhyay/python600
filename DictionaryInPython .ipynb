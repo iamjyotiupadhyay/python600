{
 "cells": [
  {
   "cell_type": "code",
   "execution_count": 1,
   "id": "315ecb99",
   "metadata": {},
   "outputs": [],
   "source": [
    "#Create a dictionary with key as country_name and value as its capital"
   ]
  },
  {
   "cell_type": "code",
   "execution_count": 3,
   "id": "b545b626",
   "metadata": {},
   "outputs": [],
   "source": [
    "country ={\"Nepal\": \"ktm\",\n",
    "         \"India\": \"new delhi\",\n",
    "         \"China\":\"bejing\",\n",
    "         \"Bangladesh\":\"dhaka\"\n",
    "         }"
   ]
  },
  {
   "cell_type": "code",
   "execution_count": 4,
   "id": "1612e0d3",
   "metadata": {},
   "outputs": [
    {
     "data": {
      "text/plain": [
       "{'Nepal': 'ktm',\n",
       " 'India': 'new delhi',\n",
       " 'China': 'bejing',\n",
       " 'Bangladesh': 'dhaka'}"
      ]
     },
     "execution_count": 4,
     "metadata": {},
     "output_type": "execute_result"
    }
   ],
   "source": [
    "country"
   ]
  },
  {
   "cell_type": "code",
   "execution_count": 6,
   "id": "e50979e7",
   "metadata": {},
   "outputs": [],
   "source": [
    "country.update({\"Bhutan\":\"thimpu\"}) "
   ]
  },
  {
   "cell_type": "code",
   "execution_count": 7,
   "id": "0bd5bbeb",
   "metadata": {},
   "outputs": [
    {
     "data": {
      "text/plain": [
       "{'Nepal': 'ktm',\n",
       " 'India': 'new delhi',\n",
       " 'China': 'bejing',\n",
       " 'Bangladesh': 'dhaka',\n",
       " 'Bhutan': 'thimpu'}"
      ]
     },
     "execution_count": 7,
     "metadata": {},
     "output_type": "execute_result"
    }
   ],
   "source": [
    "country"
   ]
  },
  {
   "cell_type": "code",
   "execution_count": 9,
   "id": "f2ec7b06",
   "metadata": {},
   "outputs": [],
   "source": [
    "country.update({\"Pakistan\":\"islamabad\"})"
   ]
  },
  {
   "cell_type": "code",
   "execution_count": 10,
   "id": "d0c7aacc",
   "metadata": {},
   "outputs": [
    {
     "data": {
      "text/plain": [
       "{'Nepal': 'ktm',\n",
       " 'India': 'new delhi',\n",
       " 'China': 'bejing',\n",
       " 'Bangladesh': 'dhaka',\n",
       " 'Bhutan': 'thimpu',\n",
       " 'Pakistan': 'islamabad'}"
      ]
     },
     "execution_count": 10,
     "metadata": {},
     "output_type": "execute_result"
    }
   ],
   "source": [
    "country"
   ]
  },
  {
   "cell_type": "code",
   "execution_count": 13,
   "id": "eb692c11",
   "metadata": {},
   "outputs": [],
   "source": [
    "country[\"Srilanka\"]=\"sri Jayawardenepura\""
   ]
  },
  {
   "cell_type": "code",
   "execution_count": 14,
   "id": "5afc0484",
   "metadata": {},
   "outputs": [
    {
     "data": {
      "text/plain": [
       "{'Nepal': 'ktm',\n",
       " 'India': 'new delhi',\n",
       " 'China': 'bejing',\n",
       " 'Bangladesh': 'dhaka',\n",
       " 'Bhutan': 'thimpu',\n",
       " 'Pakistan': 'Islamabad',\n",
       " 'Srilanka': 'sri Jayawardenepura'}"
      ]
     },
     "execution_count": 14,
     "metadata": {},
     "output_type": "execute_result"
    }
   ],
   "source": [
    "country"
   ]
  },
  {
   "cell_type": "code",
   "execution_count": 15,
   "id": "10813c21",
   "metadata": {},
   "outputs": [],
   "source": [
    "#what are valid keys?"
   ]
  },
  {
   "cell_type": "code",
   "execution_count": 16,
   "id": "631f66ef",
   "metadata": {},
   "outputs": [],
   "source": [
    "num = {\n",
    "    1: \"one\",\n",
    "    2:\"two\",\n",
    "    3:\"three\"\n",
    "}"
   ]
  },
  {
   "cell_type": "code",
   "execution_count": 17,
   "id": "c80e018b",
   "metadata": {},
   "outputs": [
    {
     "data": {
      "text/plain": [
       "{1: 'one', 2: 'two', 3: 'three'}"
      ]
     },
     "execution_count": 17,
     "metadata": {},
     "output_type": "execute_result"
    }
   ],
   "source": [
    "num    #integer values can be keys"
   ]
  },
  {
   "cell_type": "code",
   "execution_count": 18,
   "id": "ea1223cc",
   "metadata": {},
   "outputs": [
    {
     "data": {
      "text/plain": [
       "{1.2: 'one dot two'}"
      ]
     },
     "execution_count": 18,
     "metadata": {},
     "output_type": "execute_result"
    }
   ],
   "source": [
    "{1.2: \"one dot two\"}          #FLOAT values can be keys"
   ]
  },
  {
   "cell_type": "code",
   "execution_count": 19,
   "id": "2383a2ab",
   "metadata": {},
   "outputs": [
    {
     "ename": "TypeError",
     "evalue": "unhashable type: 'list'",
     "output_type": "error",
     "traceback": [
      "\u001b[0;31m---------------------------------------------------------------------------\u001b[0m",
      "\u001b[0;31mTypeError\u001b[0m                                 Traceback (most recent call last)",
      "Cell \u001b[0;32mIn[19], line 1\u001b[0m\n\u001b[0;32m----> 1\u001b[0m {\n\u001b[1;32m      2\u001b[0m     [\u001b[38;5;124m\"\u001b[39m\u001b[38;5;124mone\u001b[39m\u001b[38;5;124m\"\u001b[39m,\u001b[38;5;124m\"\u001b[39m\u001b[38;5;124mtwo\u001b[39m\u001b[38;5;124m\"\u001b[39m]:\u001b[38;5;241m12\u001b[39m    \u001b[38;5;66;03m#LISt and Tuple cannot be keys\u001b[39;00m\n\u001b[1;32m      3\u001b[0m     \n\u001b[1;32m      4\u001b[0m }\n",
      "\u001b[0;31mTypeError\u001b[0m: unhashable type: 'list'"
     ]
    }
   ],
   "source": [
    "{\n",
    "    [\"one\",\"two\"]:12    #LISt and Tuple cannot be keys\n",
    "    \n",
    "}"
   ]
  },
  {
   "cell_type": "code",
   "execution_count": null,
   "id": "b70ce132",
   "metadata": {},
   "outputs": [],
   "source": [
    "#Accessing Values of a key"
   ]
  },
  {
   "cell_type": "code",
   "execution_count": 20,
   "id": "f3318bae",
   "metadata": {},
   "outputs": [
    {
     "data": {
      "text/plain": [
       "{'Nepal': 'ktm',\n",
       " 'India': 'new delhi',\n",
       " 'China': 'bejing',\n",
       " 'Bangladesh': 'dhaka',\n",
       " 'Bhutan': 'thimpu',\n",
       " 'Pakistan': 'Islamabad',\n",
       " 'Srilanka': 'sri Jayawardenepura'}"
      ]
     },
     "execution_count": 20,
     "metadata": {},
     "output_type": "execute_result"
    }
   ],
   "source": [
    "country"
   ]
  },
  {
   "cell_type": "code",
   "execution_count": 21,
   "id": "fe88e733",
   "metadata": {},
   "outputs": [
    {
     "data": {
      "text/plain": [
       "'ktm'"
      ]
     },
     "execution_count": 21,
     "metadata": {},
     "output_type": "execute_result"
    }
   ],
   "source": [
    "country[\"Nepal\"]"
   ]
  },
  {
   "cell_type": "code",
   "execution_count": 25,
   "id": "627dfef4",
   "metadata": {},
   "outputs": [
    {
     "data": {
      "text/plain": [
       "'new delhi'"
      ]
     },
     "execution_count": 25,
     "metadata": {},
     "output_type": "execute_result"
    }
   ],
   "source": [
    "country.get(\"India\")"
   ]
  },
  {
   "cell_type": "code",
   "execution_count": 27,
   "id": "dcebd694",
   "metadata": {},
   "outputs": [
    {
     "data": {
      "text/plain": [
       "'sri Jayawardenepura'"
      ]
     },
     "execution_count": 27,
     "metadata": {},
     "output_type": "execute_result"
    }
   ],
   "source": [
    "country.get(\"Srilanka\")"
   ]
  },
  {
   "cell_type": "code",
   "execution_count": 28,
   "id": "2380505d",
   "metadata": {},
   "outputs": [
    {
     "data": {
      "text/plain": [
       "'sri Jayawardenepura'"
      ]
     },
     "execution_count": 28,
     "metadata": {},
     "output_type": "execute_result"
    }
   ],
   "source": [
    "country[\"Srilanka\"]"
   ]
  },
  {
   "cell_type": "code",
   "execution_count": null,
   "id": "0b1ff437",
   "metadata": {},
   "outputs": [],
   "source": []
  }
 ],
 "metadata": {
  "kernelspec": {
   "display_name": "Python 3 (ipykernel)",
   "language": "python",
   "name": "python3"
  },
  "language_info": {
   "codemirror_mode": {
    "name": "ipython",
    "version": 3
   },
   "file_extension": ".py",
   "mimetype": "text/x-python",
   "name": "python",
   "nbconvert_exporter": "python",
   "pygments_lexer": "ipython3",
   "version": "3.10.6"
  }
 },
 "nbformat": 4,
 "nbformat_minor": 5
}
