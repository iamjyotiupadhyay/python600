{
 "cells": [
  {
   "cell_type": "code",
   "execution_count": 1,
   "id": "419a98a0",
   "metadata": {},
   "outputs": [],
   "source": [
    "msg =\"Good Morning\""
   ]
  },
  {
   "cell_type": "code",
   "execution_count": 6,
   "id": "b7260f99",
   "metadata": {},
   "outputs": [
    {
     "data": {
      "text/plain": [
       "[0, 1, 2, 3, 4, 5, 6, 7, 8, 9, 10, 11]"
      ]
     },
     "execution_count": 6,
     "metadata": {},
     "output_type": "execute_result"
    }
   ],
   "source": [
    "list(range(len(msg)))   #typecaste in list"
   ]
  },
  {
   "cell_type": "code",
   "execution_count": 5,
   "id": "fc06dcdf",
   "metadata": {},
   "outputs": [
    {
     "name": "stdout",
     "output_type": "stream",
     "text": [
      "0\n",
      "The index is 0 and the letter is G\n",
      "1\n",
      "The index is 1 and the letter is o\n",
      "2\n",
      "The index is 2 and the letter is o\n",
      "3\n",
      "The index is 3 and the letter is d\n",
      "4\n",
      "The index is 4 and the letter is  \n",
      "5\n",
      "The index is 5 and the letter is M\n",
      "6\n",
      "The index is 6 and the letter is o\n",
      "7\n",
      "The index is 7 and the letter is r\n",
      "8\n",
      "The index is 8 and the letter is n\n",
      "9\n",
      "The index is 9 and the letter is i\n",
      "10\n",
      "The index is 10 and the letter is n\n",
      "11\n",
      "The index is 11 and the letter is g\n"
     ]
    }
   ],
   "source": [
    "for index in range(len(msg)):\n",
    "    print(index)\n",
    "    letter = msg[index]\n",
    "    print(f\"The index is {index} and the letter is {letter}\")"
   ]
  },
  {
   "cell_type": "code",
   "execution_count": 9,
   "id": "7bfce26a",
   "metadata": {},
   "outputs": [
    {
     "data": {
      "text/plain": [
       "[0, 1, 2, 3, 4, 5, 6, 7, 8, 9, 10, 11, 12, 13, 14, 15, 16, 17, 18, 19, 20, 21]"
      ]
     },
     "execution_count": 9,
     "metadata": {},
     "output_type": "execute_result"
    }
   ],
   "source": [
    "list(range(len(msg)))   # typecaste"
   ]
  },
  {
   "cell_type": "code",
   "execution_count": 8,
   "id": "6116e3e4",
   "metadata": {},
   "outputs": [
    {
     "name": "stdout",
     "output_type": "stream",
     "text": [
      "0\n",
      "The index is 0 and the letter is G\n",
      "1\n",
      "The index is 1 and the letter is o\n",
      "2\n",
      "The index is 2 and the letter is o\n",
      "3\n",
      "The index is 3 and the letter is d\n",
      "4\n",
      "The index is 4 and the letter is  \n",
      "5\n",
      "The index is 5 and the letter is M\n",
      "6\n",
      "The index is 6 and the letter is o\n",
      "7\n",
      "The index is 7 and the letter is r\n",
      "8\n",
      "The index is 8 and the letter is n\n",
      "9\n",
      "The index is 9 and the letter is i\n",
      "10\n",
      "The index is 10 and the letter is n\n",
      "11\n",
      "The index is 11 and the letter is g\n",
      "12\n",
      "The index is 12 and the letter is  \n",
      "13\n",
      "The index is 13 and the letter is e\n",
      "14\n",
      "The index is 14 and the letter is v\n",
      "15\n",
      "The index is 15 and the letter is e\n",
      "16\n",
      "The index is 16 and the letter is r\n",
      "17\n",
      "The index is 17 and the letter is y\n",
      "18\n",
      "The index is 18 and the letter is o\n",
      "19\n",
      "The index is 19 and the letter is n\n",
      "20\n",
      "The index is 20 and the letter is e\n",
      "21\n",
      "The index is 21 and the letter is !\n"
     ]
    }
   ],
   "source": [
    "msg = \"Good Morning everyone!\"\n",
    "for index in range(len(msg)):\n",
    "    print(index)\n",
    "    \n",
    "    letter = msg[index]\n",
    "    print(f\"The index is {index} and the letter is {letter}\")\n"
   ]
  },
  {
   "cell_type": "code",
   "execution_count": 10,
   "id": "45489495",
   "metadata": {},
   "outputs": [
    {
     "data": {
      "text/plain": [
       "'!'"
      ]
     },
     "execution_count": 10,
     "metadata": {},
     "output_type": "execute_result"
    }
   ],
   "source": [
    "msg[21]"
   ]
  },
  {
   "cell_type": "code",
   "execution_count": 27,
   "id": "d8f3ec17",
   "metadata": {},
   "outputs": [
    {
     "name": "stdout",
     "output_type": "stream",
     "text": [
      " index = 10 and  letter = d\n",
      " index = 9 and  letter = l\n",
      " index = 8 and  letter = r\n",
      " index = 7 and  letter = o\n",
      " index = 6 and  letter = w\n",
      " index = 5 and  letter =  \n",
      " index = 4 and  letter = o\n",
      " index = 3 and  letter = l\n",
      " index = 2 and  letter = l\n",
      " index = 1 and  letter = e\n",
      " index = 0 and  letter = H\n"
     ]
    }
   ],
   "source": [
    "s = \"Hello world\"\n",
    "for index in range(len(s)-1, -1, -1):   #String length for index in range(start,end,step)\n",
    "    letter = s[index]\n",
    "    print(f\" index = {index} and  letter = {letter}\")"
   ]
  },
  {
   "cell_type": "markdown",
   "id": "c023fd28",
   "metadata": {},
   "source": [
    "# WAP to print vowels and constant "
   ]
  },
  {
   "cell_type": "code",
   "execution_count": 39,
   "id": "24a8b586",
   "metadata": {},
   "outputs": [
    {
     "name": "stdout",
     "output_type": "stream",
     "text": [
      " index = 6 and  letter = e\n"
     ]
    }
   ],
   "source": [
    "#Self Practice \n",
    "\n",
    "s = \"computer\"\n",
    "for index in range(len(s)):\n",
    "    letter = s[index]\n",
    "    if letter == 'e':\n",
    "        print(f\" index = {index} and  letter = {letter}\")\n",
    "        "
   ]
  },
  {
   "cell_type": "code",
   "execution_count": 32,
   "id": "fc529990",
   "metadata": {},
   "outputs": [
    {
     "name": "stdout",
     "output_type": "stream",
     "text": [
      "the letter a is vowel\n",
      "the letter e is vowel\n",
      "the letter y is constant\n",
      "the letter i is vowel\n"
     ]
    }
   ],
   "source": [
    " # Class work : to print vowel and consonANT\n",
    "s = \"aeyi\"\n",
    "for index in range(len(s)):\n",
    "    letter = s[index]\n",
    "    if letter == 'a'or letter=='e'or letter=='i'or letter=='o'or letter=='u':\n",
    "        print(f\"the letter {letter} is vowel\")\n",
    "        \n",
    "    else:    \n",
    "        print(f\"the letter {letter} is constant\")\n"
   ]
  },
  {
   "cell_type": "code",
   "execution_count": 34,
   "id": "cdd3185b",
   "metadata": {},
   "outputs": [],
   "source": [
    "# BREAK vs CONTINUE statement"
   ]
  },
  {
   "cell_type": "code",
   "execution_count": 41,
   "id": "88b7986b",
   "metadata": {},
   "outputs": [
    {
     "name": "stdout",
     "output_type": "stream",
     "text": [
      "the letter a is vowel\n",
      "the letter b is consonant\n",
      "the letter c is consonant\n",
      "the letter d is consonant\n",
      "the letter e is vowel\n",
      "the letter f is consonant\n",
      "the letter g is consonant\n",
      "the letter h is consonant\n",
      "the letter i is vowel\n"
     ]
    }
   ],
   "source": [
    "text ='abc def ghi'\n",
    "for index in range(len(text)):\n",
    "    letter = text[index]\n",
    "    if letter =='a'or letter=='e'or letter =='i' or letter =='o'or letter=='u':\n",
    "        print(f\"the letter {letter} is vowel\")\n",
    "    elif letter == \" \":\n",
    "        continue\n",
    "    \n",
    "    else:\n",
    "              print(f\"the letter {letter} is consonant\")"
   ]
  },
  {
   "cell_type": "code",
   "execution_count": 48,
   "id": "ede5a08b",
   "metadata": {},
   "outputs": [
    {
     "name": "stdout",
     "output_type": "stream",
     "text": [
      "1\n",
      "2\n",
      "4\n"
     ]
    }
   ],
   "source": [
    "# CONTINUE\n",
    "\n",
    "for num in range(1,5):\n",
    "    if num == 3:\n",
    "        continue   # skip one time loop if condition is true 'CONTINUE'\n",
    "        \n",
    "    print(num)    "
   ]
  },
  {
   "cell_type": "code",
   "execution_count": 50,
   "id": "49474bd8",
   "metadata": {},
   "outputs": [
    {
     "name": "stdout",
     "output_type": "stream",
     "text": [
      "1\n",
      "2\n"
     ]
    }
   ],
   "source": [
    " #BREAK\n",
    "    \n",
    "for num in range(1,5):\n",
    "    if num == 3:\n",
    "        break   # terminates the loop if condition is true 'BREAK'\n",
    "        \n",
    "    print(num)    "
   ]
  },
  {
   "cell_type": "code",
   "execution_count": null,
   "id": "a8e8cd20",
   "metadata": {},
   "outputs": [],
   "source": []
  }
 ],
 "metadata": {
  "kernelspec": {
   "display_name": "Python 3 (ipykernel)",
   "language": "python",
   "name": "python3"
  },
  "language_info": {
   "codemirror_mode": {
    "name": "ipython",
    "version": 3
   },
   "file_extension": ".py",
   "mimetype": "text/x-python",
   "name": "python",
   "nbconvert_exporter": "python",
   "pygments_lexer": "ipython3",
   "version": "3.10.6"
  }
 },
 "nbformat": 4,
 "nbformat_minor": 5
}
