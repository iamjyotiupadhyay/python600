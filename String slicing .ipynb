{
 "cells": [
  {
   "cell_type": "code",
   "execution_count": 4,
   "id": "66390d26",
   "metadata": {},
   "outputs": [],
   "source": [
    "msg1 = 'hi'\n",
    "msg2 = \"hi\"\n",
    "\n",
    "assert msg1 == msg2"
   ]
  },
  {
   "cell_type": "markdown",
   "id": "2aa8aefb",
   "metadata": {},
   "source": [
    "# single line and multi line string in python"
   ]
  },
  {
   "cell_type": "code",
   "execution_count": 5,
   "id": "5cf5be07",
   "metadata": {},
   "outputs": [],
   "source": [
    "msg ='hi , you free today?'   #single line string"
   ]
  },
  {
   "cell_type": "code",
   "execution_count": 10,
   "id": "c9603920",
   "metadata": {},
   "outputs": [
    {
     "name": "stdout",
     "output_type": "stream",
     "text": [
      "computer is an \n",
      "electronic machine.There are\n",
      "3 types of \n",
      "languages in computer :\n",
      "LLL,\n",
      "HLL,\n",
      "MLL\n"
     ]
    }
   ],
   "source": [
    "paragraph =\"\"\"computer is an \n",
    "electronic machine.There are\n",
    "3 types of \n",
    "languages in computer :\n",
    "LLL,\n",
    "HLL,\n",
    "MLL\"\"\"\n",
    "\n",
    "print(paragraph)"
   ]
  },
  {
   "cell_type": "code",
   "execution_count": 11,
   "id": "a53da321",
   "metadata": {},
   "outputs": [
    {
     "data": {
      "text/plain": [
       "'computer is an \\nelectronic machine.There are\\n3 types of \\nlanguages in computer :\\nLLL,\\nHLL,\\nMLL'"
      ]
     },
     "execution_count": 11,
     "metadata": {},
     "output_type": "execute_result"
    }
   ],
   "source": [
    "paragraph"
   ]
  },
  {
   "cell_type": "markdown",
   "id": "cdd284c3",
   "metadata": {},
   "source": [
    "# indexing and slicing"
   ]
  },
  {
   "cell_type": "code",
   "execution_count": 12,
   "id": "3ddfe9ff",
   "metadata": {},
   "outputs": [
    {
     "data": {
      "text/plain": [
       "'e'"
      ]
     },
     "execution_count": 12,
     "metadata": {},
     "output_type": "execute_result"
    }
   ],
   "source": [
    "msg =\"hello world\"\n",
    "msg[1]"
   ]
  },
  {
   "cell_type": "code",
   "execution_count": 13,
   "id": "3cfcb5fa",
   "metadata": {},
   "outputs": [
    {
     "data": {
      "text/plain": [
       "'h'"
      ]
     },
     "execution_count": 13,
     "metadata": {},
     "output_type": "execute_result"
    }
   ],
   "source": [
    "msg[0]   #indexing always start from 'zero'"
   ]
  },
  {
   "cell_type": "code",
   "execution_count": 14,
   "id": "0419fe99",
   "metadata": {},
   "outputs": [
    {
     "data": {
      "text/plain": [
       "11"
      ]
     },
     "execution_count": 14,
     "metadata": {},
     "output_type": "execute_result"
    }
   ],
   "source": [
    "len(msg)"
   ]
  },
  {
   "cell_type": "code",
   "execution_count": 15,
   "id": "3432816a",
   "metadata": {},
   "outputs": [
    {
     "data": {
      "text/plain": [
       "'o'"
      ]
     },
     "execution_count": 15,
     "metadata": {},
     "output_type": "execute_result"
    }
   ],
   "source": [
    "msg[7]"
   ]
  },
  {
   "cell_type": "code",
   "execution_count": 16,
   "id": "b7ef8921",
   "metadata": {},
   "outputs": [
    {
     "data": {
      "text/plain": [
       "'r'"
      ]
     },
     "execution_count": 16,
     "metadata": {},
     "output_type": "execute_result"
    }
   ],
   "source": [
    "msg[8]"
   ]
  },
  {
   "cell_type": "markdown",
   "id": "cd11c9f8",
   "metadata": {},
   "source": [
    "# slicing"
   ]
  },
  {
   "cell_type": "code",
   "execution_count": 18,
   "id": "dd87de19",
   "metadata": {},
   "outputs": [],
   "source": [
    "msg = \"hello world\""
   ]
  },
  {
   "cell_type": "code",
   "execution_count": 19,
   "id": "23d48065",
   "metadata": {},
   "outputs": [
    {
     "data": {
      "text/plain": [
       "'hello'"
      ]
     },
     "execution_count": 19,
     "metadata": {},
     "output_type": "execute_result"
    }
   ],
   "source": [
    "msg[0:5]"
   ]
  },
  {
   "cell_type": "code",
   "execution_count": 25,
   "id": "8e535a57",
   "metadata": {},
   "outputs": [
    {
     "data": {
      "text/plain": [
       "' world'"
      ]
     },
     "execution_count": 25,
     "metadata": {},
     "output_type": "execute_result"
    }
   ],
   "source": [
    "msg[5:11]"
   ]
  },
  {
   "cell_type": "code",
   "execution_count": 26,
   "id": "02c5f455",
   "metadata": {},
   "outputs": [
    {
     "data": {
      "text/plain": [
       "'lo wo'"
      ]
     },
     "execution_count": 26,
     "metadata": {},
     "output_type": "execute_result"
    }
   ],
   "source": [
    "msg[3:8]"
   ]
  },
  {
   "cell_type": "code",
   "execution_count": 27,
   "id": "58c5d06c",
   "metadata": {},
   "outputs": [
    {
     "data": {
      "text/plain": [
       "'hello'"
      ]
     },
     "execution_count": 27,
     "metadata": {},
     "output_type": "execute_result"
    }
   ],
   "source": [
    "msg[:5]"
   ]
  },
  {
   "cell_type": "code",
   "execution_count": 28,
   "id": "4c1e4f8e",
   "metadata": {},
   "outputs": [
    {
     "data": {
      "text/plain": [
       "'world'"
      ]
     },
     "execution_count": 28,
     "metadata": {},
     "output_type": "execute_result"
    }
   ],
   "source": [
    "msg[6:]"
   ]
  },
  {
   "cell_type": "code",
   "execution_count": 29,
   "id": "6875378e",
   "metadata": {},
   "outputs": [
    {
     "data": {
      "text/plain": [
       "'hello'"
      ]
     },
     "execution_count": 29,
     "metadata": {},
     "output_type": "execute_result"
    }
   ],
   "source": [
    "msg[0:5]"
   ]
  },
  {
   "cell_type": "code",
   "execution_count": 33,
   "id": "32aa84dd",
   "metadata": {},
   "outputs": [
    {
     "data": {
      "text/plain": [
       "'hlow'"
      ]
     },
     "execution_count": 33,
     "metadata": {},
     "output_type": "execute_result"
    }
   ],
   "source": [
    "msg [0:8:2]"
   ]
  },
  {
   "cell_type": "code",
   "execution_count": 2,
   "id": "9e8c676e",
   "metadata": {},
   "outputs": [
    {
     "name": "stdout",
     "output_type": "stream",
     "text": [
      "python is\n"
     ]
    }
   ],
   "source": [
    "str1 = \"python is awesome\"\n",
    "slice1 = slice(0,9)\n",
    "print(str1[slice1])"
   ]
  },
  {
   "cell_type": "code",
   "execution_count": 3,
   "id": "e6ec2db9",
   "metadata": {},
   "outputs": [
    {
     "name": "stdout",
     "output_type": "stream",
     "text": [
      "pytho\n"
     ]
    }
   ],
   "source": [
    "slice1 = slice(0,5)\n",
    "print(str1[slice1])   #output is pytho\n"
   ]
  },
  {
   "cell_type": "code",
   "execution_count": 7,
   "id": "e9b2b1c5",
   "metadata": {},
   "outputs": [
    {
     "name": "stdout",
     "output_type": "stream",
     "text": [
      " is\n"
     ]
    }
   ],
   "source": [
    "slice1 = slice(6,9)\n",
    "print(str1[slice1])"
   ]
  },
  {
   "cell_type": "code",
   "execution_count": 8,
   "id": "07ad719a",
   "metadata": {},
   "outputs": [
    {
     "name": "stdout",
     "output_type": "stream",
     "text": [
      "awesom\n"
     ]
    }
   ],
   "source": [
    "slice1 = slice(-7,-1)   #negative indexing\n",
    "print(str1[slice1])"
   ]
  },
  {
   "cell_type": "code",
   "execution_count": 12,
   "id": "020d21c3",
   "metadata": {},
   "outputs": [
    {
     "name": "stdout",
     "output_type": "stream",
     "text": [
      "weso\n"
     ]
    }
   ],
   "source": [
    "slice1 = slice(-6,-2)   \n",
    "print(str1[slice1])"
   ]
  },
  {
   "cell_type": "code",
   "execution_count": 13,
   "id": "41a673f9",
   "metadata": {},
   "outputs": [
    {
     "name": "stdout",
     "output_type": "stream",
     "text": [
      "e\n"
     ]
    }
   ],
   "source": [
    "num = \"pyhton is awesome\"\n",
    "print(num[-1])"
   ]
  },
  {
   "cell_type": "code",
   "execution_count": 15,
   "id": "074dcbb4",
   "metadata": {},
   "outputs": [
    {
     "name": "stdout",
     "output_type": "stream",
     "text": [
      " awesom\n"
     ]
    }
   ],
   "source": [
    "print(num[-8:-1])"
   ]
  },
  {
   "cell_type": "code",
   "execution_count": 16,
   "id": "4883a931",
   "metadata": {},
   "outputs": [
    {
     "name": "stdout",
     "output_type": "stream",
     "text": [
      " is\n"
     ]
    }
   ],
   "source": [
    "print(num[-11:-8])"
   ]
  },
  {
   "cell_type": "code",
   "execution_count": 18,
   "id": "9068cfc9",
   "metadata": {},
   "outputs": [
    {
     "name": "stdout",
     "output_type": "stream",
     "text": [
      "pyhton\n"
     ]
    }
   ],
   "source": [
    "print(num[-17:-11])"
   ]
  },
  {
   "cell_type": "markdown",
   "id": "de9b3c97",
   "metadata": {},
   "source": [
    "# enumerate( ) use in slicing"
   ]
  },
  {
   "cell_type": "code",
   "execution_count": 21,
   "id": "d4e9dae3",
   "metadata": {},
   "outputs": [
    {
     "name": "stdout",
     "output_type": "stream",
     "text": [
      "python3\n",
      "(0, 'p')\n",
      "python3\n",
      "(1, 'y')\n",
      "python3\n",
      "(2, 't')\n",
      "python3\n",
      "(3, 'h')\n",
      "python3\n",
      "(4, 'o')\n",
      "python3\n",
      "(5, 'n')\n",
      "python3\n",
      "(6, '3')\n"
     ]
    }
   ],
   "source": [
    "num = \"python3\"\n",
    "for char in enumerate(num):\n",
    "    print(num)\n",
    "    print(char)\n"
   ]
  },
  {
   "cell_type": "code",
   "execution_count": null,
   "id": "484ef540",
   "metadata": {},
   "outputs": [],
   "source": []
  }
 ],
 "metadata": {
  "kernelspec": {
   "display_name": "Python 3 (ipykernel)",
   "language": "python",
   "name": "python3"
  },
  "language_info": {
   "codemirror_mode": {
    "name": "ipython",
    "version": 3
   },
   "file_extension": ".py",
   "mimetype": "text/x-python",
   "name": "python",
   "nbconvert_exporter": "python",
   "pygments_lexer": "ipython3",
   "version": "3.10.6"
  }
 },
 "nbformat": 4,
 "nbformat_minor": 5
}
