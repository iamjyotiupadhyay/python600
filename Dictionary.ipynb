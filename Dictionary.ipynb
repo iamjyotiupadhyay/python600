{
 "cells": [
  {
   "cell_type": "markdown",
   "id": "77d4bc6c",
   "metadata": {},
   "source": [
    "## Dictionary\n",
    "* mapping datatype\n",
    "* syntax\n",
    "``` python\n",
    "       {\n",
    "           key: value\n",
    "       } \n",
    "```\n",
    "* key cannot be duplicate but value can be."
   ]
  },
  {
   "cell_type": "markdown",
   "id": "365f1dcc",
   "metadata": {},
   "source": [
    "## Creating empty dictionary"
   ]
  },
  {
   "cell_type": "code",
   "execution_count": 1,
   "id": "16ce8af1",
   "metadata": {},
   "outputs": [],
   "source": [
    "about = {}"
   ]
  },
  {
   "cell_type": "code",
   "execution_count": 3,
   "id": "8df87ad6",
   "metadata": {},
   "outputs": [
    {
     "data": {
      "text/plain": [
       "dict"
      ]
     },
     "execution_count": 3,
     "metadata": {},
     "output_type": "execute_result"
    }
   ],
   "source": [
    "type(about)   #bhitra item bhayo bhane matra set else dictionary"
   ]
  },
  {
   "cell_type": "code",
   "execution_count": 4,
   "id": "1000e850",
   "metadata": {},
   "outputs": [],
   "source": [
    "#alternative way\n",
    "about = dict()  #this method is applicable for all the data types"
   ]
  },
  {
   "cell_type": "code",
   "execution_count": 5,
   "id": "cf1c741b",
   "metadata": {},
   "outputs": [
    {
     "data": {
      "text/plain": [
       "dict"
      ]
     },
     "execution_count": 5,
     "metadata": {},
     "output_type": "execute_result"
    }
   ],
   "source": [
    "type(about)"
   ]
  },
  {
   "cell_type": "markdown",
   "id": "772c9c94",
   "metadata": {},
   "source": [
    "## Adding key value pairs in the dictionary"
   ]
  },
  {
   "cell_type": "code",
   "execution_count": 6,
   "id": "4192015f",
   "metadata": {},
   "outputs": [],
   "source": [
    "about = {}"
   ]
  },
  {
   "cell_type": "code",
   "execution_count": 8,
   "id": "18a23b1b",
   "metadata": {},
   "outputs": [
    {
     "name": "stdout",
     "output_type": "stream",
     "text": [
      "{'name': 'Shraddha'}\n"
     ]
    }
   ],
   "source": [
    "# first way of adding key value pair\n",
    "about['name'] = 'Shraddha'\n",
    "print(about)   #name: key, value: Shraddha"
   ]
  },
  {
   "cell_type": "code",
   "execution_count": 9,
   "id": "61b1e88f",
   "metadata": {},
   "outputs": [],
   "source": [
    "# second way of adding key value pair\n",
    "about.update({'works_at': \"Broadway Infosys\"})"
   ]
  },
  {
   "cell_type": "code",
   "execution_count": 10,
   "id": "d62c463f",
   "metadata": {},
   "outputs": [
    {
     "name": "stdout",
     "output_type": "stream",
     "text": [
      "{'name': 'Shraddha', 'works_at': 'Broadway Infosys'}\n"
     ]
    }
   ],
   "source": [
    "print(about)"
   ]
  },
  {
   "cell_type": "code",
   "execution_count": 11,
   "id": "580084bc",
   "metadata": {},
   "outputs": [],
   "source": [
    "about['teaches'] = [\"python\", \"Data Science\", \"Machine Learning\", \"AI\", \"Deep Learning\"]"
   ]
  },
  {
   "cell_type": "code",
   "execution_count": 13,
   "id": "b740d98a",
   "metadata": {},
   "outputs": [
    {
     "name": "stdout",
     "output_type": "stream",
     "text": [
      "{'name': 'Shraddha', 'works_at': 'Broadway Infosys', 'teaches': ['python', 'Data Science', 'Machine Learning', 'AI', 'Deep Learning']}\n"
     ]
    }
   ],
   "source": [
    "print(about)"
   ]
  },
  {
   "cell_type": "code",
   "execution_count": 14,
   "id": "a3e2c128",
   "metadata": {},
   "outputs": [],
   "source": [
    "about[\"age\"] = 25"
   ]
  },
  {
   "cell_type": "code",
   "execution_count": 15,
   "id": "8dd4355d",
   "metadata": {},
   "outputs": [
    {
     "data": {
      "text/plain": [
       "{'name': 'Shraddha',\n",
       " 'works_at': 'Broadway Infosys',\n",
       " 'teaches': ['python',\n",
       "  'Data Science',\n",
       "  'Machine Learning',\n",
       "  'AI',\n",
       "  'Deep Learning'],\n",
       " 'age': 25}"
      ]
     },
     "execution_count": 15,
     "metadata": {},
     "output_type": "execute_result"
    }
   ],
   "source": [
    "about"
   ]
  },
  {
   "cell_type": "markdown",
   "id": "099a8cc1",
   "metadata": {},
   "source": [
    "## .update() method adds key value pair if key doesnot exist. If the key exists, it updates the value"
   ]
  },
  {
   "cell_type": "code",
   "execution_count": 16,
   "id": "6c8eb855",
   "metadata": {},
   "outputs": [],
   "source": [
    "about.update({\"name\": \"Shraddha Shrestha\"})"
   ]
  },
  {
   "cell_type": "code",
   "execution_count": 17,
   "id": "f6e430fd",
   "metadata": {},
   "outputs": [
    {
     "data": {
      "text/plain": [
       "{'name': 'Shraddha Shrestha',\n",
       " 'works_at': 'Broadway Infosys',\n",
       " 'teaches': ['python',\n",
       "  'Data Science',\n",
       "  'Machine Learning',\n",
       "  'AI',\n",
       "  'Deep Learning'],\n",
       " 'age': 25}"
      ]
     },
     "execution_count": 17,
     "metadata": {},
     "output_type": "execute_result"
    }
   ],
   "source": [
    "about"
   ]
  },
  {
   "cell_type": "markdown",
   "id": "3f52a2dd",
   "metadata": {},
   "source": [
    "## Create a dictionary with key as country_name and value as its capital"
   ]
  },
  {
   "cell_type": "code",
   "execution_count": 40,
   "id": "2d06229f",
   "metadata": {},
   "outputs": [],
   "source": [
    "country = {\n",
    "    \"Nepal\": \"Kathmandu\",\n",
    "    \"India\": \"New Delhi\",\n",
    "    \"Bangladesh\": \"Dhaka\",\n",
    "    \"China\": \"Bejing\"\n",
    "}"
   ]
  },
  {
   "cell_type": "code",
   "execution_count": 41,
   "id": "d794e73d",
   "metadata": {},
   "outputs": [
    {
     "data": {
      "text/plain": [
       "{'Nepal': 'Kathmandu',\n",
       " 'India': 'New Delhi',\n",
       " 'Bangladesh': 'Dhaka',\n",
       " 'China': 'Bejing'}"
      ]
     },
     "execution_count": 41,
     "metadata": {},
     "output_type": "execute_result"
    }
   ],
   "source": [
    "country"
   ]
  },
  {
   "cell_type": "code",
   "execution_count": 42,
   "id": "efdd7199",
   "metadata": {},
   "outputs": [],
   "source": [
    "country.update({\"Bhutan\": \"Thimpu\"})"
   ]
  },
  {
   "cell_type": "code",
   "execution_count": 43,
   "id": "63118efe",
   "metadata": {},
   "outputs": [
    {
     "data": {
      "text/plain": [
       "{'Nepal': 'Kathmandu',\n",
       " 'India': 'New Delhi',\n",
       " 'Bangladesh': 'Dhaka',\n",
       " 'China': 'Bejing',\n",
       " 'Bhutan': 'Thimpu'}"
      ]
     },
     "execution_count": 43,
     "metadata": {},
     "output_type": "execute_result"
    }
   ],
   "source": [
    "country"
   ]
  },
  {
   "cell_type": "code",
   "execution_count": 44,
   "id": "0b51b657",
   "metadata": {},
   "outputs": [],
   "source": [
    "country[\"Pakistan\"] = \"Islamabad\""
   ]
  },
  {
   "cell_type": "code",
   "execution_count": 45,
   "id": "19ef957b",
   "metadata": {},
   "outputs": [
    {
     "data": {
      "text/plain": [
       "{'Nepal': 'Kathmandu',\n",
       " 'India': 'New Delhi',\n",
       " 'Bangladesh': 'Dhaka',\n",
       " 'China': 'Bejing',\n",
       " 'Bhutan': 'Thimpu',\n",
       " 'Pakistan': 'Islamabad'}"
      ]
     },
     "execution_count": 45,
     "metadata": {},
     "output_type": "execute_result"
    }
   ],
   "source": [
    "country"
   ]
  },
  {
   "cell_type": "markdown",
   "id": "fd3b44cc",
   "metadata": {},
   "source": [
    "### What are valid keys?"
   ]
  },
  {
   "cell_type": "code",
   "execution_count": 46,
   "id": "a7d45c20",
   "metadata": {},
   "outputs": [],
   "source": [
    "num = {\n",
    "    1: \"One\",\n",
    "    2: \"Two\",\n",
    "    3: \"Three\"\n",
    "}"
   ]
  },
  {
   "cell_type": "code",
   "execution_count": 47,
   "id": "873dd668",
   "metadata": {},
   "outputs": [
    {
     "data": {
      "text/plain": [
       "{1: 'One', 2: 'Two', 3: 'Three'}"
      ]
     },
     "execution_count": 47,
     "metadata": {},
     "output_type": "execute_result"
    }
   ],
   "source": [
    "num  #int values can be keys"
   ]
  },
  {
   "cell_type": "code",
   "execution_count": 48,
   "id": "0a4e8e0c",
   "metadata": {},
   "outputs": [
    {
     "data": {
      "text/plain": [
       "{1.2: 'one dot two'}"
      ]
     },
     "execution_count": 48,
     "metadata": {},
     "output_type": "execute_result"
    }
   ],
   "source": [
    "{1.2: \"one dot two\"} #float values can be keys"
   ]
  },
  {
   "cell_type": "code",
   "execution_count": 49,
   "id": "4a3d0d32",
   "metadata": {},
   "outputs": [
    {
     "data": {
      "text/plain": [
       "{1: 'One', 2: 'Two', 3: 'Three'}"
      ]
     },
     "execution_count": 49,
     "metadata": {},
     "output_type": "execute_result"
    }
   ],
   "source": [
    "num"
   ]
  },
  {
   "cell_type": "code",
   "execution_count": 50,
   "id": "07825a43",
   "metadata": {},
   "outputs": [
    {
     "ename": "TypeError",
     "evalue": "unhashable type: 'list'",
     "output_type": "error",
     "traceback": [
      "\u001b[1;31m---------------------------------------------------------------------------\u001b[0m",
      "\u001b[1;31mTypeError\u001b[0m                                 Traceback (most recent call last)",
      "Cell \u001b[1;32mIn[50], line 1\u001b[0m\n\u001b[1;32m----> 1\u001b[0m {\n\u001b[0;32m      2\u001b[0m     [\u001b[38;5;124m\"\u001b[39m\u001b[38;5;124mone\u001b[39m\u001b[38;5;124m\"\u001b[39m, \u001b[38;5;124m\"\u001b[39m\u001b[38;5;124mtwo\u001b[39m\u001b[38;5;124m\"\u001b[39m]: \u001b[38;5;241m12\u001b[39m \u001b[38;5;66;03m#list and tuple cannot be keys\u001b[39;00m\n\u001b[0;32m      3\u001b[0m }\n",
      "\u001b[1;31mTypeError\u001b[0m: unhashable type: 'list'"
     ]
    }
   ],
   "source": [
    "{\n",
    "    [\"one\", \"two\"]: 12 #list and tuple cannot be keys\n",
    "}"
   ]
  },
  {
   "cell_type": "markdown",
   "id": "ef941fba",
   "metadata": {},
   "source": [
    "### Accessing values of a key"
   ]
  },
  {
   "cell_type": "markdown",
   "id": "494f447f",
   "metadata": {},
   "source": []
  },
  {
   "cell_type": "code",
   "execution_count": 51,
   "id": "068c3e15",
   "metadata": {},
   "outputs": [
    {
     "data": {
      "text/plain": [
       "{'Nepal': 'Kathmandu',\n",
       " 'India': 'New Delhi',\n",
       " 'Bangladesh': 'Dhaka',\n",
       " 'China': 'Bejing',\n",
       " 'Bhutan': 'Thimpu',\n",
       " 'Pakistan': 'Islamabad'}"
      ]
     },
     "execution_count": 51,
     "metadata": {},
     "output_type": "execute_result"
    }
   ],
   "source": [
    "country"
   ]
  },
  {
   "cell_type": "code",
   "execution_count": 52,
   "id": "087e89df",
   "metadata": {},
   "outputs": [
    {
     "data": {
      "text/plain": [
       "'Kathmandu'"
      ]
     },
     "execution_count": 52,
     "metadata": {},
     "output_type": "execute_result"
    }
   ],
   "source": [
    "country[\"Nepal\"]"
   ]
  },
  {
   "cell_type": "code",
   "execution_count": 54,
   "id": "159a648d",
   "metadata": {},
   "outputs": [
    {
     "data": {
      "text/plain": [
       "'New Delhi'"
      ]
     },
     "execution_count": 54,
     "metadata": {},
     "output_type": "execute_result"
    }
   ],
   "source": [
    "country.get(\"India\")"
   ]
  },
  {
   "cell_type": "markdown",
   "id": "f86c9ef9",
   "metadata": {},
   "source": [
    "### What are the keys and values?"
   ]
  },
  {
   "cell_type": "code",
   "execution_count": 55,
   "id": "c6ef65cb",
   "metadata": {},
   "outputs": [
    {
     "data": {
      "text/plain": [
       "{'Nepal': 'Kathmandu',\n",
       " 'India': 'New Delhi',\n",
       " 'Bangladesh': 'Dhaka',\n",
       " 'China': 'Bejing',\n",
       " 'Bhutan': 'Thimpu',\n",
       " 'Pakistan': 'Islamabad'}"
      ]
     },
     "execution_count": 55,
     "metadata": {},
     "output_type": "execute_result"
    }
   ],
   "source": [
    "country"
   ]
  },
  {
   "cell_type": "code",
   "execution_count": 58,
   "id": "8a0e289f",
   "metadata": {},
   "outputs": [
    {
     "data": {
      "text/plain": [
       "dict_keys(['Nepal', 'India', 'Bangladesh', 'China', 'Bhutan', 'Pakistan'])"
      ]
     },
     "execution_count": 58,
     "metadata": {},
     "output_type": "execute_result"
    }
   ],
   "source": [
    "country.keys()"
   ]
  },
  {
   "cell_type": "code",
   "execution_count": 59,
   "id": "ba19a901",
   "metadata": {},
   "outputs": [
    {
     "data": {
      "text/plain": [
       "['Nepal', 'India', 'Bangladesh', 'China', 'Bhutan', 'Pakistan']"
      ]
     },
     "execution_count": 59,
     "metadata": {},
     "output_type": "execute_result"
    }
   ],
   "source": [
    "#type casting in list\n",
    "list(country.keys())"
   ]
  },
  {
   "cell_type": "code",
   "execution_count": 57,
   "id": "5006a650",
   "metadata": {},
   "outputs": [
    {
     "data": {
      "text/plain": [
       "dict_values(['Kathmandu', 'New Delhi', 'Dhaka', 'Bejing', 'Thimpu', 'Islamabad'])"
      ]
     },
     "execution_count": 57,
     "metadata": {},
     "output_type": "execute_result"
    }
   ],
   "source": [
    "country.values()"
   ]
  },
  {
   "cell_type": "code",
   "execution_count": 61,
   "id": "7b1f5e86",
   "metadata": {},
   "outputs": [
    {
     "data": {
      "text/plain": [
       "['Kathmandu', 'New Delhi', 'Dhaka', 'Bejing', 'Thimpu', 'Islamabad']"
      ]
     },
     "execution_count": 61,
     "metadata": {},
     "output_type": "execute_result"
    }
   ],
   "source": [
    "#typecasting in list\n",
    "list(country.values())"
   ]
  },
  {
   "cell_type": "code",
   "execution_count": 62,
   "id": "a62205c2",
   "metadata": {},
   "outputs": [
    {
     "data": {
      "text/plain": [
       "{'Nepal': 'Kathmandu',\n",
       " 'India': 'New Delhi',\n",
       " 'Bangladesh': 'Dhaka',\n",
       " 'China': 'Bejing',\n",
       " 'Bhutan': 'Thimpu',\n",
       " 'Pakistan': 'Islamabad'}"
      ]
     },
     "execution_count": 62,
     "metadata": {},
     "output_type": "execute_result"
    }
   ],
   "source": [
    "country"
   ]
  },
  {
   "cell_type": "code",
   "execution_count": 63,
   "id": "39f192b2",
   "metadata": {},
   "outputs": [
    {
     "data": {
      "text/plain": [
       "dict_items([('Nepal', 'Kathmandu'), ('India', 'New Delhi'), ('Bangladesh', 'Dhaka'), ('China', 'Bejing'), ('Bhutan', 'Thimpu'), ('Pakistan', 'Islamabad')])"
      ]
     },
     "execution_count": 63,
     "metadata": {},
     "output_type": "execute_result"
    }
   ],
   "source": [
    "country.items()"
   ]
  },
  {
   "cell_type": "markdown",
   "id": "ca95b928",
   "metadata": {},
   "source": [
    "# Tuple Unpacking"
   ]
  },
  {
   "cell_type": "code",
   "execution_count": 65,
   "id": "4587b949",
   "metadata": {},
   "outputs": [],
   "source": [
    "a, b = (3,4)"
   ]
  },
  {
   "cell_type": "code",
   "execution_count": 66,
   "id": "c37b00f2",
   "metadata": {},
   "outputs": [
    {
     "name": "stdout",
     "output_type": "stream",
     "text": [
      "3\n"
     ]
    }
   ],
   "source": [
    "print(a)"
   ]
  },
  {
   "cell_type": "code",
   "execution_count": 67,
   "id": "466563ee",
   "metadata": {},
   "outputs": [
    {
     "name": "stdout",
     "output_type": "stream",
     "text": [
      "4\n"
     ]
    }
   ],
   "source": [
    "print(b)"
   ]
  },
  {
   "cell_type": "markdown",
   "id": "bd61e39a",
   "metadata": {},
   "source": [
    "## Looping in dictionary"
   ]
  },
  {
   "cell_type": "code",
   "execution_count": 68,
   "id": "29abca71",
   "metadata": {},
   "outputs": [
    {
     "data": {
      "text/plain": [
       "{'Nepal': 'Kathmandu',\n",
       " 'India': 'New Delhi',\n",
       " 'Bangladesh': 'Dhaka',\n",
       " 'China': 'Bejing',\n",
       " 'Bhutan': 'Thimpu',\n",
       " 'Pakistan': 'Islamabad'}"
      ]
     },
     "execution_count": 68,
     "metadata": {},
     "output_type": "execute_result"
    }
   ],
   "source": [
    "country"
   ]
  },
  {
   "cell_type": "code",
   "execution_count": 69,
   "id": "c7981def",
   "metadata": {},
   "outputs": [
    {
     "data": {
      "text/plain": [
       "dict_items([('Nepal', 'Kathmandu'), ('India', 'New Delhi'), ('Bangladesh', 'Dhaka'), ('China', 'Bejing'), ('Bhutan', 'Thimpu'), ('Pakistan', 'Islamabad')])"
      ]
     },
     "execution_count": 69,
     "metadata": {},
     "output_type": "execute_result"
    }
   ],
   "source": [
    "country.items()"
   ]
  },
  {
   "cell_type": "code",
   "execution_count": 71,
   "id": "b3fefc5c",
   "metadata": {},
   "outputs": [
    {
     "name": "stdout",
     "output_type": "stream",
     "text": [
      "Nepal\n",
      "India\n",
      "Bangladesh\n",
      "China\n",
      "Bhutan\n",
      "Pakistan\n"
     ]
    }
   ],
   "source": [
    "for key, value in country.items():\n",
    "    print(key)"
   ]
  },
  {
   "cell_type": "code",
   "execution_count": 72,
   "id": "dca49b7f",
   "metadata": {},
   "outputs": [
    {
     "name": "stdout",
     "output_type": "stream",
     "text": [
      "Kathmandu\n",
      "New Delhi\n",
      "Dhaka\n",
      "Bejing\n",
      "Thimpu\n",
      "Islamabad\n"
     ]
    }
   ],
   "source": [
    "for key, value in country.items():\n",
    "    print(value)"
   ]
  },
  {
   "cell_type": "code",
   "execution_count": 74,
   "id": "a24d0734",
   "metadata": {},
   "outputs": [
    {
     "name": "stdout",
     "output_type": "stream",
     "text": [
      "The capital city of Nepal is Kathmandu.\n",
      "The capital city of India is New Delhi.\n",
      "The capital city of Bangladesh is Dhaka.\n",
      "The capital city of China is Bejing.\n",
      "The capital city of Bhutan is Thimpu.\n",
      "The capital city of Pakistan is Islamabad.\n"
     ]
    }
   ],
   "source": [
    "for key, value in country.items():\n",
    "    print(f\"The capital city of {key} is {value}.\")"
   ]
  },
  {
   "cell_type": "code",
   "execution_count": 75,
   "id": "b4083241",
   "metadata": {},
   "outputs": [
    {
     "name": "stdout",
     "output_type": "stream",
     "text": [
      "The capital city of China is Bejing.\n"
     ]
    }
   ],
   "source": [
    "for key, value in country.items():\n",
    "    if key == \"China\":\n",
    "        print(f\"The capital city of {key} is {value}.\")\n",
    "    "
   ]
  },
  {
   "cell_type": "markdown",
   "id": "4e02d0ce",
   "metadata": {},
   "source": [
    "## removing key and valur from dictionary\n",
    "* pop(key)"
   ]
  },
  {
   "cell_type": "code",
   "execution_count": 76,
   "id": "4e474a71",
   "metadata": {},
   "outputs": [
    {
     "data": {
      "text/plain": [
       "{'Nepal': 'Kathmandu',\n",
       " 'India': 'New Delhi',\n",
       " 'Bangladesh': 'Dhaka',\n",
       " 'China': 'Bejing',\n",
       " 'Bhutan': 'Thimpu',\n",
       " 'Pakistan': 'Islamabad'}"
      ]
     },
     "execution_count": 76,
     "metadata": {},
     "output_type": "execute_result"
    }
   ],
   "source": [
    "country"
   ]
  },
  {
   "cell_type": "code",
   "execution_count": 77,
   "id": "e8229a6e",
   "metadata": {},
   "outputs": [
    {
     "data": {
      "text/plain": [
       "'Bejing'"
      ]
     },
     "execution_count": 77,
     "metadata": {},
     "output_type": "execute_result"
    }
   ],
   "source": [
    "country.pop(\"China\")"
   ]
  },
  {
   "cell_type": "code",
   "execution_count": 78,
   "id": "3f7e5ad3",
   "metadata": {},
   "outputs": [
    {
     "data": {
      "text/plain": [
       "{'Nepal': 'Kathmandu',\n",
       " 'India': 'New Delhi',\n",
       " 'Bangladesh': 'Dhaka',\n",
       " 'Bhutan': 'Thimpu',\n",
       " 'Pakistan': 'Islamabad'}"
      ]
     },
     "execution_count": 78,
     "metadata": {},
     "output_type": "execute_result"
    }
   ],
   "source": [
    "country"
   ]
  },
  {
   "cell_type": "markdown",
   "id": "30005616",
   "metadata": {},
   "source": [
    "## Dictionary Comprehension"
   ]
  },
  {
   "cell_type": "code",
   "execution_count": 84,
   "id": "c153917e",
   "metadata": {},
   "outputs": [],
   "source": [
    "# WAP to swap key value pair from the given dictionary (use colon in expression)"
   ]
  },
  {
   "cell_type": "code",
   "execution_count": 85,
   "id": "6bda7a53",
   "metadata": {},
   "outputs": [],
   "source": [
    "country = {'Nepal': 'Kathmandu',\n",
    " 'India': 'New Delhi',\n",
    " 'Bangladesh': 'Dhaka',\n",
    " 'Bhutan': 'Thimpu',\n",
    " 'Pakistan': 'Islamabad'}"
   ]
  },
  {
   "cell_type": "code",
   "execution_count": 86,
   "id": "dac68fe5",
   "metadata": {},
   "outputs": [
    {
     "data": {
      "text/plain": [
       "{'Nepal': 'Kathmandu',\n",
       " 'India': 'New Delhi',\n",
       " 'Bangladesh': 'Dhaka',\n",
       " 'Bhutan': 'Thimpu',\n",
       " 'Pakistan': 'Islamabad'}"
      ]
     },
     "execution_count": 86,
     "metadata": {},
     "output_type": "execute_result"
    }
   ],
   "source": [
    "country"
   ]
  },
  {
   "cell_type": "code",
   "execution_count": 87,
   "id": "febab072",
   "metadata": {},
   "outputs": [
    {
     "data": {
      "text/plain": [
       "{'Kathmandu': 'Nepal',\n",
       " 'New Delhi': 'India',\n",
       " 'Dhaka': 'Bangladesh',\n",
       " 'Thimpu': 'Bhutan',\n",
       " 'Islamabad': 'Pakistan'}"
      ]
     },
     "execution_count": 87,
     "metadata": {},
     "output_type": "execute_result"
    }
   ],
   "source": [
    "{value: key for key, value in country.items()}  #interview question "
   ]
  },
  {
   "cell_type": "markdown",
   "id": "6abbb7f8",
   "metadata": {},
   "source": [
    "## Nested Dictionary"
   ]
  },
  {
   "cell_type": "code",
   "execution_count": 88,
   "id": "7c683243",
   "metadata": {},
   "outputs": [],
   "source": [
    "children = {\n",
    "    \"child1\": {\"name\": \"Sarahana\", \"year\": 1998},\n",
    "    \"child2\": {\"name\": \"Shraddha\", \"year\": 2001},\n",
    "    \"child3\": {\"name\": \"Saksham\", \"year\": 2002}\n",
    "}"
   ]
  },
  {
   "cell_type": "code",
   "execution_count": 89,
   "id": "fe38cec9",
   "metadata": {},
   "outputs": [
    {
     "data": {
      "text/plain": [
       "{'child1': {'name': 'Sarahana', 'year': 1998},\n",
       " 'child2': {'name': 'Shraddha', 'year': 2001},\n",
       " 'child3': {'name': 'Saksham', 'year': 2002}}"
      ]
     },
     "execution_count": 89,
     "metadata": {},
     "output_type": "execute_result"
    }
   ],
   "source": [
    "children"
   ]
  },
  {
   "cell_type": "code",
   "execution_count": 96,
   "id": "925fb9e4",
   "metadata": {},
   "outputs": [
    {
     "name": "stdout",
     "output_type": "stream",
     "text": [
      "Sarahana\n",
      "Shraddha\n",
      "Saksham\n"
     ]
    }
   ],
   "source": [
    "for key, value in children.items():\n",
    "    child_name = (value.get(\"name\"))\n",
    "    print(child_name)"
   ]
  },
  {
   "cell_type": "code",
   "execution_count": 98,
   "id": "1423e01b",
   "metadata": {},
   "outputs": [
    {
     "name": "stdout",
     "output_type": "stream",
     "text": [
      "Sarahana\n",
      "Shraddha\n",
      "Saksham\n"
     ]
    }
   ],
   "source": [
    "for key, value in children.items():\n",
    "    child_name = value[\"name\"]\n",
    "    print(child_name)"
   ]
  },
  {
   "cell_type": "code",
   "execution_count": 100,
   "id": "d6ef8614",
   "metadata": {},
   "outputs": [
    {
     "name": "stdout",
     "output_type": "stream",
     "text": [
      "1998\n",
      "2001\n",
      "2002\n"
     ]
    }
   ],
   "source": [
    "for key, value in children.items():\n",
    "    child_year = value.get(\"year\")\n",
    "    print(child_year)"
   ]
  },
  {
   "cell_type": "code",
   "execution_count": 102,
   "id": "95d66e2e",
   "metadata": {},
   "outputs": [
    {
     "name": "stdout",
     "output_type": "stream",
     "text": [
      "1998\n",
      "2001\n",
      "2002\n"
     ]
    }
   ],
   "source": [
    "for key, value in children.items():\n",
    "    child_year = value[\"year\"]\n",
    "    print(child_year)"
   ]
  },
  {
   "cell_type": "code",
   "execution_count": 105,
   "id": "281bedf0",
   "metadata": {},
   "outputs": [
    {
     "name": "stdout",
     "output_type": "stream",
     "text": [
      "1998\n",
      "2001\n",
      "2002\n"
     ]
    }
   ],
   "source": [
    "for _, value in children.items():\n",
    "    child_year = value[\"year\"]\n",
    "    print(child_year)"
   ]
  },
  {
   "cell_type": "code",
   "execution_count": null,
   "id": "b9b005a2",
   "metadata": {},
   "outputs": [],
   "source": []
  }
 ],
 "metadata": {
  "kernelspec": {
   "display_name": "Python 3 (ipykernel)",
   "language": "python",
   "name": "python3"
  },
  "language_info": {
   "codemirror_mode": {
    "name": "ipython",
    "version": 3
   },
   "file_extension": ".py",
   "mimetype": "text/x-python",
   "name": "python",
   "nbconvert_exporter": "python",
   "pygments_lexer": "ipython3",
   "version": "3.8.10"
  }
 },
 "nbformat": 4,
 "nbformat_minor": 5
}
