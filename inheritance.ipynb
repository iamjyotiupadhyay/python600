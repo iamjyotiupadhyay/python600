{
 "cells": [
  {
   "cell_type": "code",
   "execution_count": 12,
   "id": "72aadda3",
   "metadata": {},
   "outputs": [],
   "source": [
    "class A:\n",
    "    def __init__(self):\n",
    "        self.name ='ram'\n",
    "class B(A):\n",
    "    def __init(self):\n",
    "        super().__init__()\n",
    "        self.address = 'patan'"
   ]
  },
  {
   "cell_type": "code",
   "execution_count": 14,
   "id": "9a03d63e",
   "metadata": {},
   "outputs": [
    {
     "data": {
      "text/plain": [
       "'ram'"
      ]
     },
     "execution_count": 14,
     "metadata": {},
     "output_type": "execute_result"
    }
   ],
   "source": [
    "obj = B()\n",
    "obj.name"
   ]
  },
  {
   "cell_type": "code",
   "execution_count": 15,
   "id": "e5a63936",
   "metadata": {},
   "outputs": [],
   "source": [
    "class Father:\n",
    "    def __init__(self):\n",
    "        self.f_name = 'ram'\n",
    "\n",
    "        \n",
    "class Mother:\n",
    "    def __init__(self):\n",
    "        self.m_name = 'sita'\n",
    "       \n",
    "    \n",
    "class Children(Father , Mother):\n",
    "    def __init__(self):\n",
    "        self.child_name = 'luv kush'\n",
    "        Father.__init__(self)\n",
    "        Mother.__init__(self)"
   ]
  },
  {
   "cell_type": "code",
   "execution_count": 16,
   "id": "fed1fb83",
   "metadata": {},
   "outputs": [],
   "source": [
    "#Multiple Inheritance "
   ]
  },
  {
   "cell_type": "code",
   "execution_count": 17,
   "id": "ec371a5c",
   "metadata": {},
   "outputs": [],
   "source": [
    "ch1 = Children()"
   ]
  },
  {
   "cell_type": "code",
   "execution_count": 18,
   "id": "f63c7d6b",
   "metadata": {},
   "outputs": [
    {
     "data": {
      "text/plain": [
       "'ram'"
      ]
     },
     "execution_count": 18,
     "metadata": {},
     "output_type": "execute_result"
    }
   ],
   "source": [
    "ch1.f_name"
   ]
  },
  {
   "cell_type": "code",
   "execution_count": 19,
   "id": "2bfedfc6",
   "metadata": {},
   "outputs": [],
   "source": [
    "#Multilevel Inheritance and Heirachical Inheritance"
   ]
  },
  {
   "cell_type": "code",
   "execution_count": 20,
   "id": "31d62340",
   "metadata": {},
   "outputs": [
    {
     "data": {
      "text/plain": [
       "'sita'"
      ]
     },
     "execution_count": 20,
     "metadata": {},
     "output_type": "execute_result"
    }
   ],
   "source": [
    "ch1.m_name"
   ]
  },
  {
   "cell_type": "code",
   "execution_count": 31,
   "id": "60ca6da2",
   "metadata": {},
   "outputs": [],
   "source": [
    "#multiple inheritance\n",
    "\n",
    "class Father:\n",
    "    def __init__(self):\n",
    "        self.f_name = 'ram'\n",
    "\n",
    "        \n",
    "    def display(self):\n",
    "        print(\"This is father class called by child class\")\n",
    "\n",
    "        \n",
    "class Mother:\n",
    "    def __init__(self):\n",
    "        self.m_name = 'sita'\n",
    "       \n",
    "    \n",
    "class Children(Father , Mother):\n",
    "    def __init__(self):\n",
    "        self.child_name = 'luv kush'\n",
    "        Father.__init__(self)\n",
    "        Mother.__init__(self)"
   ]
  },
  {
   "cell_type": "code",
   "execution_count": 32,
   "id": "900e0e39",
   "metadata": {},
   "outputs": [],
   "source": [
    "ch1 = Children()"
   ]
  },
  {
   "cell_type": "code",
   "execution_count": 33,
   "id": "e17d6546",
   "metadata": {},
   "outputs": [
    {
     "name": "stdout",
     "output_type": "stream",
     "text": [
      "This is father class called by child class\n"
     ]
    }
   ],
   "source": [
    "ch1.display()"
   ]
  },
  {
   "cell_type": "code",
   "execution_count": null,
   "id": "0350a0b8",
   "metadata": {},
   "outputs": [],
   "source": []
  }
 ],
 "metadata": {
  "kernelspec": {
   "display_name": "Python 3 (ipykernel)",
   "language": "python",
   "name": "python3"
  },
  "language_info": {
   "codemirror_mode": {
    "name": "ipython",
    "version": 3
   },
   "file_extension": ".py",
   "mimetype": "text/x-python",
   "name": "python",
   "nbconvert_exporter": "python",
   "pygments_lexer": "ipython3",
   "version": "3.10.6"
  }
 },
 "nbformat": 4,
 "nbformat_minor": 5
}
