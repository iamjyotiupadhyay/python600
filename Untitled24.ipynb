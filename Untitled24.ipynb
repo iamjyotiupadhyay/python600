{
 "cells": [
  {
   "cell_type": "code",
   "execution_count": null,
   "id": "b6f43844",
   "metadata": {},
   "outputs": [],
   "source": [
    "#you cannot use list methods in Tuple\n",
    "\n",
    "cars = (\"audi\",\"mercedes\",\"bmw\")"
   ]
  },
  {
   "cell_type": "code",
   "execution_count": null,
   "id": "0bd42186",
   "metadata": {},
   "outputs": [],
   "source": [
    "#cars.append(\"tesla\")....gives error bcz tuple objects are immutable no method to append items"
   ]
  },
  {
   "cell_type": "code",
   "execution_count": null,
   "id": "f52bd102",
   "metadata": {},
   "outputs": [],
   "source": [
    "#typecasting in Tuple()\n",
    "\n",
    "cars = (\"audi\",\"mercedes\",\"bmw\")\n"
   ]
  },
  {
   "cell_type": "code",
   "execution_count": null,
   "id": "13e2bb7a",
   "metadata": {},
   "outputs": [],
   "source": [
    "id(cars)"
   ]
  },
  {
   "cell_type": "code",
   "execution_count": null,
   "id": "4aa5a087",
   "metadata": {},
   "outputs": [],
   "source": [
    "cars = list(cars)  #typecaste tuple to list...tuple to list"
   ]
  },
  {
   "cell_type": "code",
   "execution_count": null,
   "id": "afbc5e02",
   "metadata": {},
   "outputs": [],
   "source": [
    "cars"
   ]
  },
  {
   "cell_type": "code",
   "execution_count": null,
   "id": "7c4ef41e",
   "metadata": {},
   "outputs": [],
   "source": [
    "id(cars) "
   ]
  },
  {
   "cell_type": "code",
   "execution_count": null,
   "id": "ee261d9e",
   "metadata": {},
   "outputs": [],
   "source": [
    "cars.append(\"bentely\")"
   ]
  },
  {
   "cell_type": "code",
   "execution_count": null,
   "id": "ac0c71cc",
   "metadata": {},
   "outputs": [],
   "source": [
    "cars"
   ]
  },
  {
   "cell_type": "code",
   "execution_count": null,
   "id": "39fe53b8",
   "metadata": {},
   "outputs": [],
   "source": [
    "cars = tuple(cars)    #convert into tuple"
   ]
  },
  {
   "cell_type": "code",
   "execution_count": null,
   "id": "540cd467",
   "metadata": {},
   "outputs": [],
   "source": [
    "cars"
   ]
  },
  {
   "cell_type": "code",
   "execution_count": null,
   "id": "765a1ea7",
   "metadata": {},
   "outputs": [],
   "source": [
    "#Loops in Tuple : find the mean"
   ]
  },
  {
   "cell_type": "code",
   "execution_count": 7,
   "id": "2c290aba",
   "metadata": {},
   "outputs": [],
   "source": [
    "data = (22,33,1,4,77,50,10)\n"
   ]
  },
  {
   "cell_type": "code",
   "execution_count": 8,
   "id": "c230c606",
   "metadata": {},
   "outputs": [
    {
     "data": {
      "text/plain": [
       "(22, 33, 1, 4, 77, 50, 10)"
      ]
     },
     "execution_count": 8,
     "metadata": {},
     "output_type": "execute_result"
    }
   ],
   "source": [
    "data"
   ]
  },
  {
   "cell_type": "code",
   "execution_count": null,
   "id": "cf53bcf2",
   "metadata": {},
   "outputs": [],
   "source": [
    "\n",
    "    "
   ]
  },
  {
   "cell_type": "code",
   "execution_count": 9,
   "id": "5548f030",
   "metadata": {},
   "outputs": [
    {
     "name": "stdout",
     "output_type": "stream",
     "text": [
      "28.142857142857142\n"
     ]
    }
   ],
   "source": [
    "total = 0\n",
    "for i in range(len(data)):\n",
    "    total = total + data[i]\n",
    "mean = total /len(data)\n",
    "print(mean)"
   ]
  },
  {
   "cell_type": "code",
   "execution_count": null,
   "id": "d057d985",
   "metadata": {},
   "outputs": [],
   "source": []
  }
 ],
 "metadata": {
  "kernelspec": {
   "display_name": "Python 3 (ipykernel)",
   "language": "python",
   "name": "python3"
  },
  "language_info": {
   "codemirror_mode": {
    "name": "ipython",
    "version": 3
   },
   "file_extension": ".py",
   "mimetype": "text/x-python",
   "name": "python",
   "nbconvert_exporter": "python",
   "pygments_lexer": "ipython3",
   "version": "3.10.6"
  }
 },
 "nbformat": 4,
 "nbformat_minor": 5
}
