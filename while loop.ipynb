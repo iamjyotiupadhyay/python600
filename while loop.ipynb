{
 "cells": [
  {
   "cell_type": "code",
   "execution_count": 4,
   "id": "69acf74c",
   "metadata": {},
   "outputs": [
    {
     "name": "stdout",
     "output_type": "stream",
     "text": [
      "--------\n",
      "i = 0\n",
      "-------\n",
      "--------\n",
      "i = 1\n",
      "-------\n",
      "--------\n",
      "i = 2\n",
      "-------\n",
      "j = 0\n",
      "j = 1\n",
      "j = 2\n",
      "j = 3\n",
      "j = 4\n"
     ]
    }
   ],
   "source": [
    "for i in range(3):\n",
    "    print(\"--------\")\n",
    "    print(f\"i = {i}\")\n",
    "    print(\"-------\")\n",
    "    \n",
    "for j in range(5):\n",
    "    print(f\"j = {j}\")"
   ]
  },
  {
   "cell_type": "code",
   "execution_count": null,
   "id": "08c7ef53",
   "metadata": {},
   "outputs": [],
   "source": [
    "data = [[4,5,6],[11,44,22,9],[2,4],[8]]"
   ]
  },
  {
   "cell_type": "code",
   "execution_count": 8,
   "id": "569b379e",
   "metadata": {},
   "outputs": [
    {
     "ename": "NameError",
     "evalue": "name 'data' is not defined",
     "output_type": "error",
     "traceback": [
      "\u001b[0;31m---------------------------------------------------------------------------\u001b[0m",
      "\u001b[0;31mNameError\u001b[0m                                 Traceback (most recent call last)",
      "Cell \u001b[0;32mIn[8], line 4\u001b[0m\n\u001b[1;32m      1\u001b[0m means \u001b[38;5;241m=\u001b[39m []\n\u001b[1;32m      3\u001b[0m total \u001b[38;5;241m=\u001b[39m \u001b[38;5;241m0\u001b[39m\n\u001b[0;32m----> 4\u001b[0m \u001b[38;5;28;01mfor\u001b[39;00m i \u001b[38;5;129;01min\u001b[39;00m \u001b[43mdata\u001b[49m:\n\u001b[1;32m      5\u001b[0m     \u001b[38;5;28;01mfor\u001b[39;00m i \u001b[38;5;129;01min\u001b[39;00m item:\n\u001b[1;32m      6\u001b[0m         total \u001b[38;5;241m=\u001b[39m total \u001b[38;5;241m+\u001b[39m i\n",
      "\u001b[0;31mNameError\u001b[0m: name 'data' is not defined"
     ]
    }
   ],
   "source": [
    "means = []\n",
    "\n",
    "total = 0\n",
    "for i in data:\n",
    "    for i in item:\n",
    "        total = total + i\n",
    "    print(total)    "
   ]
  },
  {
   "cell_type": "code",
   "execution_count": 9,
   "id": "029bd312",
   "metadata": {},
   "outputs": [],
   "source": [
    "data = [[4,5,6],[5,8,9,7],[0,3,0,1]]"
   ]
  },
  {
   "cell_type": "code",
   "execution_count": 24,
   "id": "e3a4cf08",
   "metadata": {},
   "outputs": [],
   "source": [
    "#output = [[4,6],[5,9],[0,0]]\n",
    "\n",
    "output =[]\n",
    "for item in data:\n",
    "    output.append(item[::2]) "
   ]
  },
  {
   "cell_type": "code",
   "execution_count": 25,
   "id": "7d060edb",
   "metadata": {},
   "outputs": [
    {
     "data": {
      "text/plain": [
       "[[4, 6], [5, 9], [0, 0]]"
      ]
     },
     "execution_count": 25,
     "metadata": {},
     "output_type": "execute_result"
    }
   ],
   "source": [
    "output"
   ]
  },
  {
   "cell_type": "code",
   "execution_count": 26,
   "id": "9ee5f7bb",
   "metadata": {},
   "outputs": [
    {
     "data": {
      "text/plain": [
       "<map at 0x10d07a8f0>"
      ]
     },
     "execution_count": 26,
     "metadata": {},
     "output_type": "execute_result"
    }
   ],
   "source": [
    "#with map\n",
    "\n",
    "map(lambda x : x[::2],data)"
   ]
  },
  {
   "cell_type": "code",
   "execution_count": 27,
   "id": "2f4df465",
   "metadata": {},
   "outputs": [
    {
     "data": {
      "text/plain": [
       "[[4, 6], [5, 9], [0, 0]]"
      ]
     },
     "execution_count": 27,
     "metadata": {},
     "output_type": "execute_result"
    }
   ],
   "source": [
    "list(map(lambda x:x[::2],data))"
   ]
  },
  {
   "cell_type": "markdown",
   "id": "7b987c8d",
   "metadata": {},
   "source": [
    "# While loop "
   ]
  },
  {
   "cell_type": "code",
   "execution_count": null,
   "id": "e44deac2",
   "metadata": {},
   "outputs": [],
   "source": [
    "#WAP to display multiplication table"
   ]
  },
  {
   "cell_type": "code",
   "execution_count": 28,
   "id": "8a213b17",
   "metadata": {},
   "outputs": [
    {
     "name": "stdout",
     "output_type": "stream",
     "text": [
      "5\n",
      "10\n",
      "15\n",
      "20\n",
      "25\n",
      "30\n",
      "35\n",
      "40\n",
      "45\n"
     ]
    }
   ],
   "source": [
    "num = 5\n",
    "for i in range (1,10):\n",
    "    t = num * i\n",
    "    print(t)"
   ]
  },
  {
   "cell_type": "code",
   "execution_count": 31,
   "id": "a5c54b14",
   "metadata": {},
   "outputs": [],
   "source": [
    "data = [1,2,4,5,7,8,9]"
   ]
  },
  {
   "cell_type": "code",
   "execution_count": 34,
   "id": "a85eab03",
   "metadata": {},
   "outputs": [
    {
     "name": "stdout",
     "output_type": "stream",
     "text": [
      "5.143\n"
     ]
    }
   ],
   "source": [
    "i = 0\n",
    "total = 0\n",
    "while i < len(data):\n",
    "    total = total + data[i]\n",
    "    i = i + 1\n",
    "    \n",
    "mean = total/len(data)\n",
    "print(round(mean,3))"
   ]
  },
  {
   "cell_type": "code",
   "execution_count": null,
   "id": "01f2522c",
   "metadata": {},
   "outputs": [],
   "source": []
  }
 ],
 "metadata": {
  "kernelspec": {
   "display_name": "Python 3 (ipykernel)",
   "language": "python",
   "name": "python3"
  },
  "language_info": {
   "codemirror_mode": {
    "name": "ipython",
    "version": 3
   },
   "file_extension": ".py",
   "mimetype": "text/x-python",
   "name": "python",
   "nbconvert_exporter": "python",
   "pygments_lexer": "ipython3",
   "version": "3.10.6"
  }
 },
 "nbformat": 4,
 "nbformat_minor": 5
}
