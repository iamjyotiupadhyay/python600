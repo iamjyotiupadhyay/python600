{
 "cells": [
  {
   "cell_type": "code",
   "execution_count": null,
   "id": "305258b8",
   "metadata": {},
   "outputs": [],
   "source": [
    "class car:\n",
    "    def __init__(self,speed,color):\n",
    "        print(speed)\n",
    "        print(color)\n",
    "\n",
    "honda = car(200,'red')\n",
    "mercedes = car(400,'blue')"
   ]
  },
  {
   "cell_type": "code",
   "execution_count": null,
   "id": "cd10365c",
   "metadata": {},
   "outputs": [],
   "source": [
    "class student:\n",
    "    def __init__(self,name,age,subject):\n",
    "        print(name)\n",
    "        print(age)\n",
    "        print(subject)\n",
    "        \n",
    "st1 = student('Aakash',12,'maths')\n",
    "st2 = student('Jyotsana',13,'sci')\n",
    "st3 = student('Ravi',14,'commerce')"
   ]
  },
  {
   "cell_type": "markdown",
   "id": "472ec4f8",
   "metadata": {},
   "source": [
    "# program WITH __init__(self)"
   ]
  },
  {
   "cell_type": "code",
   "execution_count": 1,
   "id": "02d2ee49",
   "metadata": {},
   "outputs": [],
   "source": [
    "class Rectangle:\n",
    "    def __init__(self,height,width):\n",
    "        self.height = height\n",
    "        self.width = width\n",
    "        \n",
    "        rect1 = Rectangle(20,30)\n",
    "        rect2 = Rectangle(10,23)\n",
    "        \n",
    "        print(rect1.height * rect1.width)\n",
    "        print(rect2.height * rect2.width)"
   ]
  },
  {
   "cell_type": "code",
   "execution_count": 6,
   "id": "59ba9844",
   "metadata": {},
   "outputs": [
    {
     "ename": "NameError",
     "evalue": "name 'self' is not defined",
     "output_type": "error",
     "traceback": [
      "\u001b[0;31m---------------------------------------------------------------------------\u001b[0m",
      "\u001b[0;31mNameError\u001b[0m                                 Traceback (most recent call last)",
      "Cell \u001b[0;32mIn[6], line 1\u001b[0m\n\u001b[0;32m----> 1\u001b[0m react1 \u001b[38;5;241m=\u001b[39m Rectangle(\u001b[38;5;28;43mself\u001b[39;49m)\n",
      "\u001b[0;31mNameError\u001b[0m: name 'self' is not defined"
     ]
    }
   ],
   "source": [
    "react1 = Rectangle(self)"
   ]
  },
  {
   "cell_type": "code",
   "execution_count": null,
   "id": "6fbd2042",
   "metadata": {},
   "outputs": [],
   "source": []
  },
  {
   "cell_type": "code",
   "execution_count": null,
   "id": "5c4eb959",
   "metadata": {},
   "outputs": [],
   "source": []
  },
  {
   "cell_type": "code",
   "execution_count": null,
   "id": "e5433223",
   "metadata": {},
   "outputs": [],
   "source": []
  },
  {
   "cell_type": "code",
   "execution_count": null,
   "id": "4cd81d15",
   "metadata": {},
   "outputs": [],
   "source": []
  }
 ],
 "metadata": {
  "kernelspec": {
   "display_name": "Python 3 (ipykernel)",
   "language": "python",
   "name": "python3"
  },
  "language_info": {
   "codemirror_mode": {
    "name": "ipython",
    "version": 3
   },
   "file_extension": ".py",
   "mimetype": "text/x-python",
   "name": "python",
   "nbconvert_exporter": "python",
   "pygments_lexer": "ipython3",
   "version": "3.10.6"
  }
 },
 "nbformat": 4,
 "nbformat_minor": 5
}
