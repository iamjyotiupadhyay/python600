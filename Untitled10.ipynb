{
 "cells": [
  {
   "cell_type": "markdown",
   "id": "04301a3d",
   "metadata": {},
   "source": [
    " Logical operator:\n",
    " * and : all expression must be true to get True\n",
    " * or  : one must be True to get True\n",
    " * not : negation , not True means False or not False means True\n",
    " \n",
    "| A |  Not A|\n",
    "|--:  |--:  |\n",
    "| True| False|\n",
    "|False  |True |\n",
    "\n",
    "\n",
    "\n",
    "<table>\n",
    "    <th>A</th>\n",
    "    <th>Not A</th>\n",
    "</table>\n",
    "\n",
    " "
   ]
  },
  {
   "cell_type": "code",
   "execution_count": 1,
   "id": "82cccf20",
   "metadata": {},
   "outputs": [
    {
     "name": "stdout",
     "output_type": "stream",
     "text": [
      "Both condition true\n"
     ]
    }
   ],
   "source": [
    "num = 4\n",
    "if num > 0 and num < 10:\n",
    "    print(\"Both condition true\")"
   ]
  },
  {
   "cell_type": "code",
   "execution_count": 2,
   "id": "61e2eb95",
   "metadata": {},
   "outputs": [
    {
     "name": "stdout",
     "output_type": "stream",
     "text": [
      "Both are not true\n"
     ]
    }
   ],
   "source": [
    "num = 5 \n",
    "if num > 0 and num < 5:\n",
    "    print(\"both condition True\")\n",
    "else:\n",
    "    print(\"Both are not true\")"
   ]
  },
  {
   "cell_type": "code",
   "execution_count": 4,
   "id": "39cbb58e",
   "metadata": {},
   "outputs": [
    {
     "name": "stdout",
     "output_type": "stream",
     "text": [
      "one condition True\n"
     ]
    }
   ],
   "source": [
    "num = 5 \n",
    "if num > 0 or num < 5:\n",
    "    print(\"one condition True\")\n",
    "else:\n",
    "    print(\"Both are false\")"
   ]
  },
  {
   "cell_type": "code",
   "execution_count": 6,
   "id": "19d7e3e0",
   "metadata": {},
   "outputs": [
    {
     "data": {
      "text/plain": [
       "False"
      ]
     },
     "execution_count": 6,
     "metadata": {},
     "output_type": "execute_result"
    }
   ],
   "source": [
    "not True"
   ]
  },
  {
   "cell_type": "code",
   "execution_count": 7,
   "id": "eb4e649a",
   "metadata": {},
   "outputs": [
    {
     "data": {
      "text/plain": [
       "True"
      ]
     },
     "execution_count": 7,
     "metadata": {},
     "output_type": "execute_result"
    }
   ],
   "source": [
    "not False"
   ]
  },
  {
   "cell_type": "code",
   "execution_count": null,
   "id": "3e2be639",
   "metadata": {},
   "outputs": [],
   "source": []
  }
 ],
 "metadata": {
  "kernelspec": {
   "display_name": "Python 3 (ipykernel)",
   "language": "python",
   "name": "python3"
  },
  "language_info": {
   "codemirror_mode": {
    "name": "ipython",
    "version": 3
   },
   "file_extension": ".py",
   "mimetype": "text/x-python",
   "name": "python",
   "nbconvert_exporter": "python",
   "pygments_lexer": "ipython3",
   "version": "3.10.6"
  }
 },
 "nbformat": 4,
 "nbformat_minor": 5
}
