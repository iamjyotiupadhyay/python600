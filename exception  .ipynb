{
 "cells": [
  {
   "cell_type": "code",
   "execution_count": null,
   "id": "e563937e",
   "metadata": {},
   "outputs": [],
   "source": [
    "#ZeroDivisionError is exception"
   ]
  },
  {
   "cell_type": "code",
   "execution_count": 1,
   "id": "295c9531",
   "metadata": {},
   "outputs": [
    {
     "name": "stdout",
     "output_type": "stream",
     "text": [
      "division by zero\n",
      "success\n"
     ]
    }
   ],
   "source": [
    "a = 5\n",
    "b = 0\n",
    "\n",
    "try:\n",
    "    c = a/b\n",
    "    print(c)\n",
    "except ZeroDivisionError as e:    #Exception also use here\n",
    "    print(str(e))\n",
    "print(\"success\")\n"
   ]
  },
  {
   "cell_type": "code",
   "execution_count": 2,
   "id": "5e1d6c35",
   "metadata": {},
   "outputs": [],
   "source": [
    "#try...except...block "
   ]
  },
  {
   "cell_type": "code",
   "execution_count": 3,
   "id": "f7cb054b",
   "metadata": {},
   "outputs": [
    {
     "name": "stdout",
     "output_type": "stream",
     "text": [
      "success\n"
     ]
    }
   ],
   "source": [
    "a = 5\n",
    "b = 0\n",
    "\n",
    "try:\n",
    "    c = a/b\n",
    "    print(c)\n",
    "except:\n",
    "    pass\n",
    "print(\"success\")\n"
   ]
  },
  {
   "cell_type": "code",
   "execution_count": 4,
   "id": "5eafc35a",
   "metadata": {},
   "outputs": [
    {
     "name": "stdout",
     "output_type": "stream",
     "text": [
      "division by zero\n",
      "success\n"
     ]
    }
   ],
   "source": [
    "a = 5\n",
    "b = 0\n",
    "\n",
    "try:\n",
    "    c = a/b\n",
    "    print(c)\n",
    "except Exception as e:    #Exception also use here\n",
    "    print(str(e))\n",
    "print(\"success\")\n"
   ]
  },
  {
   "cell_type": "code",
   "execution_count": null,
   "id": "22b48ace",
   "metadata": {},
   "outputs": [
    {
     "name": "stdout",
     "output_type": "stream",
     "text": [
      "Enter a number:ritu\n",
      "Please enter integer number\n",
      "Enter a number:sdaf\n",
      "Please enter integer number\n"
     ]
    }
   ],
   "source": [
    "condition = True\n",
    "while condition:\n",
    "    try:\n",
    "        user_input = int(input(\"Enter a number:\"))\n",
    "        condition = False\n",
    "    except Exception as e:\n",
    "        print(\"Please enter integer number\")"
   ]
  },
  {
   "cell_type": "code",
   "execution_count": null,
   "id": "ffa173c2",
   "metadata": {},
   "outputs": [],
   "source": []
  }
 ],
 "metadata": {
  "kernelspec": {
   "display_name": "Python 3 (ipykernel)",
   "language": "python",
   "name": "python3"
  },
  "language_info": {
   "codemirror_mode": {
    "name": "ipython",
    "version": 3
   },
   "file_extension": ".py",
   "mimetype": "text/x-python",
   "name": "python",
   "nbconvert_exporter": "python",
   "pygments_lexer": "ipython3",
   "version": "3.10.6"
  }
 },
 "nbformat": 4,
 "nbformat_minor": 5
}
