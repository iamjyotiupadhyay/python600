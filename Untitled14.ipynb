{
 "cells": [
  {
   "cell_type": "code",
   "execution_count": 3,
   "id": "96dff33d",
   "metadata": {},
   "outputs": [],
   "source": [
    "txt = \"I Like Orange Apple Banana and Kiwi\"\n",
    "\n"
   ]
  },
  {
   "cell_type": "code",
   "execution_count": 4,
   "id": "db5d498b",
   "metadata": {},
   "outputs": [],
   "source": [
    "txt = txt.lower()"
   ]
  },
  {
   "cell_type": "code",
   "execution_count": 5,
   "id": "9ad8ade8",
   "metadata": {},
   "outputs": [],
   "source": [
    "txt = txt.replace('i like ', ' ')"
   ]
  },
  {
   "cell_type": "code",
   "execution_count": 6,
   "id": "9af9d6cc",
   "metadata": {},
   "outputs": [],
   "source": [
    "txt = txt.replace('and ', ' ')"
   ]
  },
  {
   "cell_type": "code",
   "execution_count": 7,
   "id": "910cc28f",
   "metadata": {},
   "outputs": [],
   "source": [
    "txt = txt.replace(\".\" .\" \")"
   ]
  },
  {
   "cell_type": "code",
   "execution_count": 9,
   "id": "d441f745",
   "metadata": {},
   "outputs": [],
   "source": [
    "print(txt)"
   ]
  },
  {
   "cell_type": "code",
   "execution_count": null,
   "id": "fefddf79",
   "metadata": {},
   "outputs": [],
   "source": []
  },
  {
   "cell_type": "code",
   "execution_count": null,
   "id": "62441b8a",
   "metadata": {},
   "outputs": [],
   "source": []
  }
 ],
 "metadata": {
  "kernelspec": {
   "display_name": "Python 3 (ipykernel)",
   "language": "python",
   "name": "python3"
  },
  "language_info": {
   "codemirror_mode": {
    "name": "ipython",
    "version": 3
   },
   "file_extension": ".py",
   "mimetype": "text/x-python",
   "name": "python",
   "nbconvert_exporter": "python",
   "pygments_lexer": "ipython3",
   "version": "3.10.6"
  }
 },
 "nbformat": 4,
 "nbformat_minor": 5
}
