{
 "cells": [
  {
   "cell_type": "code",
   "execution_count": 1,
   "id": "936ea295",
   "metadata": {},
   "outputs": [],
   "source": [
    "#First method to create dictionary\n",
    "\n",
    "d = {'one':1,'two':2,'three':3,'four':4}"
   ]
  },
  {
   "cell_type": "code",
   "execution_count": 14,
   "id": "98bc5011",
   "metadata": {},
   "outputs": [
    {
     "data": {
      "text/plain": [
       "{'one': 1, 'two': 2, 'three': 3, 'four': 4}"
      ]
     },
     "execution_count": 14,
     "metadata": {},
     "output_type": "execute_result"
    }
   ],
   "source": [
    "d"
   ]
  },
  {
   "cell_type": "code",
   "execution_count": 20,
   "id": "05a9e61a",
   "metadata": {},
   "outputs": [
    {
     "data": {
      "text/plain": [
       "{'apple': 1, 'mango': 2, 'guava': 3, 'grapes': 10}"
      ]
     },
     "execution_count": 20,
     "metadata": {},
     "output_type": "execute_result"
    }
   ],
   "source": [
    "dict(apple = 1,mango = 2, guava = 3, grapes = 10)"
   ]
  },
  {
   "cell_type": "code",
   "execution_count": 23,
   "id": "43324ea4",
   "metadata": {},
   "outputs": [
    {
     "data": {
      "text/plain": [
       "{'cox': 20, 'braeburn': 10, 'royalgarla': 12}"
      ]
     },
     "execution_count": 23,
     "metadata": {},
     "output_type": "execute_result"
    }
   ],
   "source": [
    "dict(cox =20, braeburn = 10, royalgarla = 12)"
   ]
  },
  {
   "cell_type": "code",
   "execution_count": null,
   "id": "19e8fa22",
   "metadata": {},
   "outputs": [],
   "source": []
  }
 ],
 "metadata": {
  "kernelspec": {
   "display_name": "Python 3 (ipykernel)",
   "language": "python",
   "name": "python3"
  },
  "language_info": {
   "codemirror_mode": {
    "name": "ipython",
    "version": 3
   },
   "file_extension": ".py",
   "mimetype": "text/x-python",
   "name": "python",
   "nbconvert_exporter": "python",
   "pygments_lexer": "ipython3",
   "version": "3.10.6"
  }
 },
 "nbformat": 4,
 "nbformat_minor": 5
}
