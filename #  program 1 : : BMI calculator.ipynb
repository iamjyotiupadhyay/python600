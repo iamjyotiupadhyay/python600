{
 "cells": [
  {
   "cell_type": "code",
   "execution_count": 1,
   "id": "2631871e",
   "metadata": {},
   "outputs": [],
   "source": [
    "#Logical Operator"
   ]
  },
  {
   "cell_type": "code",
   "execution_count": 2,
   "id": "7d82b658",
   "metadata": {},
   "outputs": [
    {
     "name": "stdout",
     "output_type": "stream",
     "text": [
      "enter weight:60\n",
      "enter height:175 \n"
     ]
    }
   ],
   "source": [
    "w = int(input(\"enter weight:\"))\n",
    "h = int(input(\"enter height in cm :\"))\n"
   ]
  },
  {
   "cell_type": "code",
   "execution_count": 3,
   "id": "b77b0cbe",
   "metadata": {},
   "outputs": [],
   "source": [
    "bmi = w/h ** 2"
   ]
  },
  {
   "cell_type": "code",
   "execution_count": 4,
   "id": "697cd67b",
   "metadata": {},
   "outputs": [
    {
     "name": "stdout",
     "output_type": "stream",
     "text": [
      "0.0019591836734693877\n"
     ]
    }
   ],
   "source": [
    "print(bmi)"
   ]
  },
  {
   "cell_type": "code",
   "execution_count": 11,
   "id": "c540cfbe",
   "metadata": {},
   "outputs": [
    {
     "name": "stdout",
     "output_type": "stream",
     "text": [
      "you are underweight\n"
     ]
    }
   ],
   "source": [
    "if bmi < 18.5:\n",
    "    print(\"you are underweight\")\n",
    "    \n",
    "elif bmi >= 18.5 and bmi <=24.9:\n",
    "    print(\"normal weight:\")\n",
    "\n",
    "elif bmi >= 25 and bmi <= 29.9:\n",
    "    print(\"overweight\")\n",
    "\n",
    "elif bmi == 30 and bmi > 30:\n",
    "    print(\"obese\")"
   ]
  },
  {
   "cell_type": "code",
   "execution_count": 12,
   "id": "e7ab58d7",
   "metadata": {},
   "outputs": [],
   "source": [
    "# AND , OR , #NOT operator"
   ]
  },
  {
   "cell_type": "code",
   "execution_count": null,
   "id": "2855c66f",
   "metadata": {},
   "outputs": [],
   "source": []
  }
 ],
 "metadata": {
  "kernelspec": {
   "display_name": "Python 3 (ipykernel)",
   "language": "python",
   "name": "python3"
  },
  "language_info": {
   "codemirror_mode": {
    "name": "ipython",
    "version": 3
   },
   "file_extension": ".py",
   "mimetype": "text/x-python",
   "name": "python",
   "nbconvert_exporter": "python",
   "pygments_lexer": "ipython3",
   "version": "3.10.6"
  }
 },
 "nbformat": 4,
 "nbformat_minor": 5
}
