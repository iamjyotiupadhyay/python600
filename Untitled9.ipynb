{
 "cells": [
  {
   "cell_type": "code",
   "execution_count": 5,
   "id": "0f28ad51",
   "metadata": {},
   "outputs": [
    {
     "data": {
      "text/plain": [
       "'you'"
      ]
     },
     "execution_count": 5,
     "metadata": {},
     "output_type": "execute_result"
    }
   ],
   "source": [
    "text = \"you are my sunshine\"\n",
    "text[0:3]"
   ]
  },
  {
   "cell_type": "code",
   "execution_count": 10,
   "id": "6091a08c",
   "metadata": {},
   "outputs": [
    {
     "data": {
      "text/plain": [
       "'you are'"
      ]
     },
     "execution_count": 10,
     "metadata": {},
     "output_type": "execute_result"
    }
   ],
   "source": [
    "text[0:7]"
   ]
  },
  {
   "cell_type": "code",
   "execution_count": 11,
   "id": "b8fffb26",
   "metadata": {},
   "outputs": [
    {
     "data": {
      "text/plain": [
       "'you are'"
      ]
     },
     "execution_count": 11,
     "metadata": {},
     "output_type": "execute_result"
    }
   ],
   "source": [
    "text[:7]"
   ]
  },
  {
   "cell_type": "code",
   "execution_count": 12,
   "id": "c2dcc7a4",
   "metadata": {},
   "outputs": [
    {
     "data": {
      "text/plain": [
       "'you are my'"
      ]
     },
     "execution_count": 12,
     "metadata": {},
     "output_type": "execute_result"
    }
   ],
   "source": [
    "text[0:10]"
   ]
  },
  {
   "cell_type": "code",
   "execution_count": 16,
   "id": "1a03a04b",
   "metadata": {},
   "outputs": [
    {
     "data": {
      "text/plain": [
       "'my'"
      ]
     },
     "execution_count": 16,
     "metadata": {},
     "output_type": "execute_result"
    }
   ],
   "source": [
    "text[8:10]"
   ]
  },
  {
   "cell_type": "code",
   "execution_count": 17,
   "id": "9e89f89b",
   "metadata": {},
   "outputs": [
    {
     "data": {
      "text/plain": [
       "'you are my suns'"
      ]
     },
     "execution_count": 17,
     "metadata": {},
     "output_type": "execute_result"
    }
   ],
   "source": [
    "text[0:15]"
   ]
  },
  {
   "cell_type": "code",
   "execution_count": 21,
   "id": "a4f25ad5",
   "metadata": {},
   "outputs": [
    {
     "data": {
      "text/plain": [
       "'shine'"
      ]
     },
     "execution_count": 21,
     "metadata": {},
     "output_type": "execute_result"
    }
   ],
   "source": [
    "text[14:19]"
   ]
  },
  {
   "cell_type": "code",
   "execution_count": 25,
   "id": "0082ad60",
   "metadata": {},
   "outputs": [
    {
     "data": {
      "text/plain": [
       "'sun'"
      ]
     },
     "execution_count": 25,
     "metadata": {},
     "output_type": "execute_result"
    }
   ],
   "source": [
    "text[11:14]"
   ]
  },
  {
   "cell_type": "code",
   "execution_count": null,
   "id": "ad1416f7",
   "metadata": {},
   "outputs": [],
   "source": []
  }
 ],
 "metadata": {
  "kernelspec": {
   "display_name": "Python 3 (ipykernel)",
   "language": "python",
   "name": "python3"
  },
  "language_info": {
   "codemirror_mode": {
    "name": "ipython",
    "version": 3
   },
   "file_extension": ".py",
   "mimetype": "text/x-python",
   "name": "python",
   "nbconvert_exporter": "python",
   "pygments_lexer": "ipython3",
   "version": "3.10.6"
  }
 },
 "nbformat": 4,
 "nbformat_minor": 5
}
