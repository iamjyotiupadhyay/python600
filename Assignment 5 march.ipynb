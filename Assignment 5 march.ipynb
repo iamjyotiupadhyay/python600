{
 "cells": [
  {
   "cell_type": "code",
   "execution_count": 19,
   "id": "15951402",
   "metadata": {},
   "outputs": [
    {
     "name": "stdout",
     "output_type": "stream",
     "text": [
      "Square of number 1 is 1 \n",
      "Square of number 2 is 4 \n",
      "Square of number 3 is 9 \n",
      "Square of number 4 is 16 \n",
      "Square of number 5 is 25 \n",
      "Square of number 6 is 36 \n",
      "Square of number 7 is 49 \n",
      "Square of number 8 is 64 \n",
      "Square of number 9 is 81 \n",
      "Square of number 10 is 100 \n"
     ]
    }
   ],
   "source": [
    "#program1 :(i)Square from 1 to 10\n",
    "\n",
    "num_list = [1,2,3,4,5,6,7,8,9,10]\n",
    "for i in num_list:\n",
    "    print(f\"Square of number {i} is {i**2} \") \n",
    "    \n",
    "    #print(f\"Cube of number {i} is {i**3} \")\n",
    "    "
   ]
  },
  {
   "cell_type": "code",
   "execution_count": 20,
   "id": "ad9ff29c",
   "metadata": {},
   "outputs": [
    {
     "name": "stdout",
     "output_type": "stream",
     "text": [
      "Cube of number 0 is 0 \n",
      "Cube of number 1 is 1 \n",
      "Cube of number 2 is 8 \n",
      "Cube of number 3 is 27 \n",
      "Cube of number 4 is 64 \n",
      "Cube of number 5 is 125 \n",
      "Cube of number 6 is 216 \n",
      "Cube of number 7 is 343 \n",
      "Cube of number 8 is 512 \n",
      "Cube of number 9 is 729 \n",
      "Cube of number 10 is 1000 \n"
     ]
    }
   ],
   "source": [
    "#program 2: (ii)Cube from 1 to 10\n",
    "\n",
    "\n",
    "num_list1 = [0,1,2,3,4,5,6,7,8,9,10]\n",
    "for i1 in num_list1:\n",
    "     print(f\"Cube of number {i1} is {i1**3} \")"
   ]
  },
  {
   "cell_type": "markdown",
   "id": "ad17d919",
   "metadata": {},
   "source": [
    "# List Comprehension Examples .."
   ]
  },
  {
   "cell_type": "code",
   "execution_count": 6,
   "id": "ad09b332",
   "metadata": {},
   "outputs": [
    {
     "name": "stdout",
     "output_type": "stream",
     "text": [
      "[0, 2, 4, 6, 8, 10]\n"
     ]
    }
   ],
   "source": [
    "#Program 1:: print even number list\n",
    "\n",
    "list = [i for i in range(11) if i%2 == 0]\n",
    "print(list)"
   ]
  },
  {
   "cell_type": "code",
   "execution_count": 10,
   "id": "78297bd0",
   "metadata": {},
   "outputs": [
    {
     "data": {
      "text/plain": [
       "['banana']"
      ]
     },
     "execution_count": 10,
     "metadata": {},
     "output_type": "execute_result"
    }
   ],
   "source": [
    "[item for item in ['apple','mango','banana','orange'] if item == 'banana']"
   ]
  },
  {
   "cell_type": "code",
   "execution_count": 11,
   "id": "6b0048f5",
   "metadata": {},
   "outputs": [
    {
     "data": {
      "text/plain": [
       "[0, 2, 4, 6, 8, 10]"
      ]
     },
     "execution_count": 11,
     "metadata": {},
     "output_type": "execute_result"
    }
   ],
   "source": [
    "[i for i in range(11) if i%2 == 0]"
   ]
  },
  {
   "cell_type": "code",
   "execution_count": 19,
   "id": "148de3c2",
   "metadata": {},
   "outputs": [],
   "source": [
    "#program 2 : Matrix (nested list comprehension)\n",
    "\n",
    "matrix = [[j for j in range(4)]for i in range(2)]"
   ]
  },
  {
   "cell_type": "code",
   "execution_count": 20,
   "id": "4675df54",
   "metadata": {},
   "outputs": [
    {
     "data": {
      "text/plain": [
       "[[0, 1, 2, 3], [0, 1, 2, 3]]"
      ]
     },
     "execution_count": 20,
     "metadata": {},
     "output_type": "execute_result"
    }
   ],
   "source": [
    "matrix"
   ]
  },
  {
   "cell_type": "markdown",
   "id": "e9df65ae",
   "metadata": {},
   "source": [
    "# prgram 3 : use of Lambda & list comprehension both in one                                                           program"
   ]
  },
  {
   "cell_type": "code",
   "execution_count": 26,
   "id": "a8390ec4",
   "metadata": {},
   "outputs": [
    {
     "data": {
      "text/plain": [
       "[10, 20, 30, 40, 50]"
      ]
     },
     "execution_count": 26,
     "metadata": {},
     "output_type": "execute_result"
    }
   ],
   "source": [
    "#* (i) WITHOUT lambda \n",
    "\n",
    "[i*10 for i in range(1,6)]"
   ]
  },
  {
   "cell_type": "code",
   "execution_count": 36,
   "id": "6b52e7c1",
   "metadata": {},
   "outputs": [
    {
     "name": "stdout",
     "output_type": "stream",
     "text": [
      "(<function <lambda> at 0x10749a0e0>, [1, 2, 3, 4, 5])\n"
     ]
    }
   ],
   "source": [
    "#* (ii) WITH lambda\n",
    "\n",
    "#num = (lambda i: i*10, [i for i in range(1, 6)])\n",
    "print(num)\n",
    "\n",
    "#numbers = list(map(lambda i: i*10, [i for i in range(1, 6)]))"
   ]
  },
  {
   "cell_type": "code",
   "execution_count": 37,
   "id": "282a1dfa",
   "metadata": {},
   "outputs": [
    {
     "data": {
      "text/plain": [
       "(<function __main__.<lambda>(i)>, [1, 2, 3, 4, 5])"
      ]
     },
     "execution_count": 37,
     "metadata": {},
     "output_type": "execute_result"
    }
   ],
   "source": [
    "num"
   ]
  },
  {
   "cell_type": "code",
   "execution_count": null,
   "id": "054aa0d2",
   "metadata": {},
   "outputs": [],
   "source": []
  }
 ],
 "metadata": {
  "kernelspec": {
   "display_name": "Python 3 (ipykernel)",
   "language": "python",
   "name": "python3"
  },
  "language_info": {
   "codemirror_mode": {
    "name": "ipython",
    "version": 3
   },
   "file_extension": ".py",
   "mimetype": "text/x-python",
   "name": "python",
   "nbconvert_exporter": "python",
   "pygments_lexer": "ipython3",
   "version": "3.10.6"
  }
 },
 "nbformat": 4,
 "nbformat_minor": 5
}
