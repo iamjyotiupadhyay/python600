{
 "cells": [
  {
   "cell_type": "markdown",
   "id": "2db13091",
   "metadata": {},
   "source": [
    "# Variable name rules"
   ]
  },
  {
   "cell_type": "markdown",
   "id": "21af99d0",
   "metadata": {},
   "source": [
    "## Python keywords cannot be variable name\n",
    "\n",
    "Keywords are reserved words in python that healps us to write python syntax code .Therefore they cannot be variable names.\n",
    "\n",
    "Python keywords are case sensitive \n",
    "\n",
    "we cannot use keywords as variable and function "
   ]
  },
  {
   "cell_type": "code",
   "execution_count": 1,
   "id": "1097354e",
   "metadata": {},
   "outputs": [
    {
     "ename": "SyntaxError",
     "evalue": "cannot assign to False (1808597759.py, line 1)",
     "output_type": "error",
     "traceback": [
      "\u001b[0;36m  Cell \u001b[0;32mIn[1], line 1\u001b[0;36m\u001b[0m\n\u001b[0;31m    False = 8\u001b[0m\n\u001b[0m    ^\u001b[0m\n\u001b[0;31mSyntaxError\u001b[0m\u001b[0;31m:\u001b[0m cannot assign to False\n"
     ]
    }
   ],
   "source": [
    "False = 8"
   ]
  },
  {
   "cell_type": "code",
   "execution_count": 2,
   "id": "b14b01c8",
   "metadata": {},
   "outputs": [
    {
     "ename": "SyntaxError",
     "evalue": "invalid syntax (3095857709.py, line 1)",
     "output_type": "error",
     "traceback": [
      "\u001b[0;36m  Cell \u001b[0;32mIn[2], line 1\u001b[0;36m\u001b[0m\n\u001b[0;31m    global = 88\u001b[0m\n\u001b[0m           ^\u001b[0m\n\u001b[0;31mSyntaxError\u001b[0m\u001b[0;31m:\u001b[0m invalid syntax\n"
     ]
    }
   ],
   "source": [
    "global = 88\n"
   ]
  },
  {
   "cell_type": "markdown",
   "id": "ad4bf899",
   "metadata": {},
   "source": [
    "# Python keywords are case sensitive"
   ]
  },
  {
   "cell_type": "code",
   "execution_count": 3,
   "id": "129ff091",
   "metadata": {},
   "outputs": [],
   "source": [
    "false = 0"
   ]
  },
  {
   "cell_type": "code",
   "execution_count": 5,
   "id": "d821446c",
   "metadata": {},
   "outputs": [],
   "source": [
    "#Case Sensitive :: upper case & lower case are different ...eg: Python\n",
    "\n",
    "#Case insensitive :: upper case & lower case are same ...eg: SQL\n",
    "\n",
    "#We cannot use special symbols like ! ,@ ,#, % "
   ]
  },
  {
   "cell_type": "code",
   "execution_count": 6,
   "id": "52f73fc6",
   "metadata": {},
   "outputs": [
    {
     "ename": "SyntaxError",
     "evalue": "invalid syntax (2611104768.py, line 1)",
     "output_type": "error",
     "traceback": [
      "\u001b[0;36m  Cell \u001b[0;32mIn[6], line 1\u001b[0;36m\u001b[0m\n\u001b[0;31m    $ = 5\u001b[0m\n\u001b[0m    ^\u001b[0m\n\u001b[0;31mSyntaxError\u001b[0m\u001b[0;31m:\u001b[0m invalid syntax\n"
     ]
    }
   ],
   "source": [
    "$ = 5"
   ]
  },
  {
   "cell_type": "code",
   "execution_count": 7,
   "id": "6a2fef46",
   "metadata": {},
   "outputs": [
    {
     "ename": "SyntaxError",
     "evalue": "invalid syntax (3638744787.py, line 1)",
     "output_type": "error",
     "traceback": [
      "\u001b[0;36m  Cell \u001b[0;32mIn[7], line 1\u001b[0;36m\u001b[0m\n\u001b[0;31m    $ = jyoti\u001b[0m\n\u001b[0m    ^\u001b[0m\n\u001b[0;31mSyntaxError\u001b[0m\u001b[0;31m:\u001b[0m invalid syntax\n"
     ]
    }
   ],
   "source": [
    "$ = jyoti"
   ]
  },
  {
   "cell_type": "code",
   "execution_count": 8,
   "id": "c0fe9310",
   "metadata": {},
   "outputs": [
    {
     "ename": "SyntaxError",
     "evalue": "cannot assign to expression here. Maybe you meant '==' instead of '='? (3586081492.py, line 1)",
     "output_type": "error",
     "traceback": [
      "\u001b[0;36m  Cell \u001b[0;32mIn[8], line 1\u001b[0;36m\u001b[0m\n\u001b[0;31m    first-name = \"ritu\"\u001b[0m\n\u001b[0m    ^\u001b[0m\n\u001b[0;31mSyntaxError\u001b[0m\u001b[0;31m:\u001b[0m cannot assign to expression here. Maybe you meant '==' instead of '='?\n"
     ]
    }
   ],
   "source": [
    "first-name = \"ritu\""
   ]
  },
  {
   "cell_type": "code",
   "execution_count": 9,
   "id": "afa0bd1e",
   "metadata": {},
   "outputs": [],
   "source": [
    "first_name=\"ritu\""
   ]
  },
  {
   "cell_type": "code",
   "execution_count": 10,
   "id": "201f2a30",
   "metadata": {},
   "outputs": [
    {
     "ename": "SyntaxError",
     "evalue": "invalid syntax (1395289461.py, line 1)",
     "output_type": "error",
     "traceback": [
      "\u001b[0;36m  Cell \u001b[0;32mIn[10], line 1\u001b[0;36m\u001b[0m\n\u001b[0;31m    first name =\"ritu\"\u001b[0m\n\u001b[0m          ^\u001b[0m\n\u001b[0;31mSyntaxError\u001b[0m\u001b[0;31m:\u001b[0m invalid syntax\n"
     ]
    }
   ],
   "source": [
    "first name =\"ritu\""
   ]
  },
  {
   "cell_type": "code",
   "execution_count": 11,
   "id": "2fbe9793",
   "metadata": {},
   "outputs": [],
   "source": [
    "num1 = 5"
   ]
  },
  {
   "cell_type": "code",
   "execution_count": 12,
   "id": "54ca3bf6",
   "metadata": {},
   "outputs": [
    {
     "ename": "SyntaxError",
     "evalue": "invalid decimal literal (2805577133.py, line 1)",
     "output_type": "error",
     "traceback": [
      "\u001b[0;36m  Cell \u001b[0;32mIn[12], line 1\u001b[0;36m\u001b[0m\n\u001b[0;31m    1num = 4\u001b[0m\n\u001b[0m    ^\u001b[0m\n\u001b[0;31mSyntaxError\u001b[0m\u001b[0;31m:\u001b[0m invalid decimal literal\n"
     ]
    }
   ],
   "source": [
    "1num = 4"
   ]
  },
  {
   "cell_type": "code",
   "execution_count": 13,
   "id": "c8154187",
   "metadata": {},
   "outputs": [
    {
     "data": {
      "text/plain": [
       "int"
      ]
     },
     "execution_count": 13,
     "metadata": {},
     "output_type": "execute_result"
    }
   ],
   "source": [
    "type(num1)"
   ]
  },
  {
   "cell_type": "code",
   "execution_count": 14,
   "id": "0b792594",
   "metadata": {},
   "outputs": [],
   "source": [
    "num2again =9"
   ]
  },
  {
   "cell_type": "code",
   "execution_count": 15,
   "id": "220c7404",
   "metadata": {},
   "outputs": [
    {
     "ename": "SyntaxError",
     "evalue": "invalid decimal literal (3679241994.py, line 1)",
     "output_type": "error",
     "traceback": [
      "\u001b[0;36m  Cell \u001b[0;32mIn[15], line 1\u001b[0;36m\u001b[0m\n\u001b[0;31m    type(1num)\u001b[0m\n\u001b[0m         ^\u001b[0m\n\u001b[0;31mSyntaxError\u001b[0m\u001b[0;31m:\u001b[0m invalid decimal literal\n"
     ]
    }
   ],
   "source": [
    "type(1num)"
   ]
  },
  {
   "cell_type": "markdown",
   "id": "0beece7b",
   "metadata": {},
   "source": [
    "# python is case sensitive language"
   ]
  },
  {
   "cell_type": "code",
   "execution_count": 16,
   "id": "106a4f9b",
   "metadata": {},
   "outputs": [],
   "source": [
    "A = 'Apple'"
   ]
  },
  {
   "cell_type": "code",
   "execution_count": 17,
   "id": "11bbbb47",
   "metadata": {},
   "outputs": [],
   "source": [
    "a = 'any'"
   ]
  },
  {
   "cell_type": "code",
   "execution_count": 20,
   "id": "9d4af529",
   "metadata": {},
   "outputs": [
    {
     "data": {
      "text/plain": [
       "'Apple'"
      ]
     },
     "execution_count": 20,
     "metadata": {},
     "output_type": "execute_result"
    }
   ],
   "source": [
    "A       #no need to write print statement in jupyter"
   ]
  },
  {
   "cell_type": "code",
   "execution_count": 19,
   "id": "ea80a904",
   "metadata": {},
   "outputs": [
    {
     "data": {
      "text/plain": [
       "'any'"
      ]
     },
     "execution_count": 19,
     "metadata": {},
     "output_type": "execute_result"
    }
   ],
   "source": [
    "a"
   ]
  },
  {
   "cell_type": "markdown",
   "id": "1ecc2853",
   "metadata": {},
   "source": [
    "# format () and f string"
   ]
  },
  {
   "cell_type": "code",
   "execution_count": 23,
   "id": "39a75fa4",
   "metadata": {},
   "outputs": [
    {
     "name": "stdout",
     "output_type": "stream",
     "text": [
      "the first number is 80\n"
     ]
    }
   ],
   "source": [
    "first_num = 80\n",
    "print (f\"the first number is {first_num}\")"
   ]
  },
  {
   "cell_type": "code",
   "execution_count": 25,
   "id": "72c1e18e",
   "metadata": {},
   "outputs": [
    {
     "name": "stdout",
     "output_type": "stream",
     "text": [
      "the first number is 90\n"
     ]
    }
   ],
   "source": [
    "#format()\n",
    "\n",
    "first_num = 90\n",
    "print(\"the first number is {}\".format(first_num))"
   ]
  },
  {
   "cell_type": "code",
   "execution_count": 29,
   "id": "6f1a7f51",
   "metadata": {},
   "outputs": [
    {
     "name": "stdout",
     "output_type": "stream",
     "text": [
      "the first number is 4 and second number is 10 and total =14\n"
     ]
    }
   ],
   "source": [
    "a = 4\n",
    "b = 10\n",
    "total = a + b\n",
    "print(f\"the first number is {a} and second number is {b} and total ={total}\")"
   ]
  },
  {
   "cell_type": "code",
   "execution_count": null,
   "id": "6a410b3e",
   "metadata": {},
   "outputs": [],
   "source": []
  }
 ],
 "metadata": {
  "kernelspec": {
   "display_name": "Python 3 (ipykernel)",
   "language": "python",
   "name": "python3"
  },
  "language_info": {
   "codemirror_mode": {
    "name": "ipython",
    "version": 3
   },
   "file_extension": ".py",
   "mimetype": "text/x-python",
   "name": "python",
   "nbconvert_exporter": "python",
   "pygments_lexer": "ipython3",
   "version": "3.10.6"
  }
 },
 "nbformat": 4,
 "nbformat_minor": 5
}
