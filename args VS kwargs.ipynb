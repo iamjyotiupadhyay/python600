{
 "cells": [
  {
   "cell_type": "code",
   "execution_count": 1,
   "id": "2bb82e16",
   "metadata": {},
   "outputs": [],
   "source": [
    "def add(*args):\n",
    "    total = 0 \n",
    "    for item in args:\n",
    "        total = total + item\n",
    "        \n",
    "    return total"
   ]
  },
  {
   "cell_type": "code",
   "execution_count": 3,
   "id": "1ffe699f",
   "metadata": {},
   "outputs": [
    {
     "data": {
      "text/plain": [
       "10"
      ]
     },
     "execution_count": 3,
     "metadata": {},
     "output_type": "execute_result"
    }
   ],
   "source": [
    "add(1,2,3,4)"
   ]
  },
  {
   "cell_type": "code",
   "execution_count": 4,
   "id": "942b2d68",
   "metadata": {},
   "outputs": [],
   "source": [
    "#**Kwargs"
   ]
  },
  {
   "cell_type": "code",
   "execution_count": 5,
   "id": "747e3f48",
   "metadata": {},
   "outputs": [],
   "source": [
    "#def about(**kwargs):\n",
    "#    print(kwargs)\n",
    " #   print(type(kwargs))"
   ]
  },
  {
   "cell_type": "code",
   "execution_count": 9,
   "id": "280811bb",
   "metadata": {},
   "outputs": [],
   "source": [
    "#program 2: \n",
    "\n",
    "def add(*args):\n",
    "    total = 0\n",
    "    \n",
    "    \n",
    "    for n in args:\n",
    "        total = total + n\n",
    "    print(\"sum\",total)\n",
    "    "
   ]
  },
  {
   "cell_type": "code",
   "execution_count": 10,
   "id": "e06016e0",
   "metadata": {},
   "outputs": [
    {
     "name": "stdout",
     "output_type": "stream",
     "text": [
      "sum 14\n"
     ]
    }
   ],
   "source": [
    "add(3,5,6)"
   ]
  },
  {
   "cell_type": "code",
   "execution_count": 11,
   "id": "8ade4217",
   "metadata": {},
   "outputs": [
    {
     "name": "stdout",
     "output_type": "stream",
     "text": [
      "sum 21\n"
     ]
    }
   ],
   "source": [
    "add(3,5,6,7)"
   ]
  },
  {
   "cell_type": "code",
   "execution_count": null,
   "id": "7a51db5d",
   "metadata": {},
   "outputs": [],
   "source": []
  }
 ],
 "metadata": {
  "kernelspec": {
   "display_name": "Python 3 (ipykernel)",
   "language": "python",
   "name": "python3"
  },
  "language_info": {
   "codemirror_mode": {
    "name": "ipython",
    "version": 3
   },
   "file_extension": ".py",
   "mimetype": "text/x-python",
   "name": "python",
   "nbconvert_exporter": "python",
   "pygments_lexer": "ipython3",
   "version": "3.10.6"
  }
 },
 "nbformat": 4,
 "nbformat_minor": 5
}
