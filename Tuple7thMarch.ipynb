{
 "cells": [
  {
   "cell_type": "code",
   "execution_count": null,
   "id": "5ff5fe80",
   "metadata": {},
   "outputs": [],
   "source": [
    "#you cannot use list methods in Tuple\n",
    "\n",
    "cars = (\"audi\",\"mercedes\",\"bmw\")"
   ]
  },
  {
   "cell_type": "code",
   "execution_count": null,
   "id": "70f42de8",
   "metadata": {},
   "outputs": [],
   "source": [
    "#cars.append(\"tesla\")....gives error bcz tuple objects are immutable no method to append items"
   ]
  },
  {
   "cell_type": "code",
   "execution_count": null,
   "id": "62330f1b",
   "metadata": {},
   "outputs": [],
   "source": [
    "#typecasting in Tuple()\n",
    "\n",
    "cars = (\"audi\",\"mercedes\",\"bmw\")\n"
   ]
  },
  {
   "cell_type": "code",
   "execution_count": null,
   "id": "35191685",
   "metadata": {},
   "outputs": [],
   "source": [
    "id(cars)"
   ]
  },
  {
   "cell_type": "code",
   "execution_count": null,
   "id": "b67850f6",
   "metadata": {},
   "outputs": [],
   "source": [
    "cars = list(cars)  #typecaste tuple to list...tuple to list"
   ]
  },
  {
   "cell_type": "code",
   "execution_count": null,
   "id": "fae2b79b",
   "metadata": {},
   "outputs": [],
   "source": [
    "cars"
   ]
  },
  {
   "cell_type": "code",
   "execution_count": null,
   "id": "96f3d951",
   "metadata": {},
   "outputs": [],
   "source": [
    "id(cars) "
   ]
  },
  {
   "cell_type": "code",
   "execution_count": null,
   "id": "a5a2a9ab",
   "metadata": {},
   "outputs": [],
   "source": [
    "cars.append(\"bentely\")"
   ]
  },
  {
   "cell_type": "code",
   "execution_count": null,
   "id": "2a9468a9",
   "metadata": {},
   "outputs": [],
   "source": [
    "cars"
   ]
  },
  {
   "cell_type": "code",
   "execution_count": null,
   "id": "8b77270f",
   "metadata": {},
   "outputs": [],
   "source": [
    "cars = tuple(cars)    #convert into tuple"
   ]
  },
  {
   "cell_type": "code",
   "execution_count": null,
   "id": "ef82b4d9",
   "metadata": {},
   "outputs": [],
   "source": [
    "cars"
   ]
  },
  {
   "cell_type": "code",
   "execution_count": null,
   "id": "88cf8826",
   "metadata": {},
   "outputs": [],
   "source": [
    "#Loops in Tuple : find the mean"
   ]
  },
  {
   "cell_type": "code",
   "execution_count": 7,
   "id": "3fe3d17b",
   "metadata": {},
   "outputs": [],
   "source": [
    "data = (22,33,1,4,77,50,10)\n"
   ]
  },
  {
   "cell_type": "code",
   "execution_count": 8,
   "id": "090c87a0",
   "metadata": {},
   "outputs": [
    {
     "data": {
      "text/plain": [
       "(22, 33, 1, 4, 77, 50, 10)"
      ]
     },
     "execution_count": 8,
     "metadata": {},
     "output_type": "execute_result"
    }
   ],
   "source": [
    "data"
   ]
  },
  {
   "cell_type": "code",
   "execution_count": 9,
   "id": "74b95ebc",
   "metadata": {},
   "outputs": [
    {
     "name": "stdout",
     "output_type": "stream",
     "text": [
      "28.142857142857142\n"
     ]
    }
   ],
   "source": [
    "total = 0\n",
    "for i in range(len(data)):\n",
    "    total = total + data[i]\n",
    "mean = total /len(data)\n",
    "print(mean)"
   ]
  },
  {
   "cell_type": "code",
   "execution_count": 10,
   "id": "9c51ca79",
   "metadata": {},
   "outputs": [],
   "source": [
    "mean = sum(data)/len(data)"
   ]
  },
  {
   "cell_type": "code",
   "execution_count": null,
   "id": "3f50f68e",
   "metadata": {},
   "outputs": [],
   "source": []
  }
 ],
 "metadata": {
  "kernelspec": {
   "display_name": "Python 3 (ipykernel)",
   "language": "python",
   "name": "python3"
  },
  "language_info": {
   "codemirror_mode": {
    "name": "ipython",
    "version": 3
   },
   "file_extension": ".py",
   "mimetype": "text/x-python",
   "name": "python",
   "nbconvert_exporter": "python",
   "pygments_lexer": "ipython3",
   "version": "3.10.6"
  }
 },
 "nbformat": 4,
 "nbformat_minor": 5
}
