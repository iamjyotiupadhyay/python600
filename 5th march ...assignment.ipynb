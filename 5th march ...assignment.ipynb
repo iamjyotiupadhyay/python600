{
 "cells": [
  {
   "cell_type": "code",
   "execution_count": 3,
   "id": "12f3b652",
   "metadata": {},
   "outputs": [],
   "source": [
    "#Tuples are immutable\n",
    "Cars = ('tesla','audi','bmw','mercedes')\n"
   ]
  },
  {
   "cell_type": "code",
   "execution_count": 2,
   "id": "7f2fa428",
   "metadata": {},
   "outputs": [
    {
     "data": {
      "text/plain": [
       "'tesla'"
      ]
     },
     "execution_count": 2,
     "metadata": {},
     "output_type": "execute_result"
    }
   ],
   "source": [
    "Cars[0]"
   ]
  },
  {
   "cell_type": "code",
   "execution_count": null,
   "id": "da95f204",
   "metadata": {},
   "outputs": [],
   "source": []
  }
 ],
 "metadata": {
  "kernelspec": {
   "display_name": "Python 3 (ipykernel)",
   "language": "python",
   "name": "python3"
  },
  "language_info": {
   "codemirror_mode": {
    "name": "ipython",
    "version": 3
   },
   "file_extension": ".py",
   "mimetype": "text/x-python",
   "name": "python",
   "nbconvert_exporter": "python",
   "pygments_lexer": "ipython3",
   "version": "3.10.6"
  }
 },
 "nbformat": 4,
 "nbformat_minor": 5
}
