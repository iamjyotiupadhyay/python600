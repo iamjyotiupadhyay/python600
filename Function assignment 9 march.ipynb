{
 "cells": [
  {
   "cell_type": "markdown",
   "id": "f3b7a669",
   "metadata": {},
   "source": [
    "# Factorial\n",
    "\n",
    "     0! = 1\n",
    "     1! =1\n",
    "     2! = 2*1! = 2\n",
    "     3! = 3*2! = 6\n",
    "     4! = 4 * 3! =24\n",
    "     5! = 5 * 4! = 120\n"
   ]
  },
  {
   "cell_type": "code",
   "execution_count": null,
   "id": "9baa2f61",
   "metadata": {},
   "outputs": [],
   "source": [
    "#factorial of numbers \n",
    "\n",
    "def fact(num):  \n",
    "    if num == 0 or num == 1:\n",
    "        return 1\n",
    "    else:\n",
    "        factorial = num * fact(num-1)\n",
    "        num = 3\n",
    "        print(factorial)\n"
   ]
  },
  {
   "cell_type": "code",
   "execution_count": null,
   "id": "a1a3f597",
   "metadata": {},
   "outputs": [],
   "source": []
  },
  {
   "cell_type": "code",
   "execution_count": 11,
   "id": "227fc673",
   "metadata": {},
   "outputs": [],
   "source": [
    "#prime numbers \n",
    "\n",
    "def prime_number(n = 5):\n",
    "    for i in range(2,n):\n",
    "        if (n%i) == 0:\n",
    "            print(\"not a prime number\")\n",
    "        else:\n",
    "            print(\"prime number\")"
   ]
  },
  {
   "cell_type": "code",
   "execution_count": null,
   "id": "452b1ae1",
   "metadata": {},
   "outputs": [],
   "source": []
  }
 ],
 "metadata": {
  "kernelspec": {
   "display_name": "Python 3 (ipykernel)",
   "language": "python",
   "name": "python3"
  },
  "language_info": {
   "codemirror_mode": {
    "name": "ipython",
    "version": 3
   },
   "file_extension": ".py",
   "mimetype": "text/x-python",
   "name": "python",
   "nbconvert_exporter": "python",
   "pygments_lexer": "ipython3",
   "version": "3.10.6"
  }
 },
 "nbformat": 4,
 "nbformat_minor": 5
}
