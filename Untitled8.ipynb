{
 "cells": [
  {
   "cell_type": "code",
   "execution_count": 4,
   "id": "63ccb6d5",
   "metadata": {},
   "outputs": [],
   "source": [
    "msg1 = 'hi'\n",
    "msg2 = \"hi\"\n",
    "\n",
    "assert msg1 == msg2"
   ]
  },
  {
   "cell_type": "markdown",
   "id": "55b28b15",
   "metadata": {},
   "source": [
    "# single line and multi line string in python"
   ]
  },
  {
   "cell_type": "code",
   "execution_count": 5,
   "id": "64c57f12",
   "metadata": {},
   "outputs": [],
   "source": [
    "msg ='hi , you free today?'   #single line string"
   ]
  },
  {
   "cell_type": "code",
   "execution_count": 10,
   "id": "c3531856",
   "metadata": {},
   "outputs": [
    {
     "name": "stdout",
     "output_type": "stream",
     "text": [
      "computer is an \n",
      "electronic machine.There are\n",
      "3 types of \n",
      "languages in computer :\n",
      "LLL,\n",
      "HLL,\n",
      "MLL\n"
     ]
    }
   ],
   "source": [
    "paragraph =\"\"\"computer is an \n",
    "electronic machine.There are\n",
    "3 types of \n",
    "languages in computer :\n",
    "LLL,\n",
    "HLL,\n",
    "MLL\"\"\"\n",
    "\n",
    "print(paragraph)"
   ]
  },
  {
   "cell_type": "code",
   "execution_count": 11,
   "id": "b7f5b8a3",
   "metadata": {},
   "outputs": [
    {
     "data": {
      "text/plain": [
       "'computer is an \\nelectronic machine.There are\\n3 types of \\nlanguages in computer :\\nLLL,\\nHLL,\\nMLL'"
      ]
     },
     "execution_count": 11,
     "metadata": {},
     "output_type": "execute_result"
    }
   ],
   "source": [
    "paragraph"
   ]
  },
  {
   "cell_type": "markdown",
   "id": "fc6863c0",
   "metadata": {},
   "source": [
    "# indexing and slicing"
   ]
  },
  {
   "cell_type": "code",
   "execution_count": 12,
   "id": "930051b4",
   "metadata": {},
   "outputs": [
    {
     "data": {
      "text/plain": [
       "'e'"
      ]
     },
     "execution_count": 12,
     "metadata": {},
     "output_type": "execute_result"
    }
   ],
   "source": [
    "msg =\"hello world\"\n",
    "msg[1]"
   ]
  },
  {
   "cell_type": "code",
   "execution_count": 13,
   "id": "88d9be4c",
   "metadata": {},
   "outputs": [
    {
     "data": {
      "text/plain": [
       "'h'"
      ]
     },
     "execution_count": 13,
     "metadata": {},
     "output_type": "execute_result"
    }
   ],
   "source": [
    "msg[0]   #indexing always start from 'zero'"
   ]
  },
  {
   "cell_type": "code",
   "execution_count": 14,
   "id": "e741220d",
   "metadata": {},
   "outputs": [
    {
     "data": {
      "text/plain": [
       "11"
      ]
     },
     "execution_count": 14,
     "metadata": {},
     "output_type": "execute_result"
    }
   ],
   "source": [
    "len(msg)"
   ]
  },
  {
   "cell_type": "code",
   "execution_count": 15,
   "id": "de18f19d",
   "metadata": {},
   "outputs": [
    {
     "data": {
      "text/plain": [
       "'o'"
      ]
     },
     "execution_count": 15,
     "metadata": {},
     "output_type": "execute_result"
    }
   ],
   "source": [
    "msg[7]"
   ]
  },
  {
   "cell_type": "code",
   "execution_count": 16,
   "id": "72a2ac0f",
   "metadata": {},
   "outputs": [
    {
     "data": {
      "text/plain": [
       "'r'"
      ]
     },
     "execution_count": 16,
     "metadata": {},
     "output_type": "execute_result"
    }
   ],
   "source": [
    "msg[8]"
   ]
  },
  {
   "cell_type": "markdown",
   "id": "229e2fab",
   "metadata": {},
   "source": [
    "# slicing"
   ]
  },
  {
   "cell_type": "code",
   "execution_count": 18,
   "id": "7dc83f35",
   "metadata": {},
   "outputs": [],
   "source": [
    "msg = \"hello world\""
   ]
  },
  {
   "cell_type": "code",
   "execution_count": 19,
   "id": "3fe4f9b0",
   "metadata": {},
   "outputs": [
    {
     "data": {
      "text/plain": [
       "'hello'"
      ]
     },
     "execution_count": 19,
     "metadata": {},
     "output_type": "execute_result"
    }
   ],
   "source": [
    "msg[0:5]"
   ]
  },
  {
   "cell_type": "code",
   "execution_count": 25,
   "id": "3989f106",
   "metadata": {},
   "outputs": [
    {
     "data": {
      "text/plain": [
       "' world'"
      ]
     },
     "execution_count": 25,
     "metadata": {},
     "output_type": "execute_result"
    }
   ],
   "source": [
    "msg[5:11]"
   ]
  },
  {
   "cell_type": "code",
   "execution_count": 26,
   "id": "e9a48c8d",
   "metadata": {},
   "outputs": [
    {
     "data": {
      "text/plain": [
       "'lo wo'"
      ]
     },
     "execution_count": 26,
     "metadata": {},
     "output_type": "execute_result"
    }
   ],
   "source": [
    "msg[3:8]"
   ]
  },
  {
   "cell_type": "code",
   "execution_count": 27,
   "id": "303e356e",
   "metadata": {},
   "outputs": [
    {
     "data": {
      "text/plain": [
       "'hello'"
      ]
     },
     "execution_count": 27,
     "metadata": {},
     "output_type": "execute_result"
    }
   ],
   "source": [
    "msg[:5]"
   ]
  },
  {
   "cell_type": "code",
   "execution_count": 28,
   "id": "92a7b486",
   "metadata": {},
   "outputs": [
    {
     "data": {
      "text/plain": [
       "'world'"
      ]
     },
     "execution_count": 28,
     "metadata": {},
     "output_type": "execute_result"
    }
   ],
   "source": [
    "msg[6:]"
   ]
  },
  {
   "cell_type": "code",
   "execution_count": 29,
   "id": "918d4d69",
   "metadata": {},
   "outputs": [
    {
     "data": {
      "text/plain": [
       "'hello'"
      ]
     },
     "execution_count": 29,
     "metadata": {},
     "output_type": "execute_result"
    }
   ],
   "source": [
    "msg[0:5]"
   ]
  },
  {
   "cell_type": "code",
   "execution_count": 33,
   "id": "f73c6f5b",
   "metadata": {},
   "outputs": [
    {
     "data": {
      "text/plain": [
       "'hlow'"
      ]
     },
     "execution_count": 33,
     "metadata": {},
     "output_type": "execute_result"
    }
   ],
   "source": [
    "msg [0:8:2]"
   ]
  },
  {
   "cell_type": "code",
   "execution_count": null,
   "id": "b852778e",
   "metadata": {},
   "outputs": [],
   "source": []
  }
 ],
 "metadata": {
  "kernelspec": {
   "display_name": "Python 3 (ipykernel)",
   "language": "python",
   "name": "python3"
  },
  "language_info": {
   "codemirror_mode": {
    "name": "ipython",
    "version": 3
   },
   "file_extension": ".py",
   "mimetype": "text/x-python",
   "name": "python",
   "nbconvert_exporter": "python",
   "pygments_lexer": "ipython3",
   "version": "3.10.6"
  }
 },
 "nbformat": 4,
 "nbformat_minor": 5
}
