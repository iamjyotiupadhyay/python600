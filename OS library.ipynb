{
 "cells": [
  {
   "cell_type": "code",
   "execution_count": 1,
   "id": "10fe0d44",
   "metadata": {},
   "outputs": [],
   "source": [
    "import os"
   ]
  },
  {
   "cell_type": "code",
   "execution_count": 4,
   "id": "167ea9da",
   "metadata": {},
   "outputs": [
    {
     "data": {
      "text/plain": [
       "['home Practice.ipynb',\n",
       " 'recursion  and pass.ipynb',\n",
       " 'Untitled10.ipynb',\n",
       " 'Untitled7.ipynb',\n",
       " 'updating variable .ipynb',\n",
       " 'Sets7thMarch.ipynb',\n",
       " '5th march ...assignment.ipynb',\n",
       " 'Arithmetic operator in python.ipynb',\n",
       " 'Assignment Questions .ipynb',\n",
       " 'user input.ipynb',\n",
       " 'Untitled12.ipynb',\n",
       " 'Untitled5.ipynb',\n",
       " 'Untitled1.ipynb',\n",
       " 'student.db-journal',\n",
       " 'Untitled16.ipynb',\n",
       " 'while loop.ipynb',\n",
       " 'Membership Operator.ipynb',\n",
       " 'Assignment CLASS solution.ipynb',\n",
       " 'Untitled3.ipynb',\n",
       " 'Untitled14.ipynb',\n",
       " 'Untitled.ipynb',\n",
       " 'DictionaryInPython .ipynb',\n",
       " '26thFebruary NESTING & CHAINING.ipynb',\n",
       " 'Function assignment 9 march.ipynb',\n",
       " 'Tuple...5th march.ipynb',\n",
       " 'python intro.ipynb',\n",
       " 'Untitled4.ipynb',\n",
       " 'vowel, consonant ,Find mean , for ..item loop vs for ..range loop.ipynb',\n",
       " 'Untitled13.ipynb',\n",
       " 'nesting.ipynb',\n",
       " 'Untitled6.ipynb',\n",
       " 'Untitled11.ipynb',\n",
       " '12 march assignment.ipynb',\n",
       " 'Assignment 28 feb.ipynb',\n",
       " 'Dictionary.ipynb',\n",
       " 'Untitled15.ipynb',\n",
       " '2nd march 2023.ipynb',\n",
       " 'Untitled2.ipynb',\n",
       " 'PYTHON string.ipynb',\n",
       " 'String slicing .ipynb',\n",
       " 'SQL.ipynb',\n",
       " 'None..datatype.5th march.ipynb',\n",
       " 'student.db',\n",
       " 'class work.ipynb',\n",
       " 'Untitled17.ipynb',\n",
       " 'Dynamic Typing.ipynb',\n",
       " 'list comprehension1.ipynb',\n",
       " 'Tuple7thMarch.ipynb',\n",
       " 'Dictionary8March.ipynb',\n",
       " 'Assignment Solution 28 feb.ipynb',\n",
       " 'RE vise class 26th feb.ipynb',\n",
       " 'Untitled26.ipynb',\n",
       " 'Strings Methods 28 feb.ipynb',\n",
       " '28 February -- FOR loop.ipynb',\n",
       " 'python numbers.ipynb',\n",
       " 'inheritance.ipynb',\n",
       " 'Untitled24.ipynb',\n",
       " 'Untitled19.ipynb',\n",
       " 'exception  .ipynb',\n",
       " 'AccessSpecifiers.ipynb',\n",
       " 'Untitled20.ipynb',\n",
       " 'class object inheritance.ipynb',\n",
       " 'Untitled8.ipynb',\n",
       " 'Comparison operator.ipynb',\n",
       " 'Untitled22.ipynb',\n",
       " 'Self Prg1.ipynb',\n",
       " 'FOR LOOP 27th feb.ipynb',\n",
       " '.ipynb_checkpoints',\n",
       " 'Untitled18.ipynb',\n",
       " 'Untitled25.ipynb',\n",
       " 'Local and Global scope in python.ipynb',\n",
       " 'typecasting.ipynb',\n",
       " 'lambda function.ipynb',\n",
       " 'python Function .ipynb',\n",
       " 'Untitled23.ipynb',\n",
       " 'Untitled9.ipynb',\n",
       " '__init__(self).ipynb',\n",
       " 'python programs.ipynb',\n",
       " 'Assignment 5 march.ipynb',\n",
       " 'exception handling.ipynb',\n",
       " 'OS library.ipynb',\n",
       " '#  program 1 : : BMI calculator.ipynb',\n",
       " '2nd march Assignment do it.ipynb',\n",
       " 'FOR..CONTINUE..BREAK 28 feb.ipynb',\n",
       " 'Untitled21.ipynb',\n",
       " 'args VS kwargs.ipynb']"
      ]
     },
     "execution_count": 4,
     "metadata": {},
     "output_type": "execute_result"
    }
   ],
   "source": [
    "#list all file and folder of current directory\n",
    "\n",
    "os.listdir()"
   ]
  },
  {
   "cell_type": "code",
   "execution_count": 5,
   "id": "b713c563",
   "metadata": {},
   "outputs": [
    {
     "data": {
      "text/plain": [
       "'/Users/jyotiUpadhyay/Desktop/Python600'"
      ]
     },
     "execution_count": 5,
     "metadata": {},
     "output_type": "execute_result"
    }
   ],
   "source": [
    "#ABSOLUTE path of current directory\n",
    "\n",
    "os.getcwd()"
   ]
  },
  {
   "cell_type": "code",
   "execution_count": 6,
   "id": "63c21f34",
   "metadata": {},
   "outputs": [
    {
     "data": {
      "text/plain": [
       "'/Users/jyotiUpadhyay/Desktop/Python600/student.db'"
      ]
     },
     "execution_count": 6,
     "metadata": {},
     "output_type": "execute_result"
    }
   ],
   "source": [
    "#File path are relative or absolute\n",
    "\n",
    "os.path.abspath('student.db')"
   ]
  },
  {
   "cell_type": "code",
   "execution_count": 8,
   "id": "99e9e99e",
   "metadata": {},
   "outputs": [
    {
     "data": {
      "text/plain": [
       "'student.db'"
      ]
     },
     "execution_count": 8,
     "metadata": {},
     "output_type": "execute_result"
    }
   ],
   "source": [
    "#relative path\n",
    "\n",
    "os.path.relpath('student.db')"
   ]
  },
  {
   "cell_type": "code",
   "execution_count": null,
   "id": "7ef75c9a",
   "metadata": {},
   "outputs": [],
   "source": []
  }
 ],
 "metadata": {
  "kernelspec": {
   "display_name": "Python 3 (ipykernel)",
   "language": "python",
   "name": "python3"
  },
  "language_info": {
   "codemirror_mode": {
    "name": "ipython",
    "version": 3
   },
   "file_extension": ".py",
   "mimetype": "text/x-python",
   "name": "python",
   "nbconvert_exporter": "python",
   "pygments_lexer": "ipython3",
   "version": "3.10.6"
  }
 },
 "nbformat": 4,
 "nbformat_minor": 5
}
