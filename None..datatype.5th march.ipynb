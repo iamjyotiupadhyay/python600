{
 "cells": [
  {
   "cell_type": "code",
   "execution_count": 2,
   "id": "ae993a73",
   "metadata": {},
   "outputs": [],
   "source": [
    "x = None"
   ]
  },
  {
   "cell_type": "code",
   "execution_count": 3,
   "id": "6f577864",
   "metadata": {},
   "outputs": [
    {
     "data": {
      "text/plain": [
       "False"
      ]
     },
     "execution_count": 3,
     "metadata": {},
     "output_type": "execute_result"
    }
   ],
   "source": [
    "x == 0"
   ]
  },
  {
   "cell_type": "code",
   "execution_count": 4,
   "id": "a7d2fe8a",
   "metadata": {},
   "outputs": [
    {
     "data": {
      "text/plain": [
       "False"
      ]
     },
     "execution_count": 4,
     "metadata": {},
     "output_type": "execute_result"
    }
   ],
   "source": [
    "x == ' '"
   ]
  },
  {
   "cell_type": "code",
   "execution_count": 5,
   "id": "f5459546",
   "metadata": {},
   "outputs": [
    {
     "data": {
      "text/plain": [
       "False"
      ]
     },
     "execution_count": 5,
     "metadata": {},
     "output_type": "execute_result"
    }
   ],
   "source": [
    "x == False"
   ]
  },
  {
   "cell_type": "code",
   "execution_count": 6,
   "id": "37084d77",
   "metadata": {},
   "outputs": [
    {
     "data": {
      "text/plain": [
       "NoneType"
      ]
     },
     "execution_count": 6,
     "metadata": {},
     "output_type": "execute_result"
    }
   ],
   "source": [
    "#NONE datatype..\n",
    "\n",
    "type(x)"
   ]
  },
  {
   "cell_type": "code",
   "execution_count": 7,
   "id": "1ce897d1",
   "metadata": {},
   "outputs": [],
   "source": [
    "#only none can be none"
   ]
  },
  {
   "cell_type": "code",
   "execution_count": 8,
   "id": "3703c9e6",
   "metadata": {},
   "outputs": [],
   "source": [
    "x = None"
   ]
  },
  {
   "cell_type": "code",
   "execution_count": 9,
   "id": "a5b37d96",
   "metadata": {},
   "outputs": [
    {
     "data": {
      "text/plain": [
       "True"
      ]
     },
     "execution_count": 9,
     "metadata": {},
     "output_type": "execute_result"
    }
   ],
   "source": [
    "x == None #nvr do this"
   ]
  },
  {
   "cell_type": "code",
   "execution_count": 10,
   "id": "530c0669",
   "metadata": {},
   "outputs": [],
   "source": [
    "#identity opertaor in python"
   ]
  },
  {
   "cell_type": "code",
   "execution_count": 11,
   "id": "9a3d935e",
   "metadata": {},
   "outputs": [],
   "source": [
    "x = None\n"
   ]
  },
  {
   "cell_type": "code",
   "execution_count": 12,
   "id": "7a08662d",
   "metadata": {},
   "outputs": [
    {
     "data": {
      "text/plain": [
       "True"
      ]
     },
     "execution_count": 12,
     "metadata": {},
     "output_type": "execute_result"
    }
   ],
   "source": [
    "x is None #do this to check"
   ]
  },
  {
   "cell_type": "code",
   "execution_count": 13,
   "id": "a0410ba6",
   "metadata": {},
   "outputs": [
    {
     "data": {
      "text/plain": [
       "4322436752"
      ]
     },
     "execution_count": 13,
     "metadata": {},
     "output_type": "execute_result"
    }
   ],
   "source": [
    "id(x)"
   ]
  },
  {
   "cell_type": "code",
   "execution_count": 16,
   "id": "d278ea50",
   "metadata": {},
   "outputs": [
    {
     "data": {
      "text/plain": [
       "4322436752"
      ]
     },
     "execution_count": 16,
     "metadata": {},
     "output_type": "execute_result"
    }
   ],
   "source": [
    "id(None)   #both id we have in X and None"
   ]
  },
  {
   "cell_type": "code",
   "execution_count": 17,
   "id": "2df23baa",
   "metadata": {},
   "outputs": [
    {
     "name": "stdout",
     "output_type": "stream",
     "text": [
      "True\n",
      "False\n",
      "True\n"
     ]
    }
   ],
   "source": [
    "x = None\n",
    "print(x is None)\n",
    "print(x is not None)\n",
    "print(x is not float)"
   ]
  },
  {
   "cell_type": "code",
   "execution_count": 19,
   "id": "3562aae3",
   "metadata": {},
   "outputs": [
    {
     "data": {
      "text/plain": [
       "NoneType"
      ]
     },
     "execution_count": 19,
     "metadata": {},
     "output_type": "execute_result"
    }
   ],
   "source": [
    "#to check datatype\n",
    "a = None\n",
    "type(a)"
   ]
  },
  {
   "cell_type": "code",
   "execution_count": null,
   "id": "7b5dc5f4",
   "metadata": {},
   "outputs": [],
   "source": []
  }
 ],
 "metadata": {
  "kernelspec": {
   "display_name": "Python 3 (ipykernel)",
   "language": "python",
   "name": "python3"
  },
  "language_info": {
   "codemirror_mode": {
    "name": "ipython",
    "version": 3
   },
   "file_extension": ".py",
   "mimetype": "text/x-python",
   "name": "python",
   "nbconvert_exporter": "python",
   "pygments_lexer": "ipython3",
   "version": "3.10.6"
  }
 },
 "nbformat": 4,
 "nbformat_minor": 5
}
