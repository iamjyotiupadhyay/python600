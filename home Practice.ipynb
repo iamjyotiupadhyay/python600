{
 "cells": [
  {
   "cell_type": "code",
   "execution_count": null,
   "id": "388ff207",
   "metadata": {},
   "outputs": [],
   "source": [
    "# String datatype example"
   ]
  },
  {
   "cell_type": "code",
   "execution_count": 3,
   "id": "f5bc58bf",
   "metadata": {},
   "outputs": [
    {
     "name": "stdout",
     "output_type": "stream",
     "text": [
      "of class 7th\n",
      "hello students of class 7th\n"
     ]
    }
   ],
   "source": [
    "x = \"hello\"\n",
    "y = \"students\"\n",
    "z = input()\n",
    "print(x,y,z)"
   ]
  },
  {
   "cell_type": "code",
   "execution_count": 4,
   "id": "21cfa630",
   "metadata": {},
   "outputs": [],
   "source": [
    "# list examples "
   ]
  },
  {
   "cell_type": "code",
   "execution_count": 5,
   "id": "842325b6",
   "metadata": {},
   "outputs": [
    {
     "name": "stdout",
     "output_type": "stream",
     "text": [
      "['apple', 'kiwi', 'banana']\n"
     ]
    }
   ],
   "source": [
    "Fruits = ['apple','kiwi','banana']\n",
    "print(Fruits)"
   ]
  },
  {
   "cell_type": "code",
   "execution_count": 7,
   "id": "f1a5b120",
   "metadata": {},
   "outputs": [
    {
     "name": "stdout",
     "output_type": "stream",
     "text": [
      "['apple', 'apple', 'kiwi', 'banana', 'orange']\n"
     ]
    }
   ],
   "source": [
    "Fruits = ['apple','apple','kiwi','banana','orange']\n",
    "print(Fruits)"
   ]
  },
  {
   "cell_type": "code",
   "execution_count": null,
   "id": "76a582b7",
   "metadata": {},
   "outputs": [],
   "source": []
  }
 ],
 "metadata": {
  "kernelspec": {
   "display_name": "Python 3 (ipykernel)",
   "language": "python",
   "name": "python3"
  },
  "language_info": {
   "codemirror_mode": {
    "name": "ipython",
    "version": 3
   },
   "file_extension": ".py",
   "mimetype": "text/x-python",
   "name": "python",
   "nbconvert_exporter": "python",
   "pygments_lexer": "ipython3",
   "version": "3.10.6"
  }
 },
 "nbformat": 4,
 "nbformat_minor": 5
}
