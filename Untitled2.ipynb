{
 "cells": [
  {
   "cell_type": "markdown",
   "id": "bbb269c2",
   "metadata": {},
   "source": [
    "# sphere"
   ]
  },
  {
   "cell_type": "markdown",
   "id": "01fa4490",
   "metadata": {},
   "source": [
    "$$V = \\frac{4}{3} \\ pi \\cdot r^3$$"
   ]
  },
  {
   "cell_type": "code",
   "execution_count": 2,
   "id": "b6c3832c",
   "metadata": {},
   "outputs": [
    {
     "name": "stdout",
     "output_type": "stream",
     "text": [
      "523.3333333333334\n"
     ]
    }
   ],
   "source": [
    "radius = 5\n",
    "PI = 3.14\n",
    "volume =4/3 * PI * radius ** 3\n",
    "print(volume)"
   ]
  },
  {
   "cell_type": "markdown",
   "id": "3fcf915c",
   "metadata": {},
   "source": [
    "# Check positive and negative number"
   ]
  },
  {
   "cell_type": "code",
   "execution_count": 6,
   "id": "7ffc6d64",
   "metadata": {},
   "outputs": [
    {
     "name": "stdout",
     "output_type": "stream",
     "text": [
      "enter a number:8\n",
      "number 8.0 is positive:\n"
     ]
    }
   ],
   "source": [
    "num = float(input(\"enter a number:\"))\n",
    "if num < 0:\n",
    "    print(f\"number {num} is negative:\")\n",
    "else:\n",
    "    print(f\"number {num} is positive:\")"
   ]
  },
  {
   "cell_type": "markdown",
   "id": "52657aa5",
   "metadata": {},
   "source": [
    "# Given number multiple of 5"
   ]
  },
  {
   "cell_type": "code",
   "execution_count": null,
   "id": "2ac2cd23",
   "metadata": {},
   "outputs": [],
   "source": [
    "num = int(input(\"enter a number :\"))\n"
   ]
  },
  {
   "cell_type": "markdown",
   "id": "42d3b4fb",
   "metadata": {},
   "source": [
    "# voting "
   ]
  },
  {
   "cell_type": "code",
   "execution_count": null,
   "id": "fbb31b82",
   "metadata": {},
   "outputs": [],
   "source": [
    "age = int(input(\"enter your age :\"))\n",
    "\n",
    "if age >= 18:                              \n",
    "      print(\"eligible\")\n",
    "        \n",
    "else:\n",
    "     print(\"not eligible\")"
   ]
  },
  {
   "cell_type": "markdown",
   "id": "90f5e4a9",
   "metadata": {},
   "source": [
    "# last digit divide by 3"
   ]
  },
  {
   "cell_type": "code",
   "execution_count": null,
   "id": "efa7d01b",
   "metadata": {},
   "outputs": [],
   "source": []
  }
 ],
 "metadata": {
  "kernelspec": {
   "display_name": "Python 3 (ipykernel)",
   "language": "python",
   "name": "python3"
  },
  "language_info": {
   "codemirror_mode": {
    "name": "ipython",
    "version": 3
   },
   "file_extension": ".py",
   "mimetype": "text/x-python",
   "name": "python",
   "nbconvert_exporter": "python",
   "pygments_lexer": "ipython3",
   "version": "3.10.6"
  }
 },
 "nbformat": 4,
 "nbformat_minor": 5
}
