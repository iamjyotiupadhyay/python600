{
 "cells": [
  {
   "cell_type": "markdown",
   "id": "bdfa9ff0",
   "metadata": {},
   "source": [
    "# program1 ::  last digit is divisible by 3 or not"
   ]
  },
  {
   "cell_type": "code",
   "execution_count": 4,
   "id": "992a2535",
   "metadata": {},
   "outputs": [
    {
     "name": "stdout",
     "output_type": "stream",
     "text": [
      "enter number:5\n",
      "5\n",
      " the number 5 last digit 5 is not divisble by 3\n"
     ]
    }
   ],
   "source": [
    "num = int(input (\"enter number:\"))\n",
    "last_digit = num%10\n",
    "print(last_digit)\n",
    "if(last_digit%3 == 0):\n",
    "    print(f\"the number {num} last digit {last_digit} is divisble by 3\")\n",
    "    \n",
    "else:\n",
    "    print(f\" the number {num} last digit {last_digit} is not divisble by 3\")\n",
    "\n",
    "\n"
   ]
  },
  {
   "cell_type": "markdown",
   "id": "2a62205f",
   "metadata": {},
   "source": [
    "# program 2 :: find the volume of sphere"
   ]
  },
  {
   "cell_type": "code",
   "execution_count": 6,
   "id": "0745ced9",
   "metadata": {},
   "outputs": [
    {
     "name": "stdout",
     "output_type": "stream",
     "text": [
      "find the volume of given radius :\n",
      "523.3333333333334\n"
     ]
    }
   ],
   "source": [
    " print(\"find the volume of given radius :\")\n",
    "R = 5\n",
    "pi = 3.14\n",
    "volume =(4/3)*pi*R**3\n",
    "print(volume)"
   ]
  },
  {
   "cell_type": "markdown",
   "id": "8479de99",
   "metadata": {},
   "source": [
    "# program 3 :: a person is eligible for voting or not"
   ]
  },
  {
   "cell_type": "code",
   "execution_count": 2,
   "id": "fede4a42",
   "metadata": {},
   "outputs": [
    {
     "name": "stdout",
     "output_type": "stream",
     "text": [
      "enter your age:7\n",
      "you are not eligible for voting\n"
     ]
    }
   ],
   "source": [
    "user_age = int(input(\"enter your age:\"))\n",
    "\n",
    "if(user_age >= 18):\n",
    "    print(\"you are eligible for voting\")  \n",
    "else:\n",
    "    print(\"you are not eligible for voting\")\n"
   ]
  },
  {
   "cell_type": "markdown",
   "id": "2fced0c2",
   "metadata": {},
   "source": [
    "# program 4 :: WAP to display \"hello\"if a number is multiple of 5"
   ]
  },
  {
   "cell_type": "code",
   "execution_count": 13,
   "id": "fab7a17e",
   "metadata": {},
   "outputs": [
    {
     "name": "stdout",
     "output_type": "stream",
     "text": [
      "Enter any number:13\n",
      "bye!\n"
     ]
    }
   ],
   "source": [
    "num = int(input(\"Enter any number:\"))\n",
    "rem = num % 5\n",
    "if(rem == 0):\n",
    "    print(\"Hello\")\n",
    "    \n",
    "else :\n",
    "    print(\"bye!\")"
   ]
  },
  {
   "cell_type": "markdown",
   "id": "4961fbf4",
   "metadata": {},
   "source": [
    "# program 5 :: check given number is positive or negative"
   ]
  },
  {
   "cell_type": "code",
   "execution_count": 3,
   "id": "0a8e1655",
   "metadata": {},
   "outputs": [
    {
     "name": "stdout",
     "output_type": "stream",
     "text": [
      "enter any number-3\n",
      "Given number is negative\n"
     ]
    }
   ],
   "source": [
    "num = int(input(\"enter any number\"))\n",
    "if(num > 0):\n",
    "    print(\"Given number is positive\")\n",
    "    \n",
    "else:\n",
    "    print(\"Given number is negative\")"
   ]
  },
  {
   "cell_type": "markdown",
   "id": "a5b5c60f",
   "metadata": {},
   "source": [
    "# program 6:: start a python interpreter & use it as a calculator"
   ]
  },
  {
   "cell_type": "code",
   "execution_count": 1,
   "id": "a0b13b0c",
   "metadata": {},
   "outputs": [],
   "source": [
    "#part 1 : find total seconds"
   ]
  },
  {
   "cell_type": "code",
   "execution_count": 10,
   "id": "123940d9",
   "metadata": {},
   "outputs": [
    {
     "name": "stdout",
     "output_type": "stream",
     "text": [
      "2562\n"
     ]
    }
   ],
   "source": [
    "min = 42\n",
    "sec = 42\n",
    "total_sec = ((min*60)+42)\n",
    "print(total_sec)"
   ]
  },
  {
   "cell_type": "code",
   "execution_count": 4,
   "id": "0f0a9023",
   "metadata": {},
   "outputs": [],
   "source": [
    "#part 2 : find total miles"
   ]
  },
  {
   "cell_type": "code",
   "execution_count": 11,
   "id": "c11d9145",
   "metadata": {},
   "outputs": [
    {
     "name": "stdout",
     "output_type": "stream",
     "text": [
      "16.09\n"
     ]
    }
   ],
   "source": [
    "D = 10            #kilometer\n",
    "c = 1.609                #1 mile = 1.609 kilometer & its a conversion factor\n",
    "total_miles = D * c\n",
    "print(total_miles)\n"
   ]
  },
  {
   "cell_type": "code",
   "execution_count": 8,
   "id": "ef80b5c8",
   "metadata": {},
   "outputs": [],
   "source": [
    "#part 3 : find average pace"
   ]
  },
  {
   "cell_type": "code",
   "execution_count": 12,
   "id": "ec8fb21a",
   "metadata": {},
   "outputs": [
    {
     "name": "stdout",
     "output_type": "stream",
     "text": [
      "256.2\n"
     ]
    }
   ],
   "source": [
    "D = 10                        #kilometer\n",
    "total_sec = ((42*60) + 42)          #((min*60)+ sec)\n",
    "avg_pace = total_sec / D\n",
    "print(avg_pace)"
   ]
  },
  {
   "cell_type": "code",
   "execution_count": null,
   "id": "9d4c6525",
   "metadata": {},
   "outputs": [],
   "source": []
  }
 ],
 "metadata": {
  "kernelspec": {
   "display_name": "Python 3 (ipykernel)",
   "language": "python",
   "name": "python3"
  },
  "language_info": {
   "codemirror_mode": {
    "name": "ipython",
    "version": 3
   },
   "file_extension": ".py",
   "mimetype": "text/x-python",
   "name": "python",
   "nbconvert_exporter": "python",
   "pygments_lexer": "ipython3",
   "version": "3.10.6"
  }
 },
 "nbformat": 4,
 "nbformat_minor": 5
}
