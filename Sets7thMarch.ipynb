{
 "cells": [
  {
   "cell_type": "markdown",
   "id": "b7e0a00c",
   "metadata": {},
   "source": [
    "# set :is a collection of items under one variable name which is \n",
    "      # unordered , unchangeable , unindexed \n",
    "       # use { } brackets\n",
    "        #indexing and slicing not allowed"
   ]
  },
  {
   "cell_type": "code",
   "execution_count": 4,
   "id": "2bced86e",
   "metadata": {},
   "outputs": [],
   "source": [
    "Cities ={'kathmandu','lalitpur','bhaktpur','kavre','pokhara','dharan'}\n"
   ]
  },
  {
   "cell_type": "code",
   "execution_count": 5,
   "id": "542c7421",
   "metadata": {},
   "outputs": [
    {
     "data": {
      "text/plain": [
       "{'bhaktpur', 'dharan', 'kathmandu', 'kavre', 'lalitpur', 'pokhara'}"
      ]
     },
     "execution_count": 5,
     "metadata": {},
     "output_type": "execute_result"
    }
   ],
   "source": [
    "Cities"
   ]
  },
  {
   "cell_type": "markdown",
   "id": "627ed2d5",
   "metadata": {},
   "source": [
    "# Sets are mutable allow to add or remove items"
   ]
  },
  {
   "cell_type": "code",
   "execution_count": 6,
   "id": "045cb461",
   "metadata": {},
   "outputs": [],
   "source": [
    "Cities ={'kathmandu','lalitpur','bhaktpur','kavre','pokhara','dharan'}\n",
    "Cities.add('dhangadi')"
   ]
  },
  {
   "cell_type": "code",
   "execution_count": 8,
   "id": "8d361ef9",
   "metadata": {},
   "outputs": [
    {
     "data": {
      "text/plain": [
       "{'bhaktpur', 'dhangadi', 'dharan', 'kathmandu', 'kavre', 'lalitpur', 'pokhara'}"
      ]
     },
     "execution_count": 8,
     "metadata": {},
     "output_type": "execute_result"
    }
   ],
   "source": [
    "Cities"
   ]
  },
  {
   "cell_type": "code",
   "execution_count": 9,
   "id": "70c2d934",
   "metadata": {},
   "outputs": [],
   "source": [
    "Cities.remove(\"kavre\")"
   ]
  },
  {
   "cell_type": "code",
   "execution_count": 10,
   "id": "7ba47255",
   "metadata": {},
   "outputs": [
    {
     "data": {
      "text/plain": [
       "{'bhaktpur', 'dhangadi', 'dharan', 'kathmandu', 'lalitpur', 'pokhara'}"
      ]
     },
     "execution_count": 10,
     "metadata": {},
     "output_type": "execute_result"
    }
   ],
   "source": [
    "Cities"
   ]
  },
  {
   "cell_type": "code",
   "execution_count": 12,
   "id": "45828aef",
   "metadata": {},
   "outputs": [],
   "source": [
    "Cities.discard(\"Biratnagar\") #if  you don't want error use discard"
   ]
  },
  {
   "cell_type": "code",
   "execution_count": 13,
   "id": "61792854",
   "metadata": {},
   "outputs": [
    {
     "data": {
      "text/plain": [
       "{'bhaktpur', 'dhangadi', 'dharan', 'kathmandu', 'lalitpur', 'pokhara'}"
      ]
     },
     "execution_count": 13,
     "metadata": {},
     "output_type": "execute_result"
    }
   ],
   "source": [
    "Cities"
   ]
  },
  {
   "cell_type": "markdown",
   "id": "595b91cf",
   "metadata": {},
   "source": [
    "# Typecasting "
   ]
  },
  {
   "cell_type": "code",
   "execution_count": 14,
   "id": "b7798c74",
   "metadata": {},
   "outputs": [],
   "source": [
    "Cities ={'kathmandu','lalitpur','bhaktpur','kavre','pokhara','dharan'}"
   ]
  },
  {
   "cell_type": "code",
   "execution_count": 15,
   "id": "e90f0168",
   "metadata": {},
   "outputs": [
    {
     "data": {
      "text/plain": [
       "set"
      ]
     },
     "execution_count": 15,
     "metadata": {},
     "output_type": "execute_result"
    }
   ],
   "source": [
    "type(Cities)"
   ]
  },
  {
   "cell_type": "code",
   "execution_count": 16,
   "id": "bf8b6c0f",
   "metadata": {},
   "outputs": [],
   "source": [
    "Cities = list(Cities)"
   ]
  },
  {
   "cell_type": "code",
   "execution_count": 17,
   "id": "66a0d553",
   "metadata": {},
   "outputs": [
    {
     "data": {
      "text/plain": [
       "['bhaktpur', 'dharan', 'kathmandu', 'pokhara', 'lalitpur', 'kavre']"
      ]
     },
     "execution_count": 17,
     "metadata": {},
     "output_type": "execute_result"
    }
   ],
   "source": [
    "Cities"
   ]
  },
  {
   "cell_type": "code",
   "execution_count": 18,
   "id": "740a915a",
   "metadata": {},
   "outputs": [
    {
     "data": {
      "text/plain": [
       "list"
      ]
     },
     "execution_count": 18,
     "metadata": {},
     "output_type": "execute_result"
    }
   ],
   "source": [
    "type(Cities)"
   ]
  },
  {
   "cell_type": "code",
   "execution_count": 19,
   "id": "71be5fe5",
   "metadata": {},
   "outputs": [],
   "source": [
    "list1 =[6,77,8,44,6,33,20,33]"
   ]
  },
  {
   "cell_type": "code",
   "execution_count": 20,
   "id": "c0304835",
   "metadata": {},
   "outputs": [
    {
     "data": {
      "text/plain": [
       "[6, 77, 8, 44, 6, 33, 20, 33]"
      ]
     },
     "execution_count": 20,
     "metadata": {},
     "output_type": "execute_result"
    }
   ],
   "source": [
    "list1   # list allow dublicate"
   ]
  },
  {
   "cell_type": "code",
   "execution_count": 21,
   "id": "ba4cbe95",
   "metadata": {},
   "outputs": [
    {
     "data": {
      "text/plain": [
       "{6, 8, 20, 33, 44, 77}"
      ]
     },
     "execution_count": 21,
     "metadata": {},
     "output_type": "execute_result"
    }
   ],
   "source": [
    "set(list1)  #we convert the list into set does not allow dublicate"
   ]
  },
  {
   "cell_type": "markdown",
   "id": "3c62e211",
   "metadata": {},
   "source": [
    "# Set operations in Python : \n",
    "    #Union\n",
    "    #Intersection\n",
    "    #Difference"
   ]
  },
  {
   "cell_type": "code",
   "execution_count": 22,
   "id": "75d8881b",
   "metadata": {},
   "outputs": [],
   "source": [
    "\n",
    "A = {\"apple\",\"banana\",\"cherry\"}\n",
    "B = {\"google\",\"microsoft\",\"apple\"}\n",
    "\n"
   ]
  },
  {
   "cell_type": "code",
   "execution_count": 23,
   "id": "b94ba914",
   "metadata": {},
   "outputs": [
    {
     "data": {
      "text/plain": [
       "{'apple'}"
      ]
     },
     "execution_count": 23,
     "metadata": {},
     "output_type": "execute_result"
    }
   ],
   "source": [
    "A.intersection(B)"
   ]
  },
  {
   "cell_type": "code",
   "execution_count": 24,
   "id": "7c76d6fc",
   "metadata": {},
   "outputs": [
    {
     "data": {
      "text/plain": [
       "{'apple'}"
      ]
     },
     "execution_count": 24,
     "metadata": {},
     "output_type": "execute_result"
    }
   ],
   "source": [
    "B.intersection(A)"
   ]
  },
  {
   "cell_type": "code",
   "execution_count": 25,
   "id": "5a26bcbc",
   "metadata": {},
   "outputs": [
    {
     "data": {
      "text/plain": [
       "{'apple', 'banana', 'cherry', 'google', 'microsoft'}"
      ]
     },
     "execution_count": 25,
     "metadata": {},
     "output_type": "execute_result"
    }
   ],
   "source": [
    "A.union(B)"
   ]
  },
  {
   "cell_type": "code",
   "execution_count": 26,
   "id": "1262c9cb",
   "metadata": {},
   "outputs": [
    {
     "data": {
      "text/plain": [
       "{'apple', 'banana', 'cherry', 'google', 'microsoft'}"
      ]
     },
     "execution_count": 26,
     "metadata": {},
     "output_type": "execute_result"
    }
   ],
   "source": [
    "B.union(A)"
   ]
  },
  {
   "cell_type": "code",
   "execution_count": 28,
   "id": "4bd649b1",
   "metadata": {},
   "outputs": [
    {
     "data": {
      "text/plain": [
       "{'banana', 'cherry'}"
      ]
     },
     "execution_count": 28,
     "metadata": {},
     "output_type": "execute_result"
    }
   ],
   "source": [
    "A.difference(B)   #A-B"
   ]
  },
  {
   "cell_type": "code",
   "execution_count": 29,
   "id": "ae432026",
   "metadata": {},
   "outputs": [
    {
     "data": {
      "text/plain": [
       "{'google', 'microsoft'}"
      ]
     },
     "execution_count": 29,
     "metadata": {},
     "output_type": "execute_result"
    }
   ],
   "source": [
    "B.difference(A)   #B-A"
   ]
  },
  {
   "cell_type": "code",
   "execution_count": 30,
   "id": "267f6e22",
   "metadata": {},
   "outputs": [
    {
     "data": {
      "text/plain": [
       "{'banana', 'cherry'}"
      ]
     },
     "execution_count": 30,
     "metadata": {},
     "output_type": "execute_result"
    }
   ],
   "source": [
    "A-B"
   ]
  },
  {
   "cell_type": "code",
   "execution_count": 31,
   "id": "82410226",
   "metadata": {},
   "outputs": [
    {
     "data": {
      "text/plain": [
       "{'google', 'microsoft'}"
      ]
     },
     "execution_count": 31,
     "metadata": {},
     "output_type": "execute_result"
    }
   ],
   "source": [
    "B-A"
   ]
  },
  {
   "cell_type": "code",
   "execution_count": 39,
   "id": "ed2bf945",
   "metadata": {},
   "outputs": [
    {
     "name": "stdout",
     "output_type": "stream",
     "text": [
      "pokhara\n"
     ]
    }
   ],
   "source": [
    "# FOR loop in sets \n",
    "#here we use 'item' loop\n",
    "Cities ={'kathmandu','lalitpur','bhaktpur','kavre','pokhara','dharan'}\n",
    "\n",
    "for item in Cities:\n",
    "    if item == 'pokhara':\n",
    "        print(item)"
   ]
  },
  {
   "cell_type": "markdown",
   "id": "61a87e99",
   "metadata": {},
   "source": [
    "# membership operator in set\n",
    "\n",
    "  * in \n",
    "  * not in"
   ]
  },
  {
   "cell_type": "code",
   "execution_count": 40,
   "id": "6cb14656",
   "metadata": {},
   "outputs": [
    {
     "data": {
      "text/plain": [
       "True"
      ]
     },
     "execution_count": 40,
     "metadata": {},
     "output_type": "execute_result"
    }
   ],
   "source": [
    "\"dharan\" in Cities  #in operator"
   ]
  },
  {
   "cell_type": "code",
   "execution_count": 41,
   "id": "b6200d47",
   "metadata": {},
   "outputs": [
    {
     "data": {
      "text/plain": [
       "False"
      ]
     },
     "execution_count": 41,
     "metadata": {},
     "output_type": "execute_result"
    }
   ],
   "source": [
    "\"qwerty\" in Cities  # not in operator"
   ]
  },
  {
   "cell_type": "markdown",
   "id": "429c2383",
   "metadata": {},
   "source": [
    "# frozenSet : immutable version of python set"
   ]
  },
  {
   "cell_type": "code",
   "execution_count": 42,
   "id": "3757a1bd",
   "metadata": {},
   "outputs": [],
   "source": [
    "Cities ={'kathmandu','lalitpur','bhaktpur','kavre','pokhara','dharan'}"
   ]
  },
  {
   "cell_type": "code",
   "execution_count": 44,
   "id": "c5331549",
   "metadata": {},
   "outputs": [],
   "source": [
    "frozen_cities = frozenset(Cities)  #frozenset is immutable version of Set"
   ]
  },
  {
   "cell_type": "code",
   "execution_count": 45,
   "id": "a6c71857",
   "metadata": {},
   "outputs": [
    {
     "data": {
      "text/plain": [
       "frozenset({'bhaktpur', 'dharan', 'kathmandu', 'kavre', 'lalitpur', 'pokhara'})"
      ]
     },
     "execution_count": 45,
     "metadata": {},
     "output_type": "execute_result"
    }
   ],
   "source": [
    "frozen_cities  "
   ]
  },
  {
   "cell_type": "code",
   "execution_count": 46,
   "id": "f3909bb8",
   "metadata": {},
   "outputs": [
    {
     "data": {
      "text/plain": [
       "frozenset"
      ]
     },
     "execution_count": 46,
     "metadata": {},
     "output_type": "execute_result"
    }
   ],
   "source": [
    "type(frozen_cities)"
   ]
  },
  {
   "cell_type": "code",
   "execution_count": null,
   "id": "1e7614d0",
   "metadata": {},
   "outputs": [],
   "source": []
  }
 ],
 "metadata": {
  "kernelspec": {
   "display_name": "Python 3 (ipykernel)",
   "language": "python",
   "name": "python3"
  },
  "language_info": {
   "codemirror_mode": {
    "name": "ipython",
    "version": 3
   },
   "file_extension": ".py",
   "mimetype": "text/x-python",
   "name": "python",
   "nbconvert_exporter": "python",
   "pygments_lexer": "ipython3",
   "version": "3.10.6"
  }
 },
 "nbformat": 4,
 "nbformat_minor": 5
}
