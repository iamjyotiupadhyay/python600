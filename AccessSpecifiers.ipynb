{
 "cells": [
  {
   "cell_type": "markdown",
   "id": "8c01159b",
   "metadata": {},
   "source": [
    "# Are access specifiers used in python?- \n",
    "\n",
    "# No but has accept of limiting behaviour of variables : private attribute are not inherited"
   ]
  },
  {
   "cell_type": "code",
   "execution_count": 2,
   "id": "0a857ddb",
   "metadata": {},
   "outputs": [],
   "source": [
    "class Teacher:\n",
    "    #public Variable\n",
    "    name ='ram'\n",
    "    \n",
    "    #protected Variable\n",
    "    _address = 'patan'\n",
    "    \n",
    "    #private Variable\n",
    "    __age = 25"
   ]
  },
  {
   "cell_type": "code",
   "execution_count": 3,
   "id": "20b8c330",
   "metadata": {},
   "outputs": [],
   "source": [
    "t = Teacher()"
   ]
  },
  {
   "cell_type": "code",
   "execution_count": 4,
   "id": "b24580f9",
   "metadata": {},
   "outputs": [
    {
     "data": {
      "text/plain": [
       "'ram'"
      ]
     },
     "execution_count": 4,
     "metadata": {},
     "output_type": "execute_result"
    }
   ],
   "source": [
    "t.name"
   ]
  },
  {
   "cell_type": "code",
   "execution_count": 5,
   "id": "f0279410",
   "metadata": {},
   "outputs": [
    {
     "data": {
      "text/plain": [
       "'patan'"
      ]
     },
     "execution_count": 5,
     "metadata": {},
     "output_type": "execute_result"
    }
   ],
   "source": [
    "t._address"
   ]
  },
  {
   "cell_type": "code",
   "execution_count": 7,
   "id": "ec19f510",
   "metadata": {},
   "outputs": [
    {
     "ename": "AttributeError",
     "evalue": "'Teacher' object has no attribute '__age'",
     "output_type": "error",
     "traceback": [
      "\u001b[0;31m---------------------------------------------------------------------------\u001b[0m",
      "\u001b[0;31mAttributeError\u001b[0m                            Traceback (most recent call last)",
      "Cell \u001b[0;32mIn[7], line 1\u001b[0m\n\u001b[0;32m----> 1\u001b[0m \u001b[43mt\u001b[49m\u001b[38;5;241;43m.\u001b[39;49m\u001b[43m__age\u001b[49m    \u001b[38;5;66;03m#it's a private attribute that's why we can't check value of this variable\u001b[39;00m\n",
      "\u001b[0;31mAttributeError\u001b[0m: 'Teacher' object has no attribute '__age'"
     ]
    }
   ],
   "source": [
    "t.__age    #it's a private attribute that's why we can't check value of this variable"
   ]
  },
  {
   "cell_type": "markdown",
   "id": "895219e7",
   "metadata": {},
   "source": [
    "# Operator Overloading gives extended meaning beyond their predefined operational meaning --- Polymorphism"
   ]
  },
  {
   "cell_type": "code",
   "execution_count": 8,
   "id": "d752b9ea",
   "metadata": {},
   "outputs": [
    {
     "data": {
      "text/plain": [
       "6"
      ]
     },
     "execution_count": 8,
     "metadata": {},
     "output_type": "execute_result"
    }
   ],
   "source": [
    "2 + 4"
   ]
  },
  {
   "cell_type": "code",
   "execution_count": 9,
   "id": "87028b28",
   "metadata": {},
   "outputs": [
    {
     "data": {
      "text/plain": [
       "'HelloWorld'"
      ]
     },
     "execution_count": 9,
     "metadata": {},
     "output_type": "execute_result"
    }
   ],
   "source": [
    "\"Hello\" + \"World\""
   ]
  },
  {
   "cell_type": "code",
   "execution_count": 10,
   "id": "beca88c0",
   "metadata": {},
   "outputs": [
    {
     "data": {
      "text/plain": [
       "[1, 2, 3, 44, 8]"
      ]
     },
     "execution_count": 10,
     "metadata": {},
     "output_type": "execute_result"
    }
   ],
   "source": [
    "[1,2,3] + [44,8]     #polymorphism"
   ]
  },
  {
   "cell_type": "code",
   "execution_count": 11,
   "id": "8844bc03",
   "metadata": {},
   "outputs": [
    {
     "data": {
      "text/plain": [
       "5"
      ]
     },
     "execution_count": 11,
     "metadata": {},
     "output_type": "execute_result"
    }
   ],
   "source": [
    "len('hello')"
   ]
  },
  {
   "cell_type": "code",
   "execution_count": 12,
   "id": "474e41ff",
   "metadata": {},
   "outputs": [
    {
     "data": {
      "text/plain": [
       "3"
      ]
     },
     "execution_count": 12,
     "metadata": {},
     "output_type": "execute_result"
    }
   ],
   "source": [
    "len([1,5,6])"
   ]
  },
  {
   "cell_type": "code",
   "execution_count": 13,
   "id": "c2662ba4",
   "metadata": {},
   "outputs": [
    {
     "data": {
      "text/plain": [
       "2"
      ]
     },
     "execution_count": 13,
     "metadata": {},
     "output_type": "execute_result"
    }
   ],
   "source": [
    "len({5,9})"
   ]
  },
  {
   "cell_type": "markdown",
   "id": "06ee8e82",
   "metadata": {},
   "source": [
    "# Operator overloading in user defined class object"
   ]
  },
  {
   "cell_type": "code",
   "execution_count": 15,
   "id": "aab18201",
   "metadata": {},
   "outputs": [],
   "source": [
    "class Account:\n",
    "    def __init__(self, name , balance):\n",
    "        self.name = name\n",
    "        self.balance = balance"
   ]
  },
  {
   "cell_type": "code",
   "execution_count": 17,
   "id": "a2e75770",
   "metadata": {},
   "outputs": [],
   "source": [
    "ac1 = Account('Ram', 58783832449430)\n",
    "ac2 = Account('jyoti',6474893929279)"
   ]
  },
  {
   "cell_type": "code",
   "execution_count": 18,
   "id": "2b5b614e",
   "metadata": {},
   "outputs": [
    {
     "ename": "TypeError",
     "evalue": "unsupported operand type(s) for +: 'Account' and 'Account'",
     "output_type": "error",
     "traceback": [
      "\u001b[0;31m---------------------------------------------------------------------------\u001b[0m",
      "\u001b[0;31mTypeError\u001b[0m                                 Traceback (most recent call last)",
      "Cell \u001b[0;32mIn[18], line 1\u001b[0m\n\u001b[0;32m----> 1\u001b[0m \u001b[43mac1\u001b[49m\u001b[43m \u001b[49m\u001b[38;5;241;43m+\u001b[39;49m\u001b[43m \u001b[49m\u001b[43mac2\u001b[49m\n",
      "\u001b[0;31mTypeError\u001b[0m: unsupported operand type(s) for +: 'Account' and 'Account'"
     ]
    }
   ],
   "source": [
    "ac1 + ac2"
   ]
  },
  {
   "cell_type": "code",
   "execution_count": 19,
   "id": "4bccd84f",
   "metadata": {},
   "outputs": [],
   "source": [
    "class Account:\n",
    "    def __init__(self, name , balance):\n",
    "        self.name = name\n",
    "        self.balance = balance\n",
    "        \n",
    "        \n",
    "    def __add__(self,otherobj):    #here we use dunder __add__ \n",
    "        return self.balance + otherobj.balance   \n",
    "        "
   ]
  },
  {
   "cell_type": "code",
   "execution_count": 21,
   "id": "c552fc26",
   "metadata": {},
   "outputs": [
    {
     "data": {
      "text/plain": [
       "65258726378709"
      ]
     },
     "execution_count": 21,
     "metadata": {},
     "output_type": "execute_result"
    }
   ],
   "source": [
    "ac1 = Account('Ram', 58783832449430)\n",
    "ac2 = Account('jyoti',6474893929279)\n",
    "ac1  +  ac2"
   ]
  },
  {
   "cell_type": "code",
   "execution_count": 22,
   "id": "ad373e3e",
   "metadata": {},
   "outputs": [
    {
     "ename": "AttributeError",
     "evalue": "'int' object has no attribute 'balance'",
     "output_type": "error",
     "traceback": [
      "\u001b[0;31m---------------------------------------------------------------------------\u001b[0m",
      "\u001b[0;31mAttributeError\u001b[0m                            Traceback (most recent call last)",
      "Cell \u001b[0;32mIn[22], line 1\u001b[0m\n\u001b[0;32m----> 1\u001b[0m \u001b[43mac1\u001b[49m\u001b[43m \u001b[49m\u001b[38;5;241;43m+\u001b[39;49m\u001b[43m \u001b[49m\u001b[38;5;241;43m5\u001b[39;49m\n",
      "Cell \u001b[0;32mIn[19], line 8\u001b[0m, in \u001b[0;36mAccount.__add__\u001b[0;34m(self, otherobj)\u001b[0m\n\u001b[1;32m      7\u001b[0m \u001b[38;5;28;01mdef\u001b[39;00m \u001b[38;5;21m__add__\u001b[39m(\u001b[38;5;28mself\u001b[39m,otherobj):\n\u001b[0;32m----> 8\u001b[0m     \u001b[38;5;28;01mreturn\u001b[39;00m \u001b[38;5;28mself\u001b[39m\u001b[38;5;241m.\u001b[39mbalance \u001b[38;5;241m+\u001b[39m \u001b[43motherobj\u001b[49m\u001b[38;5;241;43m.\u001b[39;49m\u001b[43mbalance\u001b[49m\n",
      "\u001b[0;31mAttributeError\u001b[0m: 'int' object has no attribute 'balance'"
     ]
    }
   ],
   "source": [
    "ac1 + 5     #ac1 and 5 are of different types"
   ]
  },
  {
   "cell_type": "markdown",
   "id": "9dceb843",
   "metadata": {},
   "source": [
    "  # Abstraction and Encapsulation"
   ]
  },
  {
   "cell_type": "code",
   "execution_count": null,
   "id": "4dcf642d",
   "metadata": {},
   "outputs": [],
   "source": []
  }
 ],
 "metadata": {
  "kernelspec": {
   "display_name": "Python 3 (ipykernel)",
   "language": "python",
   "name": "python3"
  },
  "language_info": {
   "codemirror_mode": {
    "name": "ipython",
    "version": 3
   },
   "file_extension": ".py",
   "mimetype": "text/x-python",
   "name": "python",
   "nbconvert_exporter": "python",
   "pygments_lexer": "ipython3",
   "version": "3.10.6"
  }
 },
 "nbformat": 4,
 "nbformat_minor": 5
}
