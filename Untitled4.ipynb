{
 "cells": [
  {
   "cell_type": "code",
   "execution_count": null,
   "id": "856c5013",
   "metadata": {},
   "outputs": [],
   "source": [
    "# String datatype example"
   ]
  },
  {
   "cell_type": "code",
   "execution_count": 3,
   "id": "b40dae64",
   "metadata": {},
   "outputs": [
    {
     "name": "stdout",
     "output_type": "stream",
     "text": [
      "of class 7th\n",
      "hello students of class 7th\n"
     ]
    }
   ],
   "source": [
    "x = \"hello\"\n",
    "y = \"students\"\n",
    "z = input()\n",
    "print(x,y,z)"
   ]
  },
  {
   "cell_type": "code",
   "execution_count": 4,
   "id": "979f7a44",
   "metadata": {},
   "outputs": [],
   "source": [
    "# list examples "
   ]
  },
  {
   "cell_type": "code",
   "execution_count": 5,
   "id": "fee12228",
   "metadata": {},
   "outputs": [
    {
     "name": "stdout",
     "output_type": "stream",
     "text": [
      "['apple', 'kiwi', 'banana']\n"
     ]
    }
   ],
   "source": [
    "Fruits = ['apple','kiwi','banana']\n",
    "print(Fruits)"
   ]
  },
  {
   "cell_type": "code",
   "execution_count": 7,
   "id": "6de0bf2d",
   "metadata": {},
   "outputs": [
    {
     "name": "stdout",
     "output_type": "stream",
     "text": [
      "['apple', 'apple', 'kiwi', 'banana', 'orange']\n"
     ]
    }
   ],
   "source": [
    "Fruits = ['apple','apple','kiwi','banana','orange']\n",
    "print(Fruits)"
   ]
  },
  {
   "cell_type": "code",
   "execution_count": null,
   "id": "905ac053",
   "metadata": {},
   "outputs": [],
   "source": []
  }
 ],
 "metadata": {
  "kernelspec": {
   "display_name": "Python 3 (ipykernel)",
   "language": "python",
   "name": "python3"
  },
  "language_info": {
   "codemirror_mode": {
    "name": "ipython",
    "version": 3
   },
   "file_extension": ".py",
   "mimetype": "text/x-python",
   "name": "python",
   "nbconvert_exporter": "python",
   "pygments_lexer": "ipython3",
   "version": "3.10.6"
  }
 },
 "nbformat": 4,
 "nbformat_minor": 5
}
