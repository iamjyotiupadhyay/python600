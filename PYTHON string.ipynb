{
 "cells": [
  {
   "cell_type": "code",
   "execution_count": 1,
   "id": "136faadd",
   "metadata": {},
   "outputs": [
    {
     "name": "stdout",
     "output_type": "stream",
     "text": [
      "enter your messsage4\n",
      "<class 'str'>\n"
     ]
    }
   ],
   "source": [
    "msg = input(\"enter your messsage\")\n",
    "print(type (msg))"
   ]
  },
  {
   "cell_type": "code",
   "execution_count": null,
   "id": "25dc3c1f",
   "metadata": {},
   "outputs": [],
   "source": [
    "#Single quotes and double quotes"
   ]
  },
  {
   "cell_type": "code",
   "execution_count": null,
   "id": "81840878",
   "metadata": {},
   "outputs": [],
   "source": [
    "msg1 = 'hi'\n",
    "msg2 = \"hi\""
   ]
  },
  {
   "cell_type": "code",
   "execution_count": 2,
   "id": "1979958d",
   "metadata": {},
   "outputs": [
    {
     "ename": "NameError",
     "evalue": "name 'msg1' is not defined",
     "output_type": "error",
     "traceback": [
      "\u001b[0;31m---------------------------------------------------------------------------\u001b[0m",
      "\u001b[0;31mNameError\u001b[0m                                 Traceback (most recent call last)",
      "Cell \u001b[0;32mIn[2], line 1\u001b[0m\n\u001b[0;32m----> 1\u001b[0m \u001b[43mmsg1\u001b[49m \u001b[38;5;241m==\u001b[39m msg2 \n",
      "\u001b[0;31mNameError\u001b[0m: name 'msg1' is not defined"
     ]
    }
   ],
   "source": [
    "msg1 == msg2 "
   ]
  },
  {
   "cell_type": "code",
   "execution_count": null,
   "id": "5bbe914f",
   "metadata": {},
   "outputs": [],
   "source": []
  }
 ],
 "metadata": {
  "kernelspec": {
   "display_name": "Python 3 (ipykernel)",
   "language": "python",
   "name": "python3"
  },
  "language_info": {
   "codemirror_mode": {
    "name": "ipython",
    "version": 3
   },
   "file_extension": ".py",
   "mimetype": "text/x-python",
   "name": "python",
   "nbconvert_exporter": "python",
   "pygments_lexer": "ipython3",
   "version": "3.10.6"
  }
 },
 "nbformat": 4,
 "nbformat_minor": 5
}
