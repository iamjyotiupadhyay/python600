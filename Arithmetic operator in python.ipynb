{
 "cells": [
  {
   "cell_type": "markdown",
   "id": "75c97bb3",
   "metadata": {},
   "source": [
    "# Arithmetic Operator in python\n",
    "\n",
    "* Addition\n",
    "* subtraction\n",
    "* multiplication\n",
    "* division (/)\n",
    "* exponential (**)\n",
    "* floor division (//)\n",
    "* modulus (%)\n",
    "\n",
    "\n"
   ]
  },
  {
   "cell_type": "code",
   "execution_count": null,
   "id": "5467e651",
   "metadata": {},
   "outputs": [],
   "source": [
    "#this python comment \n",
    "#comment is not executed by interpreter"
   ]
  },
  {
   "cell_type": "markdown",
   "id": "7e1d8c26",
   "metadata": {},
   "source": [
    "# Exponentiation "
   ]
  },
  {
   "cell_type": "code",
   "execution_count": 2,
   "id": "04df2206",
   "metadata": {},
   "outputs": [],
   "source": [
    "#to the power"
   ]
  },
  {
   "cell_type": "code",
   "execution_count": 3,
   "id": "1f6ccd3e",
   "metadata": {},
   "outputs": [
    {
     "data": {
      "text/plain": [
       "8"
      ]
     },
     "execution_count": 3,
     "metadata": {},
     "output_type": "execute_result"
    }
   ],
   "source": [
    "2 ** 3"
   ]
  },
  {
   "cell_type": "code",
   "execution_count": 4,
   "id": "206e2576",
   "metadata": {},
   "outputs": [
    {
     "data": {
      "text/plain": [
       "225"
      ]
     },
     "execution_count": 4,
     "metadata": {},
     "output_type": "execute_result"
    }
   ],
   "source": [
    "15 ** 2\n"
   ]
  },
  {
   "cell_type": "markdown",
   "id": "1a7e3b4a",
   "metadata": {},
   "source": [
    "# floor division"
   ]
  },
  {
   "cell_type": "code",
   "execution_count": 5,
   "id": "e45d16bd",
   "metadata": {},
   "outputs": [
    {
     "data": {
      "text/plain": [
       "7.5"
      ]
     },
     "execution_count": 5,
     "metadata": {},
     "output_type": "execute_result"
    }
   ],
   "source": [
    "15 / 2"
   ]
  },
  {
   "cell_type": "code",
   "execution_count": 6,
   "id": "d04a5686",
   "metadata": {},
   "outputs": [
    {
     "data": {
      "text/plain": [
       "7"
      ]
     },
     "execution_count": 6,
     "metadata": {},
     "output_type": "execute_result"
    }
   ],
   "source": [
    "15 // 2  #7.5 floor value is 7"
   ]
  },
  {
   "cell_type": "code",
   "execution_count": 7,
   "id": "1963f62f",
   "metadata": {},
   "outputs": [
    {
     "data": {
      "text/plain": [
       "4"
      ]
     },
     "execution_count": 7,
     "metadata": {},
     "output_type": "execute_result"
    }
   ],
   "source": [
    "19 // 4 \n"
   ]
  },
  {
   "cell_type": "markdown",
   "id": "1b1f7a85",
   "metadata": {},
   "source": [
    "# modulus "
   ]
  },
  {
   "cell_type": "code",
   "execution_count": 8,
   "id": "91e067ae",
   "metadata": {},
   "outputs": [
    {
     "data": {
      "text/plain": [
       "1"
      ]
     },
     "execution_count": 8,
     "metadata": {},
     "output_type": "execute_result"
    }
   ],
   "source": [
    " 5 % 2   #remainder "
   ]
  },
  {
   "cell_type": "code",
   "execution_count": 9,
   "id": "a2abc426",
   "metadata": {},
   "outputs": [
    {
     "data": {
      "text/plain": [
       "1"
      ]
     },
     "execution_count": 9,
     "metadata": {},
     "output_type": "execute_result"
    }
   ],
   "source": [
    "7 % 2"
   ]
  },
  {
   "cell_type": "code",
   "execution_count": null,
   "id": "30dcb0b1",
   "metadata": {},
   "outputs": [],
   "source": []
  }
 ],
 "metadata": {
  "kernelspec": {
   "display_name": "Python 3 (ipykernel)",
   "language": "python",
   "name": "python3"
  },
  "language_info": {
   "codemirror_mode": {
    "name": "ipython",
    "version": 3
   },
   "file_extension": ".py",
   "mimetype": "text/x-python",
   "name": "python",
   "nbconvert_exporter": "python",
   "pygments_lexer": "ipython3",
   "version": "3.10.6"
  }
 },
 "nbformat": 4,
 "nbformat_minor": 5
}
