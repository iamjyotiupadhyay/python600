{
 "cells": [
  {
   "cell_type": "markdown",
   "id": "8f8677f4",
   "metadata": {},
   "source": [
    "# lambda function annynomous function"
   ]
  },
  {
   "cell_type": "markdown",
   "id": "97ea031b",
   "metadata": {},
   "source": [
    "'''python\n",
    "   * x is an argument to lambda function \n",
    "   lambda x : Expression\n",
    "   \n",
    "   we generally use lambda function with\n",
    "   * map()\n",
    "   * filter()\n",
    "   '''"
   ]
  },
  {
   "cell_type": "code",
   "execution_count": 2,
   "id": "939265a3",
   "metadata": {},
   "outputs": [
    {
     "data": {
      "text/plain": [
       "<map at 0x10ea4abf0>"
      ]
     },
     "execution_count": 2,
     "metadata": {},
     "output_type": "execute_result"
    }
   ],
   "source": [
    "nums = [3,5,7,9]\n",
    "map (lambda x : x**3, nums)"
   ]
  },
  {
   "cell_type": "code",
   "execution_count": 3,
   "id": "db5ba880",
   "metadata": {},
   "outputs": [
    {
     "data": {
      "text/plain": [
       "[27, 125, 343, 729]"
      ]
     },
     "execution_count": 3,
     "metadata": {},
     "output_type": "execute_result"
    }
   ],
   "source": [
    "list (map(lambda x : x **3 , nums))"
   ]
  },
  {
   "cell_type": "code",
   "execution_count": 5,
   "id": "db251202",
   "metadata": {},
   "outputs": [
    {
     "data": {
      "text/plain": [
       "[9, 25, 49, 81]"
      ]
     },
     "execution_count": 5,
     "metadata": {},
     "output_type": "execute_result"
    }
   ],
   "source": [
    "list (map(lambda x : x **2 , nums))"
   ]
  },
  {
   "cell_type": "code",
   "execution_count": 6,
   "id": "4c53889c",
   "metadata": {},
   "outputs": [],
   "source": [
    "nums = range(1,10)"
   ]
  },
  {
   "cell_type": "code",
   "execution_count": 7,
   "id": "250d8e20",
   "metadata": {},
   "outputs": [],
   "source": [
    "#filter ()"
   ]
  },
  {
   "cell_type": "code",
   "execution_count": 9,
   "id": "87814bd3",
   "metadata": {},
   "outputs": [
    {
     "data": {
      "text/plain": [
       "<filter at 0x10f6a20b0>"
      ]
     },
     "execution_count": 9,
     "metadata": {},
     "output_type": "execute_result"
    }
   ],
   "source": [
    "filter(lambda x :  x %2 == 0,nums)"
   ]
  },
  {
   "cell_type": "code",
   "execution_count": 1,
   "id": "5a9c650f",
   "metadata": {},
   "outputs": [
    {
     "ename": "NameError",
     "evalue": "name 'nums' is not defined",
     "output_type": "error",
     "traceback": [
      "\u001b[0;31m---------------------------------------------------------------------------\u001b[0m",
      "\u001b[0;31mNameError\u001b[0m                                 Traceback (most recent call last)",
      "Cell \u001b[0;32mIn[1], line 1\u001b[0m\n\u001b[0;32m----> 1\u001b[0m \u001b[38;5;28mlist\u001b[39m(\u001b[38;5;28mfilter\u001b[39m(\u001b[38;5;28;01mlambda\u001b[39;00m x : x\u001b[38;5;241m%\u001b[39m\u001b[38;5;241m2\u001b[39m \u001b[38;5;241m==\u001b[39m \u001b[38;5;241m0\u001b[39m,\u001b[43mnums\u001b[49m))   \u001b[38;5;66;03m#even numbers\u001b[39;00m\n",
      "\u001b[0;31mNameError\u001b[0m: name 'nums' is not defined"
     ]
    }
   ],
   "source": [
    "list(filter(lambda x : x%2 == 0,nums))   #even numbers"
   ]
  },
  {
   "cell_type": "code",
   "execution_count": 2,
   "id": "2414559f",
   "metadata": {},
   "outputs": [
    {
     "ename": "NameError",
     "evalue": "name 'nums' is not defined",
     "output_type": "error",
     "traceback": [
      "\u001b[0;31m---------------------------------------------------------------------------\u001b[0m",
      "\u001b[0;31mNameError\u001b[0m                                 Traceback (most recent call last)",
      "Cell \u001b[0;32mIn[2], line 1\u001b[0m\n\u001b[0;32m----> 1\u001b[0m \u001b[38;5;28mlist\u001b[39m(\u001b[38;5;28mfilter\u001b[39m(\u001b[38;5;28;01mlambda\u001b[39;00m x : x \u001b[38;5;241m%\u001b[39m \u001b[38;5;241m2\u001b[39m \u001b[38;5;241m!=\u001b[39m \u001b[38;5;241m0\u001b[39m,\u001b[43mnums\u001b[49m))    \u001b[38;5;66;03m#odd numbers\u001b[39;00m\n",
      "\u001b[0;31mNameError\u001b[0m: name 'nums' is not defined"
     ]
    }
   ],
   "source": [
    "list(filter(lambda x : x % 2 != 0,nums))    #odd numbers"
   ]
  },
  {
   "cell_type": "code",
   "execution_count": 3,
   "id": "a273ac55",
   "metadata": {},
   "outputs": [
    {
     "data": {
      "text/plain": [
       "[1, 2, 3, 4]"
      ]
     },
     "execution_count": 3,
     "metadata": {},
     "output_type": "execute_result"
    }
   ],
   "source": [
    "list(filter(lambda x : x if 0 %2 == 0 else 1 , range(5)))   # use of if...else in lambda (READ)"
   ]
  },
  {
   "cell_type": "code",
   "execution_count": 4,
   "id": "6470b459",
   "metadata": {},
   "outputs": [],
   "source": [
    "#Program :: MAP \n",
    "def test(x):\n",
    "    return x ** 3"
   ]
  },
  {
   "cell_type": "code",
   "execution_count": 16,
   "id": "c95a9b6b",
   "metadata": {},
   "outputs": [
    {
     "data": {
      "text/plain": [
       "[125, 216]"
      ]
     },
     "execution_count": 16,
     "metadata": {},
     "output_type": "execute_result"
    }
   ],
   "source": [
    "list(map(test,[5,6]))"
   ]
  },
  {
   "cell_type": "code",
   "execution_count": 5,
   "id": "b77b53f4",
   "metadata": {},
   "outputs": [
    {
     "name": "stdout",
     "output_type": "stream",
     "text": [
      "5\n"
     ]
    }
   ],
   "source": [
    "#subtraction with lambda \n",
    "    \n",
    "minus = lambda x, y : x - y\n",
    "print(minus(9,4))"
   ]
  },
  {
   "cell_type": "code",
   "execution_count": 6,
   "id": "e3a1e64b",
   "metadata": {},
   "outputs": [
    {
     "name": "stdout",
     "output_type": "stream",
     "text": [
      "[[5, 6], [1, 14], [8, 23]]\n"
     ]
    }
   ],
   "source": [
    "#sorting with lambda\n",
    "\n",
    "a = [[1,14],[5,6],[8,23]]\n",
    "a.sort(key = lambda x : x[1])\n",
    "print(a)"
   ]
  },
  {
   "cell_type": "code",
   "execution_count": null,
   "id": "9f8779c0",
   "metadata": {},
   "outputs": [],
   "source": []
  }
 ],
 "metadata": {
  "kernelspec": {
   "display_name": "Python 3 (ipykernel)",
   "language": "python",
   "name": "python3"
  },
  "language_info": {
   "codemirror_mode": {
    "name": "ipython",
    "version": 3
   },
   "file_extension": ".py",
   "mimetype": "text/x-python",
   "name": "python",
   "nbconvert_exporter": "python",
   "pygments_lexer": "ipython3",
   "version": "3.10.6"
  }
 },
 "nbformat": 4,
 "nbformat_minor": 5
}
