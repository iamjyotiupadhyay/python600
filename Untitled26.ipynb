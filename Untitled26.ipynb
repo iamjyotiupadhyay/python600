{
 "cells": [
  {
   "cell_type": "code",
   "execution_count": 22,
   "id": "f8d890c9",
   "metadata": {},
   "outputs": [],
   "source": [
    "def calculate():\n",
    "    operation = input('''\n",
    "    math operations:\n",
    "    + for addition\n",
    "    - for subtract\n",
    "    * for multiply\n",
    "    / for division\n",
    "    % for rem\n",
    "    ''')\n",
    "    \n",
    "    num1 = int(input('enter first number:'))\n",
    "    num2 = int(input('enter first number:'))\n",
    "    \n",
    "    if operation == '+':\n",
    "        print('{} + {} ='.format(num1,num2))\n",
    "        print(num1 + num2)\n",
    "    elif operation == '-':\n",
    "        print('{} - {} ='.format(num1,num2))\n",
    "        print(num1 - num2)\n",
    "    elif operation == '*':\n",
    "        print('{} * {} ='.format(num1,num2))\n",
    "        print(num1 * num2)\n",
    "    elif operation == '/':\n",
    "        print('{} / {} ='.format(num1,num2))\n",
    "        print(num1 / num2)\n",
    "    elif operation == '%':\n",
    "        print('{} % {} ='.format(num1,num2))\n",
    "    elif num % 2 == 0: \n",
    "        print(\"even number\")\n",
    "    #elif:\n",
    "        #print(\"odd number\")\n",
    "    else:                                         \n",
    "        print(\"you have not select a operation ! TRY AGAIN\")\n",
    "        \n",
    "    "
   ]
  },
  {
   "cell_type": "code",
   "execution_count": 23,
   "id": "1a3772d2",
   "metadata": {},
   "outputs": [
    {
     "name": "stdout",
     "output_type": "stream",
     "text": [
      "\n",
      "    math operations:\n",
      "    + for addition\n",
      "    - for subtract\n",
      "    * for multiply\n",
      "    / for division\n",
      "    % for rem\n",
      "    %\n",
      "enter first number:4\n",
      "enter first number:2\n",
      "4 % 2 =\n"
     ]
    }
   ],
   "source": [
    "calculate()"
   ]
  },
  {
   "cell_type": "code",
   "execution_count": 16,
   "id": "64fb1b3a",
   "metadata": {},
   "outputs": [
    {
     "name": "stdout",
     "output_type": "stream",
     "text": [
      "\n",
      "    math operations:\n",
      "    + for addition\n",
      "    - for subtract\n",
      "    * for multiply\n",
      "    / for division\n",
      "    % for rem\n",
      "    %\n",
      "enter first number:4\n",
      "enter first number:2\n",
      "4 % 2 =\n",
      "0\n"
     ]
    }
   ],
   "source": [
    "calculate()"
   ]
  },
  {
   "cell_type": "code",
   "execution_count": null,
   "id": "456637f2",
   "metadata": {},
   "outputs": [],
   "source": []
  }
 ],
 "metadata": {
  "kernelspec": {
   "display_name": "Python 3 (ipykernel)",
   "language": "python",
   "name": "python3"
  },
  "language_info": {
   "codemirror_mode": {
    "name": "ipython",
    "version": 3
   },
   "file_extension": ".py",
   "mimetype": "text/x-python",
   "name": "python",
   "nbconvert_exporter": "python",
   "pygments_lexer": "ipython3",
   "version": "3.10.6"
  }
 },
 "nbformat": 4,
 "nbformat_minor": 5
}
