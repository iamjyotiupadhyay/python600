{
 "cells": [
  {
   "cell_type": "markdown",
   "id": "4fb75cd7",
   "metadata": {},
   "source": [
    "# File handling\n",
    "\n",
    "*open()\n",
    "*close()\n",
    "\n",
    "  Different modes to open file:\n",
    "  \n",
    "*read : 'r'\n",
    "*write : 'w'\n",
    "*append :'a'\n",
    "*create : 'x'"
   ]
  },
  {
   "cell_type": "code",
   "execution_count": 11,
   "id": "0b3fb707",
   "metadata": {},
   "outputs": [
    {
     "name": "stdout",
     "output_type": "stream",
     "text": [
      "cd command refers to change directory and is used to get into the desired directory. \n",
      "To navigate between the folders the cd command is \n",
      "\n",
      "ls command is used to list all the files and folders in the current directory. Syntax:\n",
      "\n",
      "ls\n"
     ]
    }
   ],
   "source": [
    "file = open ('read.txt','r') \n",
    "text = file.read()\n",
    "print(text)"
   ]
  },
  {
   "cell_type": "code",
   "execution_count": 17,
   "id": "13db5a86",
   "metadata": {},
   "outputs": [
    {
     "name": "stdout",
     "output_type": "stream",
     "text": [
      "['cd command refers to change directory and is used to get into the desired directory. \\n', 'To navigate between the folders the cd command is \\n', '\\n', 'ls command is used to list all the files and folders in the current directory. Syntax:\\n', '\\n', 'ls']\n"
     ]
    }
   ],
   "source": [
    "file = open ('read.txt','r') \n",
    "text = file.readlines()\n",
    "print(text)"
   ]
  },
  {
   "cell_type": "code",
   "execution_count": 18,
   "id": "27de93b7",
   "metadata": {},
   "outputs": [
    {
     "data": {
      "text/plain": [
       "6"
      ]
     },
     "execution_count": 18,
     "metadata": {},
     "output_type": "execute_result"
    }
   ],
   "source": [
    "len(text)"
   ]
  },
  {
   "cell_type": "code",
   "execution_count": 19,
   "id": "9f32ea33",
   "metadata": {},
   "outputs": [
    {
     "data": {
      "text/plain": [
       "'cd command refers to change directory and is used to get into the desired directory. \\n'"
      ]
     },
     "execution_count": 19,
     "metadata": {},
     "output_type": "execute_result"
    }
   ],
   "source": [
    "text[0]"
   ]
  },
  {
   "cell_type": "code",
   "execution_count": 20,
   "id": "cd437ae0",
   "metadata": {},
   "outputs": [
    {
     "data": {
      "text/plain": [
       "'To navigate between the folders the cd command is \\n'"
      ]
     },
     "execution_count": 20,
     "metadata": {},
     "output_type": "execute_result"
    }
   ],
   "source": [
    "text[1]"
   ]
  },
  {
   "cell_type": "code",
   "execution_count": 21,
   "id": "6d1a7d80",
   "metadata": {},
   "outputs": [
    {
     "data": {
      "text/plain": [
       "'\\n'"
      ]
     },
     "execution_count": 21,
     "metadata": {},
     "output_type": "execute_result"
    }
   ],
   "source": [
    "text[2]"
   ]
  },
  {
   "cell_type": "code",
   "execution_count": 22,
   "id": "4102819a",
   "metadata": {},
   "outputs": [
    {
     "name": "stdout",
     "output_type": "stream",
     "text": [
      "cd command refers to change directory and is used to get into the desired directory. \n",
      "\n"
     ]
    }
   ],
   "source": [
    "file = open ('read.txt','r') \n",
    "text = file.readline()\n",
    "print(text)"
   ]
  },
  {
   "cell_type": "markdown",
   "id": "1c7bedca",
   "metadata": {},
   "source": [
    "# You should close the file after you open it"
   ]
  },
  {
   "cell_type": "code",
   "execution_count": 23,
   "id": "cd1ffef5",
   "metadata": {},
   "outputs": [],
   "source": [
    "#first way to do\n",
    "\n",
    "file = open('read.txt','r')\n",
    "text = file.read()\n",
    "file.close()"
   ]
  },
  {
   "cell_type": "code",
   "execution_count": 24,
   "id": "ca96318d",
   "metadata": {},
   "outputs": [
    {
     "data": {
      "text/plain": [
       "'cd command refers to change directory and is used to get into the desired directory. \\nTo navigate between the folders the cd command is \\n\\nls command is used to list all the files and folders in the current directory. Syntax:\\n\\nls'"
      ]
     },
     "execution_count": 24,
     "metadata": {},
     "output_type": "execute_result"
    }
   ],
   "source": [
    "text"
   ]
  },
  {
   "cell_type": "code",
   "execution_count": 27,
   "id": "b8452259",
   "metadata": {},
   "outputs": [],
   "source": [
    "#second way to do\n",
    "\n",
    "with open('read.txt','r') as file:   #here file is object\n",
    "    text = file.read()"
   ]
  },
  {
   "cell_type": "code",
   "execution_count": 28,
   "id": "af47911b",
   "metadata": {},
   "outputs": [
    {
     "data": {
      "text/plain": [
       "'cd command refers to change directory and is used to get into the desired directory. \\nTo navigate between the folders the cd command is \\n\\nls command is used to list all the files and folders in the current directory. Syntax:\\n\\nls'"
      ]
     },
     "execution_count": 28,
     "metadata": {},
     "output_type": "execute_result"
    }
   ],
   "source": [
    "text"
   ]
  },
  {
   "cell_type": "markdown",
   "id": "f0c5e622",
   "metadata": {},
   "source": [
    "# Write Mode : new file is created if file doesnot exist.if exist replace and create new"
   ]
  },
  {
   "cell_type": "code",
   "execution_count": 30,
   "id": "cc85e1d8",
   "metadata": {},
   "outputs": [],
   "source": [
    "with open('brandnew.txt','w') as file:\n",
    "    file.write(\"yo file exist garthena maiyle naya banaye\")"
   ]
  },
  {
   "cell_type": "code",
   "execution_count": 33,
   "id": "b8c3399f",
   "metadata": {},
   "outputs": [],
   "source": [
    "with open('brandnew.txt','r') as file:\n",
    "    text = file.read()"
   ]
  },
  {
   "cell_type": "code",
   "execution_count": 34,
   "id": "1c5ab93e",
   "metadata": {},
   "outputs": [
    {
     "data": {
      "text/plain": [
       "'yo file exist garthena maiyle naya banaye'"
      ]
     },
     "execution_count": 34,
     "metadata": {},
     "output_type": "execute_result"
    }
   ],
   "source": [
    "text"
   ]
  },
  {
   "cell_type": "code",
   "execution_count": 36,
   "id": "ba3ea31b",
   "metadata": {},
   "outputs": [],
   "source": [
    "# brandnew.txt aile exist garxa maiyle tesma feri write garna khojxu\n",
    "\n",
    "\n",
    "with open('brandnew.txt','w') as file:\n",
    "    file.write(\"yo file paila exist garthiyo.maile naya text thapey in write mode.\")"
   ]
  },
  {
   "cell_type": "code",
   "execution_count": 37,
   "id": "af1d6ed7",
   "metadata": {},
   "outputs": [
    {
     "name": "stdout",
     "output_type": "stream",
     "text": [
      "yo file paila exist garthiyo.maile naya text thapey in write mode.\n"
     ]
    }
   ],
   "source": [
    "with open('brandnew.txt','r') as file:\n",
    "    text = file.read()\n",
    "    print(text)"
   ]
  },
  {
   "cell_type": "markdown",
   "id": "6c6e8d5e",
   "metadata": {},
   "source": [
    "# append() mode : creates a new file if it doesn't exist.if it exist append to existing file"
   ]
  },
  {
   "cell_type": "code",
   "execution_count": 38,
   "id": "b3cf9b8e",
   "metadata": {},
   "outputs": [],
   "source": [
    "with open('append.txt', 'a') as file:\n",
    "    file.write(\"Append mode creates a new file if it doesnot exist\")"
   ]
  },
  {
   "cell_type": "code",
   "execution_count": 39,
   "id": "29b05c50",
   "metadata": {},
   "outputs": [
    {
     "name": "stdout",
     "output_type": "stream",
     "text": [
      "Append mode creates a new file if it doesnot exist\n"
     ]
    }
   ],
   "source": [
    "with open('append.txt','r') as file:\n",
    "    text = file.read()\n",
    "    print(text)"
   ]
  },
  {
   "cell_type": "code",
   "execution_count": 42,
   "id": "d07b7692",
   "metadata": {},
   "outputs": [],
   "source": [
    "#with open('append.txt','r') as file:\n",
    "   # text = file.read()\n",
    "   # print(text)\n",
    "   # file.write(\"append mode appends new new text in existing one if the file exist\")"
   ]
  },
  {
   "cell_type": "code",
   "execution_count": 43,
   "id": "20f6d70e",
   "metadata": {},
   "outputs": [],
   "source": [
    "with open('append.txt', 'a') as file:\n",
    "    file.write(\"Append mode creates a new file if it doesnot exist append mode appends new new text in existing one if the file exist\")"
   ]
  },
  {
   "cell_type": "code",
   "execution_count": 44,
   "id": "8f3abe95",
   "metadata": {},
   "outputs": [
    {
     "name": "stdout",
     "output_type": "stream",
     "text": [
      "Append mode creates a new file if it doesnot existappend mode appends new new text in existing one if the file existing one if the file existAppend mode creates a new file if it doesnot exist append mode appends new new text in existing one if the file exist\n"
     ]
    }
   ],
   "source": [
    "with open('append.txt','r') as file:\n",
    "    text = file.read()\n",
    "    print(text)"
   ]
  },
  {
   "cell_type": "code",
   "execution_count": null,
   "id": "5822b71b",
   "metadata": {},
   "outputs": [],
   "source": []
  }
 ],
 "metadata": {
  "kernelspec": {
   "display_name": "Python 3 (ipykernel)",
   "language": "python",
   "name": "python3"
  },
  "language_info": {
   "codemirror_mode": {
    "name": "ipython",
    "version": 3
   },
   "file_extension": ".py",
   "mimetype": "text/x-python",
   "name": "python",
   "nbconvert_exporter": "python",
   "pygments_lexer": "ipython3",
   "version": "3.10.6"
  }
 },
 "nbformat": 4,
 "nbformat_minor": 5
}
