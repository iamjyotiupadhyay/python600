{
 "cells": [
  {
   "cell_type": "code",
   "execution_count": 1,
   "id": "c25b9c8e",
   "metadata": {},
   "outputs": [],
   "source": [
    "#Negative or positive"
   ]
  },
  {
   "cell_type": "code",
   "execution_count": 2,
   "id": "916ff291",
   "metadata": {},
   "outputs": [],
   "source": [
    "# nesting a conditionals"
   ]
  },
  {
   "cell_type": "code",
   "execution_count": 7,
   "id": "1aa25c02",
   "metadata": {},
   "outputs": [
    {
     "name": "stdout",
     "output_type": "stream",
     "text": [
      "enter any number5\n",
      "the number is 5 is positive:\n"
     ]
    }
   ],
   "source": [
    "num = int(input(\"enter any number\"))\n",
    "if num < 0:\n",
    "    print(f\"the number is {num} is negative:\")\n",
    "else:\n",
    "    if num == 0:\n",
    "        print(f\"the number is {num} is neutral:\")\n",
    "    else:\n",
    "        print(f\"the number is {num} is positive:\")"
   ]
  },
  {
   "cell_type": "code",
   "execution_count": 8,
   "id": "9651076f",
   "metadata": {},
   "outputs": [],
   "source": [
    "#Chained Conditionals if...elif...else"
   ]
  },
  {
   "cell_type": "code",
   "execution_count": 9,
   "id": "b349819e",
   "metadata": {},
   "outputs": [
    {
     "name": "stdout",
     "output_type": "stream",
     "text": [
      "enter a number:-7\n",
      "the number -7is negative\n"
     ]
    }
   ],
   "source": [
    "num = int(input(\"enter a number:\"))\n",
    "\n",
    "if num < 0:\n",
    "    print(f\"the number {num}is negative\")\n",
    "elif num == 0:\n",
    "    print(f\"the number {num }is neutral\")    \n",
    "else :\n",
    "    print(f\"the number {num} is positive\")\n",
    "    "
   ]
  },
  {
   "cell_type": "markdown",
   "id": "adc511d7",
   "metadata": {},
   "source": [
    "#  program"
   ]
  },
  {
   "cell_type": "code",
   "execution_count": 14,
   "id": "3d1873ab",
   "metadata": {},
   "outputs": [
    {
     "name": "stdout",
     "output_type": "stream",
     "text": [
      "enter a number:7\n",
      "the number 7 is less than ten\n"
     ]
    }
   ],
   "source": [
    "num = int(input(\"enter a number:\"))\n",
    "\n",
    "if num < 10:\n",
    "    print(f\"the number {num} is less than ten\")\n",
    "elif num >= 0:\n",
    "    print(f\"the number {num} is equal to zero and less than ten\")\n",
    "else :\n",
    "    print(f\"the number {num} is greater than ten \")\n",
    "    "
   ]
  },
  {
   "cell_type": "code",
   "execution_count": 15,
   "id": "683a944f",
   "metadata": {},
   "outputs": [
    {
     "name": "stdout",
     "output_type": "stream",
     "text": [
      "enter your marks:8\n"
     ]
    }
   ],
   "source": [
    "marks = int(input(\"enter your marks:\"))\n"
   ]
  },
  {
   "cell_type": "code",
   "execution_count": null,
   "id": "043474fd",
   "metadata": {},
   "outputs": [],
   "source": []
  }
 ],
 "metadata": {
  "kernelspec": {
   "display_name": "Python 3 (ipykernel)",
   "language": "python",
   "name": "python3"
  },
  "language_info": {
   "codemirror_mode": {
    "name": "ipython",
    "version": 3
   },
   "file_extension": ".py",
   "mimetype": "text/x-python",
   "name": "python",
   "nbconvert_exporter": "python",
   "pygments_lexer": "ipython3",
   "version": "3.10.6"
  }
 },
 "nbformat": 4,
 "nbformat_minor": 5
}
